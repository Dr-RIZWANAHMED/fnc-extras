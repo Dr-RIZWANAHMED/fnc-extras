{
 "cells": [
  {
   "cell_type": "markdown",
   "metadata": {},
   "source": [
    "Let's try out the Euler and backward Euler time stepping methods using the second-order semidiscretization:"
   ]
  },
  {
   "cell_type": "code",
   "execution_count": null,
   "metadata": {},
   "outputs": [],
   "source": [
    "include(\"../FNC.jl\")\n",
    "using LinearAlgebra\n",
    "\n",
    "m = 100\n",
    "x,Dx,Dxx = FNC.diffper(m,[0,1]);"
   ]
  },
  {
   "cell_type": "markdown",
   "metadata": {},
   "source": [
    "First we apply the Euler discretization. "
   ]
  },
  {
   "cell_type": "code",
   "execution_count": null,
   "metadata": {},
   "outputs": [],
   "source": [
    "tfinal = 0.05;  n = 500;  \n",
    "tau = tfinal/n;  t = tau*(0:n);\n",
    "U = zeros(m,n+1);"
   ]
  },
  {
   "cell_type": "markdown",
   "metadata": {},
   "source": [
    "This is where we set the initial condition. It isn't mathematically periodic, but the end values and derivatives are so small that for numerical purposes it may as well be."
   ]
  },
  {
   "cell_type": "code",
   "execution_count": null,
   "metadata": {},
   "outputs": [],
   "source": [
    "U[:,1] = @. exp( -60*(x-0.5)^2 );"
   ]
  },
  {
   "cell_type": "markdown",
   "metadata": {},
   "source": [
    "The Euler time stepping simply multiplies by a constant matrix for each time step."
   ]
  },
  {
   "cell_type": "code",
   "execution_count": null,
   "metadata": {},
   "outputs": [],
   "source": [
    "A = I + tau*Dxx;\n",
    "for j = 1:n\n",
    "    U[:,j+1] = A*U[:,j]\n",
    "end"
   ]
  },
  {
   "cell_type": "markdown",
   "metadata": {},
   "source": [
    "Things seem to start well."
   ]
  },
  {
   "cell_type": "code",
   "execution_count": null,
   "metadata": {},
   "outputs": [],
   "source": [
    "using Plots\n",
    "plot(x,U[:,1:3:7],label=[\"t=$t\" for t in t[1:3:7]],\n",
    "    xaxis=(\"x\"),yaxis=(\"u(x,t)\"),\n",
    "    title=\"Heat equation by forward Euler\")"
   ]
  },
  {
   "cell_type": "markdown",
   "metadata": {},
   "source": [
    "Shortly thereafter, though, there is nonphysical growth. "
   ]
  },
  {
   "cell_type": "code",
   "execution_count": null,
   "metadata": {},
   "outputs": [],
   "source": [
    "plot(x,U[:,13:3:19],label=[\"t=$t\" for t in t[13:3:19]],\n",
    "    xaxis=(\"x\"),yaxis=(\"u(x,t)\"),\n",
    "    title=\"Heat equation by forward Euler\")"
   ]
  },
  {
   "cell_type": "markdown",
   "metadata": {},
   "source": [
    "The growth is exponential in time."
   ]
  },
  {
   "cell_type": "code",
   "execution_count": null,
   "metadata": {},
   "outputs": [],
   "source": [
    "M = vec(maximum( abs.(U), dims=1 ))     # max in each column\n",
    "plot(t,M,xaxis=(\"\\$t\\$\"), yaxis=(:log10,\"\\$\\\\max_x |u(x,t)|\\$\"),\n",
    "    title=\"Nonphysical growth\",leg=:none) "
   ]
  },
  {
   "cell_type": "markdown",
   "metadata": {},
   "source": [
    "Now we try backward Euler. In this case there is a tridiagonal linear system to solve at each time step. We will use a sparse matrix to get sparse LU factorization, although the time savings at this size are negligible."
   ]
  },
  {
   "cell_type": "code",
   "execution_count": null,
   "metadata": {},
   "outputs": [],
   "source": [
    "using SparseArrays\n",
    "\n",
    "B = sparse(I - tau*Dxx)\n",
    "for j = 1:n\n",
    "    U[:,j+1] = B\\U[:,j]\n",
    "end\n",
    "\n",
    "plot(x,U[:,1:100:501],label=[\"t=$t\" for t in t[1:100:501]],\n",
    "    xaxis=(\"x\"),yaxis=(\"u(x,t)\"),\n",
    "    title=\"Heat equation by backward Euler\")"
   ]
  },
  {
   "cell_type": "markdown",
   "metadata": {},
   "source": [
    "This solution looks physically realistic, as the large concentration in the center diffuses outward. Observe that the solution remains periodic in space. "
   ]
  }
 ],
 "metadata": {
  "kernelspec": {
   "display_name": "Julia 1.0.3",
   "language": "julia",
   "name": "julia-1.0"
  },
  "language_info": {
   "file_extension": ".jl",
   "mimetype": "application/julia",
   "name": "julia",
   "version": "1.0.3"
  }
 },
 "nbformat": 4,
 "nbformat_minor": 2
}
