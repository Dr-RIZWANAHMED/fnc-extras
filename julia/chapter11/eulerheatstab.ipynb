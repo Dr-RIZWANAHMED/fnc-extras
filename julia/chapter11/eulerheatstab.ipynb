{
 "cells": [
  {
   "cell_type": "markdown",
   "metadata": {},
   "source": [
    "Both time stepping methods solved $\\mathbf{u}'=\\mathbf{D}_{xx}\\mathbf{u}$, for the matrix"
   ]
  },
  {
   "cell_type": "code",
   "execution_count": null,
   "metadata": {},
   "outputs": [],
   "source": [
    "include(\"../FNC.jl\")\n",
    "m = 40;  Dxx = FNC.diffper(m,[0,1])[3];"
   ]
  },
  {
   "cell_type": "markdown",
   "metadata": {},
   "source": [
    "The eigenvalues of this martrix are real and negative."
   ]
  },
  {
   "cell_type": "code",
   "execution_count": null,
   "metadata": {},
   "outputs": [],
   "source": [
    "using LinearAlgebra\n",
    "lambda = eigvals(Dxx)\n",
    "\n",
    "using Plots\n",
    "scatter(real(lambda),imag(lambda),m=2,\n",
    "    xaxis=(\"Re \\\\lambda\"),  yaxis=(\"Im \\\\lambda\"),\n",
    "    title=\"Eigenvalues\",leg=:none)"
   ]
  },
  {
   "cell_type": "markdown",
   "metadata": {},
   "source": [
    "The Euler method is absolutely stable in the region $|\\zeta+1| \\le 1$ in the complex plane:"
   ]
  },
  {
   "cell_type": "code",
   "execution_count": null,
   "metadata": {},
   "outputs": [],
   "source": [
    "phi = 2pi*(0:360)/360\n",
    "z = @.exp(1im*phi) - 1;   # unit circle shifted to the left by 1\n",
    "\n",
    "plot(Shape(real(z),imag(z)),color=RGB(.8,.8,1),aspect_ratio=1,\n",
    "    xaxis=(\"Re \\\\lambda\"),  yaxis=(\"Im \\\\lambda\"),\n",
    "    title=\"Stability region\",leg=:none) "
   ]
  },
  {
   "cell_type": "markdown",
   "metadata": {},
   "source": [
    "In order to get inside this region, we have to find $\\tau$ such that $\\lambda \\tau > -2$ for all eigenvalues $\\lambda$. This is an _upper_ bound on $\\tau$. "
   ]
  },
  {
   "cell_type": "code",
   "execution_count": null,
   "metadata": {},
   "outputs": [],
   "source": [
    "lambda_min = minimum(lambda)\n",
    "@show max_tau = -2 / lambda_min;"
   ]
  },
  {
   "cell_type": "markdown",
   "metadata": {},
   "source": [
    "Here we plot the resulting values of $\\zeta=\\lambda \\tau$. "
   ]
  },
  {
   "cell_type": "code",
   "execution_count": null,
   "metadata": {},
   "outputs": [],
   "source": [
    "zeta = lambda*max_tau\n",
    "scatter!(real(zeta),imag(zeta),\n",
    "    title=\"Stability region and \\\\zeta  values\")"
   ]
  },
  {
   "cell_type": "markdown",
   "metadata": {},
   "source": [
    "In backward Euler, the region is $|\\zeta-1|\\ge 1$. Because they are all on the negative real axis, all of the $\\zeta$ values will fit no matter what $\\tau$ is chosen."
   ]
  },
  {
   "cell_type": "code",
   "execution_count": null,
   "metadata": {},
   "outputs": [],
   "source": [
    "plot(Shape([-6,6,6,-6],[-6,-6,6,6]),color=RGB(.8,.8,1),aspect_ratio=1)\n",
    "z = @.exp(1im*phi) + 1;   # unit circle shifted right by 1\n",
    "plot!(Shape(real(z),imag(z)),color=:white)\n",
    "scatter!(real(zeta),imag(zeta),\n",
    "    xaxis=([-4,2],\"Re \\\\lambda\"),  yaxis=([-3,3],\"Im \\\\lambda\"),\n",
    "    title=\"Stability region and \\\\zeta values\",leg=:none)"
   ]
  }
 ],
 "metadata": {
  "kernelspec": {
   "display_name": "Julia 1.0.3",
   "language": "julia",
   "name": "julia-1.0"
  },
  "language_info": {
   "file_extension": ".jl",
   "mimetype": "application/julia",
   "name": "julia",
   "version": "1.0.3"
  }
 },
 "nbformat": 4,
 "nbformat_minor": 2
}
