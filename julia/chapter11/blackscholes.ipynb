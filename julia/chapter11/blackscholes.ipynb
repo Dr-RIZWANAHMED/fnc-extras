{
 "cells": [
  {
   "cell_type": "markdown",
   "metadata": {},
   "source": [
    "Here are the parameters for a particular simulation of the Black--Scholes equation."
   ]
  },
  {
   "cell_type": "code",
   "execution_count": null,
   "metadata": {},
   "outputs": [],
   "source": [
    "Smax = 8;  T = 6;\n",
    "K = 3;  sigma = 0.06;  r = 0.08;"
   ]
  },
  {
   "cell_type": "markdown",
   "metadata": {},
   "source": [
    "We discretize space and time."
   ]
  },
  {
   "cell_type": "code",
   "execution_count": null,
   "metadata": {},
   "outputs": [],
   "source": [
    "m = 200;  h = Smax / m;\n",
    "x = h*(0:m)\n",
    "n = 1000;  tau = T / n;\n",
    "t = tau*(0:n)\n",
    "lambda = tau / h^2;  mu = tau / h;"
   ]
  },
  {
   "cell_type": "markdown",
   "metadata": {},
   "source": [
    "Set the initial condition, then march forward in time. "
   ]
  },
  {
   "cell_type": "code",
   "execution_count": null,
   "metadata": {},
   "outputs": [],
   "source": [
    "V = zeros(m+1,n+1)\n",
    "V[:,1] = @. max( 0, x-K )\n",
    "for j = 1:n\n",
    "    # Fictitious value from Neumann condition.\n",
    "    Vfict = 2*h + V[m,j]\n",
    "    Vj = [ V[:,j]; Vfict ]\n",
    "    # First row is zero by the Dirichlet condition.\n",
    "    for i = 2:m+1 \n",
    "        diff1 = (Vj[i+1] - Vj[i-1])\n",
    "        diff2 = (Vj[i+1] - 2*Vj[i] + Vj[i-1])\n",
    "        V[i,j+1] = Vj[i] +\n",
    "            (lambda*sigma^2*x[i]^2/2)*diff2 +\n",
    "            (r*x[i]*mu)/2*diff1 - r*tau*Vj[i]\n",
    "    end   \n",
    "end"
   ]
  },
  {
   "cell_type": "markdown",
   "metadata": {},
   "source": [
    "We plot at a few times."
   ]
  },
  {
   "cell_type": "code",
   "execution_count": null,
   "metadata": {},
   "outputs": [],
   "source": [
    "select_times = @. 1 + 250*(0:4)\n",
    "show_times = t[select_times]\n",
    "\n",
    "using Plots\n",
    "plot(x,V[:,select_times],label=[\"t=$t\" for t in show_times], \n",
    "    title=\"Black-Scholes solution\",leg=:topleft,  \n",
    "    xaxis=(\"stock price\"),yaxis=(\"option value\") )"
   ]
  },
  {
   "cell_type": "markdown",
   "metadata": {},
   "source": [
    "The lowest curve is the initial condition, and the highest curve is the last time. The results are easy to interpret, recalling that the time variable really means \"time before strike.\" Say you are close to the option's strike time. If the current stock price is, say, $S=2$, then it's not likely that the stock will end up over the strike price $K=3$ and therefore the option has little value. On the other hand, if presently $S=3$, then there are good odds that the option will be exercised at the strike time, and you will need to pay a substantial portion of the stock price in order to take advantage."
   ]
  },
  {
   "cell_type": "markdown",
   "metadata": {},
   "source": [
    "Let's try to extend the simulation time to $T=8$, keeping everything else the same."
   ]
  },
  {
   "cell_type": "code",
   "execution_count": null,
   "metadata": {},
   "outputs": [],
   "source": [
    "T = 8;\n",
    "n = 1000;  tau = T / n;\n",
    "t = tau*(0:n)\n",
    "lambda = tau / h^2;  mu = tau / h;\n",
    "\n",
    "for j = 1:n\n",
    "    # Fictitious value from Neumann condition.\n",
    "    Vfict = 2*h + V[m,j]\n",
    "    Vj = [ V[:,j]; Vfict ]\n",
    "    # First row is zero by the Dirichlet condition.\n",
    "    for i = 2:m+1 \n",
    "        diff1 = (Vj[i+1] - Vj[i-1])\n",
    "        diff2 = (Vj[i+1] - 2*Vj[i] + Vj[i-1])\n",
    "        V[i,j+1] = Vj[i] +\n",
    "            (lambda*sigma^2*x[i]^2/2)*diff2 +\n",
    "            (r*x[i]*mu)/2*diff1 - r*tau*Vj[i]\n",
    "    end   \n",
    "end\n",
    "\n",
    "\n",
    "plot(x,V[:,select_times],label=[\"t=$t\" for t in show_times], \n",
    "    title=\"Black-Scholes solution\",leg=:topleft,  \n",
    "    xaxis=(\"stock price\"),yaxis=(\"option value\",[0,1e20]) )"
   ]
  },
  {
   "cell_type": "markdown",
   "metadata": {},
   "source": [
    "This \"solution\" is nonsensical.  Look at the scale of the ordinate!"
   ]
  }
 ],
 "metadata": {
  "kernelspec": {
   "display_name": "Julia 1.0.3",
   "language": "julia",
   "name": "julia-1.0"
  },
  "language_info": {
   "file_extension": ".jl",
   "mimetype": "application/julia",
   "name": "julia",
   "version": "1.0.3"
  }
 },
 "nbformat": 4,
 "nbformat_minor": 2
}
