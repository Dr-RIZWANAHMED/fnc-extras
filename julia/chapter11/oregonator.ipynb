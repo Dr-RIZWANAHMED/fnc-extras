{
 "cells": [
  {
   "cell_type": "code",
   "execution_count": null,
   "metadata": {},
   "outputs": [],
   "source": [
    "f = function (u,p,t)\n",
    "    q,s,w = p\n",
    "    [ s*(u[2]-u[1]*u[2]+u[1]-q*u[1]^2);\n",
    "    (-u[2]-u[1]*u[2]+u[3])/s; \n",
    "    w*(u[1]-u[3]) ]\n",
    "end"
   ]
  },
  {
   "cell_type": "markdown",
   "metadata": {},
   "source": [
    "One of the stiff solvers, called `Rodas4P`, is fast."
   ]
  },
  {
   "cell_type": "code",
   "execution_count": null,
   "metadata": {},
   "outputs": [],
   "source": [
    "using DifferentialEquations\n",
    "IVP = ODEProblem(f,[1.,1.,4.],(0.,6.),(8.375e-6,77.27,0.161))\n",
    "@elapsed u = solve(IVP,Rodas4P())  # select Rodas4P solver"
   ]
  },
  {
   "cell_type": "code",
   "execution_count": null,
   "metadata": {},
   "outputs": [],
   "source": [
    "using Plots\n",
    "plot(u)\n",
    "scatter!(u.t,u[:,:]',m=2,xaxis=(\"t\"),yaxis=(\"u(t)\"),\n",
    "    title=\"Oregonator\",leg=:none)"
   ]
  },
  {
   "cell_type": "code",
   "execution_count": null,
   "metadata": {},
   "outputs": [],
   "source": [
    "@show num_steps_stiff = length(u.t); "
   ]
  },
  {
   "cell_type": "markdown",
   "metadata": {},
   "source": [
    "You can see that the stiff solver takes small time steps only when some part of the solution is changing rapidly. However, a nonstiff solver, based on an explicit method, is much slower and takes a lot more steps."
   ]
  },
  {
   "cell_type": "code",
   "execution_count": null,
   "metadata": {},
   "outputs": [],
   "source": [
    "@elapsed u = solve(IVP,DP5())  # select DP5 solver"
   ]
  },
  {
   "cell_type": "code",
   "execution_count": null,
   "metadata": {},
   "outputs": [],
   "source": [
    "@show num_steps_nonstiff = length(u.t);"
   ]
  },
  {
   "cell_type": "markdown",
   "metadata": {},
   "source": [
    "Here is the Jacobian matrix at any value of $\\mathbf{u}$. "
   ]
  },
  {
   "cell_type": "code",
   "execution_count": null,
   "metadata": {},
   "outputs": [],
   "source": [
    "q,s,w = (8.375e-6,77.27,0.161)\n",
    "J = u -> [ -s*(u[2]+1-2*q*u[1]) s*(1-u[1]) 0; \n",
    "    -u[2]/s (-1-u[1])/s 1/s; \n",
    "    w 0 -w];"
   ]
  },
  {
   "cell_type": "markdown",
   "metadata": {},
   "source": [
    "During the early phase, the time steps seem fairly large. The eigenvalues around $t=1/2$ are "
   ]
  },
  {
   "cell_type": "code",
   "execution_count": null,
   "metadata": {},
   "outputs": [],
   "source": [
    "t = u.t\n",
    "i1 = findfirst(@.t>0.5) \n",
    "using LinearAlgebra\n",
    "lambda1 = eigvals( J(u[:,i1]) )"
   ]
  },
  {
   "cell_type": "markdown",
   "metadata": {},
   "source": [
    "These are real and negative. Checking the stability region of RK4 along the negative real axis, we see that stability requires a maximum time step"
   ]
  },
  {
   "cell_type": "code",
   "execution_count": null,
   "metadata": {},
   "outputs": [],
   "source": [
    "maxstep1 = 2.8 / maximum(abs.(lambda1))"
   ]
  },
  {
   "cell_type": "markdown",
   "metadata": {},
   "source": [
    "The actual step size chosen by the solver was comparable:"
   ]
  },
  {
   "cell_type": "code",
   "execution_count": null,
   "metadata": {},
   "outputs": [],
   "source": [
    "step1 = t[i1+1] - t[i1]"
   ]
  },
  {
   "cell_type": "markdown",
   "metadata": {},
   "source": [
    "Later in the simulation, the steps seem quite small compared to the apparent rate of activity. We look near $t=4$:"
   ]
  },
  {
   "cell_type": "code",
   "execution_count": null,
   "metadata": {},
   "outputs": [],
   "source": [
    "i2 = findfirst(@.t>4)   \n",
    "lambda2 = eigvals( J(u[:,i2]) )"
   ]
  },
  {
   "cell_type": "markdown",
   "metadata": {},
   "source": [
    "These are also real and negative. We compare the maximum and observed step sizes again:"
   ]
  },
  {
   "cell_type": "code",
   "execution_count": null,
   "metadata": {},
   "outputs": [],
   "source": [
    "@show maxstep2 = 2.8 / maximum(abs.(lambda2));\n",
    "@show step2 = t[i2+1] - t[i2];"
   ]
  },
  {
   "cell_type": "markdown",
   "metadata": {},
   "source": [
    "Again, the eigenvalues give a good indication of how the steps are being chosen, at least to order of magnitude."
   ]
  }
 ],
 "metadata": {
  "kernelspec": {
   "display_name": "Julia 1.0.3",
   "language": "julia",
   "name": "julia-1.0"
  },
  "language_info": {
   "file_extension": ".jl",
   "mimetype": "application/julia",
   "name": "julia",
   "version": "1.0.3"
  }
 },
 "nbformat": 4,
 "nbformat_minor": 2
}
