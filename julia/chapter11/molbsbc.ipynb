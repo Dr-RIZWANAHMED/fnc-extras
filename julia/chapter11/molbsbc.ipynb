{
 "cells": [
  {
   "cell_type": "code",
   "execution_count": null,
   "metadata": {},
   "outputs": [],
   "source": [
    "Smax = 8;  T = 8;\n",
    "K = 3;  sigma = 0.06;  r = 0.08;\n",
    "include(\"../FNC.jl\")\n",
    "m = 200;  x,Dx,Dxx = FNC.diffmat2(m,[0,Smax]);\n",
    "h = x[2]-x[1];"
   ]
  },
  {
   "cell_type": "markdown",
   "metadata": {},
   "source": [
    "Using the boundary conditions and defining the ODE follow next. "
   ]
  },
  {
   "cell_type": "code",
   "execution_count": null,
   "metadata": {},
   "outputs": [],
   "source": [
    "extend(v) = [ 0; v; 2/3*(h-0.5*v[m-2]+2*v[m-1]) ];\n",
    "chop(u) = u[2:m];\n",
    "ODE = function (v,p,t) \n",
    "    sigma,r = p\n",
    "    u = extend(v)\n",
    "    ux = Dx*u;  uxx = Dxx*u;\n",
    "    f = @.sigma^2/2*x^2*uxx + r*x*ux - r*u\n",
    "    return chop(f)\n",
    "end;"
   ]
  },
  {
   "cell_type": "markdown",
   "metadata": {},
   "source": [
    "Now we define the initial conditions and solve the IVP."
   ]
  },
  {
   "cell_type": "code",
   "execution_count": null,
   "metadata": {},
   "outputs": [],
   "source": [
    "v0 = @.max( 0, x-K )\n",
    "\n",
    "using DifferentialEquations\n",
    "V = solve(ODEProblem(ODE,chop(v0),(0.,T),(sigma,r)));"
   ]
  },
  {
   "cell_type": "markdown",
   "metadata": {},
   "source": [
    "Extend the solution to the boundaries at each time, then plot."
   ]
  },
  {
   "cell_type": "code",
   "execution_count": null,
   "metadata": {},
   "outputs": [],
   "source": [
    "t = range(0,stop=T,length=7) \n",
    "U = hcat( (extend(V(t)) for t in t)... )\n",
    "\n",
    "using Plots\n",
    "plot(x,U,label=[\"t=$(round(t,digits=2))\" for t in t],\n",
    "    xaxis=(\"x\"), yaxis=(\"u(x,t)\"), title=\"Black-Scholes equation\",leg=:topleft)"
   ]
  },
  {
   "cell_type": "code",
   "execution_count": null,
   "metadata": {},
   "outputs": [],
   "source": [
    "@gif for t = range(0,stop=T,length=100)\n",
    "    plot(x,extend(V(t)),label=\"t=$(round(t,digits=3))\",\n",
    "        xaxis=(\"x\"), yaxis=([0,10],\"u(x,t)\"), title=\"Black-Scholes equation\",leg=:topleft)\n",
    "end"
   ]
  }
 ],
 "metadata": {
  "kernelspec": {
   "display_name": "Julia 1.0.3",
   "language": "julia",
   "name": "julia-1.0"
  },
  "language_info": {
   "file_extension": ".jl",
   "mimetype": "application/julia",
   "name": "julia",
   "version": "1.0.3"
  }
 },
 "nbformat": 4,
 "nbformat_minor": 2
}
