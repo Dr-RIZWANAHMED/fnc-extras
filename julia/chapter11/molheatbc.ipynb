{
 "cells": [
  {
   "cell_type": "markdown",
   "metadata": {},
   "source": [
    "We solve $u_t=u_{xx}$ on $[-1,1]$ subject to the Dirichlet conditions $u(-1,t)=0$, $u(1,t)=2$. "
   ]
  },
  {
   "cell_type": "code",
   "execution_count": null,
   "metadata": {},
   "outputs": [],
   "source": [
    "m = 100\n",
    "include(\"../FNC.jl\")\n",
    "x,Dx,Dxx = FNC.diffcheb(m,[-1,1]);"
   ]
  },
  {
   "cell_type": "markdown",
   "metadata": {},
   "source": [
    "Our next step is to write a function that defines $\\mathbf{f}$. Since the boundary values are given explicitly, there is no need to \"solve\" for them---we just append them to each end of the vector."
   ]
  },
  {
   "cell_type": "code",
   "execution_count": null,
   "metadata": {},
   "outputs": [],
   "source": [
    "extend(v) = [0;v;2];"
   ]
  },
  {
   "cell_type": "markdown",
   "metadata": {},
   "source": [
    "We can also define the inverse operation of chopping off the boundary values from a full vector.  Note that the indexing starts at 1 and ends at  $m+1$ for the extended vector."
   ]
  },
  {
   "cell_type": "code",
   "execution_count": null,
   "metadata": {},
   "outputs": [],
   "source": [
    "chop(u) = u[2:m];"
   ]
  },
  {
   "cell_type": "markdown",
   "metadata": {},
   "source": [
    "All the pieces are now in place to define and solve the IVP."
   ]
  },
  {
   "cell_type": "code",
   "execution_count": null,
   "metadata": {},
   "outputs": [],
   "source": [
    "f = function (v,p,t)\n",
    "    u = extend(v)\n",
    "    phi = Dxx*u\n",
    "    return chop(phi)\n",
    "end\n",
    "u0 = @. 1 + sin(pi/2*x) + 3*(1-x^2)*exp(-4*x^2);\n",
    "\n",
    "using DifferentialEquations\n",
    "V = solve(ODEProblem(f,chop(u0),(0.,0.15)));"
   ]
  },
  {
   "cell_type": "markdown",
   "metadata": {},
   "source": [
    "We extend the solution to the boundaries at each time, then plot."
   ]
  },
  {
   "cell_type": "code",
   "execution_count": null,
   "metadata": {},
   "outputs": [],
   "source": [
    "t = range(0,stop=0.15,length=11) \n",
    "U = hcat( (extend(V(t)) for t in t)... )\n",
    "\n",
    "using Plots\n",
    "plot(x,U,label=[\"t=$t\" for t in t],\n",
    "    xaxis=(\"x\"), yaxis=(\"u(x,t)\"), title=\"Heat equation\",leg=:topleft)"
   ]
  }
 ],
 "metadata": {
  "kernelspec": {
   "display_name": "Julia 1.0.3",
   "language": "julia",
   "name": "julia-1.0"
  },
  "language_info": {
   "file_extension": ".jl",
   "mimetype": "application/julia",
   "name": "julia",
   "version": "1.0.3"
  }
 },
 "nbformat": 4,
 "nbformat_minor": 2
}
