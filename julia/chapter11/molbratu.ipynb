{
 "cells": [
  {
   "cell_type": "markdown",
   "metadata": {},
   "source": [
    "We solve a diffusion equation with source term: $u_t=u^2+u_{xx}$, on $[-1,1]$ subject to homogeneous Dirichlet conditions. "
   ]
  },
  {
   "cell_type": "code",
   "execution_count": null,
   "metadata": {},
   "outputs": [],
   "source": [
    "m = 100\n",
    "include(\"../FNC.jl\")\n",
    "x,Dx,Dxx = FNC.diffcheb(m,[-1,1]);"
   ]
  },
  {
   "cell_type": "code",
   "execution_count": null,
   "metadata": {},
   "outputs": [],
   "source": [
    "extend(v) = [0;v;0];  # extend to boundary\n",
    "chop(u) = u[2:m];     # discard boundary\n",
    "ODE = function (v,p,t) \n",
    "    u = extend(v)\n",
    "    uxx = Dxx*u\n",
    "    f = @.u^2 + uxx\n",
    "    return chop(f)\n",
    "end"
   ]
  },
  {
   "cell_type": "markdown",
   "metadata": {},
   "source": [
    "All the pieces are now in place to define and solve the IVP."
   ]
  },
  {
   "cell_type": "code",
   "execution_count": null,
   "metadata": {},
   "outputs": [],
   "source": [
    "u0 = @. 6*(1-x^2)*exp(-4*(x-.5)^2)\n",
    "\n",
    "using DifferentialEquations\n",
    "V = solve(ODEProblem(ODE,chop(u0),(0.,1.5)));"
   ]
  },
  {
   "cell_type": "markdown",
   "metadata": {},
   "source": [
    "Extend the solution to the boundaries at each time, then plot."
   ]
  },
  {
   "cell_type": "code",
   "execution_count": null,
   "metadata": {},
   "outputs": [],
   "source": [
    "t = range(0,stop=1.5,length=7) \n",
    "U = hcat( (extend(V(t)) for t in t)... )\n",
    "\n",
    "using Plots\n",
    "plot(x,U,label=[\"t=$t\" for t in t],\n",
    "    xaxis=(\"x\"), yaxis=(\"u(x,t)\"), title=\"Heat equation with source\",leg=:topleft)"
   ]
  },
  {
   "cell_type": "markdown",
   "metadata": {},
   "source": [
    "An animation better captures how the source term takes over gradually but at an accelerating rate. "
   ]
  },
  {
   "cell_type": "code",
   "execution_count": null,
   "metadata": {},
   "outputs": [],
   "source": [
    "@gif for t = range(0,stop=1.5,length=100)\n",
    "    plot(x,extend(V(t)),label=\"t=$(round(t,digits=3))\",\n",
    "        xaxis=(\"x\"), yaxis=([0,10],\"u(x,t)\"), title=\"Heat equation with source\",leg=:topleft)\n",
    "end"
   ]
  },
  {
   "cell_type": "code",
   "execution_count": null,
   "metadata": {},
   "outputs": [],
   "source": []
  }
 ],
 "metadata": {
  "kernelspec": {
   "display_name": "Julia 1.0.3",
   "language": "julia",
   "name": "julia-1.0"
  },
  "language_info": {
   "file_extension": ".jl",
   "mimetype": "application/julia",
   "name": "julia",
   "version": "1.0.3"
  }
 },
 "nbformat": 4,
 "nbformat_minor": 2
}
