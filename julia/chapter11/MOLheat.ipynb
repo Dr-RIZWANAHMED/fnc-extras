{
 "cells": [
  {
   "cell_type": "markdown",
   "metadata": {},
   "source": [
    "We set up the semidiscretization and initial condition in $x$ just as before."
   ]
  },
  {
   "cell_type": "code",
   "execution_count": null,
   "metadata": {},
   "outputs": [],
   "source": [
    "include(\"../FNC.jl\")\n",
    "using LinearAlgebra\n",
    "\n",
    "m = 100\n",
    "x,Dx,Dxx = FNC.diffper(m,[0,1])\n",
    "u0 = @. exp( -60*(x-0.5)^2 );"
   ]
  },
  {
   "cell_type": "markdown",
   "metadata": {},
   "source": [
    "Now, though, we apply a `DifferentialEquations` solver to the initial-value problem $\\mathbf{u}'=\\mathbf{D}_{xx}\\mathbf{u}$."
   ]
  },
  {
   "cell_type": "code",
   "execution_count": null,
   "metadata": {},
   "outputs": [],
   "source": [
    "tfinal = 0.05\n",
    "using DifferentialEquations\n",
    "ODE = (u,p,t) -> Dxx*u;  \n",
    "IVP = ODEProblem(ODE,u0,(0,tfinal))\n",
    "\n",
    "u = solve(IVP,DP5())  # select DP5 solver\n",
    "\n",
    "using Plots\n",
    "plot(x,u[:,1:50:end],label=[\"t=$t\" for t in round.(u.t[1:50:end],digits=4)], \n",
    "    xaxis=(\"x\"), yaxis=(\"u(x,t)\"),\n",
    "    title=\"Heat equation by ode45\")"
   ]
  },
  {
   "cell_type": "markdown",
   "metadata": {},
   "source": [
    "The solution is at least plausible. But the number of time steps that were selected automatically is surprisingly large, considering how smoothly the solution changes."
   ]
  },
  {
   "cell_type": "code",
   "execution_count": null,
   "metadata": {},
   "outputs": [],
   "source": [
    "num_steps_1 = length(u.t)-1"
   ]
  },
  {
   "cell_type": "markdown",
   "metadata": {},
   "source": [
    "Now we apply another solver. "
   ]
  },
  {
   "cell_type": "code",
   "execution_count": null,
   "metadata": {},
   "outputs": [],
   "source": [
    "u = solve(IVP,Rodas4P());"
   ]
  },
  {
   "cell_type": "markdown",
   "metadata": {},
   "source": [
    "The number of steps selected is reduced by a factor of more than 40!"
   ]
  },
  {
   "cell_type": "code",
   "execution_count": null,
   "metadata": {},
   "outputs": [],
   "source": [
    "num_steps_2 = length(u.t)-1"
   ]
  }
 ],
 "metadata": {
  "kernelspec": {
   "display_name": "Julia 1.0.3",
   "language": "julia",
   "name": "julia-1.0"
  },
  "language_info": {
   "file_extension": ".jl",
   "mimetype": "application/julia",
   "name": "julia",
   "version": "1.0.3"
  }
 },
 "nbformat": 4,
 "nbformat_minor": 2
}
