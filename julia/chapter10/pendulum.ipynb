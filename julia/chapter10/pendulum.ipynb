{
 "cells": [
  {
   "cell_type": "code",
   "execution_count": null,
   "metadata": {},
   "outputs": [],
   "source": [
    "phi = (t,theta,omega) -> -0.05*omega - sin(theta)\n",
    "init = range(2.5,stop=-2,length=101)\n",
    "\n",
    "include(\"../FNC.jl\")\n",
    "t,theta = FNC.bvp(phi,[0,5],2.5,[],-2,[],init)\n",
    "\n",
    "using Plots\n",
    "plot(t,theta,xaxis=(\"t\"),yaxis=(\"\\$\\\\theta(t)\\$\"),\n",
    "    title=\"Pendulum over [0,5]\",leg=:none)"
   ]
  },
  {
   "cell_type": "markdown",
   "metadata": {},
   "source": [
    "Note how the angle decreases throughout the motion until near the end. If we extend the time interval longer, then we find a rather different solution."
   ]
  },
  {
   "cell_type": "code",
   "execution_count": null,
   "metadata": {},
   "outputs": [],
   "source": [
    "t,theta = FNC.bvp(phi,[0,8],2.5,[],-2,[],init);\n",
    "plot(t,theta,xaxis=(\"t\"),yaxis=(\"\\$\\\\theta(t)\\$\"),\n",
    "    title=\"Pendulum over [0,8]\",leg=:none)"
   ]
  },
  {
   "cell_type": "markdown",
   "metadata": {},
   "source": [
    "This time the angle initially _increases_, and the pendulum hovers near the vertical position before swinging back down. "
   ]
  }
 ],
 "metadata": {
  "kernelspec": {
   "display_name": "Julia 1.0.3",
   "language": "julia",
   "name": "julia-1.0"
  },
  "language_info": {
   "file_extension": ".jl",
   "mimetype": "application/julia",
   "name": "julia",
   "version": "1.0.3"
  },
  "toc": {
   "base_numbering": 1,
   "nav_menu": {},
   "number_sections": true,
   "sideBar": true,
   "skip_h1_title": false,
   "title_cell": "Table of Contents",
   "title_sidebar": "Contents",
   "toc_cell": false,
   "toc_position": {},
   "toc_section_display": true,
   "toc_window_display": false
  }
 },
 "nbformat": 4,
 "nbformat_minor": 2
}
