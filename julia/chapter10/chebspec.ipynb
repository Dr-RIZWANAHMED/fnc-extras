{
 "cells": [
  {
   "cell_type": "markdown",
   "metadata": {},
   "source": [
    "Here is a $4\\times 4$ Chebyshev differentiation matrix."
   ]
  },
  {
   "cell_type": "code",
   "execution_count": null,
   "metadata": {},
   "outputs": [],
   "source": [
    "include(\"../FNC.jl\")\n",
    "t,Dx = FNC.diffcheb(3,[-1,1])\n",
    "Dx"
   ]
  },
  {
   "cell_type": "markdown",
   "metadata": {},
   "source": [
    "We again test the convergence rate.  "
   ]
  },
  {
   "cell_type": "code",
   "execution_count": null,
   "metadata": {},
   "outputs": [],
   "source": [
    "f = x -> x + exp(sin(4*x));\n",
    "dfdx = x -> 1 + 4*exp(sin(4*x))*cos(4*x);\n",
    "d2fdx2 = x -> 4*exp(sin(4*x))*(4*cos(4*x)^2-4*sin(4*x));\n",
    "\n",
    "n = 5:5:70\n",
    "err1 = zeros(size(n))\n",
    "err2 = zeros(size(n))\n",
    "using LinearAlgebra\n",
    "for (k,n) = enumerate(n)\n",
    "    t,Dx,Dxx = FNC.diffcheb(n,[-1,1])\n",
    "    y = f.(t)\n",
    "    err1[k] = norm( dfdx.(t) - Dx*y, Inf )\n",
    "    err2[k] = norm( d2fdx2.(t) - Dxx*y, Inf )\n",
    "end\n",
    "\n",
    "using DataFrames\n",
    "DataFrame(n=n,error_first=err1,error_second=err2)"
   ]
  },
  {
   "cell_type": "code",
   "execution_count": null,
   "metadata": {},
   "outputs": [],
   "source": [
    "using Plots\n",
    "plot(n,[err1 err2],m=:o,label=[\"\\$f'\\$\" \"\\$f''\\$\"],\n",
    "    xaxis=(\"n\"), yaxis=(:log10,\"max error\"),\n",
    "    title=\"Convergence of Chebyshev derivatives\")"
   ]
  },
  {
   "cell_type": "markdown",
   "metadata": {},
   "source": [
    "Notice that the graph has a log-linear scale, not log-log. Hence the convergence is exponential, as we expect for a spectral method on a smooth function. "
   ]
  }
 ],
 "metadata": {
  "kernelspec": {
   "display_name": "Julia 1.0.3",
   "language": "julia",
   "name": "julia-1.0"
  },
  "language_info": {
   "file_extension": ".jl",
   "mimetype": "application/julia",
   "name": "julia",
   "version": "1.0.3"
  },
  "toc": {
   "base_numbering": 1,
   "nav_menu": {},
   "number_sections": true,
   "sideBar": true,
   "skip_h1_title": false,
   "title_cell": "Table of Contents",
   "title_sidebar": "Contents",
   "toc_cell": false,
   "toc_position": {},
   "toc_section_display": true,
   "toc_window_display": false
  }
 },
 "nbformat": 4,
 "nbformat_minor": 2
}
