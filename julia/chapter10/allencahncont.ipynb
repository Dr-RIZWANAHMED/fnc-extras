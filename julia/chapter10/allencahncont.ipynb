{
 "cells": [
  {
   "cell_type": "markdown",
   "metadata": {},
   "source": [
    "Finding a solution is easy at some values of $\\epsilon$. "
   ]
  },
  {
   "cell_type": "code",
   "execution_count": null,
   "metadata": {},
   "outputs": [],
   "source": [
    "epsilon = 0.05;\n",
    "phi = (x,u,dudx) -> (u^3 - u) / epsilon;\n",
    "\n",
    "init = range(-1,stop=1,length=141)\n",
    "\n",
    "include(\"../FNC.jl\")\n",
    "x,u1 = FNC.bvp(phi,[0,1],-1,[],1,[],init)\n",
    "\n",
    "using Plots\n",
    "plot(x,u1,label=\"\\$\\\\epsilon = 0.05\\$\",\n",
    "    xaxis=(\"x\"),yaxis=(\"u(x)\"),title=\"Allen-Cahn solution\")"
   ]
  },
  {
   "cell_type": "markdown",
   "metadata": {},
   "source": [
    "However, finding a good starting guess is not trivial for smaller values of $\\epsilon$. Note below that the iteration stops without converging to a solution."
   ]
  },
  {
   "cell_type": "code",
   "execution_count": null,
   "metadata": {},
   "outputs": [],
   "source": [
    "epsilon = 0.005;\n",
    "x,u = FNC.bvp(phi,[0,1],-1,[],1,[],init);"
   ]
  },
  {
   "cell_type": "markdown",
   "metadata": {},
   "source": [
    "A simple way around this problem is to use the result of a solved version as the starting guess for a more difficult version."
   ]
  },
  {
   "cell_type": "code",
   "execution_count": null,
   "metadata": {},
   "outputs": [],
   "source": [
    "x,u2 = FNC.bvp(phi,[0,1],-1,[],1,[],u1)\n",
    "plot!(x,u2,label=\"\\$\\\\epsilon = 0.005\\$\")"
   ]
  },
  {
   "cell_type": "markdown",
   "metadata": {},
   "source": [
    "In this case we can continue further."
   ]
  },
  {
   "cell_type": "code",
   "execution_count": null,
   "metadata": {},
   "outputs": [],
   "source": [
    "epsilon = 0.0005\n",
    "x,u3 = FNC.bvp(phi,[0,1],-1,[],1,[],u2)\n",
    "plot!(x,u3,label=\"\\$\\\\epsilon = 0.0005\\$\")"
   ]
  }
 ],
 "metadata": {
  "kernelspec": {
   "display_name": "Julia 1.0.3",
   "language": "julia",
   "name": "julia-1.0"
  },
  "language_info": {
   "file_extension": ".jl",
   "mimetype": "application/julia",
   "name": "julia",
   "version": "1.0.3"
  },
  "toc": {
   "base_numbering": 1,
   "nav_menu": {},
   "number_sections": true,
   "sideBar": true,
   "skip_h1_title": false,
   "title_cell": "Table of Contents",
   "title_sidebar": "Contents",
   "toc_cell": false,
   "toc_position": {},
   "toc_section_display": true,
   "toc_window_display": false
  }
 },
 "nbformat": 4,
 "nbformat_minor": 2
}
