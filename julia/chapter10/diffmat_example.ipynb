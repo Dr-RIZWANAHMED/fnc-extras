{
 "cells": [
  {
   "cell_type": "markdown",
   "metadata": {},
   "source": [
    "We test first-order and second-order differentiation matrices for the function $x + e^{\\sin 4x}$ over $[-1,1]$. "
   ]
  },
  {
   "cell_type": "code",
   "execution_count": null,
   "metadata": {},
   "outputs": [],
   "source": [
    "f = x -> x + exp(sin(4*x));"
   ]
  },
  {
   "cell_type": "markdown",
   "metadata": {},
   "source": [
    "For reference, here are the exact first and second derivatives."
   ]
  },
  {
   "cell_type": "code",
   "execution_count": null,
   "metadata": {},
   "outputs": [],
   "source": [
    "dfdx = x -> 1 + 4*exp(sin(4*x))*cos(4*x);\n",
    "d2fdx2 = x -> 4*exp(sin(4*x))*(4*cos(4*x)^2-4*sin(4*x));"
   ]
  },
  {
   "cell_type": "markdown",
   "metadata": {},
   "source": [
    "We discretize on equally spaced nodes and evaluate $f$ at the nodes. "
   ]
  },
  {
   "cell_type": "code",
   "execution_count": null,
   "metadata": {},
   "outputs": [],
   "source": [
    "include(\"../FNC.jl\")\n",
    "t,Dx,Dxx = FNC.diffmat2(12,[-1,1])\n",
    "y = f.(t);"
   ]
  },
  {
   "cell_type": "markdown",
   "metadata": {},
   "source": [
    "Then the first two derivatives of $f$ each require one matrix-vector multiplication."
   ]
  },
  {
   "cell_type": "code",
   "execution_count": null,
   "metadata": {},
   "outputs": [],
   "source": [
    "yx = Dx*y;\n",
    "yxx = Dxx*y;"
   ]
  },
  {
   "cell_type": "markdown",
   "metadata": {},
   "source": [
    "The results are fair but not very accurate for this small value of $n$. "
   ]
  },
  {
   "cell_type": "code",
   "execution_count": null,
   "metadata": {},
   "outputs": [],
   "source": [
    "using Plots\n",
    "plot(dfdx,-1,1,layout=2,subplot=1,xaxis=(\"x\"),yaxis=(\"f'(x)\"),leg=:none)\n",
    "scatter!(t,yx,m=(2),subplot=1)\n",
    "plot!(d2fdx2,-1,1,subplot=2,xaxis=(\"x\"),yaxis=(\"f''(x)\"))\n",
    "scatter!(t,yxx,m=(2),subplot=2,leg=:none)"
   ]
  },
  {
   "cell_type": "markdown",
   "metadata": {},
   "source": [
    "An experiment confirms the order of accuracy."
   ]
  },
  {
   "cell_type": "code",
   "execution_count": null,
   "metadata": {},
   "outputs": [],
   "source": [
    "using LinearAlgebra   # for norm\n",
    "n = @. round(Int,2^(4:.5:11) )\n",
    "err1 = zeros(size(n))\n",
    "err2 = zeros(size(n))\n",
    "for (k,n) = enumerate(n)\n",
    "    t,Dx,Dxx = FNC.diffmat2(n,[-1,1])\n",
    "    y = f.(t)\n",
    "    err1[k] = norm( dfdx.(t) - Dx*y, Inf )\n",
    "    err2[k] = norm( d2fdx2.(t) - Dxx*y, Inf )\n",
    "end\n",
    "\n",
    "using DataFrames\n",
    "DataFrame(n=n,error_first=err1,error_second=err2)"
   ]
  },
  {
   "cell_type": "markdown",
   "metadata": {},
   "source": [
    "For $O(n^{-p})$ convergence, we use a log-log plot of the errors. "
   ]
  },
  {
   "cell_type": "code",
   "execution_count": null,
   "metadata": {},
   "outputs": [],
   "source": [
    "plot(n,[err1 err2],m=:o,label=[\"\\$f'\\$\" \"\\$f''\\$\"])\n",
    "plot!(n,10*10*n.^(-2),l=:dash,label=\"2nd order\",\n",
    "    xaxis=(:log10,\"n\"), yaxis=(:log10,\"max error\"),\n",
    "    title=\"Convergence of finite differences\")"
   ]
  }
 ],
 "metadata": {
  "kernelspec": {
   "display_name": "Julia 1.0.3",
   "language": "julia",
   "name": "julia-1.0"
  },
  "language_info": {
   "file_extension": ".jl",
   "mimetype": "application/julia",
   "name": "julia",
   "version": "1.0.3"
  },
  "toc": {
   "base_numbering": 1,
   "nav_menu": {},
   "number_sections": true,
   "sideBar": true,
   "skip_h1_title": false,
   "title_cell": "Table of Contents",
   "title_sidebar": "Contents",
   "toc_cell": false,
   "toc_position": {},
   "toc_section_display": true,
   "toc_window_display": false
  }
 },
 "nbformat": 4,
 "nbformat_minor": 2
}
