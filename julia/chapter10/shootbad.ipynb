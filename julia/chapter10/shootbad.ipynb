{
 "cells": [
  {
   "cell_type": "markdown",
   "metadata": {},
   "source": [
    "We compute shooting solutions for several values of $\\lambda$."
   ]
  },
  {
   "cell_type": "code",
   "execution_count": null,
   "metadata": {},
   "outputs": [],
   "source": [
    "include(\"../FNC.jl\")\n",
    "using Plots\n",
    "\n",
    "lambda = (6:4:18)\n",
    "for lam in lambda\n",
    "    lval = -1.0;  rval = 0.0;\n",
    "    phi = (x,u,dudx) -> lam^2*u + lam^2\n",
    "    x,u = FNC.shoot(phi,(0.0,1.0),lval,[],rval,[],0.0)\n",
    "    plot!(x,u,m=:o,label=\"\\$\\\\lambda=$lam\\$\")\n",
    "end\n",
    "plot!([],[],label=\"\",\n",
    "    xaxis=(\"x\"),yaxis=([-2,0.5],\"u(x)\"),title=\"Shooting instability\",leg=:topleft)"
   ]
  },
  {
   "cell_type": "markdown",
   "metadata": {},
   "source": [
    "The solutions are inaccurate near the right endpoint as $\\lambda$ increases."
   ]
  }
 ],
 "metadata": {
  "kernelspec": {
   "display_name": "Julia 1.0.3",
   "language": "julia",
   "name": "julia-1.0"
  },
  "language_info": {
   "file_extension": ".jl",
   "mimetype": "application/julia",
   "name": "julia",
   "version": "1.0.3"
  },
  "toc": {
   "base_numbering": 1,
   "nav_menu": {},
   "number_sections": true,
   "sideBar": true,
   "skip_h1_title": false,
   "title_cell": "Table of Contents",
   "title_sidebar": "Contents",
   "toc_cell": false,
   "toc_position": {},
   "toc_section_display": true,
   "toc_window_display": false
  }
 },
 "nbformat": 4,
 "nbformat_minor": 2
}
