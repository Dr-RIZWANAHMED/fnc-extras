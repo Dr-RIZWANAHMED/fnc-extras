{
 "cells": [
  {
   "cell_type": "markdown",
   "metadata": {},
   "source": [
    "Consider the linear BVP  $$ u'' - (\\cos x) u' + (\\sin x) u = 0, \\quad 0 \\le x \\le \\pi/2, \\quad u(0)=1, \\; u(\\pi/2)=e. $$ Its exact solution is simple."
   ]
  },
  {
   "cell_type": "code",
   "execution_count": null,
   "metadata": {},
   "outputs": [],
   "source": [
    "exact = x -> exp(sin(x));"
   ]
  },
  {
   "cell_type": "markdown",
   "metadata": {},
   "source": [
    "The problem is presented in our standard form, so we can identify the coefficient functions in the ODE. Each should be coded so that they can accept either scalar or vector inputs."
   ]
  },
  {
   "cell_type": "code",
   "execution_count": null,
   "metadata": {},
   "outputs": [],
   "source": [
    "p = x -> -cos(x);\n",
    "q = sin;\n",
    "r = x -> 0;      # function, not value "
   ]
  },
  {
   "cell_type": "markdown",
   "metadata": {},
   "source": [
    "We solve the BVP and compare the result to the exact solution."
   ]
  },
  {
   "cell_type": "code",
   "execution_count": null,
   "metadata": {},
   "outputs": [],
   "source": [
    "include(\"../FNC.jl\")\n",
    "x,u = FNC.bvplin(p,q,r,[0,pi/2],1,exp(1),25);"
   ]
  },
  {
   "cell_type": "code",
   "execution_count": null,
   "metadata": {},
   "outputs": [],
   "source": [
    "using Plots\n",
    "\n",
    "plot(x,u,layout=(2,1),subplot=1,yaxis=(\"solution\"),\n",
    "    title=\"Solution of the BVP\",leg=:none)\n",
    "\n",
    "plot!(x,exact.(x)-u,m=:o,subplot=2,yaxis=(\"error\"),leg=:none)"
   ]
  }
 ],
 "metadata": {
  "kernelspec": {
   "display_name": "Julia 1.0.3",
   "language": "julia",
   "name": "julia-1.0"
  },
  "language_info": {
   "file_extension": ".jl",
   "mimetype": "application/julia",
   "name": "julia",
   "version": "1.0.3"
  },
  "toc": {
   "base_numbering": 1,
   "nav_menu": {},
   "number_sections": true,
   "sideBar": true,
   "skip_h1_title": false,
   "title_cell": "Table of Contents",
   "title_sidebar": "Contents",
   "toc_cell": false,
   "toc_position": {},
   "toc_section_display": true,
   "toc_window_display": false
  }
 },
 "nbformat": 4,
 "nbformat_minor": 2
}
