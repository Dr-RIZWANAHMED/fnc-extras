{
 "cells": [
  {
   "cell_type": "code",
   "execution_count": null,
   "metadata": {},
   "outputs": [],
   "source": [
    "lambda = 10;\n",
    "exact = x -> sinh(lambda*x)/sinh(lambda) - 1;"
   ]
  },
  {
   "cell_type": "markdown",
   "metadata": {},
   "source": [
    "These functions define the ODE."
   ]
  },
  {
   "cell_type": "code",
   "execution_count": null,
   "metadata": {},
   "outputs": [],
   "source": [
    "p = x -> 0;\n",
    "q = x -> -lambda^2;\n",
    "r = x -> lambda^2;"
   ]
  },
  {
   "cell_type": "markdown",
   "metadata": {},
   "source": [
    "We compare the computed solution to the exact one for increasing $n$. "
   ]
  },
  {
   "cell_type": "code",
   "execution_count": null,
   "metadata": {},
   "outputs": [],
   "source": [
    "include(\"../FNC.jl\")\n",
    "n = [32,64,128,256,512]\n",
    "err = zeros(size(n))\n",
    "using LinearAlgebra:norm\n",
    "for (k,n) = enumerate(n)\n",
    "    x,u = FNC.bvplin(p,q,r,[0,1],-1,0,n)\n",
    "    \n",
    "    err[k] = norm(exact.(x)-u,Inf)\n",
    "end\n",
    "\n",
    "using DataFrames\n",
    "DataFrame(n=n,error=err)"
   ]
  },
  {
   "cell_type": "markdown",
   "metadata": {},
   "source": [
    "Each time $n$ is doubled, the error is reduced by a factor very close to 4, which is indicative of second order convergence."
   ]
  },
  {
   "cell_type": "code",
   "execution_count": null,
   "metadata": {},
   "outputs": [],
   "source": [
    "using Plots\n",
    "plot(n,err,m=(:o,3),label=\"observed\",\n",
    "    xaxis=(:log10,\"n\"), yaxis=(:log10,\"max error\"),\n",
    "    title=\"Convergence of finite differences\") \n",
    "plot!(n,n.^(-2),l=:dash,label=\"2nd order\")"
   ]
  }
 ],
 "metadata": {
  "kernelspec": {
   "display_name": "Julia 1.0.3",
   "language": "julia",
   "name": "julia-1.0"
  },
  "language_info": {
   "file_extension": ".jl",
   "mimetype": "application/julia",
   "name": "julia",
   "version": "1.0.3"
  },
  "toc": {
   "base_numbering": 1,
   "nav_menu": {},
   "number_sections": true,
   "sideBar": true,
   "skip_h1_title": false,
   "title_cell": "Table of Contents",
   "title_sidebar": "Contents",
   "toc_cell": false,
   "toc_position": {},
   "toc_section_display": true,
   "toc_window_display": false
  }
 },
 "nbformat": 4,
 "nbformat_minor": 2
}
