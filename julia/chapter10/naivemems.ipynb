{
 "cells": [
  {
   "cell_type": "markdown",
   "metadata": {},
   "source": [
    "We'll examine the guessing/IVP approach for the case $\\lambda=0.6$. "
   ]
  },
  {
   "cell_type": "code",
   "execution_count": null,
   "metadata": {},
   "outputs": [],
   "source": [
    "lambda = 0.6\n",
    "phi = (r,w,dwdr) -> lambda/w^2 - dwdr/r;"
   ]
  },
  {
   "cell_type": "markdown",
   "metadata": {},
   "source": [
    "We have to avoid $r=0$, or we would divide by zero."
   ]
  },
  {
   "cell_type": "code",
   "execution_count": null,
   "metadata": {},
   "outputs": [],
   "source": [
    "a = eps();  b = 1;"
   ]
  },
  {
   "cell_type": "markdown",
   "metadata": {},
   "source": [
    "We convert the ODE to a first-order system in $v_1$, $v_2$. "
   ]
  },
  {
   "cell_type": "code",
   "execution_count": null,
   "metadata": {},
   "outputs": [],
   "source": [
    "f = (v,p,r) -> [ v[2]; phi(r,v[1],v[2]) ];"
   ]
  },
  {
   "cell_type": "markdown",
   "metadata": {},
   "source": [
    "Now we try multiple guesses for the unknown $w(0)$ and plot the solutions. "
   ]
  },
  {
   "cell_type": "code",
   "execution_count": null,
   "metadata": {},
   "outputs": [],
   "source": [
    "using DifferentialEquations, Plots\n",
    "\n",
    "for w0 = 0.4:0.1:0.9\n",
    "    IVP = ODEProblem(f,[w0,0],(a,b))\n",
    "    sol = solve(IVP)\n",
    "    plot!(sol,vars=[1],label=\"w0 = $w0\")\n",
    "end\n",
    "plot!([],[],label=\"\",\n",
    "    xaxis=(\"x\"), yaxis=(\"w(x)\"),   \n",
    "    title=\"Solutions for choices of w(0)\",leg=:bottomright)"
   ]
  },
  {
   "cell_type": "markdown",
   "metadata": {},
   "source": [
    "On the graph, it's the curve starting at $w(0)=0.8$ that comes closest to the required condition $w(1)=1$. "
   ]
  }
 ],
 "metadata": {
  "kernelspec": {
   "display_name": "Julia 1.0.3",
   "language": "julia",
   "name": "julia-1.0"
  },
  "language_info": {
   "file_extension": ".jl",
   "mimetype": "application/julia",
   "name": "julia",
   "version": "1.0.3"
  },
  "toc": {
   "base_numbering": 1,
   "nav_menu": {},
   "number_sections": true,
   "sideBar": true,
   "skip_h1_title": false,
   "title_cell": "Table of Contents",
   "title_sidebar": "Contents",
   "toc_cell": false,
   "toc_position": {},
   "toc_section_display": true,
   "toc_window_display": false
  }
 },
 "nbformat": 4,
 "nbformat_minor": 2
}
