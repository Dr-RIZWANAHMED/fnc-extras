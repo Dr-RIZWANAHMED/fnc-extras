{
 "cells": [
  {
   "cell_type": "code",
   "execution_count": null,
   "metadata": {},
   "outputs": [],
   "source": [
    "lambda = 0.5\n",
    "phi = (r,w,dwdr) -> lambda/w^2 - dwdr/r;\n",
    "\n",
    "init = ones(301)\n",
    "include(\"../FNC.jl\")\n",
    "r,w1 = FNC.bvp(phi,[0,1],[],0,1,[],init)\n",
    "\n",
    "using Plots\n",
    "plot(r,w1,xaxis=(\"r\"),yaxis=(\"w(r)\"),title=\"Solution\",leg=:none)"
   ]
  },
  {
   "cell_type": "markdown",
   "metadata": {},
   "source": [
    "By choosing a different initial guess, we arrive at another solution."
   ]
  },
  {
   "cell_type": "code",
   "execution_count": null,
   "metadata": {},
   "outputs": [],
   "source": [
    "init = 0.5*ones(301)\n",
    "r,w2 = FNC.bvp(phi,[0,1],[],0,1,[],init)\n",
    "plot!(r,w2)"
   ]
  }
 ],
 "metadata": {
  "kernelspec": {
   "display_name": "Julia 1.0.3",
   "language": "julia",
   "name": "julia-1.0"
  },
  "language_info": {
   "file_extension": ".jl",
   "mimetype": "application/julia",
   "name": "julia",
   "version": "1.0.3"
  },
  "toc": {
   "base_numbering": 1,
   "nav_menu": {},
   "number_sections": true,
   "sideBar": true,
   "skip_h1_title": false,
   "title_cell": "Table of Contents",
   "title_sidebar": "Contents",
   "toc_cell": false,
   "toc_position": {},
   "toc_section_display": true,
   "toc_window_display": false
  }
 },
 "nbformat": 4,
 "nbformat_minor": 2
}
