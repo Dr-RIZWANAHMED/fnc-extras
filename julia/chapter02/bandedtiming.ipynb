{
 "cells": [
  {
   "cell_type": "markdown",
   "metadata": {},
   "source": [
    "We'll use a large banded matrix to observe the speedup possible in LU factorization. We'll also need to load in a (standard) package for sparse matrices."
   ]
  },
  {
   "cell_type": "code",
   "execution_count": 1,
   "metadata": {},
   "outputs": [],
   "source": [
    "using LinearAlgebra,SparseArrays"
   ]
  },
  {
   "cell_type": "markdown",
   "metadata": {},
   "source": [
    "If we use an ordinary \"dense\" matrix, then there's no way to exploit a banded structure such as tridiagonality."
   ]
  },
  {
   "cell_type": "code",
   "execution_count": 2,
   "metadata": {},
   "outputs": [
    {
     "data": {
      "text/plain": [
       "10000×10000 Array{Float64,2}:\n",
       " 1.0  9999.0     0.0     0.0     0.0  …     0.0     0.0     0.0      0.0\n",
       " 1.0     2.0  9998.0     0.0     0.0        0.0     0.0     0.0      0.0\n",
       " 0.0     1.0     3.0  9997.0     0.0        0.0     0.0     0.0      0.0\n",
       " 0.0     0.0     1.0     4.0  9996.0        0.0     0.0     0.0      0.0\n",
       " 0.0     0.0     0.0     1.0     5.0        0.0     0.0     0.0      0.0\n",
       " 0.0     0.0     0.0     0.0     1.0  …     0.0     0.0     0.0      0.0\n",
       " 0.0     0.0     0.0     0.0     0.0        0.0     0.0     0.0      0.0\n",
       " 0.0     0.0     0.0     0.0     0.0        0.0     0.0     0.0      0.0\n",
       " 0.0     0.0     0.0     0.0     0.0        0.0     0.0     0.0      0.0\n",
       " 0.0     0.0     0.0     0.0     0.0        0.0     0.0     0.0      0.0\n",
       " 0.0     0.0     0.0     0.0     0.0  …     0.0     0.0     0.0      0.0\n",
       " 0.0     0.0     0.0     0.0     0.0        0.0     0.0     0.0      0.0\n",
       " 0.0     0.0     0.0     0.0     0.0        0.0     0.0     0.0      0.0\n",
       " ⋮                                    ⋱                                 \n",
       " 0.0     0.0     0.0     0.0     0.0        0.0     0.0     0.0      0.0\n",
       " 0.0     0.0     0.0     0.0     0.0        0.0     0.0     0.0      0.0\n",
       " 0.0     0.0     0.0     0.0     0.0  …     0.0     0.0     0.0      0.0\n",
       " 0.0     0.0     0.0     0.0     0.0        0.0     0.0     0.0      0.0\n",
       " 0.0     0.0     0.0     0.0     0.0        0.0     0.0     0.0      0.0\n",
       " 0.0     0.0     0.0     0.0     0.0        0.0     0.0     0.0      0.0\n",
       " 0.0     0.0     0.0     0.0     0.0        0.0     0.0     0.0      0.0\n",
       " 0.0     0.0     0.0     0.0     0.0  …     4.0     0.0     0.0      0.0\n",
       " 0.0     0.0     0.0     0.0     0.0     9997.0     3.0     0.0      0.0\n",
       " 0.0     0.0     0.0     0.0     0.0        1.0  9998.0     2.0      0.0\n",
       " 0.0     0.0     0.0     0.0     0.0        0.0     1.0  9999.0      1.0\n",
       " 0.0     0.0     0.0     0.0     0.0        0.0     0.0     1.0  10000.0"
      ]
     },
     "execution_count": 2,
     "metadata": {},
     "output_type": "execute_result"
    }
   ],
   "source": [
    "n = 10000\n",
    "A = diagm(0=>1:n,1=>n-1:-1:1,-1=>ones(n-1))"
   ]
  },
  {
   "cell_type": "code",
   "execution_count": 3,
   "metadata": {},
   "outputs": [
    {
     "name": "stdout",
     "output_type": "stream",
     "text": [
      "  8.176055 seconds (89.63 k allocations: 767.511 MiB, 0.12% gc time)\n"
     ]
    }
   ],
   "source": [
    "@time lu(A);"
   ]
  },
  {
   "cell_type": "markdown",
   "metadata": {},
   "source": [
    "If instead we construct a proper \"sparse\" matrix, though, the speedup can be dramatic."
   ]
  },
  {
   "cell_type": "code",
   "execution_count": 4,
   "metadata": {},
   "outputs": [
    {
     "data": {
      "text/plain": [
       "10000×10000 SparseMatrixCSC{Float64,Int64} with 29998 stored entries:\n",
       "  [1    ,     1]  =  1.0\n",
       "  [2    ,     1]  =  1.0\n",
       "  [1    ,     2]  =  9999.0\n",
       "  [2    ,     2]  =  2.0\n",
       "  [3    ,     2]  =  1.0\n",
       "  [2    ,     3]  =  9998.0\n",
       "  [3    ,     3]  =  3.0\n",
       "  [4    ,     3]  =  1.0\n",
       "  [3    ,     4]  =  9997.0\n",
       "  [4    ,     4]  =  4.0\n",
       "  [5    ,     4]  =  1.0\n",
       "  [4    ,     5]  =  9996.0\n",
       "  ⋮\n",
       "  [9997 ,  9996]  =  1.0\n",
       "  [9996 ,  9997]  =  4.0\n",
       "  [9997 ,  9997]  =  9997.0\n",
       "  [9998 ,  9997]  =  1.0\n",
       "  [9997 ,  9998]  =  3.0\n",
       "  [9998 ,  9998]  =  9998.0\n",
       "  [9999 ,  9998]  =  1.0\n",
       "  [9998 ,  9999]  =  2.0\n",
       "  [9999 ,  9999]  =  9999.0\n",
       "  [10000,  9999]  =  1.0\n",
       "  [9999 , 10000]  =  1.0\n",
       "  [10000, 10000]  =  10000.0"
      ]
     },
     "execution_count": 4,
     "metadata": {},
     "output_type": "execute_result"
    }
   ],
   "source": [
    "A = spdiagm(0=>1:n,1=>n-1:-1:1,-1=>ones(n-1))"
   ]
  },
  {
   "cell_type": "code",
   "execution_count": 5,
   "metadata": {},
   "outputs": [
    {
     "name": "stdout",
     "output_type": "stream",
     "text": [
      "  0.119652 seconds (416.92 k allocations: 30.690 MiB, 3.62% gc time)\n"
     ]
    }
   ],
   "source": [
    "@time lu(A);"
   ]
  }
 ],
 "metadata": {
  "kernelspec": {
   "display_name": "Julia 1.1.0",
   "language": "julia",
   "name": "julia-1.1"
  },
  "language_info": {
   "file_extension": ".jl",
   "mimetype": "application/julia",
   "name": "julia",
   "version": "1.1.0"
  },
  "latex_envs": {
   "LaTeX_envs_menu_present": true,
   "autoclose": false,
   "autocomplete": true,
   "bibliofile": "biblio.bib",
   "cite_by": "apalike",
   "current_citInitial": 1,
   "eqLabelWithNumbers": true,
   "eqNumInitial": 1,
   "hotkeys": {
    "equation": "Ctrl-E",
    "itemize": "Ctrl-I"
   },
   "labels_anchors": false,
   "latex_user_defs": false,
   "report_style_numbering": true,
   "user_envs_cfg": false
  },
  "toc": {
   "base_numbering": 1,
   "nav_menu": {},
   "number_sections": true,
   "sideBar": true,
   "skip_h1_title": false,
   "title_cell": "Table of Contents",
   "title_sidebar": "Contents",
   "toc_cell": false,
   "toc_position": {},
   "toc_section_display": true,
   "toc_window_display": false
  }
 },
 "nbformat": 4,
 "nbformat_minor": 2
}
