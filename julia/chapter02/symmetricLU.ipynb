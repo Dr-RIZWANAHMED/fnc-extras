{
 "cells": [
  {
   "cell_type": "markdown",
   "metadata": {},
   "source": [
    "We begin with a symmetric $A$. "
   ]
  },
  {
   "cell_type": "code",
   "execution_count": 1,
   "metadata": {},
   "outputs": [],
   "source": [
    "A = [  2     4     4     2\n",
    "       4     5     8    -5\n",
    "       4     8     6     2\n",
    "       2    -5     2   -26 ];"
   ]
  },
  {
   "cell_type": "markdown",
   "metadata": {},
   "source": [
    "Carrying out our usual elimination in the first column leads us to "
   ]
  },
  {
   "cell_type": "code",
   "execution_count": 2,
   "metadata": {},
   "outputs": [
    {
     "data": {
      "text/plain": [
       "4×4 Array{Float64,2}:\n",
       " 2.0   4.0   4.0    2.0\n",
       " 0.0  -3.0   0.0   -9.0\n",
       " 0.0   0.0  -2.0   -2.0\n",
       " 0.0  -9.0  -2.0  -28.0"
      ]
     },
     "execution_count": 2,
     "metadata": {},
     "output_type": "execute_result"
    }
   ],
   "source": [
    "using LinearAlgebra\n",
    "L1 = diagm(0=>ones(4))\n",
    "L1[2:4,1] = [-2,-2,-1]\n",
    "A1 = L1*A"
   ]
  },
  {
   "cell_type": "markdown",
   "metadata": {},
   "source": [
    "But now let's note that if we transpose this result, we have the same first column as before! So we could apply  again and then transpose back."
   ]
  },
  {
   "cell_type": "code",
   "execution_count": 3,
   "metadata": {},
   "outputs": [
    {
     "data": {
      "text/plain": [
       "4×4 Adjoint{Float64,Array{Float64,2}}:\n",
       " 2.0   0.0   0.0    0.0\n",
       " 0.0  -3.0   0.0   -9.0\n",
       " 0.0   0.0  -2.0   -2.0\n",
       " 0.0  -9.0  -2.0  -28.0"
      ]
     },
     "execution_count": 3,
     "metadata": {},
     "output_type": "execute_result"
    }
   ],
   "source": [
    "A2 = (L1*A1')'"
   ]
  },
  {
   "cell_type": "markdown",
   "metadata": {},
   "source": [
    "Using transpose identities, this is just"
   ]
  },
  {
   "cell_type": "code",
   "execution_count": 4,
   "metadata": {},
   "outputs": [
    {
     "data": {
      "text/plain": [
       "4×4 Array{Float64,2}:\n",
       " 2.0   0.0   0.0    0.0\n",
       " 0.0  -3.0   0.0   -9.0\n",
       " 0.0   0.0  -2.0   -2.0\n",
       " 0.0  -9.0  -2.0  -28.0"
      ]
     },
     "execution_count": 4,
     "metadata": {},
     "output_type": "execute_result"
    }
   ],
   "source": [
    "A2 = A1*L1'"
   ]
  },
  {
   "cell_type": "markdown",
   "metadata": {},
   "source": [
    "Now you can see how we proceed down and to the right, eliminating in a column and then symmetrically in the corresponding row."
   ]
  },
  {
   "cell_type": "code",
   "execution_count": 5,
   "metadata": {},
   "outputs": [
    {
     "data": {
      "text/plain": [
       "4×4 Array{Float64,2}:\n",
       " 2.0   0.0   0.0   0.0\n",
       " 0.0  -3.0   0.0   0.0\n",
       " 0.0   0.0  -2.0  -2.0\n",
       " 0.0   0.0  -2.0  -1.0"
      ]
     },
     "execution_count": 5,
     "metadata": {},
     "output_type": "execute_result"
    }
   ],
   "source": [
    "L2 = diagm(0=>ones(4))\n",
    "L2[3:4,2] = [0,-3]\n",
    "A3 = L2*A2*L2'"
   ]
  },
  {
   "cell_type": "markdown",
   "metadata": {},
   "source": [
    "Finally, we arrive at a diagonal matrix."
   ]
  },
  {
   "cell_type": "code",
   "execution_count": 6,
   "metadata": {},
   "outputs": [
    {
     "data": {
      "text/plain": [
       "4×4 Array{Float64,2}:\n",
       " 2.0   0.0   0.0  0.0\n",
       " 0.0  -3.0   0.0  0.0\n",
       " 0.0   0.0  -2.0  0.0\n",
       " 0.0   0.0   0.0  1.0"
      ]
     },
     "execution_count": 6,
     "metadata": {},
     "output_type": "execute_result"
    }
   ],
   "source": [
    "L3 = diagm(0=>ones(4))\n",
    "L3[4,3] = -1\n",
    "D = L3*A3*L3'"
   ]
  }
 ],
 "metadata": {
  "kernelspec": {
   "display_name": "Julia 1.1.0",
   "language": "julia",
   "name": "julia-1.1"
  },
  "language_info": {
   "file_extension": ".jl",
   "mimetype": "application/julia",
   "name": "julia",
   "version": "1.1.0"
  },
  "latex_envs": {
   "LaTeX_envs_menu_present": true,
   "autoclose": false,
   "autocomplete": true,
   "bibliofile": "biblio.bib",
   "cite_by": "apalike",
   "current_citInitial": 1,
   "eqLabelWithNumbers": true,
   "eqNumInitial": 1,
   "hotkeys": {
    "equation": "Ctrl-E",
    "itemize": "Ctrl-I"
   },
   "labels_anchors": false,
   "latex_user_defs": false,
   "report_style_numbering": true,
   "user_envs_cfg": false
  },
  "toc": {
   "base_numbering": 1,
   "nav_menu": {},
   "number_sections": true,
   "sideBar": true,
   "skip_h1_title": false,
   "title_cell": "Table of Contents",
   "title_sidebar": "Contents",
   "toc_cell": false,
   "toc_position": {},
   "toc_section_display": true,
   "toc_window_display": false
  }
 },
 "nbformat": 4,
 "nbformat_minor": 2
}
