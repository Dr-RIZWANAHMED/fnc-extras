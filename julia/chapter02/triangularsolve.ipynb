{
 "cells": [
  {
   "cell_type": "markdown",
   "metadata": {},
   "source": [
    "It's easy to get just the lower triangular part of any matrix using the `tril` command."
   ]
  },
  {
   "cell_type": "code",
   "execution_count": 1,
   "metadata": {},
   "outputs": [
    {
     "data": {
      "text/plain": [
       "5×5 Array{Float64,2}:\n",
       " 6.0  0.0  0.0  0.0  0.0\n",
       " 1.0  4.0  0.0  0.0  0.0\n",
       " 5.0  1.0  4.0  0.0  0.0\n",
       " 8.0  1.0  2.0  9.0  0.0\n",
       " 2.0  5.0  5.0  1.0  6.0"
      ]
     },
     "execution_count": 1,
     "metadata": {},
     "output_type": "execute_result"
    }
   ],
   "source": [
    "A = rand(1.:9.,5,5)\n",
    "using LinearAlgebra\n",
    "L = tril(A)"
   ]
  },
  {
   "cell_type": "markdown",
   "metadata": {},
   "source": [
    "We'll set up and solve a linear system with this matrix."
   ]
  },
  {
   "cell_type": "code",
   "execution_count": 2,
   "metadata": {},
   "outputs": [
    {
     "data": {
      "text/plain": [
       "5-element Array{Float64,1}:\n",
       "  0.16666666666666666 \n",
       "  0.20833333333333334 \n",
       " -0.01041666666666663 \n",
       " -0.057870370370370364\n",
       " -0.04417438271604942 "
      ]
     },
     "execution_count": 2,
     "metadata": {},
     "output_type": "execute_result"
    }
   ],
   "source": [
    "b = ones(5)\n",
    "include(\"../FNC.jl\")\n",
    "x = FNC.forwardsub(L,b)"
   ]
  },
  {
   "cell_type": "markdown",
   "metadata": {},
   "source": [
    "It's not clear what the error in this answer is. However, the residual, while not zero, is comparable to $\\varepsilon_\\text{mach}$ in size."
   ]
  },
  {
   "cell_type": "code",
   "execution_count": 3,
   "metadata": {},
   "outputs": [
    {
     "data": {
      "text/plain": [
       "5-element Array{Float64,1}:\n",
       " 0.0\n",
       " 0.0\n",
       " 0.0\n",
       " 0.0\n",
       " 0.0"
      ]
     },
     "execution_count": 3,
     "metadata": {},
     "output_type": "execute_result"
    }
   ],
   "source": [
    "b - L*x"
   ]
  },
  {
   "cell_type": "markdown",
   "metadata": {},
   "source": [
    "Next we'll engineer a problem to which we know the exact answer. "
   ]
  },
  {
   "cell_type": "code",
   "execution_count": 4,
   "metadata": {},
   "outputs": [
    {
     "data": {
      "text/plain": [
       "5×5 Array{Float64,2}:\n",
       " 1.0  -1.0   0.0  -1.9   2.2\n",
       " 0.0   1.0  -1.0   0.0   0.0\n",
       " 0.0   0.0   1.0  -1.0   0.0\n",
       " 0.0   0.0   0.0   1.0  -1.0\n",
       " 0.0   0.0   0.0   0.0   1.0"
      ]
     },
     "execution_count": 4,
     "metadata": {},
     "output_type": "execute_result"
    }
   ],
   "source": [
    "alpha = 0.3;\n",
    "beta = 2.2;\n",
    "U = diagm(0=>ones(5),1=>[-1,-1,-1,-1])\n",
    "U[1,[4,5]] = [ alpha-beta, beta ]\n",
    "U"
   ]
  },
  {
   "cell_type": "code",
   "execution_count": 5,
   "metadata": {},
   "outputs": [
    {
     "data": {
      "text/plain": [
       "5-element Array{Float64,1}:\n",
       " 2.220446049250313e-16\n",
       " 0.0                  \n",
       " 0.0                  \n",
       " 0.0                  \n",
       " 0.0                  "
      ]
     },
     "execution_count": 5,
     "metadata": {},
     "output_type": "execute_result"
    }
   ],
   "source": [
    "x_exact = ones(5)\n",
    "b = [alpha,0,0,0,1]\n",
    "\n",
    "x = FNC.backsub(U,b)\n",
    "err = x - x_exact"
   ]
  },
  {
   "cell_type": "markdown",
   "metadata": {},
   "source": [
    "Everything seems OK here. But another example, with a different value for $\\beta$, is more troubling."
   ]
  },
  {
   "cell_type": "code",
   "execution_count": 6,
   "metadata": {},
   "outputs": [
    {
     "data": {
      "text/plain": [
       "5-element Array{Float64,1}:\n",
       " -4.882812499995559e-5\n",
       "  0.0                 \n",
       "  0.0                 \n",
       "  0.0                 \n",
       "  0.0                 "
      ]
     },
     "execution_count": 6,
     "metadata": {},
     "output_type": "execute_result"
    }
   ],
   "source": [
    "alpha = 0.3;\n",
    "beta = 1e12;\n",
    "U = diagm(0=>ones(5),1=>[-1,-1,-1,-1])\n",
    "U[1,[4,5]] = [ alpha-beta, beta ]\n",
    "b = [alpha,0,0,0,1]\n",
    "\n",
    "x = FNC.backsub(U,b)\n",
    "err = x - x_exact"
   ]
  },
  {
   "cell_type": "markdown",
   "metadata": {},
   "source": [
    "It's not so good to get four digits of accuracy after starting with sixteen! But the source of the error is not hard to track down. Solving for $x_1$ performs $(\\alpha-\\beta)+\\beta$ in the first row. Since $|\\alpha|$ is so much smaller than $|\\beta|$, this a recipe for losing digits to subtractive cancellation."
   ]
  }
 ],
 "metadata": {
  "kernelspec": {
   "display_name": "Julia 1.1.0",
   "language": "julia",
   "name": "julia-1.1"
  },
  "language_info": {
   "file_extension": ".jl",
   "mimetype": "application/julia",
   "name": "julia",
   "version": "1.1.0"
  },
  "latex_envs": {
   "LaTeX_envs_menu_present": true,
   "autoclose": false,
   "autocomplete": true,
   "bibliofile": "biblio.bib",
   "cite_by": "apalike",
   "current_citInitial": 1,
   "eqLabelWithNumbers": true,
   "eqNumInitial": 1,
   "hotkeys": {
    "equation": "Ctrl-E",
    "itemize": "Ctrl-I"
   },
   "labels_anchors": false,
   "latex_user_defs": false,
   "report_style_numbering": true,
   "user_envs_cfg": false
  },
  "toc": {
   "base_numbering": 1,
   "nav_menu": {},
   "number_sections": true,
   "sideBar": true,
   "skip_h1_title": false,
   "title_cell": "Table of Contents",
   "title_sidebar": "Contents",
   "toc_cell": false,
   "toc_position": {},
   "toc_section_display": true,
   "toc_window_display": false
  }
 },
 "nbformat": 4,
 "nbformat_minor": 2
}
