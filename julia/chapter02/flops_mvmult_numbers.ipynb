{
 "cells": [
  {
   "cell_type": "code",
   "execution_count": 1,
   "metadata": {},
   "outputs": [],
   "source": [
    "using DataFrames  # for tabular results"
   ]
  },
  {
   "cell_type": "code",
   "execution_count": 2,
   "metadata": {},
   "outputs": [],
   "source": [
    "n = 6\n",
    "A = randn(n,n)\n",
    "x = ones(n)\n",
    "y = zeros(n)\n",
    "for i = 1:n\n",
    "    for j = 1:n\n",
    "        y[i] = y[i] + A[i,j]*x[j]   # 2 flops\n",
    "    end\n",
    "end"
   ]
  },
  {
   "cell_type": "markdown",
   "metadata": {},
   "source": [
    "Each of the loops implies a summation of flops. The total flop count for this algorithm is\n",
    "\\[ \\sum_{i=1}^n \\sum_{j=1}^n 2 = \\sum_{i=1}^n 2n = 2n^2. \\]\n",
    "Since the matrix $A$ has $n^2$ elements, all of which have to be involved in the product, it seems unlikely that we could get a flop count that is smaller than $O(n^2)$."
   ]
  },
  {
   "cell_type": "markdown",
   "metadata": {},
   "source": [
    "Let's run an experiment with the built-in matrix-vector multiplication. We assume that flops dominate the computation time and thus measure elapsed time. "
   ]
  },
  {
   "cell_type": "code",
   "execution_count": 3,
   "metadata": {},
   "outputs": [],
   "source": [
    "n = 400:400:4000\n",
    "t = zeros(size(n))\n",
    "for (i,n) in enumerate(n) \n",
    "    A = randn(n,n)  \n",
    "    x = randn(n)\n",
    "    t[i] = @elapsed for j = 1:10; A*x; end\n",
    "end"
   ]
  },
  {
   "cell_type": "markdown",
   "metadata": {},
   "source": [
    "The reason for doing multiple repetitions at each value of $n$ is to avoid having times so short that the resolution of the timer is a factor."
   ]
  },
  {
   "cell_type": "code",
   "execution_count": 4,
   "metadata": {},
   "outputs": [
    {
     "data": {
      "text/html": [
       "<table class=\"data-frame\"><thead><tr><th></th><th>size</th><th>time</th></tr><tr><th></th><th>Int64</th><th>Float64</th></tr></thead><tbody><p>10 rows × 2 columns</p><tr><th>1</th><td>400</td><td>0.0742199</td></tr><tr><th>2</th><td>800</td><td>0.000480499</td></tr><tr><th>3</th><td>1200</td><td>0.00436695</td></tr><tr><th>4</th><td>1600</td><td>0.00919695</td></tr><tr><th>5</th><td>2000</td><td>0.0160124</td></tr><tr><th>6</th><td>2400</td><td>0.0232093</td></tr><tr><th>7</th><td>2800</td><td>0.0306372</td></tr><tr><th>8</th><td>3200</td><td>0.0404558</td></tr><tr><th>9</th><td>3600</td><td>0.0521126</td></tr><tr><th>10</th><td>4000</td><td>0.0641543</td></tr></tbody></table>"
      ],
      "text/latex": [
       "\\begin{tabular}{r|cc}\n",
       "\t& size & time\\\\\n",
       "\t\\hline\n",
       "\t& Int64 & Float64\\\\\n",
       "\t\\hline\n",
       "\t1 & 400 & 0.0742199 \\\\\n",
       "\t2 & 800 & 0.000480499 \\\\\n",
       "\t3 & 1200 & 0.00436695 \\\\\n",
       "\t4 & 1600 & 0.00919695 \\\\\n",
       "\t5 & 2000 & 0.0160124 \\\\\n",
       "\t6 & 2400 & 0.0232093 \\\\\n",
       "\t7 & 2800 & 0.0306372 \\\\\n",
       "\t8 & 3200 & 0.0404558 \\\\\n",
       "\t9 & 3600 & 0.0521126 \\\\\n",
       "\t10 & 4000 & 0.0641543 \\\\\n",
       "\\end{tabular}\n"
      ],
      "text/plain": [
       "10×2 DataFrame\n",
       "│ Row │ size  │ time        │\n",
       "│     │ \u001b[90mInt64\u001b[39m │ \u001b[90mFloat64\u001b[39m     │\n",
       "├─────┼───────┼─────────────┤\n",
       "│ 1   │ 400   │ 0.0742199   │\n",
       "│ 2   │ 800   │ 0.000480499 │\n",
       "│ 3   │ 1200  │ 0.00436695  │\n",
       "│ 4   │ 1600  │ 0.00919695  │\n",
       "│ 5   │ 2000  │ 0.0160124   │\n",
       "│ 6   │ 2400  │ 0.0232093   │\n",
       "│ 7   │ 2800  │ 0.0306372   │\n",
       "│ 8   │ 3200  │ 0.0404558   │\n",
       "│ 9   │ 3600  │ 0.0521126   │\n",
       "│ 10  │ 4000  │ 0.0641543   │"
      ]
     },
     "execution_count": 4,
     "metadata": {},
     "output_type": "execute_result"
    }
   ],
   "source": [
    "DataFrame(size=n,time=t)"
   ]
  }
 ],
 "metadata": {
  "kernelspec": {
   "display_name": "Julia 1.1.0",
   "language": "julia",
   "name": "julia-1.1"
  },
  "language_info": {
   "file_extension": ".jl",
   "mimetype": "application/julia",
   "name": "julia",
   "version": "1.1.0"
  },
  "latex_envs": {
   "LaTeX_envs_menu_present": true,
   "autoclose": false,
   "autocomplete": true,
   "bibliofile": "biblio.bib",
   "cite_by": "apalike",
   "current_citInitial": 1,
   "eqLabelWithNumbers": true,
   "eqNumInitial": 1,
   "hotkeys": {
    "equation": "Ctrl-E",
    "itemize": "Ctrl-I"
   },
   "labels_anchors": false,
   "latex_user_defs": false,
   "report_style_numbering": true,
   "user_envs_cfg": false
  },
  "toc": {
   "base_numbering": 1,
   "nav_menu": {},
   "number_sections": true,
   "sideBar": true,
   "skip_h1_title": false,
   "title_cell": "Table of Contents",
   "title_sidebar": "Contents",
   "toc_cell": false,
   "toc_position": {},
   "toc_section_display": true,
   "toc_window_display": false
  }
 },
 "nbformat": 4,
 "nbformat_minor": 2
}
