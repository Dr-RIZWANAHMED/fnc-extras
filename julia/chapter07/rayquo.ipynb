{
 "cells": [
  {
   "cell_type": "markdown",
   "metadata": {},
   "source": [
    "We construct a symmetric matrix with a known EVD."
   ]
  },
  {
   "cell_type": "code",
   "execution_count": null,
   "metadata": {},
   "outputs": [],
   "source": [
    "n = 20;\n",
    "lambda = 1:n \n",
    "\n",
    "using LinearAlgebra\n",
    "D = diagm(0=>lambda)\n",
    "V,R = qr(randn(n,n))   # get a random orthogonal V\n",
    "A = V*D*V';"
   ]
  },
  {
   "cell_type": "markdown",
   "metadata": {},
   "source": [
    "The Rayleigh quotient of an eigenvector is its eigenvalue."
   ]
  },
  {
   "cell_type": "code",
   "execution_count": null,
   "metadata": {},
   "outputs": [],
   "source": [
    "R = x -> (x'*A*x)/(x'*x);\n",
    "R(V[:,7])"
   ]
  },
  {
   "cell_type": "markdown",
   "metadata": {},
   "source": [
    "The Rayleigh quotient's value is much closer to an eigenvalue than its input is to an eigenvector. In this experiment, each additional digit of accuracy in the eigenvector estimate gives two more digits to the eigenvalue estimate."
   ]
  },
  {
   "cell_type": "code",
   "execution_count": null,
   "metadata": {},
   "outputs": [],
   "source": [
    "delta = @. 1 ./10^(1:4)\n",
    "quotient = zeros(size(delta))\n",
    "for (k,delta) = enumerate(delta)\n",
    "    e = randn(n);  e = delta*e/norm(e);\n",
    "    x = V[:,7] + e\n",
    "    quotient[k] = R(x)\n",
    "end\n",
    "\n",
    "using DataFrames\n",
    "DataFrame(perturbation=delta,RQminus7=quotient.-7)"
   ]
  }
 ],
 "metadata": {
  "kernelspec": {
   "display_name": "Julia 1.0.3",
   "language": "julia",
   "name": "julia-1.0"
  },
  "language_info": {
   "file_extension": ".jl",
   "mimetype": "application/julia",
   "name": "julia",
   "version": "1.0.3"
  }
 },
 "nbformat": 4,
 "nbformat_minor": 2
}
