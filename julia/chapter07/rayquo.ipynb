{
 "cells": [
  {
   "cell_type": "markdown",
   "metadata": {},
   "source": [
    "We construct a symmetric matrix with a known EVD."
   ]
  },
  {
   "cell_type": "code",
   "execution_count": 1,
   "metadata": {},
   "outputs": [],
   "source": [
    "n = 20;\n",
    "lambda = 1:n \n",
    "\n",
    "using LinearAlgebra\n",
    "D = diagm(0=>lambda)\n",
    "V,R = qr(randn(n,n))   # get a random orthogonal V\n",
    "A = V*D*V';"
   ]
  },
  {
   "cell_type": "markdown",
   "metadata": {},
   "source": [
    "The Rayleigh quotient of an eigenvector is its eigenvalue."
   ]
  },
  {
   "cell_type": "code",
   "execution_count": 2,
   "metadata": {},
   "outputs": [
    {
     "data": {
      "text/plain": [
       "7.0"
      ]
     },
     "execution_count": 2,
     "metadata": {},
     "output_type": "execute_result"
    }
   ],
   "source": [
    "R = x -> (x'*A*x)/(x'*x);\n",
    "R(V[:,7])"
   ]
  },
  {
   "cell_type": "markdown",
   "metadata": {},
   "source": [
    "The Rayleigh quotient's value is much closer to an eigenvalue than its input is to an eigenvector. In this experiment, each additional digit of accuracy in the eigenvector estimate gives two more digits to the eigenvalue estimate."
   ]
  },
  {
   "cell_type": "code",
   "execution_count": 3,
   "metadata": {},
   "outputs": [
    {
     "data": {
      "text/html": [
       "<table class=\"data-frame\"><thead><tr><th></th><th>perturbation</th><th>RQminus7</th></tr><tr><th></th><th>Float64</th><th>Float64</th></tr></thead><tbody><p>4 rows × 2 columns</p><tr><th>1</th><td>0.1</td><td>0.0356746</td></tr><tr><th>2</th><td>0.01</td><td>0.000376773</td></tr><tr><th>3</th><td>0.001</td><td>4.24798e-6</td></tr><tr><th>4</th><td>0.0001</td><td>3.33646e-8</td></tr></tbody></table>"
      ],
      "text/latex": [
       "\\begin{tabular}{r|cc}\n",
       "\t& perturbation & RQminus7\\\\\n",
       "\t\\hline\n",
       "\t1 & 0.1 & 0.0356746 \\\\\n",
       "\t2 & 0.01 & 0.000376773 \\\\\n",
       "\t3 & 0.001 & 4.24798e-6 \\\\\n",
       "\t4 & 0.0001 & 3.33646e-8 \\\\\n",
       "\\end{tabular}\n"
      ],
      "text/plain": [
       "4×2 DataFrame\n",
       "│ Row │ perturbation │ RQminus7    │\n",
       "│     │ \u001b[90mFloat64\u001b[39m      │ \u001b[90mFloat64\u001b[39m     │\n",
       "├─────┼──────────────┼─────────────┤\n",
       "│ 1   │ 0.1          │ 0.0356746   │\n",
       "│ 2   │ 0.01         │ 0.000376773 │\n",
       "│ 3   │ 0.001        │ 4.24798e-6  │\n",
       "│ 4   │ 0.0001       │ 3.33646e-8  │"
      ]
     },
     "execution_count": 3,
     "metadata": {},
     "output_type": "execute_result"
    }
   ],
   "source": [
    "delta = @. 1 ./10^(1:4)\n",
    "quotient = zeros(size(delta))\n",
    "for (k,delta) = enumerate(delta)\n",
    "    e = randn(n);  e = delta*e/norm(e);\n",
    "    x = V[:,7] + e\n",
    "    quotient[k] = R(x)\n",
    "end\n",
    "\n",
    "using DataFrames\n",
    "DataFrame(perturbation=delta,RQminus7=quotient.-7)"
   ]
  }
 ],
 "metadata": {
  "kernelspec": {
   "display_name": "Julia 1.1.0",
   "language": "julia",
   "name": "julia-1.1"
  },
  "language_info": {
   "file_extension": ".jl",
   "mimetype": "application/julia",
   "name": "julia",
   "version": "1.1.0"
  }
 },
 "nbformat": 4,
 "nbformat_minor": 2
}
