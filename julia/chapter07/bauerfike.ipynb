{
 "cells": [
  {
   "cell_type": "markdown",
   "metadata": {},
   "source": [
    "We will confirm the Bauer-Fike theorem on a triangular matrix. These tend to be far from normal. "
   ]
  },
  {
   "cell_type": "code",
   "execution_count": 1,
   "metadata": {},
   "outputs": [
    {
     "data": {
      "text/plain": [
       "5×5 Array{Float64,2}:\n",
       " 1.0  2.0  3.0  4.0  5.0\n",
       " 0.0  2.0  3.0  4.0  5.0\n",
       " 0.0  0.0  3.0  4.0  5.0\n",
       " 0.0  0.0  0.0  4.0  5.0\n",
       " 0.0  0.0  0.0  0.0  5.0"
      ]
     },
     "execution_count": 1,
     "metadata": {},
     "output_type": "execute_result"
    }
   ],
   "source": [
    "using LinearAlgebra\n",
    "\n",
    "n = 15;\n",
    "lambda = 1:n\n",
    "A = triu( ones(n)*lambda' );\n",
    "A[1:5,1:5]"
   ]
  },
  {
   "cell_type": "markdown",
   "metadata": {},
   "source": [
    "The Bauer-Fike theorem provides an upper bound on the condition number of these eigenvalues."
   ]
  },
  {
   "cell_type": "code",
   "execution_count": 2,
   "metadata": {},
   "outputs": [
    {
     "name": "stdout",
     "output_type": "stream",
     "text": [
      "cond(V) = 7.197767264538044e7\n"
     ]
    }
   ],
   "source": [
    "lambda,V = eigen(A)\n",
    "@show cond(V);"
   ]
  },
  {
   "cell_type": "markdown",
   "metadata": {},
   "source": [
    "The theorem suggests that eigenvalue changes may be up to 7 orders of magnitude larger than a perturbation to the matrix. A few random experiments show that effects of nearly that size are not hard to observe."
   ]
  },
  {
   "cell_type": "code",
   "execution_count": 3,
   "metadata": {},
   "outputs": [
    {
     "name": "stdout",
     "output_type": "stream",
     "text": [
      "max_change = norm(sort(mu) - lambda, Inf) = 0.1421662942847206\n",
      "max_change = norm(sort(mu) - lambda, Inf) = 0.2808040432236023\n",
      "max_change = norm(sort(mu) - lambda, Inf) = 0.32974347959629036\n"
     ]
    }
   ],
   "source": [
    "for k = 1:3\n",
    "    E = randn(n,n);  E = 1e-7*E/opnorm(E);\n",
    "    mu = eigvals(A+E)\n",
    "    @show max_change = norm( sort(mu)-lambda, Inf )\n",
    "end"
   ]
  }
 ],
 "metadata": {
  "kernelspec": {
   "display_name": "Julia 1.1.0",
   "language": "julia",
   "name": "julia-1.1"
  },
  "language_info": {
   "file_extension": ".jl",
   "mimetype": "application/julia",
   "name": "julia",
   "version": "1.1.0"
  }
 },
 "nbformat": 4,
 "nbformat_minor": 2
}
