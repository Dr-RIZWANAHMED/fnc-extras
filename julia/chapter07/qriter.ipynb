{
 "cells": [
  {
   "cell_type": "markdown",
   "metadata": {},
   "source": [
    "Let's start with a known set of eigenvalues and an orthogonal eigenvector basis."
   ]
  },
  {
   "cell_type": "code",
   "execution_count": 1,
   "metadata": {},
   "outputs": [],
   "source": [
    "using LinearAlgebra \n",
    "D = diagm(0=>[-6,-1,2,4,5])\n",
    "V,R = qr(randn(5,5))\n",
    "A = V*D*V';    # note that V' = inv(V)"
   ]
  },
  {
   "cell_type": "markdown",
   "metadata": {},
   "source": [
    "Now we will take the QR factorization and just reverse the factors."
   ]
  },
  {
   "cell_type": "code",
   "execution_count": 2,
   "metadata": {},
   "outputs": [],
   "source": [
    "Q,R = qr(A)\n",
    "A = R*Q;"
   ]
  },
  {
   "cell_type": "markdown",
   "metadata": {},
   "source": [
    "It turns out that this is a similarity transformation, so the eigenvalues are unchanged."
   ]
  },
  {
   "cell_type": "code",
   "execution_count": 3,
   "metadata": {},
   "outputs": [
    {
     "data": {
      "text/plain": [
       "5-element Array{Float64,1}:\n",
       " -5.999999999999986 \n",
       " -1.0000000000000002\n",
       "  1.9999999999999987\n",
       "  3.9999999999999996\n",
       "  4.999999999999999 "
      ]
     },
     "execution_count": 3,
     "metadata": {},
     "output_type": "execute_result"
    }
   ],
   "source": [
    "sort( eigvals(A) )"
   ]
  },
  {
   "cell_type": "markdown",
   "metadata": {},
   "source": [
    "What's remarkable is that if we repeat the transformation many times, the process converges to $D$. "
   ]
  },
  {
   "cell_type": "code",
   "execution_count": 4,
   "metadata": {},
   "outputs": [
    {
     "data": {
      "text/plain": [
       "5×5 Array{Float64,2}:\n",
       " -6.0          -0.00729138    2.09525e-7   -3.36364e-16   1.72014e-15\n",
       " -0.00729138    5.0           0.000153046  -5.89798e-16  -1.35807e-16\n",
       "  2.09525e-7    0.000153046   4.0          -8.91133e-13   2.75295e-15\n",
       " -5.3622e-19    3.12272e-16  -8.91956e-13   2.0          -2.57929e-12\n",
       " -5.50453e-31   4.8041e-28   -2.23699e-24  -2.58041e-12  -1.0        "
      ]
     },
     "execution_count": 4,
     "metadata": {},
     "output_type": "execute_result"
    }
   ],
   "source": [
    "for k = 1:40\n",
    "    Q,R = qr(A)\n",
    "    A = R*Q\n",
    "end\n",
    "A"
   ]
  }
 ],
 "metadata": {
  "kernelspec": {
   "display_name": "Julia 1.1.0",
   "language": "julia",
   "name": "julia-1.1"
  },
  "language_info": {
   "file_extension": ".jl",
   "mimetype": "application/julia",
   "name": "julia",
   "version": "1.1.0"
  }
 },
 "nbformat": 4,
 "nbformat_minor": 2
}
