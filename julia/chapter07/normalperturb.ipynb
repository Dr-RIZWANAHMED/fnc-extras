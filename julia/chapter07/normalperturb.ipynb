{
 "cells": [
  {
   "cell_type": "markdown",
   "metadata": {},
   "source": [
    "We construct a real symmetric matrix with known eigenvalues by using the QR factorization to produce a random orthogonal set of eigenvectors. "
   ]
  },
  {
   "cell_type": "code",
   "execution_count": 1,
   "metadata": {},
   "outputs": [],
   "source": [
    "n = 30;\n",
    "lambda = 1:n \n",
    "\n",
    "using LinearAlgebra\n",
    "D = diagm(0=>lambda)\n",
    "V,R = qr(randn(n,n))   # get a random orthogonal V\n",
    "A = V*D*V';"
   ]
  },
  {
   "cell_type": "markdown",
   "metadata": {},
   "source": [
    "The condition number of these eigenvalues is one. Thus the effect on them is bounded by the norm of the perturbation to $A$. "
   ]
  },
  {
   "cell_type": "code",
   "execution_count": 2,
   "metadata": {},
   "outputs": [
    {
     "name": "stdout",
     "output_type": "stream",
     "text": [
      "max_change = norm(mu - lambda, Inf) = 2.2141306246226122e-5\n",
      "max_change = norm(mu - lambda, Inf) = 2.087391719385323e-5\n",
      "max_change = norm(mu - lambda, Inf) = 1.8731953044692773e-5\n"
     ]
    }
   ],
   "source": [
    "for k = 1:3\n",
    "    E = randn(n,n); E = 1e-4*E/opnorm(E);\n",
    "    mu = sort(eigvals(A+E))\n",
    "    @show max_change = norm(mu-lambda,Inf)\n",
    "end"
   ]
  }
 ],
 "metadata": {
  "kernelspec": {
   "display_name": "Julia 1.1.0",
   "language": "julia",
   "name": "julia-1.1"
  },
  "language_info": {
   "file_extension": ".jl",
   "mimetype": "application/julia",
   "name": "julia",
   "version": "1.1.0"
  }
 },
 "nbformat": 4,
 "nbformat_minor": 2
}
