{
 "cells": [
  {
   "cell_type": "markdown",
   "metadata": {},
   "source": [
    "We make an image from some text, then reload it as a matrix."
   ]
  },
  {
   "cell_type": "code",
   "execution_count": null,
   "metadata": {},
   "outputs": [],
   "source": [
    "using Plots\n",
    "plot([],[],leg=:none,annotations=(0.5,0.5,text(\"Hello world\",44,:center,:middle)),\n",
    "    grid=:none,frame=:none)"
   ]
  },
  {
   "cell_type": "code",
   "execution_count": null,
   "metadata": {},
   "outputs": [],
   "source": [
    "savefig(\"hello.png\")\n",
    "\n",
    "using Images\n",
    "img = load(\"hello.png\")\n",
    "A = @. double(Gray(img));\n",
    "@show m,n = size(A)"
   ]
  },
  {
   "cell_type": "markdown",
   "metadata": {},
   "source": [
    "Next we show that the singular values decrease exponentially, until they reach zero (more precisely, are about $\\sigma_1 \\macheps$). For all numerical purposes, this determines the rank of the matrix."
   ]
  },
  {
   "cell_type": "code",
   "execution_count": null,
   "metadata": {},
   "outputs": [],
   "source": [
    "using LinearAlgebra\n",
    "U,sigma,V = svd(A)\n",
    "\n",
    "plot(sigma,m=(:o,3),l=nothing,\n",
    "    title=\"Singular values\",xaxis=(\"\\$i\\$\"), yaxis=(:log10,\"\\$\\\\sigma_i\\$\"),leg=:none )"
   ]
  },
  {
   "cell_type": "code",
   "execution_count": null,
   "metadata": {},
   "outputs": [],
   "source": [
    "r = findlast(@.sigma/sigma[1] > 10*eps())"
   ]
  },
  {
   "cell_type": "markdown",
   "metadata": {},
   "source": [
    "The rapid decrease suggests that we can get fairly good low-rank approximations. "
   ]
  },
  {
   "cell_type": "code",
   "execution_count": null,
   "metadata": {},
   "outputs": [],
   "source": [
    "Ak = [ U[:,1:k]*diagm(0=>sigma[1:k])*V[:,1:k]' for k=2*(1:4) ]\n",
    "reshape( [ @.Gray(Ak[i]) for i=1:4 ],2,2)"
   ]
  },
  {
   "cell_type": "markdown",
   "metadata": {},
   "source": [
    "Consider how little data is needed to reconstruct these images. For rank 8, for instance, we have 8 left and right singular vectors plus 8 singular values, for a compression ratio of better than 25:1.  "
   ]
  },
  {
   "cell_type": "code",
   "execution_count": null,
   "metadata": {},
   "outputs": [],
   "source": [
    "compression = 8*(m+n+1) / (m*n)"
   ]
  }
 ],
 "metadata": {
  "kernelspec": {
   "display_name": "Julia 1.0.3",
   "language": "julia",
   "name": "julia-1.0"
  },
  "language_info": {
   "file_extension": ".jl",
   "mimetype": "application/julia",
   "name": "julia",
   "version": "1.0.3"
  }
 },
 "nbformat": 4,
 "nbformat_minor": 2
}
