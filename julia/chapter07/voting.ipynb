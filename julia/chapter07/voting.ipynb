{
 "cells": [
  {
   "cell_type": "markdown",
   "metadata": {},
   "source": [
    "This matrix describes the votes on bills in the 111th session of the United States Senate. (The data set was obtained from |voteview.com|.) Each row is one senator and each column is a vote item."
   ]
  },
  {
   "cell_type": "code",
   "execution_count": null,
   "metadata": {},
   "outputs": [],
   "source": [
    "using MAT\n",
    "vars = matread(\"voting.mat\")\n",
    "A = vars[\"A\"]\n",
    "m,n = size(A)"
   ]
  },
  {
   "cell_type": "markdown",
   "metadata": {},
   "source": [
    "If we visualize the votes (white is \"yea,\" black is \"nay,\" and gray is anything else), we can see great similarity between many rows, reflecting party unity."
   ]
  },
  {
   "cell_type": "code",
   "execution_count": null,
   "metadata": {},
   "outputs": [],
   "source": [
    "using Plots\n",
    "heatmap(A,color=:viridis,\n",
    "    title=\"Votes in 111th U.S. Senate\",xlabel=\"bill\",ylabel=\"senator\")"
   ]
  },
  {
   "cell_type": "markdown",
   "metadata": {},
   "source": [
    "We use singular value \"energy\" to quantify the decay rate of the values. "
   ]
  },
  {
   "cell_type": "code",
   "execution_count": null,
   "metadata": {},
   "outputs": [],
   "source": [
    "using LinearAlgebra\n",
    "U,sigma,V = svd(A)\n",
    "tau = cumsum(sigma.^2) / sum(sigma.^2)\n",
    "\n",
    "plot(tau[1:16],m=:o,l=nothing,label=\"\",\n",
    "    xaxis=(\"k\"), yaxis=(\"\\$\\\\tau_k\\$\"), title=\"Fraction of singular value energy\")"
   ]
  },
  {
   "cell_type": "markdown",
   "metadata": {},
   "source": [
    "The first and second singular triples contain about 58% and 17% respectively of the energy of the matrix. All others have far less effect, suggesting that the information is primarily two-dimensional. The first left and right singular vectors also contain interesting structure."
   ]
  },
  {
   "cell_type": "code",
   "execution_count": null,
   "metadata": {},
   "outputs": [],
   "source": [
    "plot( U[:,1], m=(3,:o),l=nothing,label=\"\",layout=(1,2),\n",
    "    xlabel=\"senator\" ,title=\"left singular vector\")\n",
    "plot!( V[:,1], m=(3,:o),l=nothing,label=\"\",subplot=2,\n",
    "    xlabel=\"bill\",title=\"right singular vector\")"
   ]
  },
  {
   "cell_type": "markdown",
   "metadata": {},
   "source": [
    "Both vectors have values greatly clustered near $\\pm C$  for a constant $C$. These can be roughly interpreted as how partisan a particular senator or bill was, and for which political party.   Projecting the senators' vectors into the first two $\\V$-coordinates gives a particularly nice way to reduce them to two dimensions. Political scientists label these dimensions \"partisanship\" and \"bipartisanship.\" Here we color them by actual party affiliation (also given in the data file): red for Republican, blue for Democrat, and black for independent. "
   ]
  },
  {
   "cell_type": "code",
   "execution_count": null,
   "metadata": {},
   "outputs": [],
   "source": [
    "x1 = A*V[:,1];   x2 = A*V[:,2];\n",
    "\n",
    "Rep = Int.(vars[\"Rep\"])[:]; Dem = Int.(vars[\"Dem\"])[:];  Ind = Int.(vars[\"Ind\"]);\n",
    "scatter(x1[Dem],x2[Dem],color=:blue,label=\"D\",\n",
    "    xaxis=(\"partisanship\"),yaxis=(\"bipartisanship\"),title=\"111th US Senate in 2D\" )\n",
    "scatter!(x1[Rep],x2[Rep],color=:red,label=\"R\")\n",
    "scatter!(x1[[Ind]],x2[[Ind]],color=:black,label=\"I\")"
   ]
  }
 ],
 "metadata": {
  "kernelspec": {
   "display_name": "Julia 1.0.3",
   "language": "julia",
   "name": "julia-1.0"
  },
  "language_info": {
   "file_extension": ".jl",
   "mimetype": "application/julia",
   "name": "julia",
   "version": "1.0.3"
  }
 },
 "nbformat": 4,
 "nbformat_minor": 2
}
