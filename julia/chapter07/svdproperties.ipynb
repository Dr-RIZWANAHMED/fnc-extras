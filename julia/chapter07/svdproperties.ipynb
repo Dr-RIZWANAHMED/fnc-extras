{
 "cells": [
  {
   "cell_type": "markdown",
   "metadata": {},
   "source": [
    "We verify some of the fundamental SVD properties using the built-in Julia command `svd`."
   ]
  },
  {
   "cell_type": "code",
   "execution_count": 1,
   "metadata": {},
   "outputs": [
    {
     "data": {
      "text/plain": [
       "5×4 Array{Int64,2}:\n",
       " 1  1   1    1\n",
       " 1  2   4    8\n",
       " 1  3   9   27\n",
       " 1  4  16   64\n",
       " 1  5  25  125"
      ]
     },
     "execution_count": 1,
     "metadata": {},
     "output_type": "execute_result"
    }
   ],
   "source": [
    "A = [i^j for i=1:5, j=0:3]"
   ]
  },
  {
   "cell_type": "code",
   "execution_count": 2,
   "metadata": {},
   "outputs": [],
   "source": [
    "using LinearAlgebra\n",
    "U,sigma,V = svd(A);"
   ]
  },
  {
   "cell_type": "markdown",
   "metadata": {},
   "source": [
    "Note that while the \"full\" SVD has a square $U$, the \"thin\" form is the default. Here the columns are orthonormal even though $U$ is not square."
   ]
  },
  {
   "cell_type": "code",
   "execution_count": 3,
   "metadata": {},
   "outputs": [
    {
     "name": "stdout",
     "output_type": "stream",
     "text": [
      "(size(U), opnorm(U' * U - I)) = ((5, 4), 1.3502036581898522e-15)\n"
     ]
    },
    {
     "data": {
      "text/plain": [
       "((5, 4), 1.3502036581898522e-15)"
      ]
     },
     "execution_count": 3,
     "metadata": {},
     "output_type": "execute_result"
    }
   ],
   "source": [
    "@show size(U),opnorm(U'*U - I);"
   ]
  },
  {
   "cell_type": "code",
   "execution_count": 4,
   "metadata": {},
   "outputs": [
    {
     "name": "stdout",
     "output_type": "stream",
     "text": [
      "(size(V), opnorm(V' * V - I)) = ((4, 4), 7.993056481202561e-16)\n"
     ]
    },
    {
     "data": {
      "text/plain": [
       "((4, 4), 7.993056481202561e-16)"
      ]
     },
     "execution_count": 4,
     "metadata": {},
     "output_type": "execute_result"
    }
   ],
   "source": [
    "@show size(V),opnorm(V'*V - I);"
   ]
  },
  {
   "cell_type": "code",
   "execution_count": 5,
   "metadata": {},
   "outputs": [
    {
     "data": {
      "text/plain": [
       "4-element Array{Float64,1}:\n",
       " 146.69715365883005   \n",
       "   5.7385697809536955 \n",
       "   0.9998486640841036 \n",
       "   0.11928082685242103"
      ]
     },
     "execution_count": 5,
     "metadata": {},
     "output_type": "execute_result"
    }
   ],
   "source": [
    "sigma"
   ]
  },
  {
   "cell_type": "code",
   "execution_count": 6,
   "metadata": {},
   "outputs": [
    {
     "name": "stdout",
     "output_type": "stream",
     "text": [
      "(opnorm(A), sigma[1]) = (146.69715365883005, 146.69715365883005)\n"
     ]
    },
    {
     "data": {
      "text/plain": [
       "(146.69715365883005, 146.69715365883005)"
      ]
     },
     "execution_count": 6,
     "metadata": {},
     "output_type": "execute_result"
    }
   ],
   "source": [
    "@show opnorm(A),sigma[1];"
   ]
  },
  {
   "cell_type": "code",
   "execution_count": 7,
   "metadata": {},
   "outputs": [
    {
     "name": "stdout",
     "output_type": "stream",
     "text": [
      "(cond(A), sigma[1] / sigma[end]) = (1229.8468876337488, 1229.8468876337483)\n"
     ]
    },
    {
     "data": {
      "text/plain": [
       "(1229.8468876337488, 1229.8468876337483)"
      ]
     },
     "execution_count": 7,
     "metadata": {},
     "output_type": "execute_result"
    }
   ],
   "source": [
    "@show cond(A), sigma[1]/sigma[end];"
   ]
  }
 ],
 "metadata": {
  "kernelspec": {
   "display_name": "Julia 1.1.0",
   "language": "julia",
   "name": "julia-1.1"
  },
  "language_info": {
   "file_extension": ".jl",
   "mimetype": "application/julia",
   "name": "julia",
   "version": "1.1.0"
  }
 },
 "nbformat": 4,
 "nbformat_minor": 2
}
