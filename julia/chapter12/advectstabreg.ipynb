{
 "cells": [
  {
   "cell_type": "markdown",
   "metadata": {},
   "source": [
    "For $c=1$ we get the eigenvalues:"
   ]
  },
  {
   "cell_type": "code",
   "execution_count": null,
   "metadata": {},
   "outputs": [],
   "source": [
    "include(\"../FNC.jl\")\n",
    "x,Dx = FNC.diffper(40,[0,1])\n",
    "\n",
    "using LinearAlgebra\n",
    "lambda = eigvals(Dx);\n",
    "\n",
    "using Plots\n",
    "scatter(real(lambda),imag(lambda),xlim=[-40,40],ylim=[-40,40],\n",
    "    title=\"Eigenvalues for pure advection\",leg=:none)     "
   ]
  },
  {
   "cell_type": "markdown",
   "metadata": {},
   "source": [
    "Let's choose a time step of $\\tau=0.1$ and compare to the stability regions of the Euler and backward Euler time steppers."
   ]
  },
  {
   "cell_type": "code",
   "execution_count": null,
   "metadata": {},
   "outputs": [],
   "source": [
    "zc = @.exp(1im*2pi*(0:360)/360);    # points on |z|=1\n",
    "\n",
    "z = zc .- 1;                        # shift left by 1\n",
    "plot(Shape(real(z),imag(z)),color=RGB(.8,.8,1),layout=(1,2),subplot=1)\n",
    "scatter!(real(0.1*lambda),imag(0.1*lambda),m=3,subplot=1,\n",
    "    xlim=[-5,5],ylim=[-5,5],aspect_ratio=1,title=\"Euler\",leg=:none)\n",
    "\n",
    "z = zc .+ 1;                        # shift right by 1\n",
    "plot!(Shape([-6,6,6,-6],[-6,-6,6,6]),color=RGB(.8,.8,1),subplot=2)\n",
    "plot!(Shape(real(z),imag(z)),color=:white,subplot=2)\n",
    "scatter!(real(0.1*lambda),imag(0.1*lambda),m=3,subplot=2,\n",
    "    xlim=[-5,5],ylim=[-5,5],aspect_ratio=1,title=\"Backward Euler\",leg=:none)"
   ]
  },
  {
   "cell_type": "markdown",
   "metadata": {},
   "source": [
    "In the Euler case it's clear that *no* real value of $\\tau>0$ is going to make all (or even any) of the $\\tau\\lambda_j$ fit within the stability region. Hence Euler will never produce bounded solutions to this discretization of the advection equation. The A-stable backward Euler time stepping tells the exact opposite story; it will be absolutely stable regardless of $\\tau$."
   ]
  }
 ],
 "metadata": {
  "kernelspec": {
   "display_name": "Julia 1.0.3",
   "language": "julia",
   "name": "julia-1.0"
  },
  "language_info": {
   "file_extension": ".jl",
   "mimetype": "application/julia",
   "name": "julia",
   "version": "1.0.3"
  }
 },
 "nbformat": 4,
 "nbformat_minor": 2
}
