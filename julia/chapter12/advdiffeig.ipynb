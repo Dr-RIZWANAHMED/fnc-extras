{
 "cells": [
  {
   "cell_type": "markdown",
   "metadata": {},
   "source": [
    "The eigenvalues of advection--diffusion are near-imaginary for $\\epsilon\\approx 0$ and more negative-real for increasing values of $\\epsilon$."
   ]
  },
  {
   "cell_type": "code",
   "execution_count": null,
   "metadata": {},
   "outputs": [],
   "source": [
    "include(\"../FNC.jl\")\n",
    "x,Dx,Dxx = FNC.diffper(40,[0,1]);\n",
    "\n",
    "using LinearAlgebra,Plots\n",
    "tau = 0.1\n",
    "for ep = [0.001 0.01 0.05]\n",
    "  lambda = eigvals(-Dx + ep*Dxx)\n",
    "  scatter!(real(tau*lambda),imag(tau*lambda),m=3,label=\"\\\\epsilon=$ep\")\n",
    "end\n",
    "plot!([],[],label=\"\",title=\"Eigenvalues for advection-diffusion\",leg=:left,aspect_ratio=1)     "
   ]
  }
 ],
 "metadata": {
  "kernelspec": {
   "display_name": "Julia 1.0.3",
   "language": "julia",
   "name": "julia-1.0"
  },
  "language_info": {
   "file_extension": ".jl",
   "mimetype": "application/julia",
   "name": "julia",
   "version": "1.0.3"
  }
 },
 "nbformat": 4,
 "nbformat_minor": 2
}
