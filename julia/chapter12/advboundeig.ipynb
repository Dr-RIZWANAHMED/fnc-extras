{
 "cells": [
  {
   "cell_type": "markdown",
   "metadata": {},
   "source": [
    "Deleting the first row and column places all the eigenvalues of the discretization into the left half of the complex plane. "
   ]
  },
  {
   "cell_type": "code",
   "execution_count": null,
   "metadata": {},
   "outputs": [],
   "source": [
    "include(\"../FNC.jl\")\n",
    "x,Dx,Dxx = FNC.diffcheb(40,[0,1]);\n",
    "A = -Dx[2:end,2:end];    # leave out first row and column\n",
    "\n",
    "using LinearAlgebra,Plots\n",
    "lambda = eigvals(A)\n",
    "scatter(real(lambda),imag(lambda),m=3,\n",
    "    title=\"Eigenvalues of advection with zero inflow\",leg=:none,aspect_ratio=1) "
   ]
  },
  {
   "cell_type": "markdown",
   "metadata": {},
   "source": [
    "Note that the rightmost eigenvalues have real part at most"
   ]
  },
  {
   "cell_type": "code",
   "execution_count": null,
   "metadata": {},
   "outputs": [],
   "source": [
    "maximum( real(lambda) )"
   ]
  },
  {
   "cell_type": "markdown",
   "metadata": {},
   "source": [
    "Consequently all solutions decay exponentially to zero as $t\\to\\infty$. This matches the intuition of a flow with nothing at the inlet: eventually everything flows out of the domain. "
   ]
  }
 ],
 "metadata": {
  "kernelspec": {
   "display_name": "Julia 1.0.3",
   "language": "julia",
   "name": "julia-1.0"
  },
  "language_info": {
   "file_extension": ".jl",
   "mimetype": "application/julia",
   "name": "julia",
   "version": "1.0.3"
  }
 },
 "nbformat": 4,
 "nbformat_minor": 2
}
