{
 "cells": [
  {
   "cell_type": "markdown",
   "metadata": {},
   "source": [
    "We set up advection over $[0,1]$ with velocity $c=-1$. This puts the right-side boundary in the upwind direction."
   ]
  },
  {
   "cell_type": "code",
   "execution_count": null,
   "metadata": {},
   "outputs": [],
   "source": [
    "include(\"../FNC.jl\")\n",
    "n = 100\n",
    "x,Dx = FNC.diffmat2(n,[0 1])\n",
    "uinit = @. exp(-80*(x-0.5)^2);"
   ]
  },
  {
   "cell_type": "markdown",
   "metadata": {},
   "source": [
    "First we try imposing $u=0$ at the right boundary, by appending that value to the end of the vector before multiplying by the differentiation matrix."
   ]
  },
  {
   "cell_type": "code",
   "execution_count": null,
   "metadata": {},
   "outputs": [],
   "source": [
    "chop(u) = u[1:n];  extend(v) = [v;0];\n",
    "ode(v,c,t) = -c*chop(Dx*extend(v));\n",
    "\n",
    "using DifferentialEquations\n",
    "IVP = ODEProblem(ode,uinit[1:n],(0.,1.),-1)\n",
    "sol = solve(IVP,RK4());"
   ]
  },
  {
   "cell_type": "code",
   "execution_count": null,
   "metadata": {},
   "outputs": [],
   "source": [
    "using Plots\n",
    "plot(x[1:n],sol.t,sol[:,:]',\n",
    "    xlabel=\"x\",ylabel=\"t\",title=\"Inflow boundary condition\",leg=:none)"
   ]
  },
  {
   "cell_type": "markdown",
   "metadata": {},
   "source": [
    "The data from the initial condition propagates out of the left edge. Because only zero is coming in from the upwind direction, the solution remains zero thereafter."
   ]
  },
  {
   "cell_type": "markdown",
   "metadata": {},
   "source": [
    "Now we try $u=0$ imposed at the left boundary. "
   ]
  },
  {
   "cell_type": "code",
   "execution_count": null,
   "metadata": {},
   "outputs": [],
   "source": [
    "chop(u) = u[2:n+1];  extend(v) = [0;v];\n",
    "sol = solve(IVP,RK4());\n",
    "plot(x[1:n],sol.t,sol[:,:]',\n",
    "    xlabel=\"x\",ylabel=\"t\",title=\"Outflow boundary condition\",leg=:none)"
   ]
  },
  {
   "cell_type": "markdown",
   "metadata": {},
   "source": [
    "Everything seems OK until the data begins to interact with the inappropriate boundary condition. The resulting \"reflection\" is entirely wrong for advection from right to left. "
   ]
  }
 ],
 "metadata": {
  "kernelspec": {
   "display_name": "Julia 1.0.3",
   "language": "julia",
   "name": "julia-1.0"
  },
  "language_info": {
   "file_extension": ".jl",
   "mimetype": "application/julia",
   "name": "julia",
   "version": "1.0.3"
  }
 },
 "nbformat": 4,
 "nbformat_minor": 2
}
