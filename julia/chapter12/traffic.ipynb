{
 "cells": [
  {
   "cell_type": "markdown",
   "metadata": {},
   "source": [
    "We solve for traffic flow using periodic boundary conditions. The following are parameters and a function relevant to defining the problem. "
   ]
  },
  {
   "cell_type": "code",
   "execution_count": null,
   "metadata": {},
   "outputs": [],
   "source": [
    "rho_c = 1080;  rho_m = 380;  q_m = 10000;\n",
    "Q0prime(rho) = q_m*4*rho_c^2*(rho_c-rho_m)*rho_m*(rho_m-rho)/(rho*(rho_c-2*rho_m) + rho_c*rho_m)^3;"
   ]
  },
  {
   "cell_type": "markdown",
   "metadata": {},
   "source": [
    "Here we create a discretization on $m=800$ points."
   ]
  },
  {
   "cell_type": "code",
   "execution_count": null,
   "metadata": {},
   "outputs": [],
   "source": [
    "include(\"../FNC.jl\")\n",
    "x,Dx,Dxx = FNC.diffper(800,[0,4]);"
   ]
  },
  {
   "cell_type": "markdown",
   "metadata": {},
   "source": [
    "Next we define the ODE resulting from the method of lines."
   ]
  },
  {
   "cell_type": "code",
   "execution_count": null,
   "metadata": {},
   "outputs": [],
   "source": [
    "ode = (rho,ep,t) -> -Q0prime.(rho).*(Dx*rho) + ep*(Dxx*rho);"
   ]
  },
  {
   "cell_type": "markdown",
   "metadata": {},
   "source": [
    "Our first initial condition has moderate density with a small bump."
   ]
  },
  {
   "cell_type": "code",
   "execution_count": null,
   "metadata": {},
   "outputs": [],
   "source": [
    "rho_init = @. 400 + 10*exp(-20*(x-3)^2)\n",
    "using DifferentialEquations\n",
    "IVP = ODEProblem(ode,rho_init,(0.,1.),0.02)\n",
    "sol = solve(IVP);\n",
    "\n",
    "using Plots\n",
    "plot(x,[sol(t) for t=0:.2:1],label=[\"t=$t\" for t=0:.2:1],\n",
    "    xaxis=(\"x\"),yaxis=(\"car density\"),title=\"Traffic flow\")     "
   ]
  },
  {
   "cell_type": "markdown",
   "metadata": {},
   "source": [
    "The bump slowly moves backward on the roadway, spreading out and gradually fading away due to the presence of diffusion."
   ]
  },
  {
   "cell_type": "code",
   "execution_count": null,
   "metadata": {},
   "outputs": [],
   "source": [
    "@gif for t = range(0,stop=1,length=80) \n",
    "    plot(x,sol(t),\n",
    "        xaxis=(\"x\"),yaxis=([400,410],\"density\"),    \n",
    "        title=\"Traffic flow, t=$(round(t,digits=2))\",leg=:none )\n",
    "end"
   ]
  },
  {
   "cell_type": "markdown",
   "metadata": {},
   "source": [
    "Now we use an initial condition with a larger bump. "
   ]
  },
  {
   "cell_type": "code",
   "execution_count": null,
   "metadata": {},
   "outputs": [],
   "source": [
    "rho_init = @. 400 + 80*exp(-16*(x-3)^2)\n",
    "IVP = ODEProblem(ode,rho_init,(0.,0.5),0.02)\n",
    "sol = solve(IVP);"
   ]
  },
  {
   "cell_type": "code",
   "execution_count": null,
   "metadata": {},
   "outputs": [],
   "source": [
    "@gif for t = range(0,stop=0.5,length=80) \n",
    "    plot(x,sol(t),\n",
    "        xaxis=(\"x\"),yaxis=([400,480],\"density\"),    \n",
    "        title=\"A traffic jam\",leg=:none )\n",
    "end     "
   ]
  },
  {
   "cell_type": "markdown",
   "metadata": {},
   "source": [
    "In this case the density bump travels backward along the road. It also steepens on the side facing the incoming traffic and decreases much more slowly on the other side. A motorist would experience this as an abrupt increase in density, followed by a much more gradual decrease in density and resulting gradual increase in speed."
   ]
  }
 ],
 "metadata": {
  "kernelspec": {
   "display_name": "Julia 1.0.3",
   "language": "julia",
   "name": "julia-1.0"
  },
  "language_info": {
   "file_extension": ".jl",
   "mimetype": "application/julia",
   "name": "julia",
   "version": "1.0.3"
  }
 },
 "nbformat": 4,
 "nbformat_minor": 2
}
