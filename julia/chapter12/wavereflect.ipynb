{
 "cells": [
  {
   "cell_type": "markdown",
   "metadata": {},
   "source": [
    "We now use a wave speed that is discontinuous at $x=0$. "
   ]
  },
  {
   "cell_type": "code",
   "execution_count": 1,
   "metadata": {},
   "outputs": [],
   "source": [
    "include(\"../FNC.jl\")\n",
    "m = 120\n",
    "x,Dx = FNC.diffcheb(m,[-1,1]);\n",
    "c = @. 1 + (sign(x)+1)/2\n",
    "chop(u) = u[2:m];\n",
    "extend(v) = [0;v;0];"
   ]
  },
  {
   "cell_type": "markdown",
   "metadata": {},
   "source": [
    "This function computes the time derivative of the method-of-lines system."
   ]
  },
  {
   "cell_type": "code",
   "execution_count": 2,
   "metadata": {},
   "outputs": [],
   "source": [
    "dwdt = function (w,c,t)\n",
    "    u = extend(w[1:m-1])\n",
    "    z = w[m:2*m]\n",
    "    dudt = Dx*z\n",
    "    dzdt = c.^2 .* (Dx*u)\n",
    "    return [ chop(dudt); dzdt ]\n",
    "    end;"
   ]
  },
  {
   "cell_type": "markdown",
   "metadata": {},
   "source": [
    "We set the initial conditions and solve using |ode45|."
   ]
  },
  {
   "cell_type": "code",
   "execution_count": 3,
   "metadata": {},
   "outputs": [],
   "source": [
    "u_init = @.exp(-100*(x+0.5)^2);\n",
    "z_init = -u_init;\n",
    "w_init = [ chop(u_init); z_init ];    \n",
    "using DifferentialEquations\n",
    "IVP = ODEProblem(dwdt,w_init,(0.,2.),c)\n",
    "sol = solve(IVP,RK4());"
   ]
  },
  {
   "cell_type": "markdown",
   "metadata": {},
   "source": [
    "At each time in the following animation, we evaluate the discrete solution for $u$ and then extend it to the boundaries using the boundary conditions. "
   ]
  },
  {
   "cell_type": "code",
   "execution_count": 5,
   "metadata": {},
   "outputs": [
    {
     "name": "stderr",
     "output_type": "stream",
     "text": [
      "┌ Info: Saved animation to \n",
      "│   fn = /Users/driscoll/Dropbox/books/fnc-extras/julia/chapter12/tmp.gif\n",
      "└ @ Plots /Users/driscoll/.julia/packages/Plots/qh1wV/src/animation.jl:90\n"
     ]
    },
    {
     "data": {
      "text/html": [
       "<img src=\"tmp.gif?0.030036646030290548>\" />"
      ],
      "text/plain": [
       "Plots.AnimatedGif(\"/Users/driscoll/Dropbox/books/fnc-extras/julia/chapter12/tmp.gif\")"
      ]
     },
     "execution_count": 5,
     "metadata": {},
     "output_type": "execute_result"
    }
   ],
   "source": [
    "using Plots\n",
    "an = @animate for t = 2*(0:100)/100 \n",
    "    plot(x,extend(sol(t,idxs=1:m-1)),\n",
    "        xaxis=(\"x\"),yaxis=([-1,1],\"u(x,t)\"),    \n",
    "        title=\"Wave equation, variable speed\",label=\"t=$(round(t,digits=3))\" )\n",
    "end\n",
    "gif(an,\"wavereflect.gif\")"
   ]
  },
  {
   "cell_type": "markdown",
   "metadata": {},
   "source": [
    "Each pass through the interface at $x=0$ generates a reflected and transmitted wave. By conservation of energy, these are both smaller in amplitude than the incoming bump. "
   ]
  }
 ],
 "metadata": {
  "kernelspec": {
   "display_name": "Julia 1.1.0",
   "language": "julia",
   "name": "julia-1.1"
  },
  "language_info": {
   "file_extension": ".jl",
   "mimetype": "application/julia",
   "name": "julia",
   "version": "1.1.0"
  }
 },
 "nbformat": 4,
 "nbformat_minor": 2
}
