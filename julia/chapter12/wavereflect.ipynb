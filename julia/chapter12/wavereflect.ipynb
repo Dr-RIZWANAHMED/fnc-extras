{
 "cells": [
  {
   "cell_type": "markdown",
   "metadata": {},
   "source": [
    "We now use a wave speed that is discontinuous at $x=0$. "
   ]
  },
  {
   "cell_type": "code",
   "execution_count": null,
   "metadata": {},
   "outputs": [],
   "source": [
    "include(\"../FNC.jl\")\n",
    "m = 120\n",
    "x,Dx = FNC.diffcheb(m,[-1,1]);\n",
    "c = @. 1 + (sign(x)+1)/2\n",
    "chop(u) = u[2:m];\n",
    "extend(v) = [0;v;0];"
   ]
  },
  {
   "cell_type": "markdown",
   "metadata": {},
   "source": [
    "This function computes the time derivative of the method-of-lines system."
   ]
  },
  {
   "cell_type": "code",
   "execution_count": null,
   "metadata": {},
   "outputs": [],
   "source": [
    "dwdt = function (w,c,t)\n",
    "    u = extend(w[1:m-1])\n",
    "    z = w[m:2*m]\n",
    "    dudt = Dx*z\n",
    "    dzdt = c.^2 .* (Dx*u)\n",
    "    return [ chop(dudt); dzdt ]\n",
    "    end;"
   ]
  },
  {
   "cell_type": "markdown",
   "metadata": {},
   "source": [
    "We set the initial conditions and solve using |ode45|."
   ]
  },
  {
   "cell_type": "code",
   "execution_count": null,
   "metadata": {},
   "outputs": [],
   "source": [
    "u_init = @.exp(-100*(x+0.5)^2);\n",
    "z_init = -u_init;\n",
    "w_init = [ chop(u_init); z_init ];    \n",
    "using DifferentialEquations\n",
    "IVP = ODEProblem(dwdt,w_init,(0.,2.),c)\n",
    "sol = solve(IVP,RK4());"
   ]
  },
  {
   "cell_type": "markdown",
   "metadata": {},
   "source": [
    "Now we extract the original $u$ and $z$ variables from the results, adding in the zeros at the boundaries for $u$."
   ]
  },
  {
   "cell_type": "code",
   "execution_count": null,
   "metadata": {},
   "outputs": [],
   "source": [
    "n = length(t)-1;\n",
    "U = [ zeros(1,n+1); W(1:m-1,:); zeros(1,n+1) ];\n",
    "Z = W(m:2*m,:);"
   ]
  },
  {
   "cell_type": "markdown",
   "metadata": {},
   "source": [
    "Finally, we plot the results."
   ]
  },
  {
   "cell_type": "code",
   "execution_count": null,
   "metadata": {},
   "outputs": [],
   "source": [
    "using Plots\n",
    "@gif for t = 2*(0:100)/100 \n",
    "    plot(x,extend(sol(t,idxs=1:m-1)),\n",
    "        xaxis=(\"x\"),yaxis=([-1,1],\"u(x,t)\"),    \n",
    "        title=\"Wave equation, variable speed\",label=\"t=$(round(t,digits=3))\" )\n",
    "end"
   ]
  },
  {
   "cell_type": "markdown",
   "metadata": {},
   "source": [
    "Each pass through the interface at $x=0$ generates a reflected and transmitted wave. By conservation of energy, these are both smaller in amplitude than the incoming bump. "
   ]
  }
 ],
 "metadata": {
  "kernelspec": {
   "display_name": "Julia 1.0.3",
   "language": "julia",
   "name": "julia-1.0"
  },
  "language_info": {
   "file_extension": ".jl",
   "mimetype": "application/julia",
   "name": "julia",
   "version": "1.0.3"
  }
 },
 "nbformat": 4,
 "nbformat_minor": 2
}
