{
 "cells": [
  {
   "cell_type": "markdown",
   "metadata": {},
   "source": [
    "We set up a test problem with velocity $c=2$ and periodic end conditions. "
   ]
  },
  {
   "cell_type": "code",
   "execution_count": null,
   "metadata": {},
   "outputs": [],
   "source": [
    "include(\"../FNC.jl\")\n",
    "x,Dx = FNC.diffper(400,[0 1])\n",
    "uinit = @. exp(-80*(x-0.5)^2);"
   ]
  },
  {
   "cell_type": "markdown",
   "metadata": {},
   "source": [
    "For this problem we use `RK4`, an explicit method. "
   ]
  },
  {
   "cell_type": "code",
   "execution_count": null,
   "metadata": {},
   "outputs": [],
   "source": [
    "ode = (u,c,t) -> -c*(Dx*u);\n",
    "using DifferentialEquations\n",
    "IVP = ODEProblem(ode,uinit,(0.,2.),2.)\n",
    "sol = solve(IVP,RK4());"
   ]
  },
  {
   "cell_type": "code",
   "execution_count": null,
   "metadata": {},
   "outputs": [],
   "source": [
    "using Plots\n",
    "t = 2*(0:80)/80\n",
    "u = hcat([sol(t) for t in t]...)\n",
    "contour(x,t,u',color=:viridis,\n",
    "    xaxis=(\"x\"),yaxis=(\"t\"),title=\"Linear advection\",leg=:none)"
   ]
  },
  {
   "cell_type": "markdown",
   "metadata": {},
   "source": [
    "You can see the hump traveling rightward at constant speed, traversing the domain once for each integer multiple of $t=1/2$. We note the average time step that was chosen:"
   ]
  },
  {
   "cell_type": "code",
   "execution_count": null,
   "metadata": {},
   "outputs": [],
   "source": [
    "avgtau1 = sum(diff(sol.t))/(length(sol.t)-1)"
   ]
  },
  {
   "cell_type": "markdown",
   "metadata": {},
   "source": [
    "We cut $h$ by a factor of two and solve again."
   ]
  },
  {
   "cell_type": "code",
   "execution_count": null,
   "metadata": {},
   "outputs": [],
   "source": [
    "x,Dx = FNC.diffper(800,[0 1])\n",
    "uinit = @. exp(-80*(x-0.5)^2);\n",
    "IVP = ODEProblem(ode,uinit,(0.,2.),2.)\n",
    "sol = solve(IVP,RK4());"
   ]
  },
  {
   "cell_type": "markdown",
   "metadata": {},
   "source": [
    "The CFL condition suggests that the time step should be cut by a factor of two also."
   ]
  },
  {
   "cell_type": "code",
   "execution_count": null,
   "metadata": {},
   "outputs": [],
   "source": [
    "avgtau2 = sum(diff(sol.t))/(length(sol.t)-1)\n",
    "@show ratio = avgtau1 / avgtau2"
   ]
  }
 ],
 "metadata": {
  "kernelspec": {
   "display_name": "Julia 1.0.3",
   "language": "julia",
   "name": "julia-1.0"
  },
  "language_info": {
   "file_extension": ".jl",
   "mimetype": "application/julia",
   "name": "julia",
   "version": "1.0.3"
  }
 },
 "nbformat": 4,
 "nbformat_minor": 2
}
