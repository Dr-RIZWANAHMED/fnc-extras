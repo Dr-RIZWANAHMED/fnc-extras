{
 "cells": [
  {
   "cell_type": "markdown",
   "metadata": {},
   "source": [
    "We solve the advection equation on a domain with periodic end conditions. Our approach is the method of lines."
   ]
  },
  {
   "cell_type": "code",
   "execution_count": 1,
   "metadata": {},
   "outputs": [],
   "source": [
    "include(\"../FNC.jl\")\n",
    "x,Dx,Dxx = FNC.diffper(300,[-4,4])\n",
    "f = (u,c,t) -> -c*(Dx*u);"
   ]
  },
  {
   "cell_type": "markdown",
   "metadata": {},
   "source": [
    "The following initial condition isn't mathematically periodic, but the deviation is less than machine precision. We specify RK4 as the solver.  "
   ]
  },
  {
   "cell_type": "code",
   "execution_count": 2,
   "metadata": {},
   "outputs": [],
   "source": [
    "u_init = @. 1 + exp(-3*x^2)\n",
    "\n",
    "using DifferentialEquations\n",
    "IVP = ODEProblem(f,u_init,(0.,3.),2.)\n",
    "sol = solve(IVP,RK4());"
   ]
  },
  {
   "cell_type": "markdown",
   "metadata": {},
   "source": [
    "An animation shows the solution nicely. The bump moves with speed 2 to the right, reentering on the left as it exits to the right because of the periodic conditions. "
   ]
  },
  {
   "cell_type": "code",
   "execution_count": 3,
   "metadata": {},
   "outputs": [
    {
     "name": "stderr",
     "output_type": "stream",
     "text": [
      "┌ Info: Saved animation to \n",
      "│   fn = /Users/driscoll/Dropbox/books/fnc-extras/julia/chapter12/tmp.gif\n",
      "└ @ Plots /Users/driscoll/.julia/packages/Plots/qh1wV/src/animation.jl:90\n"
     ]
    },
    {
     "data": {
      "text/html": [
       "<img src=\"tmp.gif?0.7145409158746283>\" />"
      ],
      "text/plain": [
       "Plots.AnimatedGif(\"/Users/driscoll/Dropbox/books/fnc-extras/julia/chapter12/tmp.gif\")"
      ]
     },
     "execution_count": 3,
     "metadata": {},
     "output_type": "execute_result"
    }
   ],
   "source": [
    "using Plots\n",
    "an = @animate for t = range(0,stop=3,length=120) \n",
    "    plot(x,sol(t),\n",
    "        xaxis=(\"x\"),yaxis=([1,2],\"u(x,t)\"),    \n",
    "        title=\"Advection equation, t=$(round(t,digits=2))\",leg=:none )\n",
    "end\n",
    "gif(an,\"advection.gif\")"
   ]
  }
 ],
 "metadata": {
  "kernelspec": {
   "display_name": "Julia 1.1.0",
   "language": "julia",
   "name": "julia-1.1"
  },
  "language_info": {
   "file_extension": ".jl",
   "mimetype": "application/julia",
   "name": "julia",
   "version": "1.1.0"
  }
 },
 "nbformat": 4,
 "nbformat_minor": 2
}
