{
 "cells": [
  {
   "cell_type": "markdown",
   "metadata": {},
   "source": [
    "We solve the wave equation (in Maxwell form) for speed $c=2$, with homogeneous Dirichlet conditions on the first variable. "
   ]
  },
  {
   "cell_type": "code",
   "execution_count": null,
   "metadata": {},
   "outputs": [],
   "source": [
    "include(\"../FNC.jl\")\n",
    "m = 200\n",
    "x,Dx = FNC.diffmat2(m,[-1,1]);"
   ]
  },
  {
   "cell_type": "markdown",
   "metadata": {},
   "source": [
    "The boundary values of $u$ are given to be zero, so they are not unknowns in the ODEs we solve. Instead they are added or removed as necessary. "
   ]
  },
  {
   "cell_type": "code",
   "execution_count": null,
   "metadata": {},
   "outputs": [],
   "source": [
    "chop(u) = u[2:m];\n",
    "extend(v) = [0;v;0];"
   ]
  },
  {
   "cell_type": "markdown",
   "metadata": {},
   "source": [
    "The following function computes the time derivative of the system at interior points."
   ]
  },
  {
   "cell_type": "code",
   "execution_count": null,
   "metadata": {},
   "outputs": [],
   "source": [
    "dwdt = function (w,c,t)\n",
    "    u = extend(w[1:m-1])\n",
    "    z = w[m:2*m]\n",
    "    dudt = Dx*z\n",
    "    dzdt = c^2*(Dx*u)\n",
    "    return [ chop(dudt); dzdt ]\n",
    "    end;"
   ]
  },
  {
   "cell_type": "markdown",
   "metadata": {},
   "source": [
    "Our initial condition is a single hump for $u$."
   ]
  },
  {
   "cell_type": "code",
   "execution_count": null,
   "metadata": {},
   "outputs": [],
   "source": [
    "u_init = @.exp(-100*(x)^2)\n",
    "z_init = -u_init\n",
    "w_init = [ chop(u_init); z_init ];  "
   ]
  },
  {
   "cell_type": "markdown",
   "metadata": {},
   "source": [
    "Because the wave equation is hyperbolic, we can use a nonstiff explicit solver."
   ]
  },
  {
   "cell_type": "code",
   "execution_count": null,
   "metadata": {},
   "outputs": [],
   "source": [
    "using DifferentialEquations\n",
    "IVP = ODEProblem(dwdt,w_init,(0.,2.),2)\n",
    "sol = solve(IVP,RK4());"
   ]
  },
  {
   "cell_type": "markdown",
   "metadata": {},
   "source": [
    "We extract the original $u$ and $z$ variables from the results,  adding in the zeros at the boundaries for $u$."
   ]
  },
  {
   "cell_type": "code",
   "execution_count": null,
   "metadata": {},
   "outputs": [],
   "source": [
    "n = length(sol.t)-1\n",
    "U = [ zeros(1,n+1); sol[1:m-1,:]; zeros(1,n+1) ];\n",
    "Z = sol[m:2*m,:];"
   ]
  },
  {
   "cell_type": "markdown",
   "metadata": {},
   "source": [
    "We plot the results for the original $u$ variable. "
   ]
  },
  {
   "cell_type": "code",
   "execution_count": null,
   "metadata": {},
   "outputs": [],
   "source": [
    "using Plots\n",
    "@gif for (i,t) = enumerate(sol.t) \n",
    "    plot(x,U[:,i],layout=(1,2),subplot=1,\n",
    "        xaxis=(\"x\"),yaxis=([-1,1],\"u(x,t)\"),    \n",
    "        title=\"Wave equation, t=$(round(t,digits=3))\",leg=:none )\n",
    "    plot!(x,sol.t,U',subplot=2,xlabel=\"x\",ylabel=\"t\",title=\"Space-time view\",leg=:none)\n",
    "end"
   ]
  },
  {
   "cell_type": "markdown",
   "metadata": {},
   "source": [
    "The original hump breaks into two pieces of different amplitudes. Each travels with speed $c=2$, and they pass through one another without interference. When a hump encounters a boundary, it is perfectly reflected, but with inverted shape. At time $t=2$ the exact solution looks just like the initial condition."
   ]
  }
 ],
 "metadata": {
  "kernelspec": {
   "display_name": "Julia 1.0.3",
   "language": "julia",
   "name": "julia-1.0"
  },
  "language_info": {
   "file_extension": ".jl",
   "mimetype": "application/julia",
   "name": "julia",
   "version": "1.0.3"
  }
 },
 "nbformat": 4,
 "nbformat_minor": 2
}
