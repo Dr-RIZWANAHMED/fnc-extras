{
 "cells": [
  {
   "cell_type": "markdown",
   "metadata": {},
   "source": [
    "Here we load the adjacency matrix of a graph with 2790 nodes. Each node is a web page referring to Roswell, NM, and the edges represent links between web pages."
   ]
  },
  {
   "cell_type": "code",
   "execution_count": 1,
   "metadata": {},
   "outputs": [
    {
     "data": {
      "text/latex": [
       "\\begin{tabular}\n",
       "{l | r | l}\n",
       "name & size & summary \\\\\n",
       "\\hline\n",
       "A & 110.516 KiB & 2790×2790 SparseMatrixCSC\\{Float64,Int32\\} \\\\\n",
       "\\end{tabular}\n"
      ],
      "text/markdown": [
       "| name |        size | summary                                  |\n",
       "|:---- | -----------:|:---------------------------------------- |\n",
       "| A    | 110.516 KiB | 2790×2790 SparseMatrixCSC{Float64,Int32} |\n"
      ],
      "text/plain": [
       "name        size summary                                 \n",
       "–––– ––––––––––– ––––––––––––––––––––––––––––––––––––––––\n",
       "A    110.516 KiB 2790×2790 SparseMatrixCSC{Float64,Int32}"
      ]
     },
     "execution_count": 1,
     "metadata": {},
     "output_type": "execute_result"
    }
   ],
   "source": [
    "using JLD\n",
    "vars = load(\"roswelladj.jld\")       # get from the book's website\n",
    "i = vars[\"i\"];  j = vars[\"j\"];\n",
    "\n",
    "using SparseArrays\n",
    "A = sparse(i,j,fill(1.0,size(i)),2790,2790)\n",
    "varinfo(r\"A\")                       # to see memory consumption"
   ]
  },
  {
   "cell_type": "markdown",
   "metadata": {},
   "source": [
    "We may define the density of $\\mathbf{A}$ as the number of nonzeros divided by the total number of entries."
   ]
  },
  {
   "cell_type": "code",
   "execution_count": 2,
   "metadata": {},
   "outputs": [
    {
     "name": "stdout",
     "output_type": "stream",
     "text": [
      "density = nnz(A) / (m * n) = 0.0010902994565845762\n"
     ]
    }
   ],
   "source": [
    "m,n = size(A)\n",
    "@show density = nnz(A) / (m*n);"
   ]
  },
  {
   "cell_type": "markdown",
   "metadata": {},
   "source": [
    "We can compare the storage space needed for the sparse $\\mathbf{A}$ with the space needed for its dense or full counterpart. This ratio can never be as small as the density of nonzeros, because of the need to store locations as well as data. However, it's still quite small here, even though the matrix is not really large."
   ]
  },
  {
   "cell_type": "code",
   "execution_count": 3,
   "metadata": {},
   "outputs": [
    {
     "data": {
      "text/latex": [
       "\\begin{tabular}\n",
       "{l | r | l}\n",
       "name & size & summary \\\\\n",
       "\\hline\n",
       "F & 59.388 MiB & 2790×2790 Array\\{Float64,2\\} \\\\\n",
       "\\end{tabular}\n"
      ],
      "text/markdown": [
       "| name |       size | summary                    |\n",
       "|:---- | ----------:|:-------------------------- |\n",
       "| F    | 59.388 MiB | 2790×2790 Array{Float64,2} |\n"
      ],
      "text/plain": [
       "name       size summary                   \n",
       "–––– –––––––––– ––––––––––––––––––––––––––\n",
       "F    59.388 MiB 2790×2790 Array{Float64,2}"
      ]
     },
     "execution_count": 3,
     "metadata": {},
     "output_type": "execute_result"
    }
   ],
   "source": [
    "F = Matrix(A)\n",
    "varinfo(r\"F\")"
   ]
  },
  {
   "cell_type": "code",
   "execution_count": 4,
   "metadata": {},
   "outputs": [
    {
     "name": "stdout",
     "output_type": "stream",
     "text": [
      "storageratio = 154000 / 5.9e7 = 0.0026101694915254235\n"
     ]
    }
   ],
   "source": [
    "@show storageratio = 154000/59e6;"
   ]
  },
  {
   "cell_type": "markdown",
   "metadata": {},
   "source": [
    "Matrix-vector products are also much faster using the sparse form, because operations with structural zeros are skipped."
   ]
  },
  {
   "cell_type": "code",
   "execution_count": 5,
   "metadata": {},
   "outputs": [
    {
     "data": {
      "text/plain": [
       "0.047325839"
      ]
     },
     "execution_count": 5,
     "metadata": {},
     "output_type": "execute_result"
    }
   ],
   "source": [
    "x = randn(n)\n",
    "@elapsed for i = 1:200; A*x; end"
   ]
  },
  {
   "cell_type": "code",
   "execution_count": 6,
   "metadata": {},
   "outputs": [
    {
     "data": {
      "text/plain": [
       "1.165482995"
      ]
     },
     "execution_count": 6,
     "metadata": {},
     "output_type": "execute_result"
    }
   ],
   "source": [
    "@elapsed for i = 1:200; F*x; end"
   ]
  },
  {
   "cell_type": "markdown",
   "metadata": {},
   "source": [
    "However, the sparse storage format is column-oriented. Operations on rows may take a lot longer than similar ones on columns. (Note: Such behavior is dramatic here for MATLAB, but not Julia.)"
   ]
  },
  {
   "cell_type": "code",
   "execution_count": 7,
   "metadata": {},
   "outputs": [
    {
     "name": "stdout",
     "output_type": "stream",
     "text": [
      "time for replacing columns:\n"
     ]
    },
    {
     "data": {
      "text/plain": [
       "0.19418728"
      ]
     },
     "execution_count": 7,
     "metadata": {},
     "output_type": "execute_result"
    }
   ],
   "source": [
    "v = A[:,1000]\n",
    "println(\"time for replacing columns:\")\n",
    "for i = 1:n; A[:,i]=v; end  # discard, improves timing accuracy\n",
    "@elapsed for i = 1:n; A[:,i]=v; end"
   ]
  },
  {
   "cell_type": "code",
   "execution_count": 8,
   "metadata": {},
   "outputs": [
    {
     "name": "stdout",
     "output_type": "stream",
     "text": [
      "time for replacing rows:\n"
     ]
    },
    {
     "data": {
      "text/plain": [
       "0.241511209"
      ]
     },
     "execution_count": 8,
     "metadata": {},
     "output_type": "execute_result"
    }
   ],
   "source": [
    "r = v'\n",
    "println(\"time for replacing rows:\")\n",
    "for i = 1:n; A[i,:]=r; end  # discard, improves timing accuracy\n",
    "@elapsed for i = 1:n; A[i,:]=r; end"
   ]
  }
 ],
 "metadata": {
  "kernelspec": {
   "display_name": "Julia 1.1.0",
   "language": "julia",
   "name": "julia-1.1"
  },
  "language_info": {
   "file_extension": ".jl",
   "mimetype": "application/julia",
   "name": "julia",
   "version": "1.1.0"
  },
  "toc": {
   "base_numbering": 1,
   "nav_menu": {},
   "number_sections": true,
   "sideBar": true,
   "skip_h1_title": false,
   "title_cell": "Table of Contents",
   "title_sidebar": "Contents",
   "toc_cell": false,
   "toc_position": {},
   "toc_section_display": true,
   "toc_window_display": false
  }
 },
 "nbformat": 4,
 "nbformat_minor": 2
}
