{
 "cells": [
  {
   "cell_type": "code",
   "execution_count": null,
   "metadata": {},
   "outputs": [],
   "source": [
    "lambda = [1,-0.75,0.6,-0.4,0]\n",
    "\n",
    "using LinearAlgebra\n",
    "A = triu(ones(5,5),1) + diagm(0=>lambda)   # triangular matrix, eigs on diagonal"
   ]
  },
  {
   "cell_type": "markdown",
   "metadata": {},
   "source": [
    "We begin with a shift $s=0.7$, which is closest to the eigenvalue 0.6."
   ]
  },
  {
   "cell_type": "code",
   "execution_count": null,
   "metadata": {},
   "outputs": [],
   "source": [
    "s = 0.7\n",
    "x = ones(5)\n",
    "y = (A-s*I)\\x\n",
    "gamma = x[1]/y[1] + s"
   ]
  },
  {
   "cell_type": "markdown",
   "metadata": {},
   "source": [
    "Note that the result is not yet any closer to the targeted $0.6$. But we proceed (without being too picky about normalization here)."
   ]
  },
  {
   "cell_type": "code",
   "execution_count": null,
   "metadata": {},
   "outputs": [],
   "source": [
    "s = gamma\n",
    "x = y/y[1]\n",
    "y = (A-s*I)\\x;  gamma = x[1]/y[1] + s"
   ]
  },
  {
   "cell_type": "markdown",
   "metadata": {},
   "source": [
    "Still not much apparent progress. However, in just a few more iterations the results are dramatically better."
   ]
  },
  {
   "cell_type": "code",
   "execution_count": null,
   "metadata": {},
   "outputs": [],
   "source": [
    "for k = 1:4\n",
    "    s = gamma  \n",
    "    x = y/y[1]\n",
    "    y = (A-s*I)\\x  \n",
    "    gamma = x[1]/y[1] + s\n",
    "    @show gamma\n",
    "end"
   ]
  }
 ],
 "metadata": {
  "kernelspec": {
   "display_name": "Julia 1.0.3",
   "language": "julia",
   "name": "julia-1.0"
  },
  "language_info": {
   "file_extension": ".jl",
   "mimetype": "application/julia",
   "name": "julia",
   "version": "1.0.3"
  },
  "toc": {
   "base_numbering": 1,
   "nav_menu": {},
   "number_sections": true,
   "sideBar": true,
   "skip_h1_title": false,
   "title_cell": "Table of Contents",
   "title_sidebar": "Contents",
   "toc_cell": false,
   "toc_position": {},
   "toc_section_display": true,
   "toc_window_display": false
  }
 },
 "nbformat": 4,
 "nbformat_minor": 2
}
