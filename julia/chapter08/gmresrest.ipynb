{
 "cells": [
  {
   "cell_type": "markdown",
   "metadata": {},
   "source": [
    "The following experiments are based on a matrix resulting from discretization of a partial differential equation."
   ]
  },
  {
   "cell_type": "code",
   "execution_count": null,
   "metadata": {},
   "outputs": [],
   "source": [
    "using MatrixDepot\n",
    "d = 50;\n",
    "A = d^2*matrixdepot(\"poisson\",d)\n",
    "@show n = size(A,1)\n",
    "b = ones(n);"
   ]
  },
  {
   "cell_type": "markdown",
   "metadata": {},
   "source": [
    "We compare unrestarted GMRES with three different thresholds for restarting."
   ]
  },
  {
   "cell_type": "code",
   "execution_count": null,
   "metadata": {},
   "outputs": [],
   "source": [
    "using IterativeSolvers,Plots\n",
    "maxit = 120;  rtol = 1e-8;\n",
    "rest = [maxit,20,40,60]\n",
    "plot([],[],label=\"\",title=\"Convergence of restarted GMRES\",leg=:bottomleft,\n",
    "    xaxis=(\"m\"), yaxis=(:log10,\"residual norm\",[1e-8,100]))\n",
    "for j = 1:4\n",
    "    x,hist = gmres(A,b,restart=rest[j],tol=rtol,maxiter=maxit,log=true)\n",
    "    plot!(hist[:resnorm],label=\"restart = $(rest[j])\")\n",
    "end\n",
    "plot!([],[],label=\"\")"
   ]
  },
  {
   "cell_type": "markdown",
   "metadata": {},
   "source": [
    "The \"pure\" curve is the lowest one. All of the other curves agree with it until they encounter their first restart. "
   ]
  }
 ],
 "metadata": {
  "kernelspec": {
   "display_name": "Julia 1.0.3",
   "language": "julia",
   "name": "julia-1.0"
  },
  "language_info": {
   "file_extension": ".jl",
   "mimetype": "application/julia",
   "name": "julia",
   "version": "1.0.3"
  },
  "toc": {
   "base_numbering": 1,
   "nav_menu": {},
   "number_sections": true,
   "sideBar": true,
   "skip_h1_title": false,
   "title_cell": "Table of Contents",
   "title_sidebar": "Contents",
   "toc_cell": false,
   "toc_position": {},
   "toc_section_display": true,
   "toc_window_display": false
  }
 },
 "nbformat": 4,
 "nbformat_minor": 2
}
