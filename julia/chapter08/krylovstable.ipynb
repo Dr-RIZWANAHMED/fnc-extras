{
 "cells": [
  {
   "cell_type": "markdown",
   "metadata": {},
   "source": [
    "We define a triangular matrix with known eigenvalues and a random vector $b$."
   ]
  },
  {
   "cell_type": "code",
   "execution_count": null,
   "metadata": {},
   "outputs": [],
   "source": [
    "lambda = @. 10 + (1:100)\n",
    "\n",
    "using LinearAlgebra\n",
    "A = triu(rand(100,100),1) + diagm(0=>lambda)\n",
    "b = rand(100);"
   ]
  },
  {
   "cell_type": "markdown",
   "metadata": {},
   "source": [
    "Instead of building up the Krylov matrices, we use the Arnoldi iteration to generate equivalent orthonormal vectors. "
   ]
  },
  {
   "cell_type": "code",
   "execution_count": null,
   "metadata": {},
   "outputs": [],
   "source": [
    "include(\"../FNC.jl\")\n",
    "Q,H = FNC.arnoldi(A,b,60);"
   ]
  },
  {
   "cell_type": "markdown",
   "metadata": {},
   "source": [
    "The Arnoldi bases are used to solve the least squares problems defining the GMRES iterates. "
   ]
  },
  {
   "cell_type": "code",
   "execution_count": null,
   "metadata": {},
   "outputs": [],
   "source": [
    "resid = [norm(b);zeros(60)]\n",
    "for m = 1:60  \n",
    "    s = [norm(b); zeros(m)]\n",
    "    z = H[1:m+1,1:m]\\s\n",
    "    x = Q[:,1:m]*z\n",
    "    resid[m+1] = norm(b-A*x)\n",
    " end"
   ]
  },
  {
   "cell_type": "markdown",
   "metadata": {},
   "source": [
    "The approximations converge smoothly, practically all the way to machine epsilon."
   ]
  },
  {
   "cell_type": "code",
   "execution_count": null,
   "metadata": {},
   "outputs": [],
   "source": [
    "using Plots\n",
    "plot(0:60,resid,m=(3,:o),\n",
    "    xaxis=(\"\\$m\\$\"),yaxis=(:log10,\"\\$\\\\| b-Ax_m \\\\|\\$\"), \n",
    "    title=\"Residual for GMRES\",leg=:none)"
   ]
  },
  {
   "cell_type": "code",
   "execution_count": null,
   "metadata": {},
   "outputs": [],
   "source": []
  }
 ],
 "metadata": {
  "kernelspec": {
   "display_name": "Julia 1.0.3",
   "language": "julia",
   "name": "julia-1.0"
  },
  "language_info": {
   "file_extension": ".jl",
   "mimetype": "application/julia",
   "name": "julia",
   "version": "1.0.3"
  },
  "toc": {
   "base_numbering": 1,
   "nav_menu": {},
   "number_sections": true,
   "sideBar": true,
   "skip_h1_title": false,
   "title_cell": "Table of Contents",
   "title_sidebar": "Contents",
   "toc_cell": false,
   "toc_position": {},
   "toc_section_display": true,
   "toc_window_display": false
  }
 },
 "nbformat": 4,
 "nbformat_minor": 2
}
