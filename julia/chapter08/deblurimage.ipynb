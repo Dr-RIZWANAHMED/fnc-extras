{
 "cells": [
  {
   "cell_type": "markdown",
   "metadata": {},
   "source": [
    "We repeat the earlier process to blur the original image $X$ to get $Z$. "
   ]
  },
  {
   "cell_type": "code",
   "execution_count": null,
   "metadata": {},
   "outputs": [],
   "source": [
    "using Images,TestImages\n",
    "img = testimage(\"mandrill\");\n",
    "m,n = size(img)\n",
    "\n",
    "X = @. Float64(Gray(img))\n",
    "\n",
    "using SparseArrays\n",
    "B = spdiagm(0=>fill(0.5,m),1=>fill(0.25,m-1),-1=>fill(0.25,m-1));\n",
    "C = spdiagm(0=>fill(0.5,n),1=>fill(0.25,n-1),-1=>fill(0.25,n-1));\n",
    "\n",
    "blur = X -> B^12 * X * C^12;\n",
    "Z = blur(X);"
   ]
  },
  {
   "cell_type": "markdown",
   "metadata": {},
   "source": [
    "Now we imagine that $X$ is unknown and that the blurred $Z$ is given. We want to invert the blur transformation using the transformation itself. But we have to translate between vectors and images each time. "
   ]
  },
  {
   "cell_type": "code",
   "execution_count": null,
   "metadata": {},
   "outputs": [],
   "source": [
    "using LinearMaps\n",
    "unvec = z -> reshape(z,m,n)\n",
    "T = LinearMap(x -> vec(blur(unvec(x))),m*n);"
   ]
  },
  {
   "cell_type": "markdown",
   "metadata": {},
   "source": [
    "Now we apply `gmres` to the composite blurring transformation `T`."
   ]
  },
  {
   "cell_type": "code",
   "execution_count": null,
   "metadata": {},
   "outputs": [],
   "source": [
    "using IterativeSolvers\n",
    "\n",
    "y = gmres(T,vec(Z),maxiter=50,tol=1e-5);\n",
    "Y = unvec(@.max(0,min(1,y)));"
   ]
  },
  {
   "cell_type": "code",
   "execution_count": null,
   "metadata": {},
   "outputs": [],
   "source": [
    "using Plots\n",
    "plot(Gray.(X),layout=2,subplot=1,title=\"Original\",aspect_ratio=1)\n",
    "plot!(Gray.(Y),layout=2,subplot=2,title=\"Deblurred\",aspect_ratio=1)"
   ]
  },
  {
   "cell_type": "markdown",
   "metadata": {},
   "source": [
    "The reconstruction isn't perfect because the condition number of repeated blurring happens to be very large. "
   ]
  }
 ],
 "metadata": {
  "kernelspec": {
   "display_name": "Julia 1.0.3",
   "language": "julia",
   "name": "julia-1.0"
  },
  "language_info": {
   "file_extension": ".jl",
   "mimetype": "application/julia",
   "name": "julia",
   "version": "1.0.3"
  }
 },
 "nbformat": 4,
 "nbformat_minor": 2
}
