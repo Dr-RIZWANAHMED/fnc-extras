{
 "cells": [
  {
   "cell_type": "markdown",
   "metadata": {},
   "source": [
    "Here is a matrix with both lower and upper bandwidth equal to one. Such a matrix is called *tridiagonal*. The `spdiagm` command creates a sparse matrix given its diagonal elements. The main or central diagonal is numbered zero, above and to the right of that is positive, and below and to the left is negative."
   ]
  },
  {
   "cell_type": "code",
   "execution_count": null,
   "metadata": {},
   "outputs": [],
   "source": [
    "using SparseArrays\n",
    "\n",
    "n = 50;\n",
    "A = spdiagm(-3=>fill(n,n-3),0=>ones(n),1=>-(1:n-1))\n",
    "\n",
    "Matrix( A[1:7,1:7] )"
   ]
  },
  {
   "cell_type": "markdown",
   "metadata": {},
   "source": [
    "Without pivoting, the LU factors have the same lower and upper bandwidth as the orignal matrix. "
   ]
  },
  {
   "cell_type": "code",
   "execution_count": null,
   "metadata": {},
   "outputs": [],
   "source": [
    "include(\"../FNC.jl\")\n",
    "\n",
    "L,U = FNC.lufact(A)\n",
    "\n",
    "using Plots\n",
    "spy(sparse(L),layout=2,subplot=1,markersize=2,title=\"L\")\n",
    "spy!(sparse(U),layout=2,subplot=2,markersize=2,title=\"U\")"
   ]
  },
  {
   "cell_type": "markdown",
   "metadata": {},
   "source": [
    "However, if we introduce row pivoting, bandedness may be expanded or destroyed."
   ]
  },
  {
   "cell_type": "code",
   "execution_count": null,
   "metadata": {},
   "outputs": [],
   "source": [
    "using LinearAlgebra\n",
    "fact = lu(A)\n",
    "\n",
    "spy(sparse(fact.L),layout=2,subplot=1,markersize=2,title=\"L\")\n",
    "spy!(sparse(fact.U),layout=2,subplot=2,markersize=2,title=\"U\")"
   ]
  }
 ],
 "metadata": {
  "kernelspec": {
   "display_name": "Julia 1.0.3",
   "language": "julia",
   "name": "julia-1.0"
  },
  "language_info": {
   "file_extension": ".jl",
   "mimetype": "application/julia",
   "name": "julia",
   "version": "1.0.3"
  }
 },
 "nbformat": 4,
 "nbformat_minor": 2
}
