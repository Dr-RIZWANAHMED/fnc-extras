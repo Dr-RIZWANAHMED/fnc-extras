{
 "cells": [
  {
   "cell_type": "markdown",
   "metadata": {},
   "source": [
    "First we define a triangular matrix with known eigenvalues and a random vector $b$."
   ]
  },
  {
   "cell_type": "code",
   "execution_count": null,
   "metadata": {},
   "outputs": [],
   "source": [
    "lambda = @. 10 + (1:100)\n",
    "\n",
    "using LinearAlgebra\n",
    "A = triu(rand(100,100),1) + diagm(0=>lambda)\n",
    "b = rand(100);"
   ]
  },
  {
   "cell_type": "markdown",
   "metadata": {},
   "source": [
    "Next we build up the first ten Krylov matrices iteratively, using renormalization after each matrix-vector multiplication. "
   ]
  },
  {
   "cell_type": "code",
   "execution_count": null,
   "metadata": {},
   "outputs": [],
   "source": [
    "Km = [b zeros(100,29)]\n",
    "for m = 1:29      \n",
    "    v = A*Km[:,m]\n",
    "    Km[:,m+1] = v/norm(v)\n",
    "end"
   ]
  },
  {
   "cell_type": "markdown",
   "metadata": {},
   "source": [
    "Now we solve a least squares problem for Krylov matrices of increasing dimension."
   ]
  },
  {
   "cell_type": "code",
   "execution_count": null,
   "metadata": {},
   "outputs": [],
   "source": [
    "resid = zeros(30)\n",
    "for m = 1:30  \n",
    "    z = (A*Km[:,1:m])\\b\n",
    "    x = Km[:,1:m]*z\n",
    "    resid[m] = norm(b-A*x)\n",
    "end"
   ]
  },
  {
   "cell_type": "markdown",
   "metadata": {},
   "source": [
    "The linear system approximations show smooth linear convergence at first, but the convergence stagnates after only a few digits have been found."
   ]
  },
  {
   "cell_type": "code",
   "execution_count": null,
   "metadata": {},
   "outputs": [],
   "source": [
    "using Plots\n",
    "plot(0:29,resid,m=:o,\n",
    "    xaxis=(\"\\$m\\$\"),yaxis=(:log10,\"\\$\\\\| b-Ax_m \\\\|\\$\"), \n",
    "    title=\"Residual for linear systems\",leg=:none)"
   ]
  }
 ],
 "metadata": {
  "kernelspec": {
   "display_name": "Julia 1.0.3",
   "language": "julia",
   "name": "julia-1.0"
  },
  "language_info": {
   "file_extension": ".jl",
   "mimetype": "application/julia",
   "name": "julia",
   "version": "1.0.3"
  },
  "toc": {
   "base_numbering": 1,
   "nav_menu": {},
   "number_sections": true,
   "sideBar": true,
   "skip_h1_title": false,
   "title_cell": "Table of Contents",
   "title_sidebar": "Contents",
   "toc_cell": false,
   "toc_position": {},
   "toc_section_display": true,
   "toc_window_display": false
  }
 },
 "nbformat": 4,
 "nbformat_minor": 2
}
