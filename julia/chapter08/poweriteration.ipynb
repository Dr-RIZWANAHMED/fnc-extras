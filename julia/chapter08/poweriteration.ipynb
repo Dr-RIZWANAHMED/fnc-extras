{
 "cells": [
  {
   "cell_type": "markdown",
   "metadata": {},
   "source": [
    "We set up a $5\\times 5$ matrix with prescribed eigenvalues, then apply the power iteration."
   ]
  },
  {
   "cell_type": "code",
   "execution_count": null,
   "metadata": {},
   "outputs": [],
   "source": [
    "lambda = [1,-0.75,0.6,-0.4,0]\n",
    "\n",
    "using LinearAlgebra\n",
    "A = triu(ones(5,5),1) + diagm(0=>lambda)   # triangular matrix, eigs on diagonal"
   ]
  },
  {
   "cell_type": "markdown",
   "metadata": {},
   "source": [
    "We run the power iteration 60 times. The best estimate of the dominant eigenvalue is the last entry of `gamma`. "
   ]
  },
  {
   "cell_type": "code",
   "execution_count": null,
   "metadata": {},
   "outputs": [],
   "source": [
    "include(\"../FNC.jl\")\n",
    "gamma,x = FNC.poweriter(A,60)\n",
    "eigval = gamma[end]"
   ]
  },
  {
   "cell_type": "markdown",
   "metadata": {},
   "source": [
    "We check linear convergence using a log-linear plot of the error. We use our best estimate in order to compute the error at each step."
   ]
  },
  {
   "cell_type": "code",
   "execution_count": null,
   "metadata": {},
   "outputs": [],
   "source": [
    "err = @. eigval - gamma\n",
    "\n",
    "using Plots,LaTeXStrings\n",
    "plot(0:59,abs.(err),m=:o,label=\"\", \n",
    "    title=\"Convergence of power iteration\",\n",
    "    xlabel=L\"k\",yaxis=(L\"|\\lambda_1 - \\gamma_k|\",:log10,[1e-10,1]) )"
   ]
  },
  {
   "cell_type": "markdown",
   "metadata": {},
   "source": [
    "The trend is clearly a straight line asymptotically. We can get a refined estimate of the error reduction in each step by using the exact eigenvalues."
   ]
  },
  {
   "cell_type": "code",
   "execution_count": null,
   "metadata": {},
   "outputs": [],
   "source": [
    "@show theory = lambda[2]/lambda[1];\n",
    "@show observed = err[40]/err[39];"
   ]
  },
  {
   "cell_type": "markdown",
   "metadata": {},
   "source": [
    "Note that the error is supposed to change sign on each iteration. An effect of these alternating signs is that estimates oscillate around the exact value."
   ]
  },
  {
   "cell_type": "code",
   "execution_count": null,
   "metadata": {},
   "outputs": [],
   "source": [
    "gamma[36:40]"
   ]
  }
 ],
 "metadata": {
  "kernelspec": {
   "display_name": "Julia 1.0.3",
   "language": "julia",
   "name": "julia-1.0"
  },
  "language_info": {
   "file_extension": ".jl",
   "mimetype": "application/julia",
   "name": "julia",
   "version": "1.0.3"
  },
  "toc": {
   "base_numbering": 1,
   "nav_menu": {},
   "number_sections": true,
   "sideBar": true,
   "skip_h1_title": false,
   "title_cell": "Table of Contents",
   "title_sidebar": "Contents",
   "toc_cell": false,
   "toc_position": {},
   "toc_section_display": true,
   "toc_window_display": false
  }
 },
 "nbformat": 4,
 "nbformat_minor": 2
}
