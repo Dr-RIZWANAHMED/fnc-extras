{
 "cells": [
  {
   "cell_type": "markdown",
   "metadata": {},
   "source": [
    "First we create a large, sparse, positive definite matrix with condition number 1000."
   ]
  },
  {
   "cell_type": "code",
   "execution_count": null,
   "metadata": {},
   "outputs": [],
   "source": [
    "include(\"../FNC.jl\") \n",
    "A = FNC.sprandsym(10000,0.002,1/1000);"
   ]
  },
  {
   "cell_type": "markdown",
   "metadata": {},
   "source": [
    "Now we solve a linear system with a random right-hand side, without preconditioner."
   ]
  },
  {
   "cell_type": "code",
   "execution_count": null,
   "metadata": {},
   "outputs": [],
   "source": [
    "using IterativeSolvers\n",
    "b = rand(10000)\n",
    "minres(A,b,maxiter=100,tol=1e-10,log=true);\n",
    "time_plain = @elapsed x,hist1 = cg(A,b,maxiter=400,tol=1e-10,log=true)"
   ]
  },
  {
   "cell_type": "code",
   "execution_count": null,
   "metadata": {},
   "outputs": [],
   "source": [
    "using Plots\n",
    "plot(hist1[:resnorm],label=\"\", \n",
    "    title=\"CG with no preconditioning\",\n",
    "    xaxis=(\"iteration number\"), yaxis=(:log10,\"residual norm\") )"
   ]
  },
  {
   "cell_type": "markdown",
   "metadata": {},
   "source": [
    "For an SPD matrix we can use an incomplete Cholesky factorization. (It uses a lower triangular $\\mathbf{L}=\\mathbf{R}^T$ rather than an upper triangular $\\mathbf{R}$.) However, because $A$ is a little close to singular (large condition number), the incomplete algorithm can perturb it enough to make it fail. So here we add a shift to the eigenvalues of $\\mathbf{A}$ to make it more safely definite. "
   ]
  },
  {
   "cell_type": "code",
   "execution_count": null,
   "metadata": {},
   "outputs": [],
   "source": [
    "using Preconditioners,LinearAlgebra,SparseArrays\n",
    "\n",
    "P = CholeskyPreconditioner(A+0.02I,5);"
   ]
  },
  {
   "cell_type": "code",
   "execution_count": null,
   "metadata": {},
   "outputs": [],
   "source": [
    "time_prec = @elapsed x,hist2 = cg(A,b,Pl=P,maxiter=400,tol=1e-10,log=true)"
   ]
  },
  {
   "cell_type": "code",
   "execution_count": null,
   "metadata": {},
   "outputs": [],
   "source": [
    "plot(hist1[:resnorm],label=\"no prec.\", \n",
    "    xaxis=(\"iteration number\"), yaxis=(:log10,\"residual norm\"),\n",
    "    title=\"CG with incomplete Cholesky preconditioning\")\n",
    "plot!(hist2[:resnorm],label=\"iChol prec.\")"
   ]
  },
  {
   "cell_type": "markdown",
   "metadata": {},
   "source": [
    "You can see we made matters *worse* with this preconditioner, at least to judge by the residual. It's not always easy to get a good preconditioner!"
   ]
  }
 ],
 "metadata": {
  "kernelspec": {
   "display_name": "Julia 1.0.3",
   "language": "julia",
   "name": "julia-1.0"
  },
  "language_info": {
   "file_extension": ".jl",
   "mimetype": "application/julia",
   "name": "julia",
   "version": "1.0.3"
  }
 },
 "nbformat": 4,
 "nbformat_minor": 2
}
