{
 "cells": [
  {
   "cell_type": "markdown",
   "metadata": {},
   "source": [
    "We set up a $5\\times 5$ triangular matrix with prescribed eigenvalues on its diagonal."
   ]
  },
  {
   "cell_type": "code",
   "execution_count": null,
   "metadata": {},
   "outputs": [],
   "source": [
    "lambda = [1,-0.75,0.6,-0.4,0]\n",
    "\n",
    "using LinearAlgebra\n",
    "A = triu(ones(5,5),1) + diagm(0=>lambda)   # triangular matrix, eigs on diagonal"
   ]
  },
  {
   "cell_type": "markdown",
   "metadata": {},
   "source": [
    "We run inverse iteration with the shift $s=0.7$ and take the final estimate as our ``exact'' answer to observe the convergence. "
   ]
  },
  {
   "cell_type": "code",
   "execution_count": null,
   "metadata": {},
   "outputs": [],
   "source": [
    "include(\"../FNC.jl\")\n",
    "gamma,x = FNC.inviter(A,0.7,30)\n",
    "eigval = gamma[end]"
   ]
  },
  {
   "cell_type": "markdown",
   "metadata": {},
   "source": [
    "As expected, the eigenvalue that was found is the one closest to $0.7$. The convergence is again linear."
   ]
  },
  {
   "cell_type": "code",
   "execution_count": null,
   "metadata": {},
   "outputs": [],
   "source": [
    "err = @. eigval - gamma\n",
    "\n",
    "using Plots,LaTeXStrings\n",
    "plot(0:29,abs.(err),m=:o,label=\"\", \n",
    "    title=\"Convergence of inverse iteration\",\n",
    "    xlabel=L\"k\",yaxis=(L\"|\\lambda_3 - \\gamma_k|\",:log10,[1e-16,1]) )"
   ]
  },
  {
   "cell_type": "markdown",
   "metadata": {},
   "source": [
    "The observed linear convergence rate is found from the data. "
   ]
  },
  {
   "cell_type": "code",
   "execution_count": null,
   "metadata": {},
   "outputs": [],
   "source": [
    "@show observed_rate = err[22]/err[21];"
   ]
  },
  {
   "cell_type": "markdown",
   "metadata": {},
   "source": [
    "In the numbering of this example, the eigenvalue closest to $s=0.7$ is $\\lambda_3$ and the next-closest is $\\lambda_1$."
   ]
  },
  {
   "cell_type": "code",
   "execution_count": null,
   "metadata": {},
   "outputs": [],
   "source": [
    "@show theoretical_rate = (lambda[3]-0.7) / (lambda[1]-0.7);"
   ]
  }
 ],
 "metadata": {
  "kernelspec": {
   "display_name": "Julia 1.0.3",
   "language": "julia",
   "name": "julia-1.0"
  },
  "language_info": {
   "file_extension": ".jl",
   "mimetype": "application/julia",
   "name": "julia",
   "version": "1.0.3"
  },
  "toc": {
   "base_numbering": 1,
   "nav_menu": {},
   "number_sections": true,
   "sideBar": true,
   "skip_h1_title": false,
   "title_cell": "Table of Contents",
   "title_sidebar": "Contents",
   "toc_cell": false,
   "toc_position": {},
   "toc_section_display": true,
   "toc_window_display": false
  }
 },
 "nbformat": 4,
 "nbformat_minor": 2
}
