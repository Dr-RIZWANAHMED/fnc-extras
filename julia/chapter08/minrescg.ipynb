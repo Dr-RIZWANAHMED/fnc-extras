{
 "cells": [
  {
   "cell_type": "markdown",
   "metadata": {},
   "source": [
    "In this example we compare MINRES and CG on some pseudorandom SPD problems.  The first matrix has a condition number of 100. "
   ]
  },
  {
   "cell_type": "code",
   "execution_count": null,
   "metadata": {},
   "outputs": [],
   "source": [
    "using SparseArrays\n",
    "include(\"../FNC.jl\")\n",
    "\n",
    "n = 2000\n",
    "density = 0.005\n",
    "A = FNC.sprandsym(n,density,1e-2)\n",
    "@show nnz(A);"
   ]
  },
  {
   "cell_type": "markdown",
   "metadata": {},
   "source": [
    "We cook up a linear system whose solution we happen to know exactly."
   ]
  },
  {
   "cell_type": "code",
   "execution_count": null,
   "metadata": {},
   "outputs": [],
   "source": [
    "x = (1:n)/n\n",
    "b = A*x;"
   ]
  },
  {
   "cell_type": "markdown",
   "metadata": {},
   "source": [
    "Now we apply both methods and compare the convergence of the system residuals, using the built-in function `pcg` in the latter case."
   ]
  },
  {
   "cell_type": "code",
   "execution_count": null,
   "metadata": {},
   "outputs": [],
   "source": [
    "using IterativeSolvers,LinearAlgebra\n",
    "\n",
    "xMR,histMR = minres(A,b,tol=1e-12,maxiter=101,log=true)\n",
    "xCG,histCG = cg(A,b,tol=1e-12,maxiter=101,log=true)\n",
    "\n",
    "using Plots,LaTeXStrings\n",
    "plot(0:100,[histMR[:resnorm] histCG[:resnorm]]/norm(b),m=(2,:o),label=[\"MINRES\" \"CG\"], \n",
    "    title=\"Convergence of MINRES and CG\",\n",
    "    xaxis=(\"Krylov dimension \\$m\\$\"), yaxis=(:log10,L\"\\|r_m\\| / \\|b\\|\") )"
   ]
  },
  {
   "cell_type": "markdown",
   "metadata": {},
   "source": [
    "There is virtually no difference between the two methods here when measuring the residual. We see little difference in the errors as well. "
   ]
  },
  {
   "cell_type": "code",
   "execution_count": null,
   "metadata": {},
   "outputs": [],
   "source": [
    "@show errorMR = norm( xMR - x ) / norm(x);\n",
    "@show errorCG = norm( xCG - x) / norm(x);"
   ]
  },
  {
   "cell_type": "markdown",
   "metadata": {},
   "source": [
    "Next we use a system matrix whose condition number is $10^4$. "
   ]
  },
  {
   "cell_type": "code",
   "execution_count": null,
   "metadata": {},
   "outputs": [],
   "source": [
    "A = FNC.sprandsym(n,density,1e-4);"
   ]
  },
  {
   "cell_type": "markdown",
   "metadata": {},
   "source": [
    "Now we find that the CG residual jumps unexpectedly, but overall both methods converge at about the same linear rate. Note from the scales that both methods have actually made very little progress after 100 iterations, though. "
   ]
  },
  {
   "cell_type": "code",
   "execution_count": null,
   "metadata": {},
   "outputs": [],
   "source": [
    "using IterativeSolvers,LinearAlgebra\n",
    "\n",
    "xMR,histMR = minres(A,b,tol=1e-12,maxiter=101,log=true)\n",
    "xCG,histCG = cg(A,b,tol=1e-12,maxiter=101,log=true)\n",
    "\n",
    "using Plots,LaTeXStrings\n",
    "plot(0:100,[histMR[:resnorm] histCG[:resnorm]]/norm(b),m=(2,:o),label=[\"MINRES\" \"CG\"], \n",
    "    title=\"Convergence of MINRES and CG\",\n",
    "    xaxis=(\"Krylov dimension \\$m\\$\"), yaxis=(:log10,L\"\\|r_m\\| / \\|b\\|\") )"
   ]
  },
  {
   "cell_type": "markdown",
   "metadata": {},
   "source": [
    "The errors confirm that we are nowhere near the correct solution in either case."
   ]
  },
  {
   "cell_type": "code",
   "execution_count": null,
   "metadata": {},
   "outputs": [],
   "source": [
    "@show errorMR = norm( xMR - x ) / norm(x);\n",
    "@show errorCG = norm( xCG - x) / norm(x);"
   ]
  }
 ],
 "metadata": {
  "kernelspec": {
   "display_name": "Julia 1.0.3",
   "language": "julia",
   "name": "julia-1.0"
  },
  "language_info": {
   "file_extension": ".jl",
   "mimetype": "application/julia",
   "name": "julia",
   "version": "1.0.3"
  }
 },
 "nbformat": 4,
 "nbformat_minor": 2
}
