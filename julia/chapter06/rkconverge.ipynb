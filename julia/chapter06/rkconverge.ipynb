{
 "cells": [
  {
   "cell_type": "markdown",
   "metadata": {},
   "source": [
    "We consider the IVP $u'=\\sin[(u+t)^2]$ over $0\\le t \\le 4$, with $u(0)=-1$. "
   ]
  },
  {
   "cell_type": "code",
   "execution_count": null,
   "metadata": {},
   "outputs": [],
   "source": [
    "f = (u,t) -> sin((t+u)^2);\n",
    "tspan = (0.0,4.0);\n",
    "u0 = -1.0;"
   ]
  },
  {
   "cell_type": "markdown",
   "metadata": {},
   "source": [
    "We use a `DifferentialEquations` solver to construct an accurate approximation to the exact solution."
   ]
  },
  {
   "cell_type": "code",
   "execution_count": null,
   "metadata": {},
   "outputs": [],
   "source": [
    "using DifferentialEquations\n",
    "ivp = ODEProblem((u,p,t)->f(u,t),u0,tspan)\n",
    "u_exact = solve(ivp,reltol=1e-14,abstol=1e-14);"
   ]
  },
  {
   "cell_type": "markdown",
   "metadata": {},
   "source": [
    "Now we perform a convergence study of our two Runge--Kutta implementations."
   ]
  },
  {
   "cell_type": "code",
   "execution_count": null,
   "metadata": {},
   "outputs": [],
   "source": [
    "include(\"../FNC.jl\")\n",
    "n = @. 50*2^(0:5)\n",
    "err_IE2 = zeros(size(n))\n",
    "err_RK4 = zeros(size(n))\n",
    "for (j,n) = enumerate(n)\n",
    "    t,u = FNC.ie2(f,tspan,u0,n)\n",
    "    err_IE2[j] = maximum( @.abs(u_exact(t)-u) )\n",
    "    t,u = FNC.rk4(f,tspan,u0,n)\n",
    "    err_RK4[j] = maximum( @.abs(u_exact(t)-u) )\n",
    "end"
   ]
  },
  {
   "cell_type": "markdown",
   "metadata": {},
   "source": [
    "The amount of computational work at each time step is assumed to be proportional to the number of stages. Let's compare on an apples-to-apples basis by using the number of $f$-evaluations on the horizontal axis."
   ]
  },
  {
   "cell_type": "code",
   "execution_count": null,
   "metadata": {},
   "outputs": [],
   "source": [
    "using Plots\n",
    "plot([2n 4n],[err_IE2 err_RK4],m=:o,label=[\"IE2\" \"RK4\"],\n",
    "    xaxis=(:log10,\"f-evaluations\"),yaxis=(:log10,\"inf-norm error\"),\n",
    "    title=\"Convergence of RK methods\",leg=:bottomleft)\n",
    "plot!(2n,0.01*(n/n[1]).^(-2),l=:dash,label=\"2nd order\")\n",
    "plot!(4n,1e-6*(n/n[1]).^(-4),l=:dash,label=\"4th order\")"
   ]
  },
  {
   "cell_type": "markdown",
   "metadata": {},
   "source": [
    "The fourth-order variant is more efficient in this problem over a wide range of accuracy."
   ]
  }
 ],
 "metadata": {
  "kernelspec": {
   "display_name": "Julia 1.0.3",
   "language": "julia",
   "name": "julia-1.0"
  },
  "language_info": {
   "file_extension": ".jl",
   "mimetype": "application/julia",
   "name": "julia",
   "version": "1.0.3"
  },
  "toc": {
   "base_numbering": 1,
   "nav_menu": {},
   "number_sections": true,
   "sideBar": true,
   "skip_h1_title": false,
   "title_cell": "Table of Contents",
   "title_sidebar": "Contents",
   "toc_cell": false,
   "toc_position": {},
   "toc_section_display": true,
   "toc_window_display": false
  }
 },
 "nbformat": 4,
 "nbformat_minor": 2
}
