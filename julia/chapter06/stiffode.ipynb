{
 "cells": [
  {
   "cell_type": "markdown",
   "metadata": {},
   "source": [
    "The following simple ODE uncovers a surprise. "
   ]
  },
  {
   "cell_type": "code",
   "execution_count": null,
   "metadata": {},
   "outputs": [],
   "source": [
    "f = (u,t) -> u^2 - u^3;\n",
    "u0 = 0.005;"
   ]
  },
  {
   "cell_type": "markdown",
   "metadata": {},
   "source": [
    "We will solve the problem first with the implicit AM2 method using $n=200$ steps."
   ]
  },
  {
   "cell_type": "code",
   "execution_count": null,
   "metadata": {},
   "outputs": [],
   "source": [
    "include(\"../FNC.jl\")\n",
    "tI,uI = FNC.am2(f,[0.,400.],u0,200);\n",
    "\n",
    "using Plots\n",
    "plot(tI,uI,label=\"AM2\",\n",
    "    xlabel=\"t\",ylabel=\"y(t)\",leg=:bottomright)"
   ]
  },
  {
   "cell_type": "markdown",
   "metadata": {},
   "source": [
    "Now we repeat the process using the explicit AB4 method."
   ]
  },
  {
   "cell_type": "code",
   "execution_count": null,
   "metadata": {},
   "outputs": [],
   "source": [
    "tE,uE = FNC.ab4(f,[0.,400.],u0,200);\n",
    "plot!(tE,uE,m=:o,label=\"AB4\",ylim=[-4,2])"
   ]
  },
  {
   "cell_type": "markdown",
   "metadata": {},
   "source": [
    "Once the solution starts to take off, the AB4 result goes catastrophically wrong."
   ]
  },
  {
   "cell_type": "code",
   "execution_count": null,
   "metadata": {},
   "outputs": [],
   "source": [
    "uE[105:111]"
   ]
  },
  {
   "cell_type": "markdown",
   "metadata": {},
   "source": [
    "We hope that AB4 will converge in the limit $h\\to 0$, so let's try using more steps."
   ]
  },
  {
   "cell_type": "code",
   "execution_count": null,
   "metadata": {},
   "outputs": [],
   "source": [
    "plot(tI,uI,label=\"AM2\",m=(:o,3),l=nothing,\n",
    "    xlabel=\"t\",ylabel=\"y(t)\",leg=:bottomright)\n",
    "for n = [1000,1600]\n",
    "    tE,uE = FNC.ab4(f,[0 400],u0,n);\n",
    "    plot!(tE,uE,label=\"AM4, n=$n\")\n",
    "end\n",
    "plot!([],[],label=\"\")"
   ]
  },
  {
   "cell_type": "markdown",
   "metadata": {},
   "source": [
    "So AB4, which is supposed to be _more_ accurate than AM2, actually needs something like 8 times as many steps to get a reasonable-looking answer!"
   ]
  }
 ],
 "metadata": {
  "kernelspec": {
   "display_name": "Julia 1.0.3",
   "language": "julia",
   "name": "julia-1.0"
  },
  "language_info": {
   "file_extension": ".jl",
   "mimetype": "application/julia",
   "name": "julia",
   "version": "1.0.3"
  },
  "toc": {
   "base_numbering": 1,
   "nav_menu": {},
   "number_sections": true,
   "sideBar": true,
   "skip_h1_title": false,
   "title_cell": "Table of Contents",
   "title_sidebar": "Contents",
   "toc_cell": false,
   "toc_position": {},
   "toc_section_display": true,
   "toc_window_display": false
  }
 },
 "nbformat": 4,
 "nbformat_minor": 2
}
