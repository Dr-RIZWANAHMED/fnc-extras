{
 "cells": [
  {
   "cell_type": "markdown",
   "metadata": {},
   "source": [
    "We encode the predator–prey equations via a function. "
   ]
  },
  {
   "cell_type": "code",
   "execution_count": null,
   "metadata": {},
   "outputs": [],
   "source": [
    "function predprey(u,p,t)\n",
    "    alpha,beta = p;  y,z = u;  # rename for convenience\n",
    "    s = (y*z) / (1+beta*y)     # appears in both equations\n",
    "    return [ y*(1-alpha*y) - s,  -z + s ]\n",
    "end"
   ]
  },
  {
   "cell_type": "markdown",
   "metadata": {},
   "source": [
    "Note that the function accepts three inputs, `u`, `p`, and `t`, even though there is no explicit dependence on `t`. The second input is used to pass parameters that don't change throughout a single instance of the problem. \n",
    "\n",
    "To solve the IVP we must also provide the initial condition, which is a 2-vector here, and the interval for the independent variable."
   ]
  },
  {
   "cell_type": "code",
   "execution_count": null,
   "metadata": {},
   "outputs": [],
   "source": [
    "u0 = [1,0.01]\n",
    "tspan = (0.,80.)\n",
    "alpha = 0.1;  beta = 0.25;\n",
    "\n",
    "using DifferentialEquations\n",
    "sol = solve( ODEProblem(predprey,u0,tspan,[alpha,beta]) );"
   ]
  },
  {
   "cell_type": "code",
   "execution_count": null,
   "metadata": {},
   "outputs": [],
   "source": [
    "using Plots\n",
    "plot(sol,label=[\"prey\" \"predator\"],title=\"Predator-prey solution\")"
   ]
  },
  {
   "cell_type": "markdown",
   "metadata": {},
   "source": [
    "We can find the discrete values used to compute the interpolated solution. The `sol.u` value is a vector of vectors, which can make manipulating the values a bit tricky. Here we convert the solution values to a matrix with two columns (one for each component)."
   ]
  },
  {
   "cell_type": "code",
   "execution_count": null,
   "metadata": {},
   "outputs": [],
   "source": [
    "@show size(sol.u);\n",
    "@show (sol.t[20],sol.u[20]);\n",
    "\n",
    "u = [ sol.u[i][j] for i=1:length(sol.t), j=1:2 ]\n",
    "plot!(sol.t,u,m=(:0,3),label=\"\")"
   ]
  },
  {
   "cell_type": "markdown",
   "metadata": {},
   "source": [
    "When there are just two components, it's common to plot the solution in the _phase plane_, i.e., with $u_1$ and $u_2$ along the axes and time as a parameterization of the curve."
   ]
  },
  {
   "cell_type": "code",
   "execution_count": null,
   "metadata": {},
   "outputs": [],
   "source": [
    "plot(sol,vars=(1,2),label=\"\",\n",
    "    xlabel=\"y\",ylabel=\"z\",title=\"Predator-prey phase plane\")"
   ]
  },
  {
   "cell_type": "markdown",
   "metadata": {},
   "source": [
    "From this plot we can deduce that the solution approaches a periodic one, which in the phase plane is reprepresented by a closed loop. "
   ]
  }
 ],
 "metadata": {
  "kernelspec": {
   "display_name": "Julia 1.0.3",
   "language": "julia",
   "name": "julia-1.0"
  },
  "language_info": {
   "file_extension": ".jl",
   "mimetype": "application/julia",
   "name": "julia",
   "version": "1.0.3"
  },
  "toc": {
   "base_numbering": 1,
   "nav_menu": {},
   "number_sections": true,
   "sideBar": true,
   "skip_h1_title": false,
   "title_cell": "Table of Contents",
   "title_sidebar": "Contents",
   "toc_cell": false,
   "toc_position": {},
   "toc_section_display": true,
   "toc_window_display": false
  }
 },
 "nbformat": 4,
 "nbformat_minor": 2
}
