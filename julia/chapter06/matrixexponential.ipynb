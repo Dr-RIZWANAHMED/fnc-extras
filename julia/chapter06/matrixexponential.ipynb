{
 "cells": [
  {
   "cell_type": "code",
   "execution_count": null,
   "metadata": {},
   "outputs": [],
   "source": [
    "A = [ -2 5; -1 0 ]"
   ]
  },
  {
   "cell_type": "code",
   "execution_count": null,
   "metadata": {},
   "outputs": [],
   "source": [
    "u0 = [1,0]\n",
    "t = linspace(0,6,600);  % times for plotting\n",
    "u = zeros(length(t),length(u0));\n",
    "for j=1:length(t)\n",
    "    ut = expm(t(j)*A)*u0;  \n",
    "    u(j,:) = ut';\n",
    "end"
   ]
  },
  {
   "cell_type": "code",
   "execution_count": null,
   "metadata": {},
   "outputs": [],
   "source": [
    "u0 = [1,0]\n",
    "u = t -> exp(t*A)*u0\n",
    "\n",
    "using Plots\n",
    "plot([t->u(t)[1],t->u(t)[2]],0,6,label=\"\",xlabel=\"t\",ylabel=\"u(t)\")"
   ]
  }
 ],
 "metadata": {
  "kernelspec": {
   "display_name": "Julia 1.0.3",
   "language": "julia",
   "name": "julia-1.0"
  },
  "language_info": {
   "file_extension": ".jl",
   "mimetype": "application/julia",
   "name": "julia",
   "version": "1.0.3"
  },
  "toc": {
   "base_numbering": 1,
   "nav_menu": {},
   "number_sections": true,
   "sideBar": true,
   "skip_h1_title": false,
   "title_cell": "Table of Contents",
   "title_sidebar": "Contents",
   "toc_cell": false,
   "toc_position": {},
   "toc_section_display": true,
   "toc_window_display": false
  }
 },
 "nbformat": 4,
 "nbformat_minor": 2
}
