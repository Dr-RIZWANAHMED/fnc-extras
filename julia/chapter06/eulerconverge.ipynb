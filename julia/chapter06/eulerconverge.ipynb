{
 "cells": [
  {
   "cell_type": "markdown",
   "metadata": {},
   "source": [
    "We consider the IVP $u'=\\sin[(u+t)^2]$ over $0\\le t \\le 4$, with $u(0)=-1$. "
   ]
  },
  {
   "cell_type": "code",
   "execution_count": null,
   "metadata": {},
   "outputs": [],
   "source": [
    "f = (u,t) -> sin((t+u)^2);\n",
    "tspan = (0.0,4.0);\n",
    "u0 = -1.0;"
   ]
  },
  {
   "cell_type": "code",
   "execution_count": null,
   "metadata": {},
   "outputs": [],
   "source": [
    "include(\"../FNC.jl\")\n",
    "t,u = FNC.eulerivp(f,tspan,u0,20);\n",
    "\n",
    "using Plots\n",
    "plot(t,u,m=:o,label=\"n=20\",\n",
    "    xlabel=\"t\", ylabel=\"u(t)\", title=\"Solution by Euler's method\" )"
   ]
  },
  {
   "cell_type": "markdown",
   "metadata": {},
   "source": [
    "We could define a different interpolant to get a smoother picture above, but the derivation assumed the piecewise linear interpolant, so it is the most meaningful one. We can instead request more steps to make the interpolant look smoother."
   ]
  },
  {
   "cell_type": "code",
   "execution_count": null,
   "metadata": {},
   "outputs": [],
   "source": [
    "t,u = FNC.eulerivp(f,tspan,u0,200)\n",
    "plot!(t,u,label=\"n=200\")"
   ]
  },
  {
   "cell_type": "markdown",
   "metadata": {},
   "source": [
    "Increasing $n$ changed the solution noticeably. Since we know that interpolants and finite differences become more accurate as $h\\to 0$, we should expect that from Euler's method too."
   ]
  },
  {
   "cell_type": "markdown",
   "metadata": {},
   "source": [
    "We don't have an exact solution to compare to, so we will use a `DifferentialEquations` solver to construct an accurate solution. "
   ]
  },
  {
   "cell_type": "code",
   "execution_count": null,
   "metadata": {},
   "outputs": [],
   "source": [
    "using DifferentialEquations\n",
    "ivp = ODEProblem((u,p,t)->f(u,t),u0,tspan)\n",
    "u_exact = solve(ivp,reltol=1e-14,abstol=1e-14);\n",
    "\n",
    "plot!(u_exact,l=:dash,label=\"accurate\")"
   ]
  },
  {
   "cell_type": "markdown",
   "metadata": {},
   "source": [
    "Now we can perform a convergence study. "
   ]
  },
  {
   "cell_type": "code",
   "execution_count": null,
   "metadata": {},
   "outputs": [],
   "source": [
    "n = @. 50*2^(0:5)\n",
    "err = zeros(size(n))\n",
    "for (j,n) = enumerate(n)\n",
    "    t,u = FNC.eulerivp(f,tspan,u0,n)\n",
    "    err[j] = maximum( @. abs(u_exact(t)-u) )\n",
    "end\n",
    "\n",
    "using DataFrames\n",
    "DataFrame(n=n,error=err)"
   ]
  },
  {
   "cell_type": "markdown",
   "metadata": {},
   "source": [
    "The error is almost perfectly halved at each step, so we expect that a log-log plot will reveal first-order convergence."
   ]
  },
  {
   "cell_type": "code",
   "execution_count": null,
   "metadata": {},
   "outputs": [],
   "source": [
    "plot(n,err,m=:o,label=\"results\", \n",
    "    xaxis=(:log10,\"n\"), yaxis=(:log10,\"inf-norm error\"), title=\"Convergence of Euler's method\")\n",
    "plot!(n,0.05*(n/n[1]).^(-1),l=:dash,label=\"1st order\")"
   ]
  }
 ],
 "metadata": {
  "kernelspec": {
   "display_name": "Julia 1.0.3",
   "language": "julia",
   "name": "julia-1.0"
  },
  "language_info": {
   "file_extension": ".jl",
   "mimetype": "application/julia",
   "name": "julia",
   "version": "1.0.3"
  },
  "toc": {
   "base_numbering": 1,
   "nav_menu": {},
   "number_sections": true,
   "sideBar": true,
   "skip_h1_title": false,
   "title_cell": "Table of Contents",
   "title_sidebar": "Contents",
   "toc_cell": false,
   "toc_position": {},
   "toc_section_display": true,
   "toc_window_display": false
  }
 },
 "nbformat": 4,
 "nbformat_minor": 2
}
