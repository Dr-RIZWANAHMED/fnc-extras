{
 "cells": [
  {
   "cell_type": "markdown",
   "metadata": {},
   "source": [
    "We consider the IVP $u'=\\sin[(u+t)^2]$ over $0\\le t \\le 4$, with $u(0)=-1$. "
   ]
  },
  {
   "cell_type": "code",
   "execution_count": null,
   "metadata": {},
   "outputs": [],
   "source": [
    "f = (u,t) -> sin((t+u)^2);\n",
    "tspan = (0.0,4.0);\n",
    "u0 = -1.0;"
   ]
  },
  {
   "cell_type": "markdown",
   "metadata": {},
   "source": [
    "We use the built-in solver |ode113| to construct an accurate approximation to the exact solution."
   ]
  },
  {
   "cell_type": "code",
   "execution_count": null,
   "metadata": {},
   "outputs": [],
   "source": [
    "using DifferentialEquations\n",
    "ivp = ODEProblem((u,p,t)->f(u,t),u0,tspan)\n",
    "u_exact = solve(ivp,reltol=1e-14,abstol=1e-14);"
   ]
  },
  {
   "cell_type": "markdown",
   "metadata": {},
   "source": [
    "Now we perform a convergence study of the AB4 code. "
   ]
  },
  {
   "cell_type": "code",
   "execution_count": null,
   "metadata": {},
   "outputs": [],
   "source": [
    "include(\"../FNC.jl\")\n",
    "n = @. 10*2^(0:5)\n",
    "err = zeros(size(n))\n",
    "for (j,n) = enumerate(n)\n",
    "    t,u = FNC.ab4(f,tspan,u0,n)\n",
    "    err[j] = maximum( @.abs(u_exact(t)-u) )\n",
    "end"
   ]
  },
  {
   "cell_type": "markdown",
   "metadata": {},
   "source": [
    "The method should converge as $O(h^4)$, so a log-log scale is appropriate for the errors. "
   ]
  },
  {
   "cell_type": "code",
   "execution_count": null,
   "metadata": {},
   "outputs": [],
   "source": [
    "using Plots\n",
    "plot(n,err,m=:o,label=\"AB4\",\n",
    "    xaxis=(:log10,\"n\"),yaxis=(:log10,\"inf-norm error\"),\n",
    "    title=\"Convergence of AB4\",leg=:bottomleft)\n",
    "plot!(n,0.1*(n/n[1]).^(-4),l=:dash,label=\"4th order\")"
   ]
  }
 ],
 "metadata": {
  "kernelspec": {
   "display_name": "Julia 1.0.3",
   "language": "julia",
   "name": "julia-1.0"
  },
  "language_info": {
   "file_extension": ".jl",
   "mimetype": "application/julia",
   "name": "julia",
   "version": "1.0.3"
  },
  "toc": {
   "base_numbering": 1,
   "nav_menu": {},
   "number_sections": true,
   "sideBar": true,
   "skip_h1_title": false,
   "title_cell": "Table of Contents",
   "title_sidebar": "Contents",
   "toc_cell": false,
   "toc_position": {},
   "toc_section_display": true,
   "toc_window_display": false
  }
 },
 "nbformat": 4,
 "nbformat_minor": 2
}
