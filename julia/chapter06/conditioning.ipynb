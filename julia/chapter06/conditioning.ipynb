{
 "cells": [
  {
   "cell_type": "markdown",
   "metadata": {},
   "source": [
    "Consider the ODEs $u'=u$ and $u'=-u$. In each case we compute $\\partial f/\\partial u = \\pm 1$, so the condition number bound is $e^{(b-a)}$ in both problems. However, they behave quite differently. In the case of exponential growth, $u'=u$, the bound is the actual condition number."
   ]
  },
  {
   "cell_type": "code",
   "execution_count": null,
   "metadata": {},
   "outputs": [],
   "source": [
    "using Plots\n",
    "\n",
    "u = [ t->exp(t)*u0 for u0 in [0.7,1,1.3] ]\n",
    "plot(u,0,3,leg=:none,xlabel=\"t\",ylabel=\"u(t)\", title=\"Exponential divergence of solutions\")"
   ]
  },
  {
   "cell_type": "markdown",
   "metadata": {},
   "source": [
    "But with $u'=-u$, solutions actually get closer together with time."
   ]
  },
  {
   "cell_type": "code",
   "execution_count": null,
   "metadata": {},
   "outputs": [],
   "source": [
    "u = [ t->exp(-t)*u0 for u0 in [0.7,1,1.3] ]\n",
    "plot(u,0,3,leg=:none,xlabel=\"t\",ylabel=\"u(t)\", title=\"Exponential convergence of solutions\")"
   ]
  },
  {
   "cell_type": "markdown",
   "metadata": {},
   "source": [
    "In this case the actual condition number is one, due to the difference of solutions at the initial time. "
   ]
  }
 ],
 "metadata": {
  "kernelspec": {
   "display_name": "Julia 1.0.3",
   "language": "julia",
   "name": "julia-1.0"
  },
  "language_info": {
   "file_extension": ".jl",
   "mimetype": "application/julia",
   "name": "julia",
   "version": "1.0.3"
  }
 },
 "nbformat": 4,
 "nbformat_minor": 2
}
