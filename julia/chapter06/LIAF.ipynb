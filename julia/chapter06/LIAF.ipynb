{
 "cells": [
  {
   "cell_type": "markdown",
   "metadata": {},
   "source": [
    "Consider the ridiculously simple IVP $u'=u$, $u(0)=1$, whose solution is $e^t$. "
   ]
  },
  {
   "cell_type": "code",
   "execution_count": null,
   "metadata": {},
   "outputs": [],
   "source": [
    "dudt = (u,t) -> u;\n",
    "u_exact = exp;\n",
    "a = 0.0;  b = 1.0;"
   ]
  },
  {
   "cell_type": "markdown",
   "metadata": {},
   "source": [
    "Let's apply the LIAF method to this problem for varying fixed step sizes. We'll measure the error at the time $t=1$. "
   ]
  },
  {
   "cell_type": "code",
   "execution_count": null,
   "metadata": {},
   "outputs": [],
   "source": [
    "n = [5,10,20,40,60]\n",
    "err = zeros(size(n))\n",
    "for (j,n) = enumerate(n)\n",
    "    h = (b-a)/n\n",
    "    global t = [ a + i*h for i=0:n ]\n",
    "    global u = [1; u_exact(h); zeros(n-1)];\n",
    "    f = [dudt(u[1],t[1]); zeros(n)];\n",
    "    for i = 2:n\n",
    "        f[i] = dudt(u[i],t[i])\n",
    "        u[i+1] = -4*u[i] + 5*u[i-1] + h*(4*f[i]+2*f[i-1])\n",
    "    end\n",
    "    err[j] = abs(u_exact(b) - u[end])\n",
    "end\n",
    "h = \n",
    "\n",
    "using DataFrames\n",
    "DataFrame(n=n,h=(b-a)./n,error=err)    "
   ]
  },
  {
   "cell_type": "markdown",
   "metadata": {},
   "source": [
    "The error starts out promisingly, but things explode from there. A graph of the last numerical attempt yields a clue."
   ]
  },
  {
   "cell_type": "code",
   "execution_count": null,
   "metadata": {},
   "outputs": [],
   "source": [
    "using Plots\n",
    "plot(t,abs.(u),m=:o,label=\"\",\n",
    "    xlabel=\"t\",yaxis=(:log10,\"|u|\"),title=\"LIAF solution\")"
   ]
  },
  {
   "cell_type": "markdown",
   "metadata": {},
   "source": [
    "It's clear that the solution is growing exponentially in time."
   ]
  }
 ],
 "metadata": {
  "kernelspec": {
   "display_name": "Julia 1.0.3",
   "language": "julia",
   "name": "julia-1.0"
  },
  "language_info": {
   "file_extension": ".jl",
   "mimetype": "application/julia",
   "name": "julia",
   "version": "1.0.3"
  },
  "toc": {
   "base_numbering": 1,
   "nav_menu": {},
   "number_sections": true,
   "sideBar": true,
   "skip_h1_title": false,
   "title_cell": "Table of Contents",
   "title_sidebar": "Contents",
   "toc_cell": false,
   "toc_position": {},
   "toc_section_display": true,
   "toc_window_display": false
  }
 },
 "nbformat": 4,
 "nbformat_minor": 2
}
