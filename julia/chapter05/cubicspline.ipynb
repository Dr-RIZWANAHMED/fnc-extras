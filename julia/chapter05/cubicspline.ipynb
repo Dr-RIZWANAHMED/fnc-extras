{
 "cells": [
  {
   "cell_type": "markdown",
   "metadata": {},
   "source": [
    "For illustration, here is a spline interpolant using just a few nodes. "
   ]
  },
  {
   "cell_type": "code",
   "execution_count": null,
   "metadata": {},
   "outputs": [],
   "source": [
    "f = x -> exp(sin(7*x))\n",
    "\n",
    "using Plots\n",
    "plot(f,0,1,label=\"function\")\n",
    "\n",
    "t = [0, 0.075, 0.25, 0.55, 0.7, 1]  # nodes\n",
    "y = f.(t)                           # values at nodes\n",
    "\n",
    "plot!(t,y,m=:o,l=nothing,label=\"nodes\")"
   ]
  },
  {
   "cell_type": "code",
   "execution_count": null,
   "metadata": {},
   "outputs": [],
   "source": [
    "include(\"../FNC.jl\")\n",
    "S = FNC.spinterp(t,y)\n",
    "\n",
    "plot!(S,0,1,label=\"spline\")"
   ]
  },
  {
   "cell_type": "markdown",
   "metadata": {},
   "source": [
    "Now we look at the convergence rate as the number of nodes increases."
   ]
  },
  {
   "cell_type": "code",
   "execution_count": null,
   "metadata": {},
   "outputs": [],
   "source": [
    "x = (0:10000)/1e4          # sample the difference at many points\n",
    "n_ = @. round(Int,2^(3:0.5:8))  # numbers of nodes\n",
    "err_ = zeros(size(n_))\n",
    "for (i,n) = enumerate(n_)\n",
    "    t = (0:n)/n \n",
    "    S = FNC.spinterp(t,f.(t))\n",
    "    err_[i] = maximum( @. abs(f(x)-S(x)) )\n",
    "end\n",
    "\n",
    "@show err_;"
   ]
  },
  {
   "cell_type": "markdown",
   "metadata": {},
   "source": [
    "Since we expect convergence that is $O(h^4)=O(n^{-4})$, we use a log-log graph of error and expect a straight line of slope $-4$."
   ]
  },
  {
   "cell_type": "code",
   "execution_count": null,
   "metadata": {},
   "outputs": [],
   "source": [
    "using LaTeXStrings\n",
    "order4 = @. (n_/n_[1])^(-4)\n",
    "plot(n_,[err_,order4],m=[:o :none],l=[:solid :dash],label=[\"error\",\"4th order\"],\n",
    "    xaxis=(:log10,L\"n\"),yaxis=(:log10,L\"\\| f-S \\|_\\infty\"),\n",
    "    title=\"Convergence of spline interpolation\")"
   ]
  }
 ],
 "metadata": {
  "kernelspec": {
   "display_name": "Julia 1.0.3",
   "language": "julia",
   "name": "julia-1.0"
  },
  "language_info": {
   "file_extension": ".jl",
   "mimetype": "application/julia",
   "name": "julia",
   "version": "1.0.3"
  },
  "toc": {
   "base_numbering": 1,
   "nav_menu": {},
   "number_sections": true,
   "sideBar": true,
   "skip_h1_title": false,
   "title_cell": "Table of Contents",
   "title_sidebar": "Contents",
   "toc_cell": false,
   "toc_position": {},
   "toc_section_display": true,
   "toc_window_display": false
  }
 },
 "nbformat": 4,
 "nbformat_minor": 2
}
