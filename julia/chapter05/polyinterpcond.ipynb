{
 "cells": [
  {
   "cell_type": "code",
   "execution_count": null,
   "metadata": {},
   "outputs": [],
   "source": [
    "n = 18\n",
    "t = range(-1,stop=1,length=n+1)\n",
    "y = [zeros(9);1;zeros(n-9)];  # data for 10th cardinal function\n",
    "\n",
    "using Plots\n",
    "plot(t,y,m=:o,l=nothing,label=\"data\")"
   ]
  },
  {
   "cell_type": "code",
   "execution_count": null,
   "metadata": {},
   "outputs": [],
   "source": [
    "include(\"../FNC.jl\")\n",
    "plot!(FNC.spinterp(t,y),label=\"spline\",\n",
    "    xlabel=\"x\",ylabel=\"p(x)\",title=\"Piecewise cubic cardinal function\")"
   ]
  },
  {
   "cell_type": "markdown",
   "metadata": {},
   "source": [
    "The piecewise cubic cardinal function is nowhere greater than one in absolute value. This happens to be true for all the cardinal functions, ensuring a good condition number for the interpolation. But the story for global polynomials is very different."
   ]
  },
  {
   "cell_type": "code",
   "execution_count": null,
   "metadata": {},
   "outputs": [],
   "source": [
    "plot(t,y,m=:o,l=nothing,label=\"data\")\n",
    "\n",
    "using Polynomials\n",
    "p = polyfit(t,y,n)\n",
    "plot!(x->p(x),-1,1,label=\"polynomial\",\n",
    "    xlabel=\"x\",ylabel=\"p(x)\",title=\"Polynomial cardinal function\")"
   ]
  },
  {
   "cell_type": "markdown",
   "metadata": {},
   "source": [
    "From the figure we can see that the condition number for polynomial interpolation on these nodes is at least 500. "
   ]
  }
 ],
 "metadata": {
  "kernelspec": {
   "display_name": "Julia 1.0.3",
   "language": "julia",
   "name": "julia-1.0"
  },
  "language_info": {
   "file_extension": ".jl",
   "mimetype": "application/julia",
   "name": "julia",
   "version": "1.0.3"
  }
 },
 "nbformat": 4,
 "nbformat_minor": 2
}
