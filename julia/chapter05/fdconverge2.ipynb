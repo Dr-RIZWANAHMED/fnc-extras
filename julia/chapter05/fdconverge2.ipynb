{
 "cells": [
  {
   "cell_type": "code",
   "execution_count": null,
   "metadata": {},
   "outputs": [],
   "source": [
    "f = x -> sin( exp(x+1) );\n",
    "exact_value = cos(exp(1))*exp(1);"
   ]
  },
  {
   "cell_type": "markdown",
   "metadata": {},
   "source": [
    "We'll run both formulas in parallel for a sequence of $h$ values."
   ]
  },
  {
   "cell_type": "code",
   "execution_count": null,
   "metadata": {},
   "outputs": [],
   "source": [
    "h_ = @. 4. ^(-1:-1:-8)\n",
    "FD1 = 0*h_;  FD2 = 0*h_;\n",
    "for (k,h) = enumerate(h_)\n",
    "    FD1[k] = (f(h) - f(0)) / h\n",
    "    FD2[k] = (f(h) - f(-h)) / (2*h)\n",
    "end"
   ]
  },
  {
   "cell_type": "markdown",
   "metadata": {},
   "source": [
    "In each case $h$ is decreased by a factor of 4, so that the error is reduced by a factor of 4 in the first-order method and 16 in the second-order method."
   ]
  },
  {
   "cell_type": "code",
   "execution_count": null,
   "metadata": {},
   "outputs": [],
   "source": [
    "error_FD1 = @. exact_value-FD1 \n",
    "error_FD2 = @. exact_value-FD2\n",
    "\n",
    "using DataFrames\n",
    "DataFrame(h=h_,error_FD1=error_FD1,error_FD2=error_FD2)   "
   ]
  },
  {
   "cell_type": "markdown",
   "metadata": {},
   "source": [
    "A graphical comparison can be clearer. On a log-log scale, the error should (roughly) be a straight line whose slope is the order of accuracy. However, it's conventional in convergence plots, to show $h$ _decreasing_ from left to right, which negates the slopes."
   ]
  },
  {
   "cell_type": "code",
   "execution_count": null,
   "metadata": {},
   "outputs": [],
   "source": [
    "using Plots\n",
    "plot(h_,[abs.(error_FD1) abs.(error_FD2)],m=:o,label=[\"error FD1\" \"error FD2\"],\n",
    "    xflip=true,xaxis=(:log10,\"\\$h\\$\"),yaxis=(:log10,\"error in \\$f'(0)\\$\"),\n",
    "    title=\"Convergence of finite differences\",leg=:bottomleft)\n",
    "plot!(h_,[h_ h_.^2],l=:dash,label=[\"order1\" \"order2\"])      # perfect 1st and 2nd order "
   ]
  }
 ],
 "metadata": {
  "kernelspec": {
   "display_name": "Julia 1.0.3",
   "language": "julia",
   "name": "julia-1.0"
  },
  "language_info": {
   "file_extension": ".jl",
   "mimetype": "application/julia",
   "name": "julia",
   "version": "1.0.3"
  }
 },
 "nbformat": 4,
 "nbformat_minor": 2
}
