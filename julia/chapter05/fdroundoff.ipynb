{
 "cells": [
  {
   "cell_type": "markdown",
   "metadata": {},
   "source": [
    "Let $f(x)=e^{-1.3x}$. We apply finite difference formulas of first, second, and fourth order to estimate $f'(0)=-1.3$."
   ]
  },
  {
   "cell_type": "code",
   "execution_count": null,
   "metadata": {},
   "outputs": [],
   "source": [
    "using LinearAlgebra   # for dot products\n",
    "h = @. 1/10^(1:12)\n",
    "f = x -> exp(-1.3*x);\n",
    "fd1 = zeros(size(h))\n",
    "fd2 = zeros(size(h))\n",
    "fd4 = zeros(size(h))\n",
    "for (j,h) = enumerate(h) \n",
    "    nodes = h*(-2:2)\n",
    "    vals = @. f(nodes)/h\n",
    "    fd1[j] = dot([   0    0 -1    1     0],vals)\n",
    "    fd2[j] = dot([   0 -1/2  0  1/2     0],vals)\n",
    "    fd4[j] = dot([1/12 -2/3  0  2/3 -1/12],vals)\n",
    "end"
   ]
  },
  {
   "cell_type": "code",
   "execution_count": null,
   "metadata": {},
   "outputs": [],
   "source": [
    "using Plots\n",
    "plot(h,abs.(fd1.+1.3),m=:o,label=\"FD1\",\n",
    "    xaxis=(:log10,\"\\$h\\$\"),xflip=true,yaxis=(:log10,\"total error\"),\n",
    "    title=\"FD error with roundoff\",legend=:bottomright)\n",
    "plot!(h,abs.(fd2.+1.3),m=:o,label=\"FD2\")\n",
    "plot!(h,abs.(fd4.+1.3),m=:o,label=\"FD4\")\n",
    "plot!(h,0.1*eps()./h,l=:dash,color=:black,label=\"\\$O(h^{-1})\\$\")"
   ]
  },
  {
   "cell_type": "markdown",
   "metadata": {},
   "source": [
    "Again the graph is made so that $h$ decreases from left to right. The errors are dominated at first by truncation error, which decreases most rapidly for the 4th order formula. However, increasing roundoff error eventually equals and then dominates the truncation error as $h$ continues to decrease. As the order of accuracy increases, the crossover point moves to the left (greater efficiency) and down (greater accuracy). "
   ]
  }
 ],
 "metadata": {
  "kernelspec": {
   "display_name": "Julia 1.0.3",
   "language": "julia",
   "name": "julia-1.0"
  },
  "language_info": {
   "file_extension": ".jl",
   "mimetype": "application/julia",
   "name": "julia",
   "version": "1.0.3"
  }
 },
 "nbformat": 4,
 "nbformat_minor": 2
}
