{
 "cells": [
  {
   "cell_type": "markdown",
   "metadata": {},
   "source": [
    "Here are some points that we could consider to be observations of an unknown function on $[-1,1]$."
   ]
  },
  {
   "cell_type": "code",
   "execution_count": null,
   "metadata": {},
   "outputs": [],
   "source": [
    "n = 5\n",
    "t = range(-1,stop=1,length=n+1)\n",
    "y = @. t^2 + t + 0.05*sin(20*t)\n",
    "\n",
    "using Plots\n",
    "plot(t,y,m=:o,l=nothing,label=\"data\",leg=:top)"
   ]
  },
  {
   "cell_type": "markdown",
   "metadata": {},
   "source": [
    "The polynomial interpolant, as computed using `polyfit`, looks very sensible. It's the kind of function you'd take home to meet your parents.  The interpolant plot is created using @glsbegin@fplot@glsend@."
   ]
  },
  {
   "cell_type": "code",
   "execution_count": null,
   "metadata": {},
   "outputs": [],
   "source": [
    "using Polynomials\n",
    "p = polyfit(t,y,n)     # interpolating polynomial\n",
    "plot!(x->p(x),-1,1,label=\"interpolant\")"
   ]
  },
  {
   "cell_type": "markdown",
   "metadata": {},
   "source": [
    "But now consider a different set of points generated in almost exactly the same way."
   ]
  },
  {
   "cell_type": "code",
   "execution_count": null,
   "metadata": {},
   "outputs": [],
   "source": [
    "n = 18\n",
    "t = range(-1,stop=1,length=n+1)\n",
    "y = @. t^2 + t + 0.05*sin(20*t)\n",
    "\n",
    "plot(t,y,m=:o,l=nothing,label=\"data\",leg=:top)"
   ]
  },
  {
   "cell_type": "markdown",
   "metadata": {},
   "source": [
    "The points themselves are unremarkable. But take a look at what happens to the polynomial interpolant."
   ]
  },
  {
   "cell_type": "code",
   "execution_count": null,
   "metadata": {},
   "outputs": [],
   "source": [
    "p = polyfit(t,y,n)\n",
    "plot!(x->p(x),-1,1,label=\"interpolant\")"
   ]
  },
  {
   "cell_type": "markdown",
   "metadata": {},
   "source": [
    "Surely there must be functions that are more intuitively representative of those points!"
   ]
  }
 ],
 "metadata": {
  "kernelspec": {
   "display_name": "Julia 1.0.3",
   "language": "julia",
   "name": "julia-1.0"
  },
  "language_info": {
   "file_extension": ".jl",
   "mimetype": "application/julia",
   "name": "julia",
   "version": "1.0.3"
  }
 },
 "nbformat": 4,
 "nbformat_minor": 2
}
