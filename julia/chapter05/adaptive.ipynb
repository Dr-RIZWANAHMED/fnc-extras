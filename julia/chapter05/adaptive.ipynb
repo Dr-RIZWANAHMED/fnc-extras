{
 "cells": [
  {
   "cell_type": "code",
   "execution_count": null,
   "metadata": {},
   "outputs": [],
   "source": [
    "f = x -> (x+1)^2*cos((2*x+1)/(x-4.3));\n",
    "\n",
    "using QuadGK\n",
    "@show I,errest = quadgk(f,0,4,atol=1e-14,rtol=1e-14);  # 'exact' value"
   ]
  },
  {
   "cell_type": "markdown",
   "metadata": {},
   "source": [
    "We perform the integration and show the nodes selected underneath the curve. "
   ]
  },
  {
   "cell_type": "code",
   "execution_count": null,
   "metadata": {},
   "outputs": [],
   "source": [
    "include(\"../FNC.jl\")\n",
    "Q,t = FNC.intadapt(f,0,4,0.001)\n",
    "@show num_nodes = length(t);\n",
    "\n",
    "using Plots\n",
    "plot(f,0,4,color=:black,legend=:none,\n",
    "    xlabel=\"x\",ylabel=\"f(x)\",title=\"Adaptive node selection\")\n",
    "plot!(t,f.(t),seriestype=:sticks,m=(:o,2))"
   ]
  },
  {
   "cell_type": "markdown",
   "metadata": {},
   "source": [
    "The error turns out to be a bit more than we requested. It's only an estimate, not a guarantee."
   ]
  },
  {
   "cell_type": "code",
   "execution_count": null,
   "metadata": {},
   "outputs": [],
   "source": [
    "@show err = I - Q;"
   ]
  },
  {
   "cell_type": "markdown",
   "metadata": {},
   "source": [
    "Let's see how the number of integrand evaluations and the error vary with the requested tolerance."
   ]
  },
  {
   "cell_type": "code",
   "execution_count": null,
   "metadata": {},
   "outputs": [],
   "source": [
    "tol_ = @. 10.0^(-4:-1:-14)\n",
    "err_ = zeros(size(tol_))\n",
    "num_ = zeros(Int,size(tol_))\n",
    "for i = 1:length(tol_)\n",
    "    Q,t = FNC.intadapt(f,0,4,tol_[i])\n",
    "    err_[i] = I - Q\n",
    "    num_[i] = length(t)\n",
    "end\n",
    "\n",
    "using DataFrames\n",
    "DataFrame(tol=tol_,error=err_,f_evals=num_)"
   ]
  },
  {
   "cell_type": "markdown",
   "metadata": {},
   "source": [
    "As you can see, even though the errors are not less than the estimates, the two columns decrease in tandem. If we consider now the convergence not in $h$ (which is poorly defined) but in the number of nodes actually chosen, we come close to the fourth order accuracy of the underlying Simpson scheme."
   ]
  },
  {
   "cell_type": "code",
   "execution_count": null,
   "metadata": {},
   "outputs": [],
   "source": [
    "plot(num_,abs.(err_),m=:o,label=\"results\",\n",
    "    xaxis=(:log10,\"number of nodes\"),yaxis=(:log10,\"error\"),\n",
    "    title=\"Convergence of adaptive quadrature\")\n",
    "order4 = @. 0.01*(num_/num_[1])^(-4)\n",
    "plot!(num_,order4,l=:dash,label=\"\\$O(n^{-4})\\$\")"
   ]
  }
 ],
 "metadata": {
  "kernelspec": {
   "display_name": "Julia 1.0.3",
   "language": "julia",
   "name": "julia-1.0"
  },
  "language_info": {
   "file_extension": ".jl",
   "mimetype": "application/julia",
   "name": "julia",
   "version": "1.0.3"
  },
  "latex_envs": {
   "LaTeX_envs_menu_present": true,
   "autoclose": false,
   "autocomplete": true,
   "bibliofile": "biblio.bib",
   "cite_by": "apalike",
   "current_citInitial": 1,
   "eqLabelWithNumbers": true,
   "eqNumInitial": 1,
   "hotkeys": {
    "equation": "Ctrl-E",
    "itemize": "Ctrl-I"
   },
   "labels_anchors": false,
   "latex_user_defs": false,
   "report_style_numbering": true,
   "user_envs_cfg": false
  },
  "toc": {
   "base_numbering": 1,
   "nav_menu": {},
   "number_sections": true,
   "sideBar": true,
   "skip_h1_title": false,
   "title_cell": "Table of Contents",
   "title_sidebar": "Contents",
   "toc_cell": false,
   "toc_position": {},
   "toc_section_display": true,
   "toc_window_display": false
  }
 },
 "nbformat": 4,
 "nbformat_minor": 2
}
