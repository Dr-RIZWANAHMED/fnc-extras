{
 "cells": [
  {
   "cell_type": "markdown",
   "metadata": {},
   "source": [
    "We approximate the integral of the function $f(x)=e^{\\sin 7x}$ over the interval $[0,2]$. "
   ]
  },
  {
   "cell_type": "code",
   "execution_count": null,
   "metadata": {},
   "outputs": [],
   "source": [
    "f = x -> exp(sin(7*x));\n",
    "a = 0;  b = 2;"
   ]
  },
  {
   "cell_type": "markdown",
   "metadata": {},
   "source": [
    "In lieu of the exact value, we will use the `QuadGK` package to find an accurate result."
   ]
  },
  {
   "cell_type": "code",
   "execution_count": null,
   "metadata": {},
   "outputs": [],
   "source": [
    "using QuadGK\n",
    "I,errest = quadgk(f,a,b,atol=1e-14,rtol=1e-14);\n",
    "println(\"Integral = $I\")"
   ]
  },
  {
   "cell_type": "markdown",
   "metadata": {},
   "source": [
    "Here is the error at $n=40$. "
   ]
  },
  {
   "cell_type": "code",
   "execution_count": null,
   "metadata": {},
   "outputs": [],
   "source": [
    "include(\"../FNC.jl\")\n",
    "T,t,y = FNC.trapezoid(f,a,b,40)\n",
    "@show T;\n",
    "@show err = I - T;"
   ]
  },
  {
   "cell_type": "markdown",
   "metadata": {},
   "source": [
    "In order to check the order of accuracy, we double $n$ a few times and observe how the error decreases."
   ]
  },
  {
   "cell_type": "code",
   "execution_count": null,
   "metadata": {},
   "outputs": [],
   "source": [
    "n = @. 40*2^(0:5)\n",
    "err = zeros(size(n));\n",
    "for (k,n) = enumerate(n)\n",
    "    T,t,y = FNC.trapezoid(f,a,b,n)\n",
    "    err[k] = I - T\n",
    "end\n",
    "\n",
    "using DataFrames\n",
    "DataFrame(n=n,error=err)"
   ]
  },
  {
   "cell_type": "markdown",
   "metadata": {},
   "source": [
    "Each doubling of $n$ cuts the error by a factor of about 4, which is consistent with second-order convergence. Another check: the slope on a log-log graph should be $-2$."
   ]
  },
  {
   "cell_type": "code",
   "execution_count": null,
   "metadata": {},
   "outputs": [],
   "source": [
    "using Plots\n",
    "\n",
    "plot(n,abs.(err),m=:o,label=\"results\",\n",
    "    xaxis=(:log10,\"n\"),yaxis=(:log10,\"error\"),title=\"Convergence of trapezoidal integration\")\n",
    "plot!(n,3e-3*(n/n[1]).^(-2),l=:dash,label=\"2nd error\")"
   ]
  }
 ],
 "metadata": {
  "kernelspec": {
   "display_name": "Julia 1.0.3",
   "language": "julia",
   "name": "julia-1.0"
  },
  "language_info": {
   "file_extension": ".jl",
   "mimetype": "application/julia",
   "name": "julia",
   "version": "1.0.3"
  }
 },
 "nbformat": 4,
 "nbformat_minor": 2
}
