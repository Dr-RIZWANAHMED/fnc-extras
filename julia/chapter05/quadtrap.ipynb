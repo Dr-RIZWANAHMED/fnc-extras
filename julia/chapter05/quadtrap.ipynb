{
 "cells": [
  {
   "cell_type": "markdown",
   "metadata": {},
   "source": [
    "We approximate the integral of the function $f(x)=e^{\\sin 7x}$ over the interval $[0,2]$. "
   ]
  },
  {
   "cell_type": "code",
   "execution_count": 1,
   "metadata": {},
   "outputs": [],
   "source": [
    "f = x -> exp(sin(7*x));\n",
    "a = 0;  b = 2;"
   ]
  },
  {
   "cell_type": "markdown",
   "metadata": {},
   "source": [
    "In lieu of the exact value, we will use the `QuadGK` package to find an accurate result."
   ]
  },
  {
   "cell_type": "code",
   "execution_count": 2,
   "metadata": {},
   "outputs": [
    {
     "name": "stdout",
     "output_type": "stream",
     "text": [
      "Integral = 2.6632197827615394\n"
     ]
    }
   ],
   "source": [
    "using QuadGK\n",
    "I,errest = quadgk(f,a,b,atol=1e-14,rtol=1e-14);\n",
    "println(\"Integral = $I\")"
   ]
  },
  {
   "cell_type": "markdown",
   "metadata": {},
   "source": [
    "Here is the error at $n=40$. "
   ]
  },
  {
   "cell_type": "code",
   "execution_count": 3,
   "metadata": {},
   "outputs": [
    {
     "name": "stdout",
     "output_type": "stream",
     "text": [
      "T = 2.6623029356022876\n",
      "err = I - T = 0.0009168471592517768\n"
     ]
    }
   ],
   "source": [
    "include(\"../FNC.jl\")\n",
    "T,t,y = FNC.trapezoid(f,a,b,40)\n",
    "@show T;\n",
    "@show err = I - T;"
   ]
  },
  {
   "cell_type": "markdown",
   "metadata": {},
   "source": [
    "In order to check the order of accuracy, we double $n$ a few times and observe how the error decreases."
   ]
  },
  {
   "cell_type": "code",
   "execution_count": 4,
   "metadata": {},
   "outputs": [
    {
     "name": "stdout",
     "output_type": "stream",
     "text": [
      "loaded\n"
     ]
    },
    {
     "data": {
      "text/html": [
       "<table class=\"data-frame\"><thead><tr><th></th><th>n</th><th>error</th></tr><tr><th></th><th>Int64</th><th>Float64</th></tr></thead><tbody><p>6 rows × 2 columns</p><tr><th>1</th><td>40</td><td>0.000916847</td></tr><tr><th>2</th><td>80</td><td>0.000230065</td></tr><tr><th>3</th><td>160</td><td>5.75676e-5</td></tr><tr><th>4</th><td>320</td><td>1.43951e-5</td></tr><tr><th>5</th><td>640</td><td>3.59897e-6</td></tr><tr><th>6</th><td>1280</td><td>8.99754e-7</td></tr></tbody></table>"
      ],
      "text/latex": [
       "\\begin{tabular}{r|cc}\n",
       "\t& n & error\\\\\n",
       "\t\\hline\n",
       "\t& Int64 & Float64\\\\\n",
       "\t\\hline\n",
       "\t1 & 40 & 0.000916847 \\\\\n",
       "\t2 & 80 & 0.000230065 \\\\\n",
       "\t3 & 160 & 5.75676e-5 \\\\\n",
       "\t4 & 320 & 1.43951e-5 \\\\\n",
       "\t5 & 640 & 3.59897e-6 \\\\\n",
       "\t6 & 1280 & 8.99754e-7 \\\\\n",
       "\\end{tabular}\n"
      ],
      "text/plain": [
       "6×2 DataFrame\n",
       "│ Row │ n     │ error       │\n",
       "│     │ \u001b[90mInt64\u001b[39m │ \u001b[90mFloat64\u001b[39m     │\n",
       "├─────┼───────┼─────────────┤\n",
       "│ 1   │ 40    │ 0.000916847 │\n",
       "│ 2   │ 80    │ 0.000230065 │\n",
       "│ 3   │ 160   │ 5.75676e-5  │\n",
       "│ 4   │ 320   │ 1.43951e-5  │\n",
       "│ 5   │ 640   │ 3.59897e-6  │\n",
       "│ 6   │ 1280  │ 8.99754e-7  │"
      ]
     },
     "execution_count": 4,
     "metadata": {},
     "output_type": "execute_result"
    }
   ],
   "source": [
    "n = @. 40*2^(0:5)\n",
    "err = zeros(size(n));\n",
    "for (k,n) = enumerate(n)\n",
    "    T,t,y = FNC.trapezoid(f,a,b,n)\n",
    "    err[k] = I - T\n",
    "end\n",
    "\n",
    "using DataFrames\n",
    "DataFrame(n=n,error=err)"
   ]
  },
  {
   "cell_type": "markdown",
   "metadata": {},
   "source": [
    "Each doubling of $n$ cuts the error by a factor of about 4, which is consistent with second-order convergence. Another check: the slope on a log-log graph should be $-2$."
   ]
  },
  {
   "cell_type": "code",
   "execution_count": 5,
   "metadata": {},
   "outputs": [
    {
     "data": {
      "image/svg+xml": [
       "<?xml version=\"1.0\" encoding=\"utf-8\"?>\n",
       "<svg xmlns=\"http://www.w3.org/2000/svg\" xmlns:xlink=\"http://www.w3.org/1999/xlink\" width=\"600\" height=\"400\" viewBox=\"0 0 2400 1600\">\n",
       "<defs>\n",
       "  <clipPath id=\"clip7900\">\n",
       "    <rect x=\"0\" y=\"0\" width=\"2000\" height=\"2000\"/>\n",
       "  </clipPath>\n",
       "</defs>\n",
       "<defs>\n",
       "  <clipPath id=\"clip7901\">\n",
       "    <rect x=\"0\" y=\"0\" width=\"2400\" height=\"1600\"/>\n",
       "  </clipPath>\n",
       "</defs>\n",
       "<polygon clip-path=\"url(#clip7901)\" points=\"\n",
       "0,1600 2400,1600 2400,0 0,0 \n",
       "  \" fill=\"#ffffff\" fill-rule=\"evenodd\" fill-opacity=\"1\"/>\n",
       "<defs>\n",
       "  <clipPath id=\"clip7902\">\n",
       "    <rect x=\"480\" y=\"0\" width=\"1681\" height=\"1600\"/>\n",
       "  </clipPath>\n",
       "</defs>\n",
       "<polygon clip-path=\"url(#clip7901)\" points=\"\n",
       "288.452,1440.48 2321.26,1440.48 2321.26,125.984 288.452,125.984 \n",
       "  \" fill=\"#ffffff\" fill-rule=\"evenodd\" fill-opacity=\"1\"/>\n",
       "<defs>\n",
       "  <clipPath id=\"clip7903\">\n",
       "    <rect x=\"288\" y=\"125\" width=\"2034\" height=\"1315\"/>\n",
       "  </clipPath>\n",
       "</defs>\n",
       "<polyline clip-path=\"url(#clip7903)\" style=\"stroke:#000000; stroke-width:2; stroke-opacity:0.1; fill:none\" points=\"\n",
       "  598.184,1440.48 598.184,125.984 \n",
       "  \"/>\n",
       "<polyline clip-path=\"url(#clip7903)\" style=\"stroke:#000000; stroke-width:2; stroke-opacity:0.1; fill:none\" points=\"\n",
       "  980.42,1440.48 980.42,125.984 \n",
       "  \"/>\n",
       "<polyline clip-path=\"url(#clip7903)\" style=\"stroke:#000000; stroke-width:2; stroke-opacity:0.1; fill:none\" points=\"\n",
       "  1362.66,1440.48 1362.66,125.984 \n",
       "  \"/>\n",
       "<polyline clip-path=\"url(#clip7903)\" style=\"stroke:#000000; stroke-width:2; stroke-opacity:0.1; fill:none\" points=\"\n",
       "  1744.89,1440.48 1744.89,125.984 \n",
       "  \"/>\n",
       "<polyline clip-path=\"url(#clip7903)\" style=\"stroke:#000000; stroke-width:2; stroke-opacity:0.1; fill:none\" points=\"\n",
       "  2127.13,1440.48 2127.13,125.984 \n",
       "  \"/>\n",
       "<polyline clip-path=\"url(#clip7903)\" style=\"stroke:#000000; stroke-width:2; stroke-opacity:0.1; fill:none\" points=\"\n",
       "  288.452,1387.13 2321.26,1387.13 \n",
       "  \"/>\n",
       "<polyline clip-path=\"url(#clip7903)\" style=\"stroke:#000000; stroke-width:2; stroke-opacity:0.1; fill:none\" points=\"\n",
       "  288.452,1035.13 2321.26,1035.13 \n",
       "  \"/>\n",
       "<polyline clip-path=\"url(#clip7903)\" style=\"stroke:#000000; stroke-width:2; stroke-opacity:0.1; fill:none\" points=\"\n",
       "  288.452,683.133 2321.26,683.133 \n",
       "  \"/>\n",
       "<polyline clip-path=\"url(#clip7903)\" style=\"stroke:#000000; stroke-width:2; stroke-opacity:0.1; fill:none\" points=\"\n",
       "  288.452,331.133 2321.26,331.133 \n",
       "  \"/>\n",
       "<polyline clip-path=\"url(#clip7901)\" style=\"stroke:#000000; stroke-width:4; stroke-opacity:1; fill:none\" points=\"\n",
       "  288.452,1440.48 2321.26,1440.48 \n",
       "  \"/>\n",
       "<polyline clip-path=\"url(#clip7901)\" style=\"stroke:#000000; stroke-width:4; stroke-opacity:1; fill:none\" points=\"\n",
       "  288.452,1440.48 288.452,125.984 \n",
       "  \"/>\n",
       "<polyline clip-path=\"url(#clip7901)\" style=\"stroke:#000000; stroke-width:4; stroke-opacity:1; fill:none\" points=\"\n",
       "  598.184,1440.48 598.184,1420.77 \n",
       "  \"/>\n",
       "<polyline clip-path=\"url(#clip7901)\" style=\"stroke:#000000; stroke-width:4; stroke-opacity:1; fill:none\" points=\"\n",
       "  980.42,1440.48 980.42,1420.77 \n",
       "  \"/>\n",
       "<polyline clip-path=\"url(#clip7901)\" style=\"stroke:#000000; stroke-width:4; stroke-opacity:1; fill:none\" points=\"\n",
       "  1362.66,1440.48 1362.66,1420.77 \n",
       "  \"/>\n",
       "<polyline clip-path=\"url(#clip7901)\" style=\"stroke:#000000; stroke-width:4; stroke-opacity:1; fill:none\" points=\"\n",
       "  1744.89,1440.48 1744.89,1420.77 \n",
       "  \"/>\n",
       "<polyline clip-path=\"url(#clip7901)\" style=\"stroke:#000000; stroke-width:4; stroke-opacity:1; fill:none\" points=\"\n",
       "  2127.13,1440.48 2127.13,1420.77 \n",
       "  \"/>\n",
       "<polyline clip-path=\"url(#clip7901)\" style=\"stroke:#000000; stroke-width:4; stroke-opacity:1; fill:none\" points=\"\n",
       "  288.452,1387.13 318.944,1387.13 \n",
       "  \"/>\n",
       "<polyline clip-path=\"url(#clip7901)\" style=\"stroke:#000000; stroke-width:4; stroke-opacity:1; fill:none\" points=\"\n",
       "  288.452,1035.13 318.944,1035.13 \n",
       "  \"/>\n",
       "<polyline clip-path=\"url(#clip7901)\" style=\"stroke:#000000; stroke-width:4; stroke-opacity:1; fill:none\" points=\"\n",
       "  288.452,683.133 318.944,683.133 \n",
       "  \"/>\n",
       "<polyline clip-path=\"url(#clip7901)\" style=\"stroke:#000000; stroke-width:4; stroke-opacity:1; fill:none\" points=\"\n",
       "  288.452,331.133 318.944,331.133 \n",
       "  \"/>\n",
       "<g clip-path=\"url(#clip7901)\">\n",
       "<text style=\"fill:#000000; fill-opacity:1; font-family:Arial,Helvetica Neue,Helvetica,sans-serif; font-size:48px; text-anchor:start;\" transform=\"rotate(0, 538.805, 1515.49)\" x=\"538.805\" y=\"1515.49\">10</text>\n",
       "</g>\n",
       "<g clip-path=\"url(#clip7901)\">\n",
       "<text style=\"fill:#000000; fill-opacity:1; font-family:Arial,Helvetica Neue,Helvetica,sans-serif; font-size:38px; text-anchor:start;\" transform=\"rotate(0, 592.33, 1488.08)\" x=\"592.33\" y=\"1488.08\">1.8 </text>\n",
       "</g>\n",
       "<g clip-path=\"url(#clip7901)\">\n",
       "<text style=\"fill:#000000; fill-opacity:1; font-family:Arial,Helvetica Neue,Helvetica,sans-serif; font-size:48px; text-anchor:start;\" transform=\"rotate(0, 921.041, 1515.49)\" x=\"921.041\" y=\"1515.49\">10</text>\n",
       "</g>\n",
       "<g clip-path=\"url(#clip7901)\">\n",
       "<text style=\"fill:#000000; fill-opacity:1; font-family:Arial,Helvetica Neue,Helvetica,sans-serif; font-size:38px; text-anchor:start;\" transform=\"rotate(0, 974.566, 1488.08)\" x=\"974.566\" y=\"1488.08\">2.1 </text>\n",
       "</g>\n",
       "<g clip-path=\"url(#clip7901)\">\n",
       "<text style=\"fill:#000000; fill-opacity:1; font-family:Arial,Helvetica Neue,Helvetica,sans-serif; font-size:48px; text-anchor:start;\" transform=\"rotate(0, 1303.28, 1515.49)\" x=\"1303.28\" y=\"1515.49\">10</text>\n",
       "</g>\n",
       "<g clip-path=\"url(#clip7901)\">\n",
       "<text style=\"fill:#000000; fill-opacity:1; font-family:Arial,Helvetica Neue,Helvetica,sans-serif; font-size:38px; text-anchor:start;\" transform=\"rotate(0, 1356.8, 1488.08)\" x=\"1356.8\" y=\"1488.08\">2.4 </text>\n",
       "</g>\n",
       "<g clip-path=\"url(#clip7901)\">\n",
       "<text style=\"fill:#000000; fill-opacity:1; font-family:Arial,Helvetica Neue,Helvetica,sans-serif; font-size:48px; text-anchor:start;\" transform=\"rotate(0, 1685.51, 1515.49)\" x=\"1685.51\" y=\"1515.49\">10</text>\n",
       "</g>\n",
       "<g clip-path=\"url(#clip7901)\">\n",
       "<text style=\"fill:#000000; fill-opacity:1; font-family:Arial,Helvetica Neue,Helvetica,sans-serif; font-size:38px; text-anchor:start;\" transform=\"rotate(0, 1739.04, 1488.08)\" x=\"1739.04\" y=\"1488.08\">2.7 </text>\n",
       "</g>\n",
       "<g clip-path=\"url(#clip7901)\">\n",
       "<text style=\"fill:#000000; fill-opacity:1; font-family:Arial,Helvetica Neue,Helvetica,sans-serif; font-size:48px; text-anchor:start;\" transform=\"rotate(0, 2067.75, 1515.49)\" x=\"2067.75\" y=\"1515.49\">10</text>\n",
       "</g>\n",
       "<g clip-path=\"url(#clip7901)\">\n",
       "<text style=\"fill:#000000; fill-opacity:1; font-family:Arial,Helvetica Neue,Helvetica,sans-serif; font-size:38px; text-anchor:start;\" transform=\"rotate(0, 2121.27, 1488.08)\" x=\"2121.27\" y=\"1488.08\">3.0 </text>\n",
       "</g>\n",
       "<g clip-path=\"url(#clip7901)\">\n",
       "<text style=\"fill:#000000; fill-opacity:1; font-family:Arial,Helvetica Neue,Helvetica,sans-serif; font-size:48px; text-anchor:start;\" transform=\"rotate(0, 155.471, 1410.86)\" x=\"155.471\" y=\"1410.86\">10</text>\n",
       "</g>\n",
       "<g clip-path=\"url(#clip7901)\">\n",
       "<text style=\"fill:#000000; fill-opacity:1; font-family:Arial,Helvetica Neue,Helvetica,sans-serif; font-size:38px; text-anchor:start;\" transform=\"rotate(0, 208.996, 1383.45)\" x=\"208.996\" y=\"1383.45\">-</text>\n",
       "</g>\n",
       "<g clip-path=\"url(#clip7901)\">\n",
       "<text style=\"fill:#000000; fill-opacity:1; font-family:Arial,Helvetica Neue,Helvetica,sans-serif; font-size:38px; text-anchor:start;\" transform=\"rotate(0, 231.836, 1383.45)\" x=\"231.836\" y=\"1383.45\">6 </text>\n",
       "</g>\n",
       "<g clip-path=\"url(#clip7901)\">\n",
       "<text style=\"fill:#000000; fill-opacity:1; font-family:Arial,Helvetica Neue,Helvetica,sans-serif; font-size:48px; text-anchor:start;\" transform=\"rotate(0, 155.471, 1058.86)\" x=\"155.471\" y=\"1058.86\">10</text>\n",
       "</g>\n",
       "<g clip-path=\"url(#clip7901)\">\n",
       "<text style=\"fill:#000000; fill-opacity:1; font-family:Arial,Helvetica Neue,Helvetica,sans-serif; font-size:38px; text-anchor:start;\" transform=\"rotate(0, 208.996, 1031.45)\" x=\"208.996\" y=\"1031.45\">-</text>\n",
       "</g>\n",
       "<g clip-path=\"url(#clip7901)\">\n",
       "<text style=\"fill:#000000; fill-opacity:1; font-family:Arial,Helvetica Neue,Helvetica,sans-serif; font-size:38px; text-anchor:start;\" transform=\"rotate(0, 231.836, 1031.45)\" x=\"231.836\" y=\"1031.45\">5 </text>\n",
       "</g>\n",
       "<g clip-path=\"url(#clip7901)\">\n",
       "<text style=\"fill:#000000; fill-opacity:1; font-family:Arial,Helvetica Neue,Helvetica,sans-serif; font-size:48px; text-anchor:start;\" transform=\"rotate(0, 155.471, 706.86)\" x=\"155.471\" y=\"706.86\">10</text>\n",
       "</g>\n",
       "<g clip-path=\"url(#clip7901)\">\n",
       "<text style=\"fill:#000000; fill-opacity:1; font-family:Arial,Helvetica Neue,Helvetica,sans-serif; font-size:38px; text-anchor:start;\" transform=\"rotate(0, 208.996, 679.45)\" x=\"208.996\" y=\"679.45\">-</text>\n",
       "</g>\n",
       "<g clip-path=\"url(#clip7901)\">\n",
       "<text style=\"fill:#000000; fill-opacity:1; font-family:Arial,Helvetica Neue,Helvetica,sans-serif; font-size:38px; text-anchor:start;\" transform=\"rotate(0, 231.836, 679.45)\" x=\"231.836\" y=\"679.45\">4 </text>\n",
       "</g>\n",
       "<g clip-path=\"url(#clip7901)\">\n",
       "<text style=\"fill:#000000; fill-opacity:1; font-family:Arial,Helvetica Neue,Helvetica,sans-serif; font-size:48px; text-anchor:start;\" transform=\"rotate(0, 155.471, 354.861)\" x=\"155.471\" y=\"354.861\">10</text>\n",
       "</g>\n",
       "<g clip-path=\"url(#clip7901)\">\n",
       "<text style=\"fill:#000000; fill-opacity:1; font-family:Arial,Helvetica Neue,Helvetica,sans-serif; font-size:38px; text-anchor:start;\" transform=\"rotate(0, 208.996, 327.451)\" x=\"208.996\" y=\"327.451\">-</text>\n",
       "</g>\n",
       "<g clip-path=\"url(#clip7901)\">\n",
       "<text style=\"fill:#000000; fill-opacity:1; font-family:Arial,Helvetica Neue,Helvetica,sans-serif; font-size:38px; text-anchor:start;\" transform=\"rotate(0, 231.836, 327.451)\" x=\"231.836\" y=\"327.451\">3 </text>\n",
       "</g>\n",
       "<g clip-path=\"url(#clip7901)\">\n",
       "<text style=\"fill:#000000; fill-opacity:1; font-family:Arial,Helvetica Neue,Helvetica,sans-serif; font-size:84px; text-anchor:middle;\" transform=\"rotate(0, 1304.86, 73.2)\" x=\"1304.86\" y=\"73.2\">Convergence of trapezoidal integration</text>\n",
       "</g>\n",
       "<g clip-path=\"url(#clip7901)\">\n",
       "<text style=\"fill:#000000; fill-opacity:1; font-family:Arial,Helvetica Neue,Helvetica,sans-serif; font-size:66px; text-anchor:middle;\" transform=\"rotate(0, 1304.86, 1590.4)\" x=\"1304.86\" y=\"1590.4\">n</text>\n",
       "</g>\n",
       "<g clip-path=\"url(#clip7901)\">\n",
       "<text style=\"fill:#000000; fill-opacity:1; font-family:Arial,Helvetica Neue,Helvetica,sans-serif; font-size:66px; text-anchor:middle;\" transform=\"rotate(-90, 57.6, 783.233)\" x=\"57.6\" y=\"783.233\">error</text>\n",
       "</g>\n",
       "<polyline clip-path=\"url(#clip7903)\" style=\"stroke:#009af9; stroke-width:4; stroke-opacity:1; fill:none\" points=\"\n",
       "  345.984,344.405 729.533,555.762 1113.08,767.55 1496.63,979.441 1880.18,1191.36 2263.73,1403.28 \n",
       "  \"/>\n",
       "<polygon clip-path=\"url(#clip7903)\" style=\"fill:#000000; fill-opacity:1\" points=\"\n",
       "  345.984,364.405 331.844,358.545 325.984,344.405 331.844,330.265 345.984,324.405 360.124,330.265 365.984,344.405 360.124,358.545 \n",
       "  \"/>\n",
       "<polygon clip-path=\"url(#clip7903)\" style=\"fill:#009af9; fill-opacity:1\" points=\"\n",
       "  345.984,360.405 334.672,355.717 329.984,344.405 334.672,333.093 345.984,328.405 357.296,333.093 361.984,344.405 357.296,355.717 \n",
       "  \"/>\n",
       "<polygon clip-path=\"url(#clip7903)\" style=\"fill:#000000; fill-opacity:1\" points=\"\n",
       "  729.533,575.762 715.393,569.902 709.533,555.762 715.393,541.622 729.533,535.762 743.673,541.622 749.533,555.762 743.673,569.902 \n",
       "  \"/>\n",
       "<polygon clip-path=\"url(#clip7903)\" style=\"fill:#009af9; fill-opacity:1\" points=\"\n",
       "  729.533,571.762 718.221,567.074 713.533,555.762 718.221,544.45 729.533,539.762 740.845,544.45 745.533,555.762 740.845,567.074 \n",
       "  \"/>\n",
       "<polygon clip-path=\"url(#clip7903)\" style=\"fill:#000000; fill-opacity:1\" points=\"\n",
       "  1113.08,787.55 1098.94,781.69 1093.08,767.55 1098.94,753.41 1113.08,747.55 1127.22,753.41 1133.08,767.55 1127.22,781.69 \n",
       "  \"/>\n",
       "<polygon clip-path=\"url(#clip7903)\" style=\"fill:#009af9; fill-opacity:1\" points=\"\n",
       "  1113.08,783.55 1101.77,778.862 1097.08,767.55 1101.77,756.238 1113.08,751.55 1124.39,756.238 1129.08,767.55 1124.39,778.862 \n",
       "  \"/>\n",
       "<polygon clip-path=\"url(#clip7903)\" style=\"fill:#000000; fill-opacity:1\" points=\"\n",
       "  1496.63,999.441 1482.49,993.581 1476.63,979.441 1482.49,965.301 1496.63,959.441 1510.77,965.301 1516.63,979.441 1510.77,993.581 \n",
       "  \"/>\n",
       "<polygon clip-path=\"url(#clip7903)\" style=\"fill:#009af9; fill-opacity:1\" points=\"\n",
       "  1496.63,995.441 1485.32,990.753 1480.63,979.441 1485.32,968.129 1496.63,963.441 1507.94,968.129 1512.63,979.441 1507.94,990.753 \n",
       "  \"/>\n",
       "<polygon clip-path=\"url(#clip7903)\" style=\"fill:#000000; fill-opacity:1\" points=\"\n",
       "  1880.18,1211.36 1866.04,1205.5 1860.18,1191.36 1866.04,1177.22 1880.18,1171.36 1894.32,1177.22 1900.18,1191.36 1894.32,1205.5 \n",
       "  \"/>\n",
       "<polygon clip-path=\"url(#clip7903)\" style=\"fill:#009af9; fill-opacity:1\" points=\"\n",
       "  1880.18,1207.36 1868.87,1202.67 1864.18,1191.36 1868.87,1180.05 1880.18,1175.36 1891.49,1180.05 1896.18,1191.36 1891.49,1202.67 \n",
       "  \"/>\n",
       "<polygon clip-path=\"url(#clip7903)\" style=\"fill:#000000; fill-opacity:1\" points=\"\n",
       "  2263.73,1423.28 2249.59,1417.42 2243.73,1403.28 2249.59,1389.14 2263.73,1383.28 2277.87,1389.14 2283.73,1403.28 2277.87,1417.42 \n",
       "  \"/>\n",
       "<polygon clip-path=\"url(#clip7903)\" style=\"fill:#009af9; fill-opacity:1\" points=\"\n",
       "  2263.73,1419.28 2252.42,1414.59 2247.73,1403.28 2252.42,1391.97 2263.73,1387.28 2275.04,1391.97 2279.73,1403.28 2275.04,1414.59 \n",
       "  \"/>\n",
       "<polyline clip-path=\"url(#clip7903)\" style=\"stroke:#e26f46; stroke-width:4; stroke-opacity:1; fill:none\" stroke-dasharray=\"16, 10\" points=\"\n",
       "  345.984,163.187 729.533,375.112 1113.08,587.036 1496.63,798.961 1880.18,1010.89 2263.73,1222.81 \n",
       "  \"/>\n",
       "<polygon clip-path=\"url(#clip7901)\" points=\"\n",
       "1813.98,390.944 2249.26,390.944 2249.26,209.504 1813.98,209.504 \n",
       "  \" fill=\"#ffffff\" fill-rule=\"evenodd\" fill-opacity=\"1\"/>\n",
       "<polyline clip-path=\"url(#clip7901)\" style=\"stroke:#000000; stroke-width:4; stroke-opacity:1; fill:none\" points=\"\n",
       "  1813.98,390.944 2249.26,390.944 2249.26,209.504 1813.98,209.504 1813.98,390.944 \n",
       "  \"/>\n",
       "<polyline clip-path=\"url(#clip7901)\" style=\"stroke:#009af9; stroke-width:4; stroke-opacity:1; fill:none\" points=\"\n",
       "  1837.98,269.984 1981.98,269.984 \n",
       "  \"/>\n",
       "<polygon clip-path=\"url(#clip7901)\" style=\"fill:#000000; fill-opacity:1\" points=\"\n",
       "  1921.98,297.984 1902.19,289.78 1893.98,269.984 1902.19,250.188 1921.98,241.984 1941.78,250.188 1949.98,269.984 1941.78,289.78 \n",
       "  \"/>\n",
       "<polygon clip-path=\"url(#clip7901)\" style=\"fill:#009af9; fill-opacity:1\" points=\"\n",
       "  1921.98,293.984 1905.01,286.952 1897.98,269.984 1905.01,253.016 1921.98,245.984 1938.95,253.016 1945.98,269.984 1938.95,286.952 \n",
       "  \"/>\n",
       "<g clip-path=\"url(#clip7901)\">\n",
       "<text style=\"fill:#000000; fill-opacity:1; font-family:Arial,Helvetica Neue,Helvetica,sans-serif; font-size:48px; text-anchor:start;\" transform=\"rotate(0, 2005.98, 287.484)\" x=\"2005.98\" y=\"287.484\">results</text>\n",
       "</g>\n",
       "<polyline clip-path=\"url(#clip7901)\" style=\"stroke:#e26f46; stroke-width:4; stroke-opacity:1; fill:none\" stroke-dasharray=\"16, 10\" points=\"\n",
       "  1837.98,330.464 1981.98,330.464 \n",
       "  \"/>\n",
       "<g clip-path=\"url(#clip7901)\">\n",
       "<text style=\"fill:#000000; fill-opacity:1; font-family:Arial,Helvetica Neue,Helvetica,sans-serif; font-size:48px; text-anchor:start;\" transform=\"rotate(0, 2005.98, 347.964)\" x=\"2005.98\" y=\"347.964\">2nd error</text>\n",
       "</g>\n",
       "</svg>\n"
      ]
     },
     "execution_count": 5,
     "metadata": {},
     "output_type": "execute_result"
    }
   ],
   "source": [
    "using Plots\n",
    "\n",
    "plot(n,abs.(err),m=:o,label=\"results\",\n",
    "    xaxis=(:log10,\"n\"),yaxis=(:log10,\"error\"),title=\"Convergence of trapezoidal integration\")\n",
    "plot!(n,3e-3*(n/n[1]).^(-2),l=:dash,label=\"2nd error\")"
   ]
  }
 ],
 "metadata": {
  "kernelspec": {
   "display_name": "Julia 1.1.0",
   "language": "julia",
   "name": "julia-1.1"
  },
  "language_info": {
   "file_extension": ".jl",
   "mimetype": "application/julia",
   "name": "julia",
   "version": "1.1.0"
  },
  "toc": {
   "base_numbering": 1,
   "nav_menu": {},
   "number_sections": true,
   "sideBar": true,
   "skip_h1_title": false,
   "title_cell": "Table of Contents",
   "title_sidebar": "Contents",
   "toc_cell": false,
   "toc_position": {},
   "toc_section_display": true,
   "toc_window_display": false
  }
 },
 "nbformat": 4,
 "nbformat_minor": 2
}
