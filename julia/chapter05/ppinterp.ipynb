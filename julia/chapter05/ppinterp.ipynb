{
 "cells": [
  {
   "cell_type": "code",
   "execution_count": null,
   "metadata": {},
   "outputs": [],
   "source": [
    "n = 12\n",
    "t = range(-1,stop=1,length=n+1)\n",
    "y = @. t^2 + t + 0.5*sin(20*t)\n",
    "\n",
    "using Plots\n",
    "plot(t,y,m=:o,l=nothing,label=\"data\",leg=:top) "
   ]
  },
  {
   "cell_type": "markdown",
   "metadata": {},
   "source": [
    "The `Interpolations` package makes it easy to construct some standard interpolating functions. Here is one that is linear between each pair of consecutive nodes."
   ]
  },
  {
   "cell_type": "code",
   "execution_count": null,
   "metadata": {},
   "outputs": [],
   "source": [
    "using Interpolations\n",
    "p = LinearInterpolation(t,y)\n",
    "plot!(x->p(x),-1,1,label=\"piecewise linear\")"
   ]
  },
  {
   "cell_type": "markdown",
   "metadata": {},
   "source": [
    "We may instead request a smoother interpolant that is piecewise cubic."
   ]
  },
  {
   "cell_type": "code",
   "execution_count": null,
   "metadata": {},
   "outputs": [],
   "source": [
    "p = CubicSplineInterpolation(t,y)\n",
    "plot(t,y,m=:o,l=nothing,label=\"data\",leg=:top) \n",
    "plot!(x->p(x),-1,1,label=\"piecewise cubic\")"
   ]
  }
 ],
 "metadata": {
  "kernelspec": {
   "display_name": "Julia 1.0.3",
   "language": "julia",
   "name": "julia-1.0"
  },
  "language_info": {
   "file_extension": ".jl",
   "mimetype": "application/julia",
   "name": "julia",
   "version": "1.0.3"
  }
 },
 "nbformat": 4,
 "nbformat_minor": 2
}
