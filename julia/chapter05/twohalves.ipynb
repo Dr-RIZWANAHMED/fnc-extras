{
 "cells": [
  {
   "cell_type": "markdown",
   "metadata": {},
   "source": [
    "This function gets increasingly oscillatory near the right endpoint."
   ]
  },
  {
   "cell_type": "code",
   "execution_count": null,
   "metadata": {},
   "outputs": [],
   "source": [
    "f = x -> (x+1)^2*cos((2*x+1)/(x-4.3))\n",
    "\n",
    "using Plots\n",
    "plot(f,0,4,label=\"\",xlabel=\"x\",ylabel=\"f(x)\")"
   ]
  },
  {
   "cell_type": "markdown",
   "metadata": {},
   "source": [
    "Accordingly, the trapezoid rule is more accurate on the left half of the interval than on the right half."
   ]
  },
  {
   "cell_type": "code",
   "execution_count": null,
   "metadata": {},
   "outputs": [],
   "source": [
    "include(\"../FNC.jl\")\n",
    "n = @. 50*2^(0:3)\n",
    "Tleft = []; Tright = [];\n",
    "for (i,n) = enumerate(n)\n",
    "    Tleft = [ Tleft; FNC.trapezoid(f,0,2,n)[1] ] \n",
    "    Tright = [ Tright; FNC.trapezoid(f,2,4,n)[1] ] \n",
    "end"
   ]
  },
  {
   "cell_type": "code",
   "execution_count": null,
   "metadata": {},
   "outputs": [],
   "source": [
    "using QuadGK\n",
    "left_val,err = quadgk(f,0,2,atol=1e-14,rtol=1e-14)\n",
    "right_val,err = quadgk(f,2,4,atol=1e-14,rtol=1e-14)\n",
    "\n",
    "using DataFrames\n",
    "DataFrame(n=n,left_error=Tleft.-left_val,right_error=Tright.-right_val)"
   ]
  },
  {
   "cell_type": "markdown",
   "metadata": {},
   "source": [
    "Both the picture and the numbers suggest that more nodes should be used on the right half of the interval than on the left half."
   ]
  }
 ],
 "metadata": {
  "kernelspec": {
   "display_name": "Julia 1.0.3",
   "language": "julia",
   "name": "julia-1.0"
  },
  "language_info": {
   "file_extension": ".jl",
   "mimetype": "application/julia",
   "name": "julia",
   "version": "1.0.3"
  }
 },
 "nbformat": 4,
 "nbformat_minor": 2
}
