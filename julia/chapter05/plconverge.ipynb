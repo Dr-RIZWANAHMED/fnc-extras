{
 "cells": [
  {
   "cell_type": "markdown",
   "metadata": {},
   "source": [
    "We measure the convergence rate for piecewise linear interpolation of $e^{\\sin 7x}$."
   ]
  },
  {
   "cell_type": "code",
   "execution_count": null,
   "metadata": {},
   "outputs": [],
   "source": [
    "include(\"../FNC.jl\")\n",
    "\n",
    "f = x -> exp(sin(7*x))\n",
    "x = (0:10000)/1e4  # sample the difference at many points\n",
    "n = @. 2^(3:10)\n",
    "err = zeros(size(n))\n",
    "for (i,n) = enumerate(n)\n",
    "    t = (0:n)/n   # interpolation nodes\n",
    "    p = FNC.plinterp(t,f.(t))\n",
    "    err[i] = maximum( @. abs(f(x)-p(x)) )\n",
    "end"
   ]
  },
  {
   "cell_type": "markdown",
   "metadata": {},
   "source": [
    "Since we expect convergence that is $O(h^2)=O(n^{-2})$, we use a log-log graph of error and expect a straight line of slope $-2$."
   ]
  },
  {
   "cell_type": "code",
   "execution_count": null,
   "metadata": {},
   "outputs": [],
   "source": [
    "using Plots,LaTeXStrings\n",
    "order2 = @. 0.1*(n/n[1])^(-2)\n",
    "plot(n,[err order2],m=:o,l=[:solid :dash],label=[\"error\" \"2nd order\"],\n",
    "    xaxis=(:log10,L\"n\"),yaxis=(:log10,L\"\\|f-p\\|_\\infty\"),title=\"Convergence of PL interpolation\")"
   ]
  }
 ],
 "metadata": {
  "kernelspec": {
   "display_name": "Julia 1.0.3",
   "language": "julia",
   "name": "julia-1.0"
  },
  "language_info": {
   "file_extension": ".jl",
   "mimetype": "application/julia",
   "name": "julia",
   "version": "1.0.3"
  }
 },
 "nbformat": 4,
 "nbformat_minor": 2
}
