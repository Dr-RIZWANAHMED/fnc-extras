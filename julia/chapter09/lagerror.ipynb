{
 "cells": [
  {
   "cell_type": "markdown",
   "metadata": {},
   "source": [
    "Consider the problem of interpolating $\\log(x)$ at these nodes:"
   ]
  },
  {
   "cell_type": "code",
   "execution_count": null,
   "metadata": {},
   "outputs": [],
   "source": [
    " t = [ 1, 1.6, 1.9, 2.7, 3 ];"
   ]
  },
  {
   "cell_type": "markdown",
   "metadata": {},
   "source": [
    "Here $n=4$ and $f^{(5)}(\\xi) = 4!/\\xi^5$. For $\\xi\\in[1,3]$ we can say that $|f^{(5)}(\\xi)| \\le 4!$. Hence \n",
    "\n",
    "$$ |f(x)-p(x)| \\le \\frac{1}{5} \\Phi(x).$$"
   ]
  },
  {
   "cell_type": "code",
   "execution_count": null,
   "metadata": {},
   "outputs": [],
   "source": [
    "Phi = x -> prod(x-ti for ti=t)\n",
    "\n",
    "using Plots\n",
    "plot(x->Phi(x)/5,1,3)\n",
    "plot!(t,zeros(size(t)),m=:o,l=nothing,color=:black,\n",
    "    xaxis=(\"\\$x\\$\"), yaxis=(\"\\$\\\\Phi(x)\\$\"),\n",
    "    title=\"Interpolation error function\",legend=:none)"
   ]
  },
  {
   "cell_type": "markdown",
   "metadata": {},
   "source": [
    "The error bound has one local extreme point between each consecutive pair of nodes."
   ]
  }
 ],
 "metadata": {
  "kernelspec": {
   "display_name": "Julia 1.0.3",
   "language": "julia",
   "name": "julia-1.0"
  },
  "language_info": {
   "file_extension": ".jl",
   "mimetype": "application/julia",
   "name": "julia",
   "version": "1.0.3"
  }
 },
 "nbformat": 4,
 "nbformat_minor": 2
}
