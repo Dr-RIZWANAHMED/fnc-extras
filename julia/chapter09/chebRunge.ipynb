{
 "cells": [
  {
   "cell_type": "markdown",
   "metadata": {},
   "source": [
    "This function has infinitely many continuous derivatives on the entire real line and looks very easy to approximate over $[-1,1]$.  "
   ]
  },
  {
   "cell_type": "code",
   "execution_count": null,
   "metadata": {},
   "outputs": [],
   "source": [
    "include(\"../FNC.jl\")\n",
    "using Plots\n",
    "\n",
    "plot([],[],label=\"\",xaxis=(\"\\$x\\$\"),yaxis=(:log10,\"\\$|f(x)-p(x)|\\$\",[1e-20,1]))\n",
    "\n",
    "f = x -> 1/(x^2 + 16)\n",
    "\n",
    "x = range(-1,stop=1,length=1601)\n",
    "for (k,n) = enumerate([4,10,16,40])\n",
    "    t = [ -cos(pi*k/n) for k=0:n ]\n",
    "    y = f.(t)                           # interpolation data\n",
    "    p = FNC.polyinterp(t,y)\n",
    "    err = @.abs(f(x)-p(x))\n",
    "    plot!(x,err,m=(1,:o,stroke(0)),label=\"degree $n\")\n",
    "end\n",
    "plot!([],[],label=\"\",title=\"Error for Chebyshev interpolants\")"
   ]
  },
  {
   "cell_type": "markdown",
   "metadata": {},
   "source": [
    "By degree 16 the error is uniformly within machine epsilon. Note that even as the degree continues to increase, the error near the ends does not grow as with the Runge phenomenon for equally spaced nodes."
   ]
  }
 ],
 "metadata": {
  "kernelspec": {
   "display_name": "Julia 1.0.3",
   "language": "julia",
   "name": "julia-1.0"
  },
  "language_info": {
   "file_extension": ".jl",
   "mimetype": "application/julia",
   "name": "julia",
   "version": "1.0.3"
  }
 },
 "nbformat": 4,
 "nbformat_minor": 2
}
