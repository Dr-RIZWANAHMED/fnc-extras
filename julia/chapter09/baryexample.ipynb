{
 "cells": [
  {
   "cell_type": "markdown",
   "metadata": {},
   "source": [
    "We use $n=3$ and $n=6$ with equally spaced nodes for the function $\\sin(e^{2x})$ over $[0,1]$."
   ]
  },
  {
   "cell_type": "code",
   "execution_count": null,
   "metadata": {},
   "outputs": [],
   "source": [
    "f = x -> sin(exp(2*x))\n",
    "\n",
    "using Plots\n",
    "plot(f,0,1,label=\"function\",legend=:bottomleft)"
   ]
  },
  {
   "cell_type": "code",
   "execution_count": null,
   "metadata": {},
   "outputs": [],
   "source": [
    "t = (0:3)/3 \n",
    "include(\"../FNC.jl\")\n",
    "p = FNC.polyinterp(t,f.(t))\n",
    "plot!(p,0,1,label=\"interpolant\",\n",
    "    title=\"Interpolation on 4 nodes\")"
   ]
  },
  {
   "cell_type": "code",
   "execution_count": null,
   "metadata": {},
   "outputs": [],
   "source": [
    "plot(f,0,1,label=\"function\",legend=:bottomleft)\n",
    "t = (0:6)/6 \n",
    "p = FNC.polyinterp(t,f.(t))\n",
    "plot!(p,0,1,label=\"interpolant\",title=\"Interpolation on 7 nodes\")"
   ]
  },
  {
   "cell_type": "markdown",
   "metadata": {},
   "source": [
    "The curves always intersect at the interpolation nodes. "
   ]
  }
 ],
 "metadata": {
  "kernelspec": {
   "display_name": "Julia 1.0.3",
   "language": "julia",
   "name": "julia-1.0"
  },
  "language_info": {
   "file_extension": ".jl",
   "mimetype": "application/julia",
   "name": "julia",
   "version": "1.0.3"
  }
 },
 "nbformat": 4,
 "nbformat_minor": 2
}
