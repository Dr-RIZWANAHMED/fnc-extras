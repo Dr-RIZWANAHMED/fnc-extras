{
 "cells": [
  {
   "cell_type": "markdown",
   "metadata": {},
   "source": [
    "We get a cardinal function if we use data that is one at a node and zero at the others. "
   ]
  },
  {
   "cell_type": "code",
   "execution_count": null,
   "metadata": {},
   "outputs": [],
   "source": [
    "N = 7;  n = Int((N-1)/2);\n",
    "t = @. 2*(-n:n)/N\n",
    "y = zeros(N);  y[n+1] = 1;\n",
    "\n",
    "using Plots\n",
    "plot(t,y,m=:o,l=nothing,\n",
    "    xaxis=(\"x\"),yaxis=(\"tau(x)\"),\n",
    "    title=\"Trig cardinal function\",leg=:none)\n",
    "\n",
    "include(\"../FNC.jl\")\n",
    "p = FNC.triginterp(t,y)\n",
    "plot!(p,-1,1)"
   ]
  },
  {
   "cell_type": "markdown",
   "metadata": {},
   "source": [
    "Here is a 2-periodic function and one of its interpolants."
   ]
  },
  {
   "cell_type": "code",
   "execution_count": null,
   "metadata": {},
   "outputs": [],
   "source": [
    "f = x -> exp(sin(pi*x)-2*cos(pi*x))\n",
    "\n",
    "plot(f,-1,1,label=\"function\",\n",
    "    xaxis=(\"x\"), yaxis=(\"p(x)\"),\n",
    "    title=\"Trig interpolation\",leg=:top)  \n",
    "\n",
    "y = f.(t);  plot!(t,y,m=:o,l=nothing,label=\"nodes\")\n",
    "plot!(FNC.triginterp(t,y),-1,1,label=\"interpolant\")"
   ]
  },
  {
   "cell_type": "markdown",
   "metadata": {},
   "source": [
    "The convergence of the interpolant is exponential (spectral). We let $N$ go needlessly large here in order to demonstrate that unlike polynomials, trigonometric interpolation is stable on equally spaced nodes."
   ]
  },
  {
   "cell_type": "code",
   "execution_count": null,
   "metadata": {},
   "outputs": [],
   "source": [
    "N = 3:3:90\n",
    "err = zeros(size(N))\n",
    "\n",
    "x = range(-1,stop=1,length=1601)  # for measuring error\n",
    "for (k,N) = enumerate(N)\n",
    "    n = (N-1)/2;   t = @. 2*(-n:n)/N;\n",
    "    p = FNC.triginterp(t,f.(t))\n",
    "    err[k] = maximum(@. abs(f(x)-p(x)) )\n",
    "end\n",
    "\n",
    "plot(N,err,m=:o,\n",
    "    title=\"Error in trig interpolation\",leg=:none,\n",
    "    xaxis=(\"N\"), yaxis=(:log10,\"max error\") )"
   ]
  }
 ],
 "metadata": {
  "kernelspec": {
   "display_name": "Julia 1.0.3",
   "language": "julia",
   "name": "julia-1.0"
  },
  "language_info": {
   "file_extension": ".jl",
   "mimetype": "application/julia",
   "name": "julia",
   "version": "1.0.3"
  },
  "toc": {
   "base_numbering": 1,
   "nav_menu": {},
   "number_sections": true,
   "sideBar": true,
   "skip_h1_title": false,
   "title_cell": "Table of Contents",
   "title_sidebar": "Contents",
   "toc_cell": false,
   "toc_position": {},
   "toc_section_display": true,
   "toc_window_display": false
  }
 },
 "nbformat": 4,
 "nbformat_minor": 2
}
