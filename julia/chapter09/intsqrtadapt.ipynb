{
 "cells": [
  {
   "cell_type": "code",
   "execution_count": null,
   "metadata": {},
   "outputs": [],
   "source": [
    "include(\"../FNC.jl\")\n",
    "I,x = FNC.intadapt(sqrt,0,1,1e-10)\n",
    "@show err = I - 2/3;\n",
    "@show number_of_nodes = length(x);"
   ]
  },
  {
   "cell_type": "markdown",
   "metadata": {},
   "source": [
    "The adaptive integrator was reasonably successful. But if we integrate $1/\\sqrt{x}$, which in unbounded at the origin, the number of nodes goes up dramatically. "
   ]
  },
  {
   "cell_type": "code",
   "execution_count": null,
   "metadata": {},
   "outputs": [],
   "source": [
    "I,x = FNC.intadapt(x -> 1/sqrt(x),eps(),1,1e-10)\n",
    "@show err = I - 2;\n",
    "@show number_of_nodes = length(x);"
   ]
  },
  {
   "cell_type": "markdown",
   "metadata": {},
   "source": [
    "The nodes are packed in very closely at the origin; in fact they are placed with exponential spacing."
   ]
  },
  {
   "cell_type": "code",
   "execution_count": null,
   "metadata": {},
   "outputs": [],
   "source": [
    "using Plots\n",
    "\n",
    "scatter(x[1:end-1],diff(x),m=(1),\n",
    "    xaxis=(\"x\",:log10,[1e-15,1]),yaxis=(:log10,\"distance\",[1e-15,1]),\n",
    "    title=\"Distance between nodes\",leg=:none)"
   ]
  }
 ],
 "metadata": {
  "kernelspec": {
   "display_name": "Julia 1.0.3",
   "language": "julia",
   "name": "julia-1.0"
  },
  "language_info": {
   "file_extension": ".jl",
   "mimetype": "application/julia",
   "name": "julia",
   "version": "1.0.3"
  },
  "toc": {
   "base_numbering": 1,
   "nav_menu": {},
   "number_sections": true,
   "sideBar": true,
   "skip_h1_title": false,
   "title_cell": "Table of Contents",
   "title_sidebar": "Contents",
   "toc_cell": false,
   "toc_position": {},
   "toc_section_display": true,
   "toc_window_display": false
  }
 },
 "nbformat": 4,
 "nbformat_minor": 2
}
