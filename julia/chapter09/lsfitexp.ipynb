{
 "cells": [
  {
   "cell_type": "markdown",
   "metadata": {},
   "source": [
    "Let's approximate $e^x$ over the interval $[-1,1]$. We can sample it at, say, 40 points, and find the best-fitting straight line to that data. "
   ]
  },
  {
   "cell_type": "code",
   "execution_count": null,
   "metadata": {},
   "outputs": [],
   "source": [
    "t = range(-1,stop=1,length=40)\n",
    "y = exp.(t)\n",
    "\n",
    "using Plots\n",
    "plot(t,y,m=(3,:o),label=\"function\")\n",
    "\n",
    "V = [ ti^j for ti in t, j=0:1 ]\n",
    "c = V\\y\n",
    "plot!(t->c[1]+c[2]*t,-1,1,label=\"fit\",\n",
    "    xaxis=(\"x\"),yaxis=(\"value\"),title=\"Least squares fit of exp(x)\",leg=:bottomright)"
   ]
  },
  {
   "cell_type": "markdown",
   "metadata": {},
   "source": [
    "There's nothing special about 40 points. By choosing more we get closer to the true function $e^x$."
   ]
  },
  {
   "cell_type": "code",
   "execution_count": null,
   "metadata": {},
   "outputs": [],
   "source": [
    "t = range(-1,stop=1,length=200)\n",
    "y = exp.(t)\n",
    "\n",
    "plot(t,y,m=(2,:o),label=\"function\")\n",
    "\n",
    "V = [ ti^j for ti in t, j=0:1 ]\n",
    "c = V\\y\n",
    "plot!(t->c[1]+c[2]*t,-1,1,label=\"fit\",\n",
    "    xaxis=(\"x\"),yaxis=(\"value\"),title=\"Least squares fit of exp(x)\",leg=:bottomright)"
   ]
  },
  {
   "cell_type": "code",
   "execution_count": null,
   "metadata": {},
   "outputs": [],
   "source": [
    "t = range(-1,stop=1,length=1000)\n",
    "y = exp.(t)\n",
    "\n",
    "plot(t,y,m=(1,:o),label=\"function\")\n",
    "\n",
    "V = [ ti^j for ti in t, j=0:1 ]\n",
    "c = V\\y\n",
    "plot!(t->c[1]+c[2]*t,-1,1,label=\"fit\",\n",
    "    xaxis=(\"x\"),yaxis=(\"value\"),title=\"Least squares fit of exp(x)\",leg=:bottomright)"
   ]
  },
  {
   "cell_type": "markdown",
   "metadata": {},
   "source": [
    "It's quite plausible that the coefficients of the best-fit line are approaching a limit as the number of nodes goes to infinity. "
   ]
  }
 ],
 "metadata": {
  "kernelspec": {
   "display_name": "Julia 1.0.3",
   "language": "julia",
   "name": "julia-1.0"
  },
  "language_info": {
   "file_extension": ".jl",
   "mimetype": "application/julia",
   "name": "julia",
   "version": "1.0.3"
  }
 },
 "nbformat": 4,
 "nbformat_minor": 2
}
