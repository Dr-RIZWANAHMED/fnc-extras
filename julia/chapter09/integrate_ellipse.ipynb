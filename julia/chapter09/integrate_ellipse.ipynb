{
 "cells": [
  {
   "cell_type": "markdown",
   "metadata": {},
   "source": [
    "We use the trapezoidal integration formula to compute the perimeter of an ellipse with semi-axes 1 and 1/2. Parameterizing the ellipse as $x=\\cos \\pi t$, $y=\\frac{1}{2}\\sin \\pi t$ leads to the integral % $$\\int_{-1}^1 \\pi\\sqrt{ \\cos^2(\\pi t) + \\tfrac{1}{4}\\sin^2(\\pi t)}\\,dt.$$ %"
   ]
  },
  {
   "cell_type": "code",
   "execution_count": null,
   "metadata": {},
   "outputs": [],
   "source": [
    "f = @(t) pi*sqrt( cos(pi*t).^2+sin(pi*t).^2/4 );\n",
    "N = (4:4:60)';\n",
    "C = zeros(size(N));\n",
    "for i = 1:length(N)\n",
    "    h = 2/N(i);\n",
    "    t = h*(0:N(i)-1);\n",
    "    C(i) = h*sum(f(t));\n",
    "end\n",
    "format long\n",
    "perimeter = C(end)\n",
    "err = abs(C-C(end));\n",
    "semilogy(N,err,'.-')\n",
    "title=\"Convergence of perimeter calculation\"    % ignore this line\n",
    "xaxis=(\"number of nodes\"), yaxis=(\"error\")    % ignore this line\n",
    "    "
   ]
  },
  {
   "cell_type": "markdown",
   "metadata": {},
   "source": [
    "The approximations gain about one digit of accuracy for each constant increase in $N$, consistent with geometric (linear) convergence. "
   ]
  }
 ],
 "metadata": {
  "kernelspec": {
   "display_name": "Matlab",
   "language": "matlab",
   "name": "matlab"
  },
  "language_info": {
   "codemirror_mode": "octave",
   "file_extension": ".m",
   "help_links": [
    {
     "text": "MetaKernel Magics",
     "url": "https://github.com/calysto/metakernel/blob/master/metakernel/magics/README.md"
    }
   ],
   "mimetype": "text/x-octave",
   "name": "matlab",
   "version": "0.15.1"
  }
 },
 "nbformat": 4,
 "nbformat_minor": 2
}
