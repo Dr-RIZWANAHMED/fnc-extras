{
 "cells": [
  {
   "cell_type": "markdown",
   "metadata": {},
   "source": [
    "We plot a cardinal Lagrange polynomial for $n=5$ and $k=2$. "
   ]
  },
  {
   "cell_type": "code",
   "execution_count": null,
   "metadata": {},
   "outputs": [],
   "source": [
    "t = [ 1, 1.5, 2, 2.25, 2.75, 3 ]\n",
    "n = 5;  k = 2;"
   ]
  },
  {
   "cell_type": "markdown",
   "metadata": {},
   "source": [
    "Whenever we index into the vector `t`, we have to add 1 since our mathematical index starts at zero. "
   ]
  },
  {
   "cell_type": "code",
   "execution_count": null,
   "metadata": {},
   "outputs": [],
   "source": [
    "phi = x -> prod(x-t[i+1] for i=[0:k-1;k+1:n])\n",
    "ell_k = x -> phi(x) / phi(t[k+1])\n",
    "\n",
    "using Plots\n",
    "plot(ell_k,1,3)\n",
    "plot!(t,[zeros(k);1;zeros(n-k)],m=:o,l=nothing,color=:black,\n",
    "    xaxis=(\"\\$x\\$\"), yaxis=(\"\\$\\\\ell_2(x)\\$\"),\n",
    "    title=\"Lagrange cardinal function\",legend=:none)"
   ]
  },
  {
   "cell_type": "markdown",
   "metadata": {},
   "source": [
    "Observe that $\\ell_k$ is _not_ between zero and one everywhere between the nodes. "
   ]
  }
 ],
 "metadata": {
  "kernelspec": {
   "display_name": "Julia 1.0.3",
   "language": "julia",
   "name": "julia-1.0"
  },
  "language_info": {
   "file_extension": ".jl",
   "mimetype": "application/julia",
   "name": "julia",
   "version": "1.0.3"
  }
 },
 "nbformat": 4,
 "nbformat_minor": 2
}
