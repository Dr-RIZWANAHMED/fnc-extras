{
 "cells": [
  {
   "cell_type": "markdown",
   "metadata": {},
   "source": [
    "This function has two distinct frequencies. "
   ]
  },
  {
   "cell_type": "code",
   "execution_count": null,
   "metadata": {},
   "outputs": [],
   "source": [
    "f = x -> 3*cos(5*pi*x) - exp(2im*pi*x);"
   ]
  },
  {
   "cell_type": "markdown",
   "metadata": {},
   "source": [
    "We set up to use the built-in `fft`. Note how the definition of the nodes has changed. "
   ]
  },
  {
   "cell_type": "code",
   "execution_count": null,
   "metadata": {},
   "outputs": [],
   "source": [
    "n = 10;  N = 2n+1;\n",
    "t = [ 2j/N for j=0:N-1 ]      # nodes in [0,2)\n",
    "y = f.(t);"
   ]
  },
  {
   "cell_type": "markdown",
   "metadata": {},
   "source": [
    "We perform Fourier analysis using `fft` and then examine the coefficients."
   ]
  },
  {
   "cell_type": "code",
   "execution_count": null,
   "metadata": {},
   "outputs": [],
   "source": [
    "using FFTW\n",
    "c = fft(y)/N"
   ]
  },
  {
   "cell_type": "code",
   "execution_count": null,
   "metadata": {},
   "outputs": [],
   "source": [
    "k = [0:n;-n:-1]    # frequency ordering \n",
    "\n",
    "using Plots\n",
    "plot(k,real(c),m=:o,l=nothing, \n",
    "    xaxis=(\"\\$k\\$\",[-n,n]),yaxis=(\"\\$c_k\\$\",[-2,2]), \n",
    "    title=\"Interpolant coefficients\",leg=:none)"
   ]
  },
  {
   "cell_type": "markdown",
   "metadata": {},
   "source": [
    "Note that $1.5 e^{5i\\pi x}+1.5 e^{-5i\\pi x} = 3 \\cos(5\\pi x)$ by Euler's formula, so this result is sensible."
   ]
  },
  {
   "cell_type": "markdown",
   "metadata": {},
   "source": [
    "Fourier's greatest contribution to mathematics was to point out that every periodic function is just a combination of frequencies---infinitely many of them in general, but truncated for computational use. "
   ]
  },
  {
   "cell_type": "code",
   "execution_count": null,
   "metadata": {},
   "outputs": [],
   "source": [
    "f = x -> exp( sin(pi*x) );\n",
    "c = fft(f.(t))/N\n",
    "\n",
    "plot(k,abs.(c),m=:o,l=nothing, \n",
    "    xaxis=(\"\\$k\\$\",[-n,n]),yaxis=(\"\\$|c_k|\\$\",:log10), \n",
    "    title=\"Fourier coefficients\",leg=:none)"
   ]
  },
  {
   "cell_type": "markdown",
   "metadata": {},
   "source": [
    "The Fourier coefficients of smooth functions decay exponentially in magnitude as a function of the frequency. This decay rate is directly linked to the convergence of the interpolation error."
   ]
  }
 ],
 "metadata": {
  "kernelspec": {
   "display_name": "Julia 1.0.3",
   "language": "julia",
   "name": "julia-1.0"
  },
  "language_info": {
   "file_extension": ".jl",
   "mimetype": "application/julia",
   "name": "julia",
   "version": "1.0.3"
  },
  "toc": {
   "base_numbering": 1,
   "nav_menu": {},
   "number_sections": true,
   "sideBar": true,
   "skip_h1_title": false,
   "title_cell": "Table of Contents",
   "title_sidebar": "Contents",
   "toc_cell": false,
   "toc_position": {},
   "toc_section_display": true,
   "toc_window_display": false
  }
 },
 "nbformat": 4,
 "nbformat_minor": 2
}
