{
 "cells": [
  {
   "cell_type": "markdown",
   "metadata": {},
   "source": [
    "We choose a function over the interval $[0,1]$. "
   ]
  },
  {
   "cell_type": "code",
   "execution_count": null,
   "metadata": {},
   "outputs": [],
   "source": [
    "f = x -> sin(exp(2*x))\n",
    "\n",
    "using Plots\n",
    "plot(f,0,1,label=\"function\",legend=:bottomleft)"
   ]
  },
  {
   "cell_type": "markdown",
   "metadata": {},
   "source": [
    "We interpolate it at equally spaced nodes for increasing values of $n$. We will sample the interpolant at a large number of points in order to estimate the interpolation error. "
   ]
  },
  {
   "cell_type": "code",
   "execution_count": null,
   "metadata": {},
   "outputs": [],
   "source": [
    "include(\"../FNC.jl\")\n",
    "n = (5:5:60)\n",
    "err = zeros(size(n))\n",
    "x = range(0,stop=1,length=1001)      # for measuring error\n",
    "for (k,n) = enumerate(n) \n",
    "  t = range(0,stop=1,length=n+1)     # equally spaced nodes\n",
    "  y = f.(t)                          # interpolation data\n",
    "  p = FNC.polyinterp(t,y)\n",
    "  err[k] = maximum( @. abs(f(x)-p(x)) )\n",
    "end\n",
    "\n",
    "plot(n,err,m=:o,label=\"\", \n",
    "    xaxis=(\"n\"),yaxis=(:log10,\"max error\"),\n",
    "    title=\"Polynomial interpolation error\")"
   ]
  },
  {
   "cell_type": "markdown",
   "metadata": {},
   "source": [
    "Initially the error decreases exponentially, i.e. as $O(K^{-n})$ for some $K>1$. However, around $n=30$ the error starts to _grow_ exponentially. "
   ]
  }
 ],
 "metadata": {
  "kernelspec": {
   "display_name": "Julia 1.0.3",
   "language": "julia",
   "name": "julia-1.0"
  },
  "language_info": {
   "file_extension": ".jl",
   "mimetype": "application/julia",
   "name": "julia",
   "version": "1.0.3"
  }
 },
 "nbformat": 4,
 "nbformat_minor": 2
}
