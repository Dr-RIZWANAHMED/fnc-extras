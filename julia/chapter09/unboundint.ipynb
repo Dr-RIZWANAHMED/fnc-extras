{
 "cells": [
  {
   "cell_type": "code",
   "execution_count": null,
   "metadata": {},
   "outputs": [],
   "source": [
    "f = x -> 1/(1+x^2);\n",
    "\n",
    "h = 10 .^range(-3,stop=-1,length=60)\n",
    "M = 10 .^range(3,stop=16,length=60)\n",
    "\n",
    "include(\"../FNC.jl\")\n",
    "I = [ FNC.intde(f,h,M)[1] for h=h, M=M ]\n",
    "err = @. abs(I-pi);"
   ]
  },
  {
   "cell_type": "code",
   "execution_count": null,
   "metadata": {},
   "outputs": [],
   "source": [
    "using Plots\n",
    "contour(h,M,-log.(10,err.+1e-20),\n",
    "    xflip=true,xaxis=(\"h\",:log10),yaxis=(\"M\",:log10),\n",
    "    title=\"Number of accurate digits\")"
   ]
  },
  {
   "cell_type": "markdown",
   "metadata": {},
   "source": [
    "As predicted, the error can't much beat $1/M$. Even for very large $M$, however, not many nodes are needed, as seen in the very weak dependence of the accuracy on $h$. For instance,"
   ]
  },
  {
   "cell_type": "code",
   "execution_count": null,
   "metadata": {},
   "outputs": [],
   "source": [
    "I,x = FNC.intde(f,0.1,1e10)\n",
    "err = abs(pi-I)\n",
    "number_of_nodes = length(x)\n",
    "\n",
    "xpos = @. (x>0)\n",
    "\n",
    "plot(x[xpos],f.(x[xpos]),m=:o,\n",
    "    xaxis=(\"x\",:log10), yaxis=(\"f(x)\",[0,1]),\n",
    "    title=\"Positive nodes used for integration\",leg=:none)"
   ]
  }
 ],
 "metadata": {
  "kernelspec": {
   "display_name": "Julia 1.0.3",
   "language": "julia",
   "name": "julia-1.0"
  },
  "language_info": {
   "file_extension": ".jl",
   "mimetype": "application/julia",
   "name": "julia",
   "version": "1.0.3"
  },
  "toc": {
   "base_numbering": 1,
   "nav_menu": {},
   "number_sections": true,
   "sideBar": true,
   "skip_h1_title": false,
   "title_cell": "Table of Contents",
   "title_sidebar": "Contents",
   "toc_cell": false,
   "toc_position": {},
   "toc_section_display": true,
   "toc_window_display": false
  }
 },
 "nbformat": 4,
 "nbformat_minor": 2
}
