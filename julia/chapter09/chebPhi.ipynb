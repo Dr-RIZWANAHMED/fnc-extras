{
 "cells": [
  {
   "cell_type": "code",
   "execution_count": null,
   "metadata": {},
   "outputs": [],
   "source": [
    "using Plots\n",
    "plot([],[],xaxis=(\"\\$x\\$\"),yaxis=(:log10,\"\\$|\\\\Phi(x)|\\$\",[1e-18,1e-2]))\n",
    "\n",
    "x = range(-1,stop=1,length=1601)\n",
    "for n = 10:10:50\n",
    "    theta = pi*(0:n)/n\n",
    "    t = @. -cos(theta)                   \n",
    "    Phi = [ prod(xk.-t) for xk in x ]\n",
    "    plot!(x,abs.(Phi),m=(1,:o,stroke(0)))\n",
    "end\n",
    "plot!([],[],legend=:none,title=\"Effect of Chebyshev nodes\")"
   ]
  },
  {
   "cell_type": "markdown",
   "metadata": {},
   "source": [
    "The convergence is a bit slower in the middle than with equally spaced points, but far more uniform over the entire interval, which is the key to global convergence. "
   ]
  }
 ],
 "metadata": {
  "kernelspec": {
   "display_name": "Julia 1.0.3",
   "language": "julia",
   "name": "julia-1.0"
  },
  "language_info": {
   "file_extension": ".jl",
   "mimetype": "application/julia",
   "name": "julia",
   "version": "1.0.3"
  }
 },
 "nbformat": 4,
 "nbformat_minor": 2
}
