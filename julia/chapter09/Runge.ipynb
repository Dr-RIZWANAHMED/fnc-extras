{
 "cells": [
  {
   "cell_type": "markdown",
   "metadata": {},
   "source": [
    "This function has infinitely many continuous derivatives on the entire real line and looks very easy to approximate over $[-1,1]$."
   ]
  },
  {
   "cell_type": "code",
   "execution_count": null,
   "metadata": {},
   "outputs": [],
   "source": [
    "f = x -> 1/(x^2 + 16)\n",
    "\n",
    "using Plots\n",
    "plot(f,-1,1,title=\"Test function\",legend=:none)"
   ]
  },
  {
   "cell_type": "markdown",
   "metadata": {},
   "source": [
    "We start by doing polynomial interpolation for some rather small values of $n$."
   ]
  },
  {
   "cell_type": "code",
   "execution_count": null,
   "metadata": {},
   "outputs": [],
   "source": [
    "include(\"../FNC.jl\")\n",
    "plot([],[],label=\"\",xaxis=(\"\\$x\\$\"),yaxis=(:log10,\"\\$|f(x)-p(x)|\\$\",[1e-20,1]))\n",
    "\n",
    "x = range(-1,stop=1,length=1601)\n",
    "n = 4:4:12\n",
    "for (k,n) = enumerate(n)\n",
    "    t = range(-1,stop=1,length=n+1)     # equally spaced nodes\n",
    "    y = f.(t)                          # interpolation data\n",
    "    p = FNC.polyinterp(t,y)\n",
    "    err = @.abs(f(x)-p(x))\n",
    "    plot!(x,err,m=(1,:o,stroke(0)),label=\"degree $n\")\n",
    "end\n",
    "plot!([],[],label=\"\",title=\"Error for low degrees\")"
   ]
  },
  {
   "cell_type": "markdown",
   "metadata": {},
   "source": [
    "The convergence so far appears rather good, though not uniformly so. Now watch what happens as we continue to increase the degree."
   ]
  },
  {
   "cell_type": "code",
   "execution_count": null,
   "metadata": {},
   "outputs": [],
   "source": [
    "n = @. 12 + 15*(1:3)\n",
    "plot([],[],label=\"\",xaxis=(\"\\$x\\$\"),yaxis=(:log10,\"\\$|f(x)-p(x)|\\$\",[1e-20,1]))\n",
    "\n",
    "for (k,n) = enumerate(n)\n",
    "    t = range(-1,stop=1,length=n+1)     # equally spaced nodes\n",
    "    y = f.(t)                          # interpolation data\n",
    "    p = FNC.polyinterp(t,y)\n",
    "    err = @.abs(f(x)-p(x))\n",
    "    plot!(x,err,m=(1,:o,stroke(0)),label=\"degree $n\")\n",
    "end\n",
    "plot!([],[],label=\"\",title=\"Error for higher degrees\")"
   ]
  },
  {
   "cell_type": "markdown",
   "metadata": {},
   "source": [
    "The convergence in the middle can't get any better than machine precision. So maintaining the growing gap between the center and the ends pushes the error curves upward exponentially fast at the ends, wrecking the convergence."
   ]
  }
 ],
 "metadata": {
  "kernelspec": {
   "display_name": "Julia 1.0.3",
   "language": "julia",
   "name": "julia-1.0"
  },
  "language_info": {
   "file_extension": ".jl",
   "mimetype": "application/julia",
   "name": "julia",
   "version": "1.0.3"
  }
 },
 "nbformat": 4,
 "nbformat_minor": 2
}
