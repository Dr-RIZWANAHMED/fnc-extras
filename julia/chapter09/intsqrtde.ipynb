{
 "cells": [
  {
   "cell_type": "markdown",
   "metadata": {},
   "source": [
    "We return to the problem of computing $\\int_0^1 \\sqrt{x}\\,dx$. In order to apply `intsing`, we first have to transform the interval of integration to $[-1,1]$. We can do this through $z=2x-1$. Note that"
   ]
  },
  {
   "cell_type": "markdown",
   "metadata": {},
   "source": [
    "$$\\int_0^1 \\sqrt{x}\\,dx = \\int_{-1}^1 \\sqrt{\\tfrac{1}{2}(z+1)}\\cdot \\tfrac{1}{2}dz.$$"
   ]
  },
  {
   "cell_type": "code",
   "execution_count": 1,
   "metadata": {},
   "outputs": [
    {
     "name": "stdout",
     "output_type": "stream",
     "text": [
      "err = I / 2 - 2 / 3 = -7.061018436615996e-14\n",
      "number_of_nodes = length(z) = 59\n"
     ]
    }
   ],
   "source": [
    "f = z -> sqrt((1+z)/2)\n",
    "\n",
    "include(\"../FNC.jl\")\n",
    "I,z = FNC.intsing(f,0.1,1e-12)\n",
    "\n",
    "@show err = I/2 - 2/3;\n",
    "@show number_of_nodes = length(z);"
   ]
  },
  {
   "cell_type": "markdown",
   "metadata": {},
   "source": [
    "The integration required very few nodes. For the more difficult integral of $1/\\sqrt{x}$, the results are limited by how accurately we can represent $-1+\\delta$."
   ]
  },
  {
   "cell_type": "code",
   "execution_count": 2,
   "metadata": {},
   "outputs": [
    {
     "name": "stdout",
     "output_type": "stream",
     "text": [
      "err = I / 2 - 2 = -2.0377771914326104e-8\n",
      "number_of_nodes = length(z) = 63\n"
     ]
    }
   ],
   "source": [
    "f = z -> 1/sqrt((1+z)/2)\n",
    "\n",
    "I,z = FNC.intsing(f,0.1,1e-14)\n",
    "\n",
    "@show err = I/2 - 2;\n",
    "@show number_of_nodes = length(z);"
   ]
  },
  {
   "cell_type": "markdown",
   "metadata": {},
   "source": [
    "If we make $\\delta$ any smaller, the outermost trapezoid nodes will be indistinguishable from $z=\\pm 1$, i.e. the exact endpoints of the interval. We would need to use special code to evaluate $f$ indirectly in the limits $t\\to \\pm \\infty$. "
   ]
  }
 ],
 "metadata": {
  "kernelspec": {
   "display_name": "Julia 1.1.0",
   "language": "julia",
   "name": "julia-1.1"
  },
  "language_info": {
   "file_extension": ".jl",
   "mimetype": "application/julia",
   "name": "julia",
   "version": "1.1.0"
  },
  "toc": {
   "base_numbering": 1,
   "nav_menu": {},
   "number_sections": true,
   "sideBar": true,
   "skip_h1_title": false,
   "title_cell": "Table of Contents",
   "title_sidebar": "Contents",
   "toc_cell": false,
   "toc_position": {},
   "toc_section_display": true,
   "toc_window_display": false
  }
 },
 "nbformat": 4,
 "nbformat_minor": 2
}
