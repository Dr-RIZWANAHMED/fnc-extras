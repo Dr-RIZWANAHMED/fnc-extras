{
 "cells": [
  {
   "cell_type": "markdown",
   "metadata": {},
   "source": [
    "We plot $|\\Phi(x)|$ over the interval $[-1,1]$ with equispaced nodes for different values of $n$. "
   ]
  },
  {
   "cell_type": "code",
   "execution_count": null,
   "metadata": {},
   "outputs": [],
   "source": [
    "using Plots\n",
    "plot([],[],xaxis=(\"\\$x\\$\"),yaxis=(:log10,\"\\$|\\\\Phi(x)|\\$\",[1e-25,1]))\n",
    "\n",
    "x = range(-1,stop=1,length=1601)\n",
    "for n = 10:10:50\n",
    "    t = range(-1,stop=1,length=n+1)\n",
    "    Phi = [ prod(xk.-t) for xk in x ]\n",
    "    plot!(x,abs.(Phi),m=(1,:o,stroke(0)))\n",
    "end\n",
    "plot!([],[],legend=:none,title=\"Effect of equispaced nodes\")"
   ]
  },
  {
   "cell_type": "markdown",
   "metadata": {},
   "source": [
    "(Each time $\\Phi$ passes through zero at an interpolation node, the value on the log scale should go to $-\\infty$, which explains the numerous cusps on the curves.) Two observations are important: First, the size of $|\\Phi|$ decreases exponentially at each fixed location in the interval (because the spacing between curves is constant for constant increments of $n$). Second, $|\\Phi|$ is larger at the ends of the interval than in the middle, by an exponentially growing factor."
   ]
  }
 ],
 "metadata": {
  "kernelspec": {
   "display_name": "Julia 1.0.3",
   "language": "julia",
   "name": "julia-1.0"
  },
  "language_info": {
   "file_extension": ".jl",
   "mimetype": "application/julia",
   "name": "julia",
   "version": "1.0.3"
  }
 },
 "nbformat": 4,
 "nbformat_minor": 2
}
