{
 "cells": [
  {
   "cell_type": "markdown",
   "metadata": {},
   "source": [
    "First consider the integral  $$\\int_{-1}^1 \\frac{1}{1+4x^2} \\, dx = \\arctan(2).$$ "
   ]
  },
  {
   "cell_type": "code",
   "execution_count": null,
   "metadata": {},
   "outputs": [],
   "source": [
    "f = @(x) 1./(1+4*x.^2);\n",
    "exact = atan(2);"
   ]
  },
  {
   "cell_type": "markdown",
   "metadata": {},
   "source": [
    "We compare the two spectral integration methods for a range of $n$ values."
   ]
  },
  {
   "cell_type": "code",
   "execution_count": null,
   "metadata": {},
   "outputs": [],
   "source": [
    "n = (8:4:96)';\n",
    "errCC = 0*n;\n",
    "errGL = 0*n;\n",
    "for k = 1:length(n)\n",
    "  errCC(k) = exact - ccint(f,n(k));\n",
    "  errGL(k) = exact - glint(f,n(k));\n",
    "end\n",
    "semilogy( n, abs(errCC), '.-'), hold on\n",
    "semilogy( n, abs(errGL), '.-')\n",
    "axis tight   % ignore this line\n",
    "xaxis=(\"number of nodes\"), yaxis=(\"error\"), title=\"Spectral integration\"    % ignore this line\n",
    "legend('CC','GL')   % ignore this line"
   ]
  },
  {
   "cell_type": "markdown",
   "metadata": {},
   "source": [
    "(The missing dots are where the error is exactly zero.) Gauss--Legendre does converge faster here, but at something less than twice the rate. Now we try a more sharply peaked integrand:"
   ]
  },
  {
   "cell_type": "markdown",
   "metadata": {},
   "source": [
    " $$\\int_{-1}^1 \\frac{1}{1+16x^2} \\, dx = \\frac{1}{2}\\arctan(4).$$ "
   ]
  },
  {
   "cell_type": "code",
   "execution_count": null,
   "metadata": {},
   "outputs": [],
   "source": [
    "f = @(x) 1./(1+16*x.^2);\n",
    "exact = atan(4)/2;"
   ]
  },
  {
   "cell_type": "code",
   "execution_count": null,
   "metadata": {},
   "outputs": [],
   "source": [
    "clf\n",
    "n = (8:4:96)';\n",
    "errCC = 0*n;\n",
    "errGL = 0*n;\n",
    "for k = 1:length(n)\n",
    "  errCC(k) = exact - ccint(f,n(k));\n",
    "  errGL(k) = exact - glint(f,n(k));\n",
    "end\n",
    "semilogy( n, abs(errCC), '.-'), hold on\n",
    "semilogy( n, abs(errGL), '.-')\n",
    "axis tight  % ignore this line\n",
    "xaxis=(\"number of nodes\"), yaxis=(\"error\"), title=\"Spectral integration\"    % ignore this line\n",
    "legend('CC','GL')   % ignore this line"
   ]
  },
  {
   "cell_type": "markdown",
   "metadata": {},
   "source": [
    "The two are very close until about $n=40$, when the Clenshaw--Curtis method slows down."
   ]
  },
  {
   "cell_type": "markdown",
   "metadata": {},
   "source": [
    "Now let's compare the spectral performance to that of our earlier adaptive method in `adaptquad`. We will specify varying error tolerances and record the error as well as the total number of evaluations of $f$."
   ]
  },
  {
   "cell_type": "code",
   "execution_count": null,
   "metadata": {},
   "outputs": [],
   "source": [
    "tol = 10.^(-2:-2:-14)';\n",
    "n = 0*tol;  errAdapt = 0*tol;\n",
    "for k = 1:length(n)\n",
    "  [Q,t] = intadapt(f,-1,1,tol(k));\n",
    "  errAdapt(k) = exact - Q;\n",
    "  n(k) = length(t);\n",
    "end\n",
    "plot(n,abs(errAdapt),'.-')\n",
    "plot(n,n.^(-4),'--')        % 4th order error\n",
    "set(gca,'xscale','log')     % ignore this line\n",
    "legend('CC','GL','intadapt','4th order')  % ignore this line\n",
    "title=\"Spectral vs 4th order\" "
   ]
  },
  {
   "cell_type": "markdown",
   "metadata": {},
   "source": [
    "At the core of `intadapt` is a fourth-order formula, and the results track that rate closely. For all but the most relaxed error tolerances, both spectral methods are far more efficient than the low-order counterpart."
   ]
  }
 ],
 "metadata": {
  "kernelspec": {
   "display_name": "Matlab",
   "language": "matlab",
   "name": "matlab"
  },
  "language_info": {
   "codemirror_mode": "octave",
   "file_extension": ".m",
   "help_links": [
    {
     "text": "MetaKernel Magics",
     "url": "https://github.com/calysto/metakernel/blob/master/metakernel/magics/README.md"
    }
   ],
   "mimetype": "text/x-octave",
   "name": "matlab",
   "version": "0.15.1"
  }
 },
 "nbformat": 4,
 "nbformat_minor": 2
}
