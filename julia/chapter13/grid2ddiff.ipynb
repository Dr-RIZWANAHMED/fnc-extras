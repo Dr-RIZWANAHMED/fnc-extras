{
 "cells": [
  {
   "cell_type": "markdown",
   "metadata": {},
   "source": [
    "We define a function and, for reference, its two exact partial derivatives."
   ]
  },
  {
   "cell_type": "code",
   "execution_count": null,
   "metadata": {},
   "outputs": [],
   "source": [
    "u(x,y) = sin(x*y-y);\n",
    "dudx(x,y) = y*cos(x*y-y);\n",
    "dudy(x,y) = (x-1)*cos(x*y-y);"
   ]
  },
  {
   "cell_type": "markdown",
   "metadata": {},
   "source": [
    "We use an equispaced grid and second order finite differences as implemented by |diffmat2|."
   ]
  },
  {
   "cell_type": "code",
   "execution_count": null,
   "metadata": {},
   "outputs": [],
   "source": [
    "include(\"../FNC.jl\")\n",
    "m = 80;  x,Dx = FNC.diffmat2(m,[0,2*pi]);\n",
    "n = 60;  y,Dy = FNC.diffmat2(n,[1,3]);\n",
    "X,Y = FNC.ndgrid(x,y)\n",
    "U = u.(X,Y);"
   ]
  },
  {
   "cell_type": "code",
   "execution_count": null,
   "metadata": {},
   "outputs": [],
   "source": [
    "plot(X,Y,dudx.(X,Y),match_dimensions=true,levels=10,\n",
    "    title=\"du/dx\") "
   ]
  },
  {
   "cell_type": "markdown",
   "metadata": {},
   "source": [
    "Here we compare the exact $\\partial u/\\partial x$ with the finite-difference approximation."
   ]
  },
  {
   "cell_type": "code",
   "execution_count": null,
   "metadata": {},
   "outputs": [],
   "source": [
    "using Plots\n",
    "\n",
    "contourf(x,y,dudx.(X,Y),match_dimensions=true,levels=10,layout=(1,2),subplot=1,\n",
    "    title=\"du/dx\")      \n",
    "contourf!(x,y,Dx*U,levels=10,match_dimensions=true,layout=(1,2),subplot=2,\n",
    "    title=\"approximation\")      "
   ]
  },
  {
   "cell_type": "markdown",
   "metadata": {},
   "source": [
    "We now do the same for $\\partial u/\\partial y$,"
   ]
  },
  {
   "cell_type": "code",
   "execution_count": null,
   "metadata": {},
   "outputs": [],
   "source": [
    "contourf(x,y,dudy.(X,Y),match_dimensions=true,levels=10,layout=(1,2),subplot=1,\n",
    "    title=\"du/dy\")      \n",
    "contourf!(x,y,U*Dy',levels=10,match_dimensions=true,layout=(1,2),subplot=2,\n",
    "    title=\"approximation\")"
   ]
  },
  {
   "cell_type": "markdown",
   "metadata": {},
   "source": [
    "To the eye there is little difference to be seen, though we expect that the results probably have no more than 2-4 correct digits for these discretization sizes. "
   ]
  }
 ],
 "metadata": {
  "kernelspec": {
   "display_name": "Julia 1.0.3",
   "language": "julia",
   "name": "julia-1.0"
  },
  "language_info": {
   "file_extension": ".jl",
   "mimetype": "application/julia",
   "name": "julia",
   "version": "1.0.3"
  }
 },
 "nbformat": 4,
 "nbformat_minor": 2
}
