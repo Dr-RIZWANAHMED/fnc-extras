{
 "cells": [
  {
   "cell_type": "markdown",
   "metadata": {},
   "source": [
    "We will solve a 2D heat equation $u_t = 0.1(u_{xx} + u_{yy})$ on the square $[-1,1]\\times[-1,1]$. We'll assume periodic behavior in both directions."
   ]
  },
  {
   "cell_type": "code",
   "execution_count": null,
   "metadata": {},
   "outputs": [],
   "source": [
    "include(\"../FNC.jl\")\n",
    "m = 60;  x,Dx,Dxx = FNC.diffper(m,[-1,1]);\n",
    "n = 40;  y,Dy,Dyy = FNC.diffper(n,[-1,1]);\n",
    "X,Y = FNC.ndgrid(x,y);"
   ]
  },
  {
   "cell_type": "markdown",
   "metadata": {},
   "source": [
    "Note that the initial condition must also be periodic on the domain. "
   ]
  },
  {
   "cell_type": "code",
   "execution_count": null,
   "metadata": {},
   "outputs": [],
   "source": [
    "U0 = @. sin(4*pi*X)*exp(cos(pi*Y))\n",
    "\n",
    "using Plots\n",
    "contourf(x,y,U0,match_dimensions=true,color=:redsblues,aspect_ratio=1,\n",
    "    xaxis=(\"x\"),yaxis=(\"y\"),title=\"Initial condition\")    "
   ]
  },
  {
   "cell_type": "markdown",
   "metadata": {},
   "source": [
    "The next two functions map between the natural matrix shape of the unknowns and the vector shape demanded by the ODE solvers. "
   ]
  },
  {
   "cell_type": "code",
   "execution_count": null,
   "metadata": {},
   "outputs": [],
   "source": [
    "unpack(u) = reshape(u,m,n);\n",
    "pack(U) = U[:];"
   ]
  },
  {
   "cell_type": "markdown",
   "metadata": {},
   "source": [
    "This function computes the time derivative for the unknowns. The actual calculations take place using the matrix shape. "
   ]
  },
  {
   "cell_type": "code",
   "execution_count": null,
   "metadata": {},
   "outputs": [],
   "source": [
    "dudt = function (u,nu,t)\n",
    "    U = unpack(u);\n",
    "    Uxx = Dxx*U;  Uyy = U*Dyy';     # 2nd partials\n",
    "    dUdt = nu*(Uxx + Uyy);  # PDE\n",
    "    return pack(dUdt);\n",
    "end"
   ]
  },
  {
   "cell_type": "markdown",
   "metadata": {},
   "source": [
    "Since this problem is parabolic, a stiff integrator is a good choice."
   ]
  },
  {
   "cell_type": "code",
   "execution_count": null,
   "metadata": {},
   "outputs": [],
   "source": [
    "using DifferentialEquations\n",
    "IVP = ODEProblem(dudt,pack(U0),(0,0.2),0.1)\n",
    "sol = solve(IVP,Rodas4P());"
   ]
  },
  {
   "cell_type": "markdown",
   "metadata": {},
   "source": [
    "Here we plot the solution at two different times. (The results are best viewed using an animation.)"
   ]
  },
  {
   "cell_type": "code",
   "execution_count": null,
   "metadata": {},
   "outputs": [],
   "source": [
    "@gif for t = range(0,stop=0.2,length=81)\n",
    "    surface(x,y,unpack(sol(t)),match_dimensions=true,color=:redsblues,clims=(-2,2),\n",
    "        xaxis=(\"x\"),yaxis=(\"y\"),title=\"Heat equation, t=$(round(t,digits=3))\")\n",
    "end    "
   ]
  }
 ],
 "metadata": {
  "kernelspec": {
   "display_name": "Julia 1.0.3",
   "language": "julia",
   "name": "julia-1.0"
  },
  "language_info": {
   "file_extension": ".jl",
   "mimetype": "application/julia",
   "name": "julia",
   "version": "1.0.3"
  }
 },
 "nbformat": 4,
 "nbformat_minor": 2
}
