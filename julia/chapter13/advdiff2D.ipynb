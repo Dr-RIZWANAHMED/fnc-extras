{
 "cells": [
  {
   "cell_type": "markdown",
   "metadata": {},
   "source": [
    "We will solve an advection-diffusion problem, $u_t + u_x = 1 + \\nu(u_{xx} + u_{yy})$, where $u=0$ on the boundary of the square $[-1,1]^2$."
   ]
  },
  {
   "cell_type": "code",
   "execution_count": null,
   "metadata": {},
   "outputs": [],
   "source": [
    "include(\"../FNC.jl\")\n",
    "m = 50;  n = 50;\n",
    "X,Y,d = FNC.rectdisc(m,[-1,1],n,[-1,1]);"
   ]
  },
  {
   "cell_type": "markdown",
   "metadata": {},
   "source": [
    "The initial condition we specify here is used to impose its boundary values on the solution at all times."
   ]
  },
  {
   "cell_type": "code",
   "execution_count": null,
   "metadata": {},
   "outputs": [],
   "source": [
    "U0 = @. (1-X^4)*(1-Y^4);\n",
    "\n",
    "using Plots\n",
    "plot(X[:,1],Y[1,:],U0,match_dimensions=true,aspect_ratio=1,title=\"Initial condition\")"
   ]
  },
  {
   "cell_type": "markdown",
   "metadata": {},
   "source": [
    "This next function maps the unknowns, given in a vector shape, to a matrix of values including the boundaries."
   ]
  },
  {
   "cell_type": "code",
   "execution_count": null,
   "metadata": {},
   "outputs": [],
   "source": [
    "unpack = function (w)\n",
    "    U = copy(U0)          # get the boundary right\n",
    "    U[@. !d.isbndy] .= w  # overwrite the interior\n",
    "    return U\n",
    "end"
   ]
  },
  {
   "cell_type": "markdown",
   "metadata": {},
   "source": [
    "The next function drops the boundary values and returns a vector of the interior values. It's the inverse of the `unpack` function."
   ]
  },
  {
   "cell_type": "code",
   "execution_count": null,
   "metadata": {},
   "outputs": [],
   "source": [
    "pack(U) = U[@. !d.isbndy];"
   ]
  },
  {
   "cell_type": "markdown",
   "metadata": {},
   "source": [
    "This function computes the time derivative at the interior nodes only."
   ]
  },
  {
   "cell_type": "code",
   "execution_count": null,
   "metadata": {},
   "outputs": [],
   "source": [
    "dwdt = function (w,nu,t)\n",
    "    U = unpack(w)\n",
    "    Uxx = d.Dxx*U;  Uyy = U*d.Dyy';   # 2nd partials\n",
    "    dUdt = 1 .- d.Dx*U + nu*(Uxx + Uyy);  # PDE\n",
    "    return pack(dUdt)\n",
    "end"
   ]
  },
  {
   "cell_type": "markdown",
   "metadata": {},
   "source": [
    "Since this problem is parabolic, a stiff integrator is a good choice. (The solver usually does fine figuring this out on its own, but here we give it a hint.) "
   ]
  },
  {
   "cell_type": "code",
   "execution_count": null,
   "metadata": {},
   "outputs": [],
   "source": [
    "using DifferentialEquations\n",
    "IVP = ODEProblem(dwdt,pack(U0),(0.0,1.0),0.05)\n",
    "sol = solve(IVP,alg_hints=[:stiff]);"
   ]
  },
  {
   "cell_type": "code",
   "execution_count": null,
   "metadata": {},
   "outputs": [],
   "source": [
    "plot(X[:,1],Y[1,:],unpack(sol(0.5)),match_dimensions=true,aspect_ratio=1,\n",
    "    title=\"Solution at t=0.5\")\n"
   ]
  },
  {
   "cell_type": "code",
   "execution_count": null,
   "metadata": {},
   "outputs": [],
   "source": [
    "plot(X[:,1],Y[1,:],unpack(sol(1)),match_dimensions=true,aspect_ratio=1,\n",
    "    title=\"Solution at t=1\")"
   ]
  },
  {
   "cell_type": "code",
   "execution_count": null,
   "metadata": {},
   "outputs": [],
   "source": [
    "@gif for t in range(0,stop=1,length=80)\n",
    "    surface(X[:,1],Y[1,:],unpack(sol(t)),match_dimensions=true,aspect_ratio=1,color=:blues,clims=(0,2),\n",
    "        title=\"Advection-diffusion solution at t=$(round(t,digits=2))\")\n",
    "end"
   ]
  }
 ],
 "metadata": {
  "kernelspec": {
   "display_name": "Julia 1.0.3",
   "language": "julia",
   "name": "julia-1.0"
  },
  "language_info": {
   "file_extension": ".jl",
   "mimetype": "application/julia",
   "name": "julia",
   "version": "1.0.3"
  }
 },
 "nbformat": 4,
 "nbformat_minor": 2
}
