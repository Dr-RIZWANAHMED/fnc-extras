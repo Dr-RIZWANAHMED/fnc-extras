{
 "cells": [
  {
   "cell_type": "markdown",
   "metadata": {},
   "source": [
    "Construction of a function over the unit disk is straightforward. We define a grid in $(r,\\theta)$  space and compute accordingly. For the function $f(r,\\theta)=1-r^4$, for example:"
   ]
  },
  {
   "cell_type": "code",
   "execution_count": null,
   "metadata": {},
   "outputs": [],
   "source": [
    "r = (0:40)/40\n",
    "theta = 2pi*(0:80)/80\n",
    "\n",
    "include(\"../FNC.jl\")\n",
    "R,Theta = FNC.ndgrid(r,theta);\n",
    "F = @. 1-R^4;"
   ]
  },
  {
   "cell_type": "code",
   "execution_count": null,
   "metadata": {},
   "outputs": [],
   "source": [
    "using Plots\n",
    "surface(r,theta,F,match_dimensions=true,\n",
    "    xlabel=\"r\",ylabel=\"\\\\theta\",title=\"A polar function\",leg=:none)"
   ]
  },
  {
   "cell_type": "markdown",
   "metadata": {},
   "source": [
    "Of course we are used to seeing such plots over the $(x,y)$ plane. To do this in `Plots` at this writing, we need to switch the graphics backend."
   ]
  },
  {
   "cell_type": "code",
   "execution_count": null,
   "metadata": {},
   "outputs": [],
   "source": [
    "plotlyjs()\n",
    "X = @. R*cos(Theta);  Y = @. R*sin(Theta);\n",
    "surface(X,Y,F,leg=:none)"
   ]
  },
  {
   "cell_type": "markdown",
   "metadata": {},
   "source": [
    "In such functions it's up to us to ensure that the values along the line $r=0$ are identical, and that the values on the line $\\theta=0$ are identical to those on $\\theta=2\\pi$. Otherwise the interpretation of the domain as the unit disk is nonsensical."
   ]
  },
  {
   "cell_type": "markdown",
   "metadata": {},
   "source": [
    "On the unit sphere we can use color to indicate a function value. For the function $f(x,y,z)=xyz^3$, for instance:"
   ]
  },
  {
   "cell_type": "code",
   "execution_count": null,
   "metadata": {},
   "outputs": [],
   "source": [
    "theta = 2pi*(0:60)/60\n",
    "phi = pi*(0:60)/60\n",
    "Theta,Phi = FNC.ndgrid(theta,phi);\n",
    "X = @.cos(Theta)*sin(Phi)\n",
    "Y = @.sin(Theta)*sin(Phi) \n",
    "Z = cos.(Phi)\n",
    "\n",
    "F = @. X*Y*Z^3\n",
    "surface(X,Y,Z,fill_z=F,title=\"Function on the unit sphere\")"
   ]
  }
 ],
 "metadata": {
  "kernelspec": {
   "display_name": "Julia 1.0.3",
   "language": "julia",
   "name": "julia-1.0"
  },
  "language_info": {
   "file_extension": ".jl",
   "mimetype": "application/julia",
   "name": "julia",
   "version": "1.0.3"
  }
 },
 "nbformat": 4,
 "nbformat_minor": 2
}
