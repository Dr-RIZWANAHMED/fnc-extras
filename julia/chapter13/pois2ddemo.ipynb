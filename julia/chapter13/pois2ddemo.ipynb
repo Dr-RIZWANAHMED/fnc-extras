{
 "cells": [
  {
   "cell_type": "markdown",
   "metadata": {},
   "source": [
    "Here is a forcing function for Poisson's equation."
   ]
  },
  {
   "cell_type": "code",
   "execution_count": null,
   "metadata": {},
   "outputs": [],
   "source": [
    "f(x,y) = x^2 - y + 2;"
   ]
  },
  {
   "cell_type": "markdown",
   "metadata": {},
   "source": [
    "We pick a crude discretization for illustrative purposes."
   ]
  },
  {
   "cell_type": "code",
   "execution_count": null,
   "metadata": {},
   "outputs": [],
   "source": [
    "include(\"../FNC.jl\")\n",
    "m = 5;  n = 6;\n",
    "X,Y,d = FNC.rectdisc(m,[0,3],n,[-1,1]);"
   ]
  },
  {
   "cell_type": "markdown",
   "metadata": {},
   "source": [
    "Next, we evaluate $f$ on the grid."
   ]
  },
  {
   "cell_type": "code",
   "execution_count": null,
   "metadata": {},
   "outputs": [],
   "source": [
    "F = f.(X,Y);      "
   ]
  },
  {
   "cell_type": "markdown",
   "metadata": {},
   "source": [
    "Here are the equations for the PDE collocation, before any modifications are made for the boundary conditions."
   ]
  },
  {
   "cell_type": "code",
   "execution_count": null,
   "metadata": {},
   "outputs": [],
   "source": [
    "A = kron(d.Iy,d.Dxx) + kron(d.Dyy,d.Ix);\n",
    "\n",
    "using Plots,SparseArrays\n",
    "spy(sparse(A),m=3,color=:reds,title=\"Matrix before BC\")"
   ]
  },
  {
   "cell_type": "code",
   "execution_count": null,
   "metadata": {},
   "outputs": [],
   "source": [
    "b = d.vec(F);\n",
    "@show N = length(b);"
   ]
  },
  {
   "cell_type": "markdown",
   "metadata": {},
   "source": [
    "The array `d.isbndy` is Boolean and the same size as `X`, `Y`, and `F`."
   ]
  },
  {
   "cell_type": "code",
   "execution_count": null,
   "metadata": {},
   "outputs": [],
   "source": [
    "spy(sparse(d.isbndy),m=5,color=:reds,title=\"Boundary points\")\n",
    "plot!([],label=\"\",grid=:xy,xaxis=([0,8]),yaxis=([0,7]))"
   ]
  },
  {
   "cell_type": "markdown",
   "metadata": {},
   "source": [
    "Next replace the boundary rows of the system by rows of the identity."
   ]
  },
  {
   "cell_type": "code",
   "execution_count": null,
   "metadata": {},
   "outputs": [],
   "source": [
    "I = spdiagm(0=>ones(size(A,1)))\n",
    "A[d.isbndy[:],:] = I[d.isbndy[:],:]   # Dirichlet conditions\n",
    "spy(sparse(A),m=3,color=:reds,title=\"Matrix with BC\")    "
   ]
  },
  {
   "cell_type": "markdown",
   "metadata": {},
   "source": [
    "Finally, we must replace the rows in the vector $\\mathbf{b}$ by the boundary values being assigned to the boundary points. Here, we let the boundary values be zero everywhere. "
   ]
  },
  {
   "cell_type": "code",
   "execution_count": null,
   "metadata": {},
   "outputs": [],
   "source": [
    "b[d.isbndy[:]] .= 0;                 # Dirichlet values"
   ]
  },
  {
   "cell_type": "markdown",
   "metadata": {},
   "source": [
    "Now we can solve for $\\mathbf{u}$ and reinterpret it as the matrix-shaped $\\mathbf{U}$, the solution on our grid. This grid is much too coarse for the result to look like a smooth function of two variables."
   ]
  },
  {
   "cell_type": "code",
   "execution_count": null,
   "metadata": {},
   "outputs": [],
   "source": [
    "u = A\\b;\n",
    "U = d.unvec(u);\n",
    "\n",
    "wireframe(X[:,1],Y[1,:],U,match_dimensions=true,\n",
    "    xaxis=(\"x\"),yaxis=(\"y\"),zaxis=(\"u(x,y)\"),title=\"Coarse solution\")"
   ]
  }
 ],
 "metadata": {
  "kernelspec": {
   "display_name": "Julia 1.0.3",
   "language": "julia",
   "name": "julia-1.0"
  },
  "language_info": {
   "file_extension": ".jl",
   "mimetype": "application/julia",
   "name": "julia",
   "version": "1.0.3"
  }
 },
 "nbformat": 4,
 "nbformat_minor": 2
}
