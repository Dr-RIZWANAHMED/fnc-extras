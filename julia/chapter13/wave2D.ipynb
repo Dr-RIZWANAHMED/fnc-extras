{
 "cells": [
  {
   "cell_type": "code",
   "execution_count": null,
   "metadata": {},
   "outputs": [],
   "source": [
    "include(\"../FNC.jl\")\n",
    "m = 60;  n = 60;\n",
    "X,Y,d = FNC.rectdisc(m,[-2,2],n,[-2,2]);\n",
    "x = X[:,1]; y = Y[1,:];  # for plotting"
   ]
  },
  {
   "cell_type": "markdown",
   "metadata": {},
   "source": [
    "Here is the initial condition. The boundary values of $u$ will remain constant."
   ]
  },
  {
   "cell_type": "code",
   "execution_count": null,
   "metadata": {},
   "outputs": [],
   "source": [
    "U0 = @. (X+0.2)*exp(-12*(X^2+Y^2))\n",
    "V0 = zeros(size(U0))\n",
    "\n",
    "using Plots\n",
    "surface(x,y,U0,     \n",
    "    title=\"Initial condition\",    \n",
    "    xaxis=(\"x\"),yaxis=(\"y\") ) "
   ]
  },
  {
   "cell_type": "markdown",
   "metadata": {},
   "source": [
    "The `unpack` function separates the unknowns for $u$ and $v$, applies the boundary conditions on $u$, and returns two functions on the grid."
   ]
  },
  {
   "cell_type": "code",
   "execution_count": null,
   "metadata": {},
   "outputs": [],
   "source": [
    "unpack = function (w)\n",
    "    numU = (m-1)*(n-1)   # number of unknowns for U\n",
    "    U = copy(U0)               \n",
    "    U[@. !d.isbndy] = w[1:numU]  # overwrite the interior\n",
    "    V = d.unvec( w[numU+1:end] )     # use all values\n",
    "    return U,V\n",
    "end"
   ]
  },
  {
   "cell_type": "markdown",
   "metadata": {},
   "source": [
    "The next function drops the boundary values of $u$ and returns a vector of all the unknowns for both components of the solution. It's the inverse of the `unpack` function."
   ]
  },
  {
   "cell_type": "code",
   "execution_count": null,
   "metadata": {},
   "outputs": [],
   "source": [
    "pack = function (U,V)\n",
    "    w = U[@. !d.isbndy]\n",
    "    return [ w; V[:] ]\n",
    "end"
   ]
  },
  {
   "cell_type": "markdown",
   "metadata": {},
   "source": [
    "The following function computes the time derivative of the unknowns. Besides the translation between vector and matrix shapes, it's quite straightforward."
   ]
  },
  {
   "cell_type": "code",
   "execution_count": null,
   "metadata": {},
   "outputs": [],
   "source": [
    "dwdt = function (w,tmp,t)\n",
    "    U,V = unpack(w) \n",
    "    dUdt = V\n",
    "    dWdt = d.Dxx*U + U*d.Dyy'\n",
    "    return pack(dUdt,dWdt)\n",
    "end"
   ]
  },
  {
   "cell_type": "markdown",
   "metadata": {},
   "source": [
    "Since this problem is hyperbolic, not parabolic, a nonstiff integrator like |ode45| is fine and faster than a stiff integrator."
   ]
  },
  {
   "cell_type": "code",
   "execution_count": null,
   "metadata": {},
   "outputs": [],
   "source": [
    "using DifferentialEquations\n",
    "IVP = ODEProblem(dwdt,pack(U0,V0),(0,3.0))\n",
    "sol = solve(IVP,alg_hints=[:nonstiff]);"
   ]
  },
  {
   "cell_type": "code",
   "execution_count": null,
   "metadata": {},
   "outputs": [],
   "source": [
    "@gif for t = range(0,stop=3,length=80)\n",
    "    surface(x,y,unpack(sol(t)),match_dimensions=true,color=:redsblues,clims=(-0.1,0.1),\n",
    "        title=\"Wave equation solution at t=$(round(t,digits=2))\")\n",
    "end"
   ]
  }
 ],
 "metadata": {
  "kernelspec": {
   "display_name": "Julia 1.0.3",
   "language": "julia",
   "name": "julia-1.0"
  },
  "language_info": {
   "file_extension": ".jl",
   "mimetype": "application/julia",
   "name": "julia",
   "version": "1.0.3"
  }
 },
 "nbformat": 4,
 "nbformat_minor": 2
}
