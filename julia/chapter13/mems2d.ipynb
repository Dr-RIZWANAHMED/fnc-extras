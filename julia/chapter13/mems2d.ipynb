{
 "cells": [
  {
   "cell_type": "markdown",
   "metadata": {},
   "source": [
    "This function defines the PDE, by way of $\\mathbf{f}(\\mathbf{u})$ and its derivative. Note that the function will have access to all of the properties of a discretization, as if they were returned by `rectdisc`."
   ]
  },
  {
   "cell_type": "markdown",
   "metadata": {},
   "source": [
    "The function here defines the PDE, by way of $\\mathbf{f}(\\mathbf{u})$ and its derivative (Jacobian matrix). Note that the function will have access to all of the properties of a discretization, as if they were returned by `rectdisc`."
   ]
  },
  {
   "cell_type": "code",
   "execution_count": null,
   "metadata": {},
   "outputs": [],
   "source": [
    "include(\"../FNC.jl\") \n",
    "using SparseArrays\n",
    "lambda = 1.5\n",
    "\n",
    "pde = function (U,X,Y,d)\n",
    "    LU = d.Dxx*U + U*d.Dyy';     # apply Laplacian\n",
    "    F = @. LU - lambda/(U+1)^2   # residual\n",
    "\n",
    "    L = kron(d.Dyy,d.Ix) + kron(d.Iy,d.Dxx)  \n",
    "    u = d.vec(U)\n",
    "    J = L + spdiagm( 0 => @. 2*lambda/(u+1)^3 ) \n",
    "    return F,J\n",
    "end      "
   ]
  },
  {
   "cell_type": "markdown",
   "metadata": {},
   "source": [
    "We define a trivial zero function for the Dirichlet boundary condition, and solve. "
   ]
  },
  {
   "cell_type": "code",
   "execution_count": null,
   "metadata": {},
   "outputs": [],
   "source": [
    "g(x,y) = 0     # boundary condition\n",
    "U,X,Y = FNC.newtonpde(pde,g,100,[0,2.5],80,[0,1]);"
   ]
  },
  {
   "cell_type": "code",
   "execution_count": null,
   "metadata": {},
   "outputs": [],
   "source": [
    "using Plots\n",
    "surface(X[:,1],Y[1,:],U',color=:blues,aspect_ratio=1,\n",
    "    xlabel=\"x\",ylabel=\"y\",title=\"Deflection of a MEMS membrane\")        "
   ]
  }
 ],
 "metadata": {
  "kernelspec": {
   "display_name": "Julia 1.0.3",
   "language": "julia",
   "name": "julia-1.0"
  },
  "language_info": {
   "file_extension": ".jl",
   "mimetype": "application/julia",
   "name": "julia",
   "version": "1.0.3"
  },
  "toc": {
   "base_numbering": 1,
   "nav_menu": {},
   "number_sections": true,
   "sideBar": true,
   "skip_h1_title": false,
   "title_cell": "Table of Contents",
   "title_sidebar": "Contents",
   "toc_cell": false,
   "toc_position": {},
   "toc_section_display": true,
   "toc_window_display": false
  }
 },
 "nbformat": 4,
 "nbformat_minor": 2
}
