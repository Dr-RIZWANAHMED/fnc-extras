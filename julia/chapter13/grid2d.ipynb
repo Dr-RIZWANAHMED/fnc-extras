{
 "cells": [
  {
   "cell_type": "markdown",
   "metadata": {},
   "source": [
    "Consider again the example $f(x,y)=\\sin(xy)$ over $[0,2\\pi]\\times[1,3]$, with the dimensions discretized using $m=4$ and $n=2$ equal pieces, respectively."
   ]
  },
  {
   "cell_type": "code",
   "execution_count": null,
   "metadata": {},
   "outputs": [],
   "source": [
    "m = 4;   x = 0:2*pi/m:2*pi;\n",
    "n = 2;   y = 1:2/n:3;"
   ]
  },
  {
   "cell_type": "markdown",
   "metadata": {},
   "source": [
    "We create a representation of the grid using two matrices created by the `ndgrid` function."
   ]
  },
  {
   "cell_type": "code",
   "execution_count": null,
   "metadata": {},
   "outputs": [],
   "source": [
    "include(\"../FNC.jl\")\n",
    "X,Y = FNC.ndgrid(x,y);\n",
    "X"
   ]
  },
  {
   "cell_type": "code",
   "execution_count": null,
   "metadata": {},
   "outputs": [],
   "source": [
    "Y"
   ]
  },
  {
   "cell_type": "markdown",
   "metadata": {},
   "source": [
    "As you see above, the entries of `X` vary in the first dimension (rows), while the entries of `Y` vary along the second dimension (columns). "
   ]
  },
  {
   "cell_type": "markdown",
   "metadata": {},
   "source": [
    "We can also visualize this grid on the rectangle."
   ]
  },
  {
   "cell_type": "code",
   "execution_count": null,
   "metadata": {},
   "outputs": [],
   "source": [
    "using Plots\n",
    "scatter(X,Y,m=:blue,xtick=x,ytick=y,leg=:none)"
   ]
  },
  {
   "cell_type": "markdown",
   "metadata": {},
   "source": [
    "For a given definition of $f(x,y)$ we can find $\\operatorname{mtx}(f)$ by  elementwise operations on the coordinate matrices `X` and `Y`. "
   ]
  },
  {
   "cell_type": "code",
   "execution_count": null,
   "metadata": {},
   "outputs": [],
   "source": [
    "f(x,y) = sin(x*y-y);\n",
    "F = f.(X,Y)"
   ]
  },
  {
   "cell_type": "markdown",
   "metadata": {},
   "source": [
    "We can make nice plots of the function by first choosing a much finer grid."
   ]
  },
  {
   "cell_type": "code",
   "execution_count": null,
   "metadata": {},
   "outputs": [],
   "source": [
    "m = 70;   x = 0:2*pi/m:2*pi;\n",
    "n = 50;   y = 1:2/n:3;\n",
    "X,Y = FNC.ndgrid(x,y);\n",
    "F = f.(X,Y);\n",
    "\n",
    "plot(x,y,F,levels=10,xlabel=\"x\",ylabel=\"y\",fill=true,match_dimensions=true)"
   ]
  },
  {
   "cell_type": "code",
   "execution_count": null,
   "metadata": {},
   "outputs": [],
   "source": [
    "surface(x,y,F,xlabel=\"x\",ylabel=\"y\",zlabel=\"f(x,y)\",match_dimensions=true,leg=:false)   "
   ]
  }
 ],
 "metadata": {
  "kernelspec": {
   "display_name": "Julia 1.0.3",
   "language": "julia",
   "name": "julia-1.0"
  },
  "language_info": {
   "file_extension": ".jl",
   "mimetype": "application/julia",
   "name": "julia",
   "version": "1.0.3"
  }
 },
 "nbformat": 4,
 "nbformat_minor": 2
}
