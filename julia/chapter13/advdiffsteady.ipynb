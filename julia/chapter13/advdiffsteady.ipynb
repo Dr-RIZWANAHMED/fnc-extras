{
 "cells": [
  {
   "cell_type": "markdown",
   "metadata": {},
   "source": [
    "The following defines the PDE, by way of a function for $\\mathbf{f}(\\mathbf{u})$ and its derivative (Jacobian matrix), and a function for the Dirichlet boundary condition."
   ]
  },
  {
   "cell_type": "code",
   "execution_count": null,
   "metadata": {},
   "outputs": [],
   "source": [
    "using SparseArrays\n",
    " \n",
    "pde = function pde(U,X,Y,d)\n",
    "    LU = d.Dxx*U + U*d.Dyy'      # apply Laplacian\n",
    "    Ux = d.Dx*U\n",
    "    F = @. 1 - Ux + 0.05*LU      # residual\n",
    "\n",
    "    L = kron(d.Dyy,d.Ix) + kron(d.Iy,d.Dxx)\n",
    "    u = d.vec(U)\n",
    "    J = -kron(d.Iy,d.Dx) + 0.05*L  # Jacobian\n",
    "    return F,J\n",
    "end\n",
    "\n",
    "g(x,y) = 0;    # boundary condition"
   ]
  },
  {
   "cell_type": "code",
   "execution_count": null,
   "metadata": {},
   "outputs": [],
   "source": [
    "include(\"../FNC.jl\")\n",
    "U,X,Y = FNC.newtonpde(pde,g,100,[-1,1],100,[-1,1]);"
   ]
  },
  {
   "cell_type": "code",
   "execution_count": null,
   "metadata": {},
   "outputs": [],
   "source": [
    "using Plots\n",
    "surface(X[:,1],Y[1,:],U',xlabel=\"x\",ylabel=\"y\",\n",
    "    title=\"Steady Advection-diffusion\")"
   ]
  }
 ],
 "metadata": {
  "kernelspec": {
   "display_name": "Julia 1.0.3",
   "language": "julia",
   "name": "julia-1.0"
  },
  "language_info": {
   "file_extension": ".jl",
   "mimetype": "application/julia",
   "name": "julia",
   "version": "1.0.3"
  },
  "toc": {
   "base_numbering": 1,
   "nav_menu": {},
   "number_sections": true,
   "sideBar": true,
   "skip_h1_title": false,
   "title_cell": "Table of Contents",
   "title_sidebar": "Contents",
   "toc_cell": false,
   "toc_position": {},
   "toc_section_display": true,
   "toc_window_display": false
  }
 },
 "nbformat": 4,
 "nbformat_minor": 2
}
