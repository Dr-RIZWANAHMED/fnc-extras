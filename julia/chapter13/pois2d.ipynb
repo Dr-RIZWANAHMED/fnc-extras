{
 "cells": [
  {
   "cell_type": "markdown",
   "metadata": {},
   "source": [
    "First we define the problem on $[0,1]\\times[0,2]$. "
   ]
  },
  {
   "cell_type": "code",
   "execution_count": null,
   "metadata": {},
   "outputs": [],
   "source": [
    "f(x,y) = -sin(3*x.*y-4*y)*(9*y^2+(3*x-4)^2);\n",
    "g(x,y) = sin(3*x*y-4*y);\n",
    "xspan = [0,1];  yspan = [0,2];"
   ]
  },
  {
   "cell_type": "markdown",
   "metadata": {},
   "source": [
    "Here is the finite difference solution."
   ]
  },
  {
   "cell_type": "code",
   "execution_count": null,
   "metadata": {},
   "outputs": [],
   "source": [
    "include(\"../FNC.jl\")\n",
    "U,X,Y = FNC.poissonfd(f,g,50,xspan,80,yspan);"
   ]
  },
  {
   "cell_type": "code",
   "execution_count": null,
   "metadata": {},
   "outputs": [],
   "source": [
    "x = X[:,1];  y = Y[1,:];\n",
    "using Plots\n",
    "surface(x,y,U,match_dimensions=true,color=:bluesreds,\n",
    "    title=\"Solution of Poisson equation\",      \n",
    "    xaxis=(\"x\"), yaxis=(\"y\"), zaxis=(\"u(x,y)\"))    "
   ]
  },
  {
   "cell_type": "code",
   "execution_count": null,
   "metadata": {},
   "outputs": [],
   "source": [
    "?gui"
   ]
  },
  {
   "cell_type": "markdown",
   "metadata": {},
   "source": [
    "The error is a surprisingly smooth function."
   ]
  },
  {
   "cell_type": "code",
   "execution_count": null,
   "metadata": {},
   "outputs": [],
   "source": [
    "error = g.(X,Y) - U;\n",
    "M = max( maximum(error),-minimum(error) )   \n",
    "contourf(x,y,error,levels=17,match_dimensions=true,aspect_ratio=1,clims=(-M,M),color=:bluesreds,\n",
    "    title=\"Error\",xaxis=(\"x\"),yaxis=(\"y\") )"
   ]
  },
  {
   "cell_type": "markdown",
   "metadata": {},
   "source": [
    "Because $u$ is specified on the boundary, we should observe that the error is zero on the boundary---else we have done something incorrectly."
   ]
  }
 ],
 "metadata": {
  "kernelspec": {
   "display_name": "Julia 1.0.3",
   "language": "julia",
   "name": "julia-1.0"
  },
  "language_info": {
   "file_extension": ".jl",
   "mimetype": "application/julia",
   "name": "julia",
   "version": "1.0.3"
  }
 },
 "nbformat": 4,
 "nbformat_minor": 2
}
