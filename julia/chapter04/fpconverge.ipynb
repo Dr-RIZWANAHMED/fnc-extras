{
 "cells": [
  {
   "cell_type": "code",
   "execution_count": 1,
   "metadata": {},
   "outputs": [
    {
     "name": "stdout",
     "output_type": "stream",
     "text": [
      "r = roots(Poly([3.5, -4, 1])) = [2.70711, 1.29289]\n"
     ]
    }
   ],
   "source": [
    "f = x -> x^2 - 4*x + 3.5\n",
    "using Polynomials\n",
    "@show r = roots(Poly([3.5,-4,1]));"
   ]
  },
  {
   "cell_type": "markdown",
   "metadata": {},
   "source": [
    "Here is the fixed point iteration. This time we keep track of the whole sequence of approximations. "
   ]
  },
  {
   "cell_type": "code",
   "execution_count": 2,
   "metadata": {},
   "outputs": [
    {
     "data": {
      "text/plain": [
       "13-element Array{Float64,1}:\n",
       " 2.1               \n",
       " 2.5900000000000003\n",
       " 2.7419            \n",
       " 2.69148439        \n",
       " 2.713333728386328 \n",
       " 2.704488720332788 \n",
       " 2.708184363256659 \n",
       " 2.7066592708954196\n",
       " 2.707291945752974 \n",
       " 2.707030049225946 \n",
       " 2.7071385587175025\n",
       " 2.707093617492436 \n",
       " 2.707112233593897 "
      ]
     },
     "execution_count": 2,
     "metadata": {},
     "output_type": "execute_result"
    }
   ],
   "source": [
    "g = x -> x - f(x);\n",
    "x = 2.1; \n",
    "for k = 1:12\n",
    "    x = [x;g(x[k])]\n",
    "end\n",
    "x"
   ]
  },
  {
   "cell_type": "markdown",
   "metadata": {},
   "source": [
    "It's easiest to construct and plot the sequence of errors. "
   ]
  },
  {
   "cell_type": "code",
   "execution_count": 3,
   "metadata": {},
   "outputs": [
    {
     "data": {
      "image/svg+xml": [
       "<?xml version=\"1.0\" encoding=\"utf-8\"?>\n",
       "<svg xmlns=\"http://www.w3.org/2000/svg\" xmlns:xlink=\"http://www.w3.org/1999/xlink\" width=\"600\" height=\"400\" viewBox=\"0 0 2400 1600\">\n",
       "<defs>\n",
       "  <clipPath id=\"clip2300\">\n",
       "    <rect x=\"0\" y=\"0\" width=\"2000\" height=\"2000\"/>\n",
       "  </clipPath>\n",
       "</defs>\n",
       "<defs>\n",
       "  <clipPath id=\"clip2301\">\n",
       "    <rect x=\"0\" y=\"0\" width=\"2400\" height=\"1600\"/>\n",
       "  </clipPath>\n",
       "</defs>\n",
       "<polygon clip-path=\"url(#clip2301)\" points=\"\n",
       "0,1600 2400,1600 2400,0 0,0 \n",
       "  \" fill=\"#ffffff\" fill-rule=\"evenodd\" fill-opacity=\"1\"/>\n",
       "<defs>\n",
       "  <clipPath id=\"clip2302\">\n",
       "    <rect x=\"480\" y=\"0\" width=\"1681\" height=\"1600\"/>\n",
       "  </clipPath>\n",
       "</defs>\n",
       "<polygon clip-path=\"url(#clip2301)\" points=\"\n",
       "288.452,1440.48 2321.26,1440.48 2321.26,125.984 288.452,125.984 \n",
       "  \" fill=\"#ffffff\" fill-rule=\"evenodd\" fill-opacity=\"1\"/>\n",
       "<defs>\n",
       "  <clipPath id=\"clip2303\">\n",
       "    <rect x=\"288\" y=\"125\" width=\"2034\" height=\"1315\"/>\n",
       "  </clipPath>\n",
       "</defs>\n",
       "<polyline clip-path=\"url(#clip2303)\" style=\"stroke:#000000; stroke-width:2; stroke-opacity:0.1; fill:none\" points=\"\n",
       "  345.984,1440.48 345.984,125.984 \n",
       "  \"/>\n",
       "<polyline clip-path=\"url(#clip2303)\" style=\"stroke:#000000; stroke-width:2; stroke-opacity:0.1; fill:none\" points=\"\n",
       "  745.514,1440.48 745.514,125.984 \n",
       "  \"/>\n",
       "<polyline clip-path=\"url(#clip2303)\" style=\"stroke:#000000; stroke-width:2; stroke-opacity:0.1; fill:none\" points=\"\n",
       "  1145.04,1440.48 1145.04,125.984 \n",
       "  \"/>\n",
       "<polyline clip-path=\"url(#clip2303)\" style=\"stroke:#000000; stroke-width:2; stroke-opacity:0.1; fill:none\" points=\"\n",
       "  1544.57,1440.48 1544.57,125.984 \n",
       "  \"/>\n",
       "<polyline clip-path=\"url(#clip2303)\" style=\"stroke:#000000; stroke-width:2; stroke-opacity:0.1; fill:none\" points=\"\n",
       "  1944.1,1440.48 1944.1,125.984 \n",
       "  \"/>\n",
       "<polyline clip-path=\"url(#clip2303)\" style=\"stroke:#000000; stroke-width:2; stroke-opacity:0.1; fill:none\" points=\"\n",
       "  288.452,1338.55 2321.26,1338.55 \n",
       "  \"/>\n",
       "<polyline clip-path=\"url(#clip2303)\" style=\"stroke:#000000; stroke-width:2; stroke-opacity:0.1; fill:none\" points=\"\n",
       "  288.452,1092.83 2321.26,1092.83 \n",
       "  \"/>\n",
       "<polyline clip-path=\"url(#clip2303)\" style=\"stroke:#000000; stroke-width:2; stroke-opacity:0.1; fill:none\" points=\"\n",
       "  288.452,847.104 2321.26,847.104 \n",
       "  \"/>\n",
       "<polyline clip-path=\"url(#clip2303)\" style=\"stroke:#000000; stroke-width:2; stroke-opacity:0.1; fill:none\" points=\"\n",
       "  288.452,601.379 2321.26,601.379 \n",
       "  \"/>\n",
       "<polyline clip-path=\"url(#clip2303)\" style=\"stroke:#000000; stroke-width:2; stroke-opacity:0.1; fill:none\" points=\"\n",
       "  288.452,355.655 2321.26,355.655 \n",
       "  \"/>\n",
       "<polyline clip-path=\"url(#clip2301)\" style=\"stroke:#000000; stroke-width:4; stroke-opacity:1; fill:none\" points=\"\n",
       "  288.452,1440.48 2321.26,1440.48 \n",
       "  \"/>\n",
       "<polyline clip-path=\"url(#clip2301)\" style=\"stroke:#000000; stroke-width:4; stroke-opacity:1; fill:none\" points=\"\n",
       "  288.452,1440.48 288.452,125.984 \n",
       "  \"/>\n",
       "<polyline clip-path=\"url(#clip2301)\" style=\"stroke:#000000; stroke-width:4; stroke-opacity:1; fill:none\" points=\"\n",
       "  345.984,1440.48 345.984,1420.77 \n",
       "  \"/>\n",
       "<polyline clip-path=\"url(#clip2301)\" style=\"stroke:#000000; stroke-width:4; stroke-opacity:1; fill:none\" points=\"\n",
       "  745.514,1440.48 745.514,1420.77 \n",
       "  \"/>\n",
       "<polyline clip-path=\"url(#clip2301)\" style=\"stroke:#000000; stroke-width:4; stroke-opacity:1; fill:none\" points=\"\n",
       "  1145.04,1440.48 1145.04,1420.77 \n",
       "  \"/>\n",
       "<polyline clip-path=\"url(#clip2301)\" style=\"stroke:#000000; stroke-width:4; stroke-opacity:1; fill:none\" points=\"\n",
       "  1544.57,1440.48 1544.57,1420.77 \n",
       "  \"/>\n",
       "<polyline clip-path=\"url(#clip2301)\" style=\"stroke:#000000; stroke-width:4; stroke-opacity:1; fill:none\" points=\"\n",
       "  1944.1,1440.48 1944.1,1420.77 \n",
       "  \"/>\n",
       "<polyline clip-path=\"url(#clip2301)\" style=\"stroke:#000000; stroke-width:4; stroke-opacity:1; fill:none\" points=\"\n",
       "  288.452,1338.55 318.944,1338.55 \n",
       "  \"/>\n",
       "<polyline clip-path=\"url(#clip2301)\" style=\"stroke:#000000; stroke-width:4; stroke-opacity:1; fill:none\" points=\"\n",
       "  288.452,1092.83 318.944,1092.83 \n",
       "  \"/>\n",
       "<polyline clip-path=\"url(#clip2301)\" style=\"stroke:#000000; stroke-width:4; stroke-opacity:1; fill:none\" points=\"\n",
       "  288.452,847.104 318.944,847.104 \n",
       "  \"/>\n",
       "<polyline clip-path=\"url(#clip2301)\" style=\"stroke:#000000; stroke-width:4; stroke-opacity:1; fill:none\" points=\"\n",
       "  288.452,601.379 318.944,601.379 \n",
       "  \"/>\n",
       "<polyline clip-path=\"url(#clip2301)\" style=\"stroke:#000000; stroke-width:4; stroke-opacity:1; fill:none\" points=\"\n",
       "  288.452,355.655 318.944,355.655 \n",
       "  \"/>\n",
       "<g clip-path=\"url(#clip2301)\">\n",
       "<text style=\"fill:#000000; fill-opacity:1; font-family:Arial,Helvetica Neue,Helvetica,sans-serif; font-size:48px; text-anchor:middle;\" transform=\"rotate(0, 345.984, 1494.48)\" x=\"345.984\" y=\"1494.48\">0.0</text>\n",
       "</g>\n",
       "<g clip-path=\"url(#clip2301)\">\n",
       "<text style=\"fill:#000000; fill-opacity:1; font-family:Arial,Helvetica Neue,Helvetica,sans-serif; font-size:48px; text-anchor:middle;\" transform=\"rotate(0, 745.514, 1494.48)\" x=\"745.514\" y=\"1494.48\">2.5</text>\n",
       "</g>\n",
       "<g clip-path=\"url(#clip2301)\">\n",
       "<text style=\"fill:#000000; fill-opacity:1; font-family:Arial,Helvetica Neue,Helvetica,sans-serif; font-size:48px; text-anchor:middle;\" transform=\"rotate(0, 1145.04, 1494.48)\" x=\"1145.04\" y=\"1494.48\">5.0</text>\n",
       "</g>\n",
       "<g clip-path=\"url(#clip2301)\">\n",
       "<text style=\"fill:#000000; fill-opacity:1; font-family:Arial,Helvetica Neue,Helvetica,sans-serif; font-size:48px; text-anchor:middle;\" transform=\"rotate(0, 1544.57, 1494.48)\" x=\"1544.57\" y=\"1494.48\">7.5</text>\n",
       "</g>\n",
       "<g clip-path=\"url(#clip2301)\">\n",
       "<text style=\"fill:#000000; fill-opacity:1; font-family:Arial,Helvetica Neue,Helvetica,sans-serif; font-size:48px; text-anchor:middle;\" transform=\"rotate(0, 1944.1, 1494.48)\" x=\"1944.1\" y=\"1494.48\">10.0</text>\n",
       "</g>\n",
       "<g clip-path=\"url(#clip2301)\">\n",
       "<text style=\"fill:#000000; fill-opacity:1; font-family:Arial,Helvetica Neue,Helvetica,sans-serif; font-size:48px; text-anchor:start;\" transform=\"rotate(0, 155.471, 1362.28)\" x=\"155.471\" y=\"1362.28\">10</text>\n",
       "</g>\n",
       "<g clip-path=\"url(#clip2301)\">\n",
       "<text style=\"fill:#000000; fill-opacity:1; font-family:Arial,Helvetica Neue,Helvetica,sans-serif; font-size:38px; text-anchor:start;\" transform=\"rotate(0, 208.996, 1334.87)\" x=\"208.996\" y=\"1334.87\">-</text>\n",
       "</g>\n",
       "<g clip-path=\"url(#clip2301)\">\n",
       "<text style=\"fill:#000000; fill-opacity:1; font-family:Arial,Helvetica Neue,Helvetica,sans-serif; font-size:38px; text-anchor:start;\" transform=\"rotate(0, 231.836, 1334.87)\" x=\"231.836\" y=\"1334.87\">5 </text>\n",
       "</g>\n",
       "<g clip-path=\"url(#clip2301)\">\n",
       "<text style=\"fill:#000000; fill-opacity:1; font-family:Arial,Helvetica Neue,Helvetica,sans-serif; font-size:48px; text-anchor:start;\" transform=\"rotate(0, 155.471, 1116.56)\" x=\"155.471\" y=\"1116.56\">10</text>\n",
       "</g>\n",
       "<g clip-path=\"url(#clip2301)\">\n",
       "<text style=\"fill:#000000; fill-opacity:1; font-family:Arial,Helvetica Neue,Helvetica,sans-serif; font-size:38px; text-anchor:start;\" transform=\"rotate(0, 208.996, 1089.15)\" x=\"208.996\" y=\"1089.15\">-</text>\n",
       "</g>\n",
       "<g clip-path=\"url(#clip2301)\">\n",
       "<text style=\"fill:#000000; fill-opacity:1; font-family:Arial,Helvetica Neue,Helvetica,sans-serif; font-size:38px; text-anchor:start;\" transform=\"rotate(0, 231.836, 1089.15)\" x=\"231.836\" y=\"1089.15\">4 </text>\n",
       "</g>\n",
       "<g clip-path=\"url(#clip2301)\">\n",
       "<text style=\"fill:#000000; fill-opacity:1; font-family:Arial,Helvetica Neue,Helvetica,sans-serif; font-size:48px; text-anchor:start;\" transform=\"rotate(0, 155.471, 870.831)\" x=\"155.471\" y=\"870.831\">10</text>\n",
       "</g>\n",
       "<g clip-path=\"url(#clip2301)\">\n",
       "<text style=\"fill:#000000; fill-opacity:1; font-family:Arial,Helvetica Neue,Helvetica,sans-serif; font-size:38px; text-anchor:start;\" transform=\"rotate(0, 208.996, 843.421)\" x=\"208.996\" y=\"843.421\">-</text>\n",
       "</g>\n",
       "<g clip-path=\"url(#clip2301)\">\n",
       "<text style=\"fill:#000000; fill-opacity:1; font-family:Arial,Helvetica Neue,Helvetica,sans-serif; font-size:38px; text-anchor:start;\" transform=\"rotate(0, 231.836, 843.421)\" x=\"231.836\" y=\"843.421\">3 </text>\n",
       "</g>\n",
       "<g clip-path=\"url(#clip2301)\">\n",
       "<text style=\"fill:#000000; fill-opacity:1; font-family:Arial,Helvetica Neue,Helvetica,sans-serif; font-size:48px; text-anchor:start;\" transform=\"rotate(0, 155.471, 625.107)\" x=\"155.471\" y=\"625.107\">10</text>\n",
       "</g>\n",
       "<g clip-path=\"url(#clip2301)\">\n",
       "<text style=\"fill:#000000; fill-opacity:1; font-family:Arial,Helvetica Neue,Helvetica,sans-serif; font-size:38px; text-anchor:start;\" transform=\"rotate(0, 208.996, 597.696)\" x=\"208.996\" y=\"597.696\">-</text>\n",
       "</g>\n",
       "<g clip-path=\"url(#clip2301)\">\n",
       "<text style=\"fill:#000000; fill-opacity:1; font-family:Arial,Helvetica Neue,Helvetica,sans-serif; font-size:38px; text-anchor:start;\" transform=\"rotate(0, 231.836, 597.696)\" x=\"231.836\" y=\"597.696\">2 </text>\n",
       "</g>\n",
       "<g clip-path=\"url(#clip2301)\">\n",
       "<text style=\"fill:#000000; fill-opacity:1; font-family:Arial,Helvetica Neue,Helvetica,sans-serif; font-size:48px; text-anchor:start;\" transform=\"rotate(0, 155.471, 379.382)\" x=\"155.471\" y=\"379.382\">10</text>\n",
       "</g>\n",
       "<g clip-path=\"url(#clip2301)\">\n",
       "<text style=\"fill:#000000; fill-opacity:1; font-family:Arial,Helvetica Neue,Helvetica,sans-serif; font-size:38px; text-anchor:start;\" transform=\"rotate(0, 208.996, 351.972)\" x=\"208.996\" y=\"351.972\">-</text>\n",
       "</g>\n",
       "<g clip-path=\"url(#clip2301)\">\n",
       "<text style=\"fill:#000000; fill-opacity:1; font-family:Arial,Helvetica Neue,Helvetica,sans-serif; font-size:38px; text-anchor:start;\" transform=\"rotate(0, 231.836, 351.972)\" x=\"231.836\" y=\"351.972\">1 </text>\n",
       "</g>\n",
       "<g clip-path=\"url(#clip2301)\">\n",
       "<text style=\"fill:#000000; fill-opacity:1; font-family:Arial,Helvetica Neue,Helvetica,sans-serif; font-size:84px; text-anchor:middle;\" transform=\"rotate(0, 1304.86, 73.2)\" x=\"1304.86\" y=\"73.2\">Convergence of fixed point iteration</text>\n",
       "</g>\n",
       "<g clip-path=\"url(#clip2301)\">\n",
       "<text style=\"fill:#000000; fill-opacity:1; font-family:Arial,Helvetica Neue,Helvetica,sans-serif; font-size:66px; text-anchor:middle;\" transform=\"rotate(0, 1304.86, 1590.4)\" x=\"1304.86\" y=\"1590.4\">iteration number</text>\n",
       "</g>\n",
       "<g clip-path=\"url(#clip2301)\">\n",
       "<text style=\"fill:#000000; fill-opacity:1; font-family:Arial,Helvetica Neue,Helvetica,sans-serif; font-size:66px; text-anchor:middle;\" transform=\"rotate(-90, 57.6, 783.233)\" x=\"57.6\" y=\"783.233\">error</text>\n",
       "</g>\n",
       "<polyline clip-path=\"url(#clip2303)\" style=\"stroke:#009af9; stroke-width:4; stroke-opacity:1; fill:none\" points=\"\n",
       "  345.984,163.187 505.796,338.802 665.608,468.321 825.42,553.771 985.232,651.931 1145.04,744.396 1304.86,839.13 1464.67,932.91 1624.48,1027.08 1784.29,1121.09 \n",
       "  1944.1,1215.17 2103.92,1309.22 2263.73,1403.28 \n",
       "  \"/>\n",
       "<polygon clip-path=\"url(#clip2303)\" style=\"fill:#000000; fill-opacity:1\" points=\"\n",
       "  345.984,183.187 331.844,177.327 325.984,163.187 331.844,149.047 345.984,143.187 360.124,149.047 365.984,163.187 360.124,177.327 \n",
       "  \"/>\n",
       "<polygon clip-path=\"url(#clip2303)\" style=\"fill:#009af9; fill-opacity:1\" points=\"\n",
       "  345.984,179.187 334.672,174.499 329.984,163.187 334.672,151.875 345.984,147.187 357.296,151.875 361.984,163.187 357.296,174.499 \n",
       "  \"/>\n",
       "<polygon clip-path=\"url(#clip2303)\" style=\"fill:#000000; fill-opacity:1\" points=\"\n",
       "  505.796,358.802 491.656,352.942 485.796,338.802 491.656,324.662 505.796,318.802 519.936,324.662 525.796,338.802 519.936,352.942 \n",
       "  \"/>\n",
       "<polygon clip-path=\"url(#clip2303)\" style=\"fill:#009af9; fill-opacity:1\" points=\"\n",
       "  505.796,354.802 494.484,350.114 489.796,338.802 494.484,327.49 505.796,322.802 517.108,327.49 521.796,338.802 517.108,350.114 \n",
       "  \"/>\n",
       "<polygon clip-path=\"url(#clip2303)\" style=\"fill:#000000; fill-opacity:1\" points=\"\n",
       "  665.608,488.321 651.468,482.461 645.608,468.321 651.468,454.181 665.608,448.321 679.748,454.181 685.608,468.321 679.748,482.461 \n",
       "  \"/>\n",
       "<polygon clip-path=\"url(#clip2303)\" style=\"fill:#009af9; fill-opacity:1\" points=\"\n",
       "  665.608,484.321 654.296,479.633 649.608,468.321 654.296,457.009 665.608,452.321 676.92,457.009 681.608,468.321 676.92,479.633 \n",
       "  \"/>\n",
       "<polygon clip-path=\"url(#clip2303)\" style=\"fill:#000000; fill-opacity:1\" points=\"\n",
       "  825.42,573.771 811.28,567.911 805.42,553.771 811.28,539.631 825.42,533.771 839.56,539.631 845.42,553.771 839.56,567.911 \n",
       "  \"/>\n",
       "<polygon clip-path=\"url(#clip2303)\" style=\"fill:#009af9; fill-opacity:1\" points=\"\n",
       "  825.42,569.771 814.108,565.083 809.42,553.771 814.108,542.459 825.42,537.771 836.732,542.459 841.42,553.771 836.732,565.083 \n",
       "  \"/>\n",
       "<polygon clip-path=\"url(#clip2303)\" style=\"fill:#000000; fill-opacity:1\" points=\"\n",
       "  985.232,671.931 971.092,666.071 965.232,651.931 971.092,637.791 985.232,631.931 999.372,637.791 1005.23,651.931 999.372,666.071 \n",
       "  \"/>\n",
       "<polygon clip-path=\"url(#clip2303)\" style=\"fill:#009af9; fill-opacity:1\" points=\"\n",
       "  985.232,667.931 973.92,663.243 969.232,651.931 973.92,640.619 985.232,635.931 996.544,640.619 1001.23,651.931 996.544,663.243 \n",
       "  \"/>\n",
       "<polygon clip-path=\"url(#clip2303)\" style=\"fill:#000000; fill-opacity:1\" points=\"\n",
       "  1145.04,764.396 1130.9,758.536 1125.04,744.396 1130.9,730.256 1145.04,724.396 1159.18,730.256 1165.04,744.396 1159.18,758.536 \n",
       "  \"/>\n",
       "<polygon clip-path=\"url(#clip2303)\" style=\"fill:#009af9; fill-opacity:1\" points=\"\n",
       "  1145.04,760.396 1133.73,755.708 1129.04,744.396 1133.73,733.084 1145.04,728.396 1156.36,733.084 1161.04,744.396 1156.36,755.708 \n",
       "  \"/>\n",
       "<polygon clip-path=\"url(#clip2303)\" style=\"fill:#000000; fill-opacity:1\" points=\"\n",
       "  1304.86,859.13 1290.72,853.27 1284.86,839.13 1290.72,824.99 1304.86,819.13 1319,824.99 1324.86,839.13 1319,853.27 \n",
       "  \"/>\n",
       "<polygon clip-path=\"url(#clip2303)\" style=\"fill:#009af9; fill-opacity:1\" points=\"\n",
       "  1304.86,855.13 1293.54,850.442 1288.86,839.13 1293.54,827.818 1304.86,823.13 1316.17,827.818 1320.86,839.13 1316.17,850.442 \n",
       "  \"/>\n",
       "<polygon clip-path=\"url(#clip2303)\" style=\"fill:#000000; fill-opacity:1\" points=\"\n",
       "  1464.67,952.91 1450.53,947.05 1444.67,932.91 1450.53,918.77 1464.67,912.91 1478.81,918.77 1484.67,932.91 1478.81,947.05 \n",
       "  \"/>\n",
       "<polygon clip-path=\"url(#clip2303)\" style=\"fill:#009af9; fill-opacity:1\" points=\"\n",
       "  1464.67,948.91 1453.36,944.222 1448.67,932.91 1453.36,921.598 1464.67,916.91 1475.98,921.598 1480.67,932.91 1475.98,944.222 \n",
       "  \"/>\n",
       "<polygon clip-path=\"url(#clip2303)\" style=\"fill:#000000; fill-opacity:1\" points=\"\n",
       "  1624.48,1047.08 1610.34,1041.22 1604.48,1027.08 1610.34,1012.94 1624.48,1007.08 1638.62,1012.94 1644.48,1027.08 1638.62,1041.22 \n",
       "  \"/>\n",
       "<polygon clip-path=\"url(#clip2303)\" style=\"fill:#009af9; fill-opacity:1\" points=\"\n",
       "  1624.48,1043.08 1613.17,1038.39 1608.48,1027.08 1613.17,1015.77 1624.48,1011.08 1635.79,1015.77 1640.48,1027.08 1635.79,1038.39 \n",
       "  \"/>\n",
       "<polygon clip-path=\"url(#clip2303)\" style=\"fill:#000000; fill-opacity:1\" points=\"\n",
       "  1784.29,1141.09 1770.15,1135.23 1764.29,1121.09 1770.15,1106.95 1784.29,1101.09 1798.43,1106.95 1804.29,1121.09 1798.43,1135.23 \n",
       "  \"/>\n",
       "<polygon clip-path=\"url(#clip2303)\" style=\"fill:#009af9; fill-opacity:1\" points=\"\n",
       "  1784.29,1137.09 1772.98,1132.4 1768.29,1121.09 1772.98,1109.78 1784.29,1105.09 1795.6,1109.78 1800.29,1121.09 1795.6,1132.4 \n",
       "  \"/>\n",
       "<polygon clip-path=\"url(#clip2303)\" style=\"fill:#000000; fill-opacity:1\" points=\"\n",
       "  1944.1,1235.17 1929.96,1229.31 1924.1,1215.17 1929.96,1201.03 1944.1,1195.17 1958.24,1201.03 1964.1,1215.17 1958.24,1229.31 \n",
       "  \"/>\n",
       "<polygon clip-path=\"url(#clip2303)\" style=\"fill:#009af9; fill-opacity:1\" points=\"\n",
       "  1944.1,1231.17 1932.79,1226.48 1928.1,1215.17 1932.79,1203.86 1944.1,1199.17 1955.42,1203.86 1960.1,1215.17 1955.42,1226.48 \n",
       "  \"/>\n",
       "<polygon clip-path=\"url(#clip2303)\" style=\"fill:#000000; fill-opacity:1\" points=\"\n",
       "  2103.92,1329.22 2089.78,1323.36 2083.92,1309.22 2089.78,1295.08 2103.92,1289.22 2118.06,1295.08 2123.92,1309.22 2118.06,1323.36 \n",
       "  \"/>\n",
       "<polygon clip-path=\"url(#clip2303)\" style=\"fill:#009af9; fill-opacity:1\" points=\"\n",
       "  2103.92,1325.22 2092.6,1320.53 2087.92,1309.22 2092.6,1297.91 2103.92,1293.22 2115.23,1297.91 2119.92,1309.22 2115.23,1320.53 \n",
       "  \"/>\n",
       "<polygon clip-path=\"url(#clip2303)\" style=\"fill:#000000; fill-opacity:1\" points=\"\n",
       "  2263.73,1423.28 2249.59,1417.42 2243.73,1403.28 2249.59,1389.14 2263.73,1383.28 2277.87,1389.14 2283.73,1403.28 2277.87,1417.42 \n",
       "  \"/>\n",
       "<polygon clip-path=\"url(#clip2303)\" style=\"fill:#009af9; fill-opacity:1\" points=\"\n",
       "  2263.73,1419.28 2252.42,1414.59 2247.73,1403.28 2252.42,1391.97 2263.73,1387.28 2275.04,1391.97 2279.73,1403.28 2275.04,1414.59 \n",
       "  \"/>\n",
       "</svg>\n"
      ]
     },
     "execution_count": 3,
     "metadata": {},
     "output_type": "execute_result"
    }
   ],
   "source": [
    "using Plots\n",
    "err = @. abs(x-r[1])\n",
    "plot(0:12,err,m=:o,\n",
    "    leg=:none,xaxis=(\"iteration number\"),yaxis=(\"error\",:log10),title=\"Convergence of fixed point iteration\")"
   ]
  },
  {
   "cell_type": "markdown",
   "metadata": {},
   "source": [
    "It's quite clear that the convergence quickly settles into a linear rate. We could estimate this rate by doing a least-squares fit to a straight line. Keep in mind that the values for small $k$ should be left out of the computation, as they don't represent the linear trend.  "
   ]
  },
  {
   "cell_type": "code",
   "execution_count": 4,
   "metadata": {},
   "outputs": [
    {
     "data": {
      "text/html": [
       "&#45;0.6680573888362207 &#45; 0.8807181589724035&#8729;x"
      ],
      "text/latex": [
       "$-0.6680573888362207 - 0.8807181589724035\\cdot x$"
      ],
      "text/plain": [
       "Poly(-0.6680573888362207 - 0.8807181589724035*x)"
      ]
     },
     "execution_count": 4,
     "metadata": {},
     "output_type": "execute_result"
    }
   ],
   "source": [
    "p = polyfit(5:12,log.(err[5:12]),1)"
   ]
  },
  {
   "cell_type": "markdown",
   "metadata": {},
   "source": [
    "We can exponentiate the slope to get the convergence constant $\\sigma$."
   ]
  },
  {
   "cell_type": "code",
   "execution_count": 5,
   "metadata": {},
   "outputs": [
    {
     "data": {
      "text/plain": [
       "0.41448513854897917"
      ]
     },
     "execution_count": 5,
     "metadata": {},
     "output_type": "execute_result"
    }
   ],
   "source": [
    "sigma = exp(p.a[2])"
   ]
  },
  {
   "cell_type": "markdown",
   "metadata": {},
   "source": [
    "The numerical values of the error should decrease by a factor of $\\sigma$ at each iteration. We can check this easily with an elementwise division."
   ]
  },
  {
   "cell_type": "code",
   "execution_count": 6,
   "metadata": {},
   "outputs": [
    {
     "data": {
      "text/plain": [
       "4-element Array{Float64,1}:\n",
       " 0.41376605208270323\n",
       " 0.4143987269397045 \n",
       " 0.4141368304158358 \n",
       " 0.41424533989920437"
      ]
     },
     "execution_count": 6,
     "metadata": {},
     "output_type": "execute_result"
    }
   ],
   "source": [
    "@. err[9:12] / err[8:11]"
   ]
  },
  {
   "cell_type": "markdown",
   "metadata": {},
   "source": [
    "The methods for finding $\\sigma$ agree well."
   ]
  }
 ],
 "metadata": {
  "kernelspec": {
   "display_name": "Julia 1.1.0",
   "language": "julia",
   "name": "julia-1.1"
  },
  "language_info": {
   "file_extension": ".jl",
   "mimetype": "application/julia",
   "name": "julia",
   "version": "1.1.0"
  },
  "toc": {
   "base_numbering": 1,
   "nav_menu": {},
   "number_sections": true,
   "sideBar": true,
   "skip_h1_title": false,
   "title_cell": "Table of Contents",
   "title_sidebar": "Contents",
   "toc_cell": false,
   "toc_position": {},
   "toc_section_display": true,
   "toc_window_display": false
  }
 },
 "nbformat": 4,
 "nbformat_minor": 2
}
