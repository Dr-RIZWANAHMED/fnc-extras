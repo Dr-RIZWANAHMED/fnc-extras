{
 "cells": [
  {
   "cell_type": "markdown",
   "metadata": {},
   "source": [
    "We again look at finding a solution of $xe^x=2$ near $x=1$. To apply Newton's method, we need to calculate values of both the residual function $f$ and its derivative.  "
   ]
  },
  {
   "cell_type": "code",
   "execution_count": 1,
   "metadata": {},
   "outputs": [],
   "source": [
    "f = x -> x*exp(x) - 2;\n",
    "dfdx = x -> exp(x)*(x+1);"
   ]
  },
  {
   "cell_type": "markdown",
   "metadata": {},
   "source": [
    "We don't know the exact root, so we use `nlsolve` to determine the \"true\" value."
   ]
  },
  {
   "cell_type": "code",
   "execution_count": 2,
   "metadata": {},
   "outputs": [
    {
     "data": {
      "text/plain": [
       "1-element Array{Float64,1}:\n",
       " 0.8526055020137259"
      ]
     },
     "execution_count": 2,
     "metadata": {},
     "output_type": "execute_result"
    }
   ],
   "source": [
    "using NLsolve\n",
    "r = nlsolve(x -> f(x[1]),[1.]).zero"
   ]
  },
  {
   "cell_type": "markdown",
   "metadata": {},
   "source": [
    "We use $x_1=1$ as a starting guess and apply the iteration in a loop, storing the sequence of iterates in a vector."
   ]
  },
  {
   "cell_type": "code",
   "execution_count": 3,
   "metadata": {},
   "outputs": [
    {
     "data": {
      "text/plain": [
       "7-element Array{Float64,1}:\n",
       " 1.0               \n",
       " 0.8678794411714423\n",
       " 0.8527833734164099\n",
       " 0.8526055263689221\n",
       " 0.852605502013726 \n",
       " 0.8526055020137254\n",
       " 0.8526055020137254"
      ]
     },
     "execution_count": 3,
     "metadata": {},
     "output_type": "execute_result"
    }
   ],
   "source": [
    "x = [1;zeros(6)]\n",
    "for k = 1:6\n",
    "    x[k+1] = x[k] - f(x[k]) / dfdx(x[k])\n",
    "end\n",
    "x"
   ]
  },
  {
   "cell_type": "markdown",
   "metadata": {},
   "source": [
    "Here is the sequence of errors. "
   ]
  },
  {
   "cell_type": "code",
   "execution_count": 4,
   "metadata": {},
   "outputs": [
    {
     "data": {
      "text/plain": [
       "7-element Array{Float64,1}:\n",
       "  0.14739449798627413   \n",
       "  0.015273939157716465  \n",
       "  0.00017787140268399337\n",
       "  2.4355196193148743e-8 \n",
       "  1.1102230246251565e-16\n",
       " -4.440892098500626e-16 \n",
       " -4.440892098500626e-16 "
      ]
     },
     "execution_count": 4,
     "metadata": {},
     "output_type": "execute_result"
    }
   ],
   "source": [
    "err = @. x - r"
   ]
  },
  {
   "cell_type": "markdown",
   "metadata": {},
   "source": [
    "Glancing at the exponents of the errors, they roughly form a neat doubling sequence until the error is comparable to machine precision. We can see this more precisely by taking logs."
   ]
  },
  {
   "cell_type": "code",
   "execution_count": 5,
   "metadata": {},
   "outputs": [
    {
     "data": {
      "text/plain": [
       "7-element Array{Float64,1}:\n",
       "  -1.9146426270180508\n",
       "  -4.181607225912875 \n",
       "  -8.634449725601385 \n",
       " -17.53052061416097  \n",
       " -36.7368005696771   \n",
       " -35.35050620855721  \n",
       " -35.35050620855721  "
      ]
     },
     "execution_count": 5,
     "metadata": {},
     "output_type": "execute_result"
    }
   ],
   "source": [
    "logerr = @. log(abs(err))"
   ]
  },
  {
   "cell_type": "markdown",
   "metadata": {},
   "source": [
    "Quadratic convergence isn't as graphically distinctive as linear convergence."
   ]
  },
  {
   "cell_type": "code",
   "execution_count": 6,
   "metadata": {},
   "outputs": [
    {
     "data": {
      "image/svg+xml": [
       "<?xml version=\"1.0\" encoding=\"utf-8\"?>\n",
       "<svg xmlns=\"http://www.w3.org/2000/svg\" xmlns:xlink=\"http://www.w3.org/1999/xlink\" width=\"600\" height=\"400\" viewBox=\"0 0 2400 1600\">\n",
       "<defs>\n",
       "  <clipPath id=\"clip2700\">\n",
       "    <rect x=\"0\" y=\"0\" width=\"2000\" height=\"2000\"/>\n",
       "  </clipPath>\n",
       "</defs>\n",
       "<defs>\n",
       "  <clipPath id=\"clip2701\">\n",
       "    <rect x=\"0\" y=\"0\" width=\"2400\" height=\"1600\"/>\n",
       "  </clipPath>\n",
       "</defs>\n",
       "<polygon clip-path=\"url(#clip2701)\" points=\"\n",
       "0,1600 2400,1600 2400,0 0,0 \n",
       "  \" fill=\"#ffffff\" fill-rule=\"evenodd\" fill-opacity=\"1\"/>\n",
       "<defs>\n",
       "  <clipPath id=\"clip2702\">\n",
       "    <rect x=\"480\" y=\"0\" width=\"1681\" height=\"1600\"/>\n",
       "  </clipPath>\n",
       "</defs>\n",
       "<polygon clip-path=\"url(#clip2701)\" points=\"\n",
       "315.214,1440.48 2321.26,1440.48 2321.26,125.984 315.214,125.984 \n",
       "  \" fill=\"#ffffff\" fill-rule=\"evenodd\" fill-opacity=\"1\"/>\n",
       "<defs>\n",
       "  <clipPath id=\"clip2703\">\n",
       "    <rect x=\"315\" y=\"125\" width=\"2007\" height=\"1315\"/>\n",
       "  </clipPath>\n",
       "</defs>\n",
       "<polyline clip-path=\"url(#clip2703)\" style=\"stroke:#000000; stroke-width:2; stroke-opacity:0.1; fill:none\" points=\"\n",
       "  371.989,1440.48 371.989,125.984 \n",
       "  \"/>\n",
       "<polyline clip-path=\"url(#clip2703)\" style=\"stroke:#000000; stroke-width:2; stroke-opacity:0.1; fill:none\" points=\"\n",
       "  687.405,1440.48 687.405,125.984 \n",
       "  \"/>\n",
       "<polyline clip-path=\"url(#clip2703)\" style=\"stroke:#000000; stroke-width:2; stroke-opacity:0.1; fill:none\" points=\"\n",
       "  1002.82,1440.48 1002.82,125.984 \n",
       "  \"/>\n",
       "<polyline clip-path=\"url(#clip2703)\" style=\"stroke:#000000; stroke-width:2; stroke-opacity:0.1; fill:none\" points=\"\n",
       "  1318.24,1440.48 1318.24,125.984 \n",
       "  \"/>\n",
       "<polyline clip-path=\"url(#clip2703)\" style=\"stroke:#000000; stroke-width:2; stroke-opacity:0.1; fill:none\" points=\"\n",
       "  1633.65,1440.48 1633.65,125.984 \n",
       "  \"/>\n",
       "<polyline clip-path=\"url(#clip2703)\" style=\"stroke:#000000; stroke-width:2; stroke-opacity:0.1; fill:none\" points=\"\n",
       "  1949.07,1440.48 1949.07,125.984 \n",
       "  \"/>\n",
       "<polyline clip-path=\"url(#clip2703)\" style=\"stroke:#000000; stroke-width:2; stroke-opacity:0.1; fill:none\" points=\"\n",
       "  2264.48,1440.48 2264.48,125.984 \n",
       "  \"/>\n",
       "<polyline clip-path=\"url(#clip2703)\" style=\"stroke:#000000; stroke-width:2; stroke-opacity:0.1; fill:none\" points=\"\n",
       "  315.214,1325 2321.26,1325 \n",
       "  \"/>\n",
       "<polyline clip-path=\"url(#clip2703)\" style=\"stroke:#000000; stroke-width:2; stroke-opacity:0.1; fill:none\" points=\"\n",
       "  315.214,1079 2321.26,1079 \n",
       "  \"/>\n",
       "<polyline clip-path=\"url(#clip2703)\" style=\"stroke:#000000; stroke-width:2; stroke-opacity:0.1; fill:none\" points=\"\n",
       "  315.214,833.003 2321.26,833.003 \n",
       "  \"/>\n",
       "<polyline clip-path=\"url(#clip2703)\" style=\"stroke:#000000; stroke-width:2; stroke-opacity:0.1; fill:none\" points=\"\n",
       "  315.214,587.003 2321.26,587.003 \n",
       "  \"/>\n",
       "<polyline clip-path=\"url(#clip2703)\" style=\"stroke:#000000; stroke-width:2; stroke-opacity:0.1; fill:none\" points=\"\n",
       "  315.214,341.003 2321.26,341.003 \n",
       "  \"/>\n",
       "<polyline clip-path=\"url(#clip2701)\" style=\"stroke:#000000; stroke-width:4; stroke-opacity:1; fill:none\" points=\"\n",
       "  315.214,1440.48 2321.26,1440.48 \n",
       "  \"/>\n",
       "<polyline clip-path=\"url(#clip2701)\" style=\"stroke:#000000; stroke-width:4; stroke-opacity:1; fill:none\" points=\"\n",
       "  315.214,1440.48 315.214,125.984 \n",
       "  \"/>\n",
       "<polyline clip-path=\"url(#clip2701)\" style=\"stroke:#000000; stroke-width:4; stroke-opacity:1; fill:none\" points=\"\n",
       "  371.989,1440.48 371.989,1420.77 \n",
       "  \"/>\n",
       "<polyline clip-path=\"url(#clip2701)\" style=\"stroke:#000000; stroke-width:4; stroke-opacity:1; fill:none\" points=\"\n",
       "  687.405,1440.48 687.405,1420.77 \n",
       "  \"/>\n",
       "<polyline clip-path=\"url(#clip2701)\" style=\"stroke:#000000; stroke-width:4; stroke-opacity:1; fill:none\" points=\"\n",
       "  1002.82,1440.48 1002.82,1420.77 \n",
       "  \"/>\n",
       "<polyline clip-path=\"url(#clip2701)\" style=\"stroke:#000000; stroke-width:4; stroke-opacity:1; fill:none\" points=\"\n",
       "  1318.24,1440.48 1318.24,1420.77 \n",
       "  \"/>\n",
       "<polyline clip-path=\"url(#clip2701)\" style=\"stroke:#000000; stroke-width:4; stroke-opacity:1; fill:none\" points=\"\n",
       "  1633.65,1440.48 1633.65,1420.77 \n",
       "  \"/>\n",
       "<polyline clip-path=\"url(#clip2701)\" style=\"stroke:#000000; stroke-width:4; stroke-opacity:1; fill:none\" points=\"\n",
       "  1949.07,1440.48 1949.07,1420.77 \n",
       "  \"/>\n",
       "<polyline clip-path=\"url(#clip2701)\" style=\"stroke:#000000; stroke-width:4; stroke-opacity:1; fill:none\" points=\"\n",
       "  2264.48,1440.48 2264.48,1420.77 \n",
       "  \"/>\n",
       "<polyline clip-path=\"url(#clip2701)\" style=\"stroke:#000000; stroke-width:4; stroke-opacity:1; fill:none\" points=\"\n",
       "  315.214,1325 345.305,1325 \n",
       "  \"/>\n",
       "<polyline clip-path=\"url(#clip2701)\" style=\"stroke:#000000; stroke-width:4; stroke-opacity:1; fill:none\" points=\"\n",
       "  315.214,1079 345.305,1079 \n",
       "  \"/>\n",
       "<polyline clip-path=\"url(#clip2701)\" style=\"stroke:#000000; stroke-width:4; stroke-opacity:1; fill:none\" points=\"\n",
       "  315.214,833.003 345.305,833.003 \n",
       "  \"/>\n",
       "<polyline clip-path=\"url(#clip2701)\" style=\"stroke:#000000; stroke-width:4; stroke-opacity:1; fill:none\" points=\"\n",
       "  315.214,587.003 345.305,587.003 \n",
       "  \"/>\n",
       "<polyline clip-path=\"url(#clip2701)\" style=\"stroke:#000000; stroke-width:4; stroke-opacity:1; fill:none\" points=\"\n",
       "  315.214,341.003 345.305,341.003 \n",
       "  \"/>\n",
       "<g clip-path=\"url(#clip2701)\">\n",
       "<text style=\"fill:#000000; fill-opacity:1; font-family:Arial,Helvetica Neue,Helvetica,sans-serif; font-size:48px; text-anchor:middle;\" transform=\"rotate(0, 371.989, 1494.48)\" x=\"371.989\" y=\"1494.48\">0</text>\n",
       "</g>\n",
       "<g clip-path=\"url(#clip2701)\">\n",
       "<text style=\"fill:#000000; fill-opacity:1; font-family:Arial,Helvetica Neue,Helvetica,sans-serif; font-size:48px; text-anchor:middle;\" transform=\"rotate(0, 687.405, 1494.48)\" x=\"687.405\" y=\"1494.48\">1</text>\n",
       "</g>\n",
       "<g clip-path=\"url(#clip2701)\">\n",
       "<text style=\"fill:#000000; fill-opacity:1; font-family:Arial,Helvetica Neue,Helvetica,sans-serif; font-size:48px; text-anchor:middle;\" transform=\"rotate(0, 1002.82, 1494.48)\" x=\"1002.82\" y=\"1494.48\">2</text>\n",
       "</g>\n",
       "<g clip-path=\"url(#clip2701)\">\n",
       "<text style=\"fill:#000000; fill-opacity:1; font-family:Arial,Helvetica Neue,Helvetica,sans-serif; font-size:48px; text-anchor:middle;\" transform=\"rotate(0, 1318.24, 1494.48)\" x=\"1318.24\" y=\"1494.48\">3</text>\n",
       "</g>\n",
       "<g clip-path=\"url(#clip2701)\">\n",
       "<text style=\"fill:#000000; fill-opacity:1; font-family:Arial,Helvetica Neue,Helvetica,sans-serif; font-size:48px; text-anchor:middle;\" transform=\"rotate(0, 1633.65, 1494.48)\" x=\"1633.65\" y=\"1494.48\">4</text>\n",
       "</g>\n",
       "<g clip-path=\"url(#clip2701)\">\n",
       "<text style=\"fill:#000000; fill-opacity:1; font-family:Arial,Helvetica Neue,Helvetica,sans-serif; font-size:48px; text-anchor:middle;\" transform=\"rotate(0, 1949.07, 1494.48)\" x=\"1949.07\" y=\"1494.48\">5</text>\n",
       "</g>\n",
       "<g clip-path=\"url(#clip2701)\">\n",
       "<text style=\"fill:#000000; fill-opacity:1; font-family:Arial,Helvetica Neue,Helvetica,sans-serif; font-size:48px; text-anchor:middle;\" transform=\"rotate(0, 2264.48, 1494.48)\" x=\"2264.48\" y=\"1494.48\">6</text>\n",
       "</g>\n",
       "<g clip-path=\"url(#clip2701)\">\n",
       "<text style=\"fill:#000000; fill-opacity:1; font-family:Arial,Helvetica Neue,Helvetica,sans-serif; font-size:48px; text-anchor:start;\" transform=\"rotate(0, 160.489, 1348.73)\" x=\"160.489\" y=\"1348.73\">10</text>\n",
       "</g>\n",
       "<g clip-path=\"url(#clip2701)\">\n",
       "<text style=\"fill:#000000; fill-opacity:1; font-family:Arial,Helvetica Neue,Helvetica,sans-serif; font-size:38px; text-anchor:start;\" transform=\"rotate(0, 214.014, 1321.32)\" x=\"214.014\" y=\"1321.32\">-</text>\n",
       "</g>\n",
       "<g clip-path=\"url(#clip2701)\">\n",
       "<text style=\"fill:#000000; fill-opacity:1; font-family:Arial,Helvetica Neue,Helvetica,sans-serif; font-size:38px; text-anchor:start;\" transform=\"rotate(0, 236.853, 1321.32)\" x=\"236.853\" y=\"1321.32\">15 </text>\n",
       "</g>\n",
       "<g clip-path=\"url(#clip2701)\">\n",
       "<text style=\"fill:#000000; fill-opacity:1; font-family:Arial,Helvetica Neue,Helvetica,sans-serif; font-size:48px; text-anchor:start;\" transform=\"rotate(0, 160.489, 1102.73)\" x=\"160.489\" y=\"1102.73\">10</text>\n",
       "</g>\n",
       "<g clip-path=\"url(#clip2701)\">\n",
       "<text style=\"fill:#000000; fill-opacity:1; font-family:Arial,Helvetica Neue,Helvetica,sans-serif; font-size:38px; text-anchor:start;\" transform=\"rotate(0, 214.014, 1075.32)\" x=\"214.014\" y=\"1075.32\">-</text>\n",
       "</g>\n",
       "<g clip-path=\"url(#clip2701)\">\n",
       "<text style=\"fill:#000000; fill-opacity:1; font-family:Arial,Helvetica Neue,Helvetica,sans-serif; font-size:38px; text-anchor:start;\" transform=\"rotate(0, 236.853, 1075.32)\" x=\"236.853\" y=\"1075.32\">12 </text>\n",
       "</g>\n",
       "<g clip-path=\"url(#clip2701)\">\n",
       "<text style=\"fill:#000000; fill-opacity:1; font-family:Arial,Helvetica Neue,Helvetica,sans-serif; font-size:48px; text-anchor:start;\" transform=\"rotate(0, 182.234, 856.731)\" x=\"182.234\" y=\"856.731\">10</text>\n",
       "</g>\n",
       "<g clip-path=\"url(#clip2701)\">\n",
       "<text style=\"fill:#000000; fill-opacity:1; font-family:Arial,Helvetica Neue,Helvetica,sans-serif; font-size:38px; text-anchor:start;\" transform=\"rotate(0, 235.758, 829.32)\" x=\"235.758\" y=\"829.32\">-</text>\n",
       "</g>\n",
       "<g clip-path=\"url(#clip2701)\">\n",
       "<text style=\"fill:#000000; fill-opacity:1; font-family:Arial,Helvetica Neue,Helvetica,sans-serif; font-size:38px; text-anchor:start;\" transform=\"rotate(0, 258.598, 829.32)\" x=\"258.598\" y=\"829.32\">9 </text>\n",
       "</g>\n",
       "<g clip-path=\"url(#clip2701)\">\n",
       "<text style=\"fill:#000000; fill-opacity:1; font-family:Arial,Helvetica Neue,Helvetica,sans-serif; font-size:48px; text-anchor:start;\" transform=\"rotate(0, 182.234, 610.73)\" x=\"182.234\" y=\"610.73\">10</text>\n",
       "</g>\n",
       "<g clip-path=\"url(#clip2701)\">\n",
       "<text style=\"fill:#000000; fill-opacity:1; font-family:Arial,Helvetica Neue,Helvetica,sans-serif; font-size:38px; text-anchor:start;\" transform=\"rotate(0, 235.758, 583.32)\" x=\"235.758\" y=\"583.32\">-</text>\n",
       "</g>\n",
       "<g clip-path=\"url(#clip2701)\">\n",
       "<text style=\"fill:#000000; fill-opacity:1; font-family:Arial,Helvetica Neue,Helvetica,sans-serif; font-size:38px; text-anchor:start;\" transform=\"rotate(0, 258.598, 583.32)\" x=\"258.598\" y=\"583.32\">6 </text>\n",
       "</g>\n",
       "<g clip-path=\"url(#clip2701)\">\n",
       "<text style=\"fill:#000000; fill-opacity:1; font-family:Arial,Helvetica Neue,Helvetica,sans-serif; font-size:48px; text-anchor:start;\" transform=\"rotate(0, 182.234, 364.73)\" x=\"182.234\" y=\"364.73\">10</text>\n",
       "</g>\n",
       "<g clip-path=\"url(#clip2701)\">\n",
       "<text style=\"fill:#000000; fill-opacity:1; font-family:Arial,Helvetica Neue,Helvetica,sans-serif; font-size:38px; text-anchor:start;\" transform=\"rotate(0, 235.758, 337.32)\" x=\"235.758\" y=\"337.32\">-</text>\n",
       "</g>\n",
       "<g clip-path=\"url(#clip2701)\">\n",
       "<text style=\"fill:#000000; fill-opacity:1; font-family:Arial,Helvetica Neue,Helvetica,sans-serif; font-size:38px; text-anchor:start;\" transform=\"rotate(0, 258.598, 337.32)\" x=\"258.598\" y=\"337.32\">3 </text>\n",
       "</g>\n",
       "<g clip-path=\"url(#clip2701)\">\n",
       "<text style=\"fill:#000000; fill-opacity:1; font-family:Arial,Helvetica Neue,Helvetica,sans-serif; font-size:84px; text-anchor:middle;\" transform=\"rotate(0, 1318.24, 73.2)\" x=\"1318.24\" y=\"73.2\">Quadratic convergence</text>\n",
       "</g>\n",
       "<g clip-path=\"url(#clip2701)\">\n",
       "<image width=\"30\" height=\"46\" xlink:href=\"data:image/png;base64,\n",
       "iVBORw0KGgoAAAANSUhEUgAAAB4AAAAuCAYAAAA/SqkPAAACwElEQVRYhcVX4dGiMBB9fnMFREuI\n",
       "HURLiFYQLQE70BZSgmMJjBWIJQQrQEqIdLD345twAgEC6NzO7AxkyD72vewmmRERfJamKRljUBQF\n",
       "rLXI87zxrLXG6XSaeQP02B/fYJIktN1ux8QLth/fIOccSikIIcAYa50spRyPTERBrpQiAKUzxih0\n",
       "rs+9GYfYer0eny1aqPbZ4/GovE+iGQij2lpboRkAGWMmUR30URzHH9U3WOP7/V55n6ovEKhxHXiy\n",
       "vkA/1d/QN0jjur6//zoNNEjjr9CMAI2/Bfxf9O3V+Fv69mo8heYkSWi329F8PqfZbEbL5ZIOhwO9\n",
       "Xi/qpZpzXslWa92bsTGGhBAEgDjnpJQirTW53Y0xRtbaz+p7PB5LwNvtRu+xtNbkEomi6HP6RlHk\n",
       "ZSXLMmKMNXp9byDnUspWYEdjHMeNb6SUjQQ6gUP1dYHbZKiDuiQm6etA3/XsSwAAZVk2Xl9Hbxdo\n",
       "fZULIcoERukbCtrlg/XtWkiTgNv0tdaSEIIYY5Mydd5omfU2CQBxHGOxWAAAjDHYbDajri0V69PX\n",
       "+acybaXat/zrzjmnKIooy7LPLK42fbMso/P5TL4uJKUctUd31q/v/Gytpfo9CgCdz+dB4IPq9921\n",
       "1g3wIWsguH597jqScyHEcOAx+++Uo1FZx776Xa1WnfXKOW+MPZ9Pavv+dDrRbrcjAO3AIecra21j\n",
       "zDUan10ul/K5FVgI0Quc53ljbD6fe1lK05SKoigT+gGA1+tF9SD7/X4wcNfPxnFcifsDjNMXAIqi\n",
       "qLz7NHd2vV4hhCgZ8QKHnp/rQG3ASZJQnueIoujf4Jj6dX673YK6l9tOK3U89X70fnQ9Ho+Nea7W\n",
       "68lMvh+9z693LmNMa0drACulBgFTrW9LKUlrTa7vCyHIWtsEJvo9pjLGRoG+Z6eUKq8pnPPOtfIX\n",
       "YBwm0HSW8iUAAAAASUVORK5CYII=\n",
       "\" transform=\"translate(1303, 1556)\"/>\n",
       "</g>\n",
       "<g clip-path=\"url(#clip2701)\">\n",
       "<image width=\"66\" height=\"202\" xlink:href=\"data:image/png;base64,\n",
       "iVBORw0KGgoAAAANSUhEUgAAAEIAAADKCAYAAAARt5ZdAAAH90lEQVR4nO2d7ZHaPBCA1++kAEEJ\n",
       "IhUIShBXgWnBSQVOSnA6IC2Yq8BQgk0FxiUIOtj3x604H4eNDfIHuX1mdjKTDMZ+sOTVR7yeMQaL\n",
       "ooCiKOCrIYQAKSXMZjMPpJQIAF860jTF/x73+m/gISJkWYbGmKHPpXem0ylIKWEymXgeIg59PqOA\n",
       "mwbBIggWQbAIgkUQLIJgEQSLIDoVcTgcMMuy58jYENF55HmOl4O5KIqwi+9yFZ0cVAhxdZS3Xq9H\n",
       "K8P5AaMoQgD4dEfYvxv6gqvC+aBrPp/jdDoF3/fh58+f15qi5/QLHeG8syyKApRS8OPHD09r/eHf\n",
       "fN93/XXO+Ob6gKfTCabTKQAAbLdb7+/fv7jb7UBKCb9//3b9dc5w3jRmsxkqpWCz2YyyCVThvGlo\n",
       "rWG327k+bPe47n3TNEUAwDiOR/uE6OXxiYjg+z4KIdAY8zQyOjlonucohECl1NPI6OzAtokIITBN\n",
       "09HL6PTgaZqiTbfHnF53LsIYg2EYfkixkyQZpZDODlwWcBlCCNRaYxRFo2k2nRw0CILW649KKQzD\n",
       "cLA7xvkBbSf5aPQtxnmKvVqt8PX1FaSUoLUGIQScTicoiuKhjFMpBVpr0FrDYrGAyWTiNoV3bVZK\n",
       "iVrryl8xTVNcr9doky64846RUmIQBM76GPdtreW0XJ7nD4tx8Wh23jSWyyUCvA3B7/n84XDA3W4H\n",
       "+/0edrtdo508Uko4HA6PNRXXd8R6vUYAwDAMndyyxhiM4xiDILg6/QeOpgCdi0B8G3QBAGqtnff6\n",
       "VkwYhqi1dpakdSIC8X0S1/5iY0qeehVhf731eo1KqQ9Zpe/7o5PS2xfleY5hGJ6lBEEwKhG8h4rg\n",
       "RWCCRRAsgmARBIsgWATBIggWQbAIgkUQLIJgEQSLIFgEwSIIFkGwCIJFECyCYBEEiyAGFbHdbtHz\n",
       "PFytVoNPpQ8qwu6XGMNO3UFFnE6nD38OCfcRBIsgWATBIggWQbAIgkUQLIJgEQSLIFgEwSIIFkGw\n",
       "CIJFECyCYBEEiyBYBMEiCBZBsAiCRRAsgmARBIsgWATBIggWQbAIgkUQLIJgEQSLIFgEMagIKSUA\n",
       "vNXCGRrnbzhtQxAEYIyBy1fCDgG/LYDgPoJgEQSLIFgEwSIIFkGwCIJFECyCYBEEiyBYBMEiCBZB\n",
       "sAiCRRAsgmARBIsgWATBIggWQbAIgkUQLIIYtYgsy3C1WuFyucRfv341WpLbbDZ4OBzaL98N/Yby\n",
       "qrhWwqaugAni2yvq4eJ9/U0Lpg1+wVWhlEKl1KfiI7cuzFZbsBUdoGHhk8EvuPLEqDBiuSqDEKLR\n",
       "r1uWYstk+b5f+9nBL7gqpJTnkjJJkjxUoSlJEhRC1JaoGfyCq8L3/Zu/YpuIoqi2MsvgF1wVtrPM\n",
       "89yJjDiO8e3ZcP3fR71RpE1ho+12i7Z4kZQSFovFeUvSfr+HKIpASglZll0/1tC/fF0YY1AIcbMo\n",
       "SfkJURd1T4/BL7ZpE6m6iLriieVQStXKHPxCm4Rt35d1hssJVFUIIRqVyur1gpIkubsIkc0nyo9Q\n",
       "WxMMqKZPuWM1xrQqw9uriHKWeE+9T9sM7Ge01o2SpdGJqKq81kZMEATnCtRWrIsCzL2KKNfrutWu\n",
       "fd/H9Xp9NY+QUp7LXN0aiI1ShL2VhRCtKjleiimPTF3VDOxVhC2Ra3v/PM9vFiysEtMkNxitiMvO\n",
       "7jKaVHKsyxPswOyePqNXETYfaHqixhi0I8+m/YsNWyG2qp8ZVIS9uEc+b8XY/qbNHVP3RBr1oKsJ\n",
       "WZbhbrcDG3UIIeB4PF4ddD29iEuyLMM0Tc9iyi8W/lIiLrE1houigCAIYDabfU0RTRn1ukafsAiC\n",
       "RRAsguhUxPF4vG8dcgA6EXE8HnE+n+N0OoXv37+D53n458+fcQvpIo2uGhfUrTR1lZI3DecHTJKk\n",
       "diDU5lh2ml4p9WnidvQifN9HIcSHxdtytDlWnudop+agwcBpVCLs8BfxcxN5ZJI1juOzkC6q0Ls3\n",
       "ezFrFEURaq0xCAInk6x2csfVXGVnIpouqDwSth9yKcP5SWqtby6vuZQx2jlLOx1376aONmGfKqNd\n",
       "17BPjq56eBt5nju7Kzo5QWPMeRba1a1bFVprJ31FZydoTxLgfUXa1e6XcoRh2HqTWe8iEN8XdcrZ\n",
       "ZRAEGMex08fpaEUYY7DJTpZb65y3wu7HHKWIch/RNoQQjVfGbRrvItPsZPJ2uVyiy0KFSilYLBYg\n",
       "pQQhBBRFAa+vr1AUBQAApGkK8/n85oazOpyL2G63+PLyAgAAWmvQWoOUEowxUBQF7Pd7SNPUWSFD\n",
       "3/dhs9k8JAEAuhl9Anze73Qt0jRFOxaBO5rRqFNs28bv+WwbMa7HM85FgMMkqkqMy63JnYkoz0e4\n",
       "jjiOz9sDpJROEzTnJ9vH6NNO0thNZaMUYfc+dj3gsrvqXEnv5CQf6TDbhN1Uds/seC8i7F3R9cgT\n",
       "ceQpNuL7YKtrGU8x+rQyfN9/uFOzgzil1IeJYDveGLWI8onaJOheIZdLA1JKNMactyKOXkT51yyn\n",
       "xm2fKteyS7v483Sb0pMkQTuf2fbk6/ZZunhU9yriUYnXJLhKtwe/wDYRx/GHCR+XqfxT7qo7Ho84\n",
       "mUwen4Mo8ZQiuoD3UBEsgmARBIsgWATBIggWQXw7Ho9YFMV51egrIYQAKeXb/+G4d43yX4o0TZGb\n",
       "BuEhImRZhsaYoc+ld6bTKUgpYTKZeP8DpsEtdiAkRMIAAAAASUVORK5CYII=\n",
       "\" transform=\"translate(-1, 682)\"/>\n",
       "</g>\n",
       "<polyline clip-path=\"url(#clip2703)\" style=\"stroke:#009af9; stroke-width:4; stroke-opacity:1; fill:none\" points=\"\n",
       "  371.989,163.187 687.405,243.919 1002.82,402.494 1318.24,719.302 1633.65,1403.28 1949.07,1353.91 2264.48,1353.91 \n",
       "  \"/>\n",
       "<polygon clip-path=\"url(#clip2703)\" style=\"fill:#000000; fill-opacity:1\" points=\"\n",
       "  371.989,183.187 357.849,177.327 351.989,163.187 357.849,149.047 371.989,143.187 386.129,149.047 391.989,163.187 386.129,177.327 \n",
       "  \"/>\n",
       "<polygon clip-path=\"url(#clip2703)\" style=\"fill:#009af9; fill-opacity:1\" points=\"\n",
       "  371.989,179.187 360.677,174.499 355.989,163.187 360.677,151.875 371.989,147.187 383.301,151.875 387.989,163.187 383.301,174.499 \n",
       "  \"/>\n",
       "<polygon clip-path=\"url(#clip2703)\" style=\"fill:#000000; fill-opacity:1\" points=\"\n",
       "  687.405,263.919 673.265,258.059 667.405,243.919 673.265,229.779 687.405,223.919 701.545,229.779 707.405,243.919 701.545,258.059 \n",
       "  \"/>\n",
       "<polygon clip-path=\"url(#clip2703)\" style=\"fill:#009af9; fill-opacity:1\" points=\"\n",
       "  687.405,259.919 676.093,255.231 671.405,243.919 676.093,232.607 687.405,227.919 698.717,232.607 703.405,243.919 698.717,255.231 \n",
       "  \"/>\n",
       "<polygon clip-path=\"url(#clip2703)\" style=\"fill:#000000; fill-opacity:1\" points=\"\n",
       "  1002.82,422.494 988.681,416.634 982.821,402.494 988.681,388.354 1002.82,382.494 1016.96,388.354 1022.82,402.494 1016.96,416.634 \n",
       "  \"/>\n",
       "<polygon clip-path=\"url(#clip2703)\" style=\"fill:#009af9; fill-opacity:1\" points=\"\n",
       "  1002.82,418.494 991.509,413.806 986.821,402.494 991.509,391.182 1002.82,386.494 1014.13,391.182 1018.82,402.494 1014.13,413.806 \n",
       "  \"/>\n",
       "<polygon clip-path=\"url(#clip2703)\" style=\"fill:#000000; fill-opacity:1\" points=\"\n",
       "  1318.24,739.302 1304.1,733.442 1298.24,719.302 1304.1,705.162 1318.24,699.302 1332.38,705.162 1338.24,719.302 1332.38,733.442 \n",
       "  \"/>\n",
       "<polygon clip-path=\"url(#clip2703)\" style=\"fill:#009af9; fill-opacity:1\" points=\"\n",
       "  1318.24,735.302 1306.93,730.614 1302.24,719.302 1306.93,707.99 1318.24,703.302 1329.55,707.99 1334.24,719.302 1329.55,730.614 \n",
       "  \"/>\n",
       "<polygon clip-path=\"url(#clip2703)\" style=\"fill:#000000; fill-opacity:1\" points=\"\n",
       "  1633.65,1423.28 1619.51,1417.42 1613.65,1403.28 1619.51,1389.14 1633.65,1383.28 1647.79,1389.14 1653.65,1403.28 1647.79,1417.42 \n",
       "  \"/>\n",
       "<polygon clip-path=\"url(#clip2703)\" style=\"fill:#009af9; fill-opacity:1\" points=\"\n",
       "  1633.65,1419.28 1622.34,1414.59 1617.65,1403.28 1622.34,1391.97 1633.65,1387.28 1644.97,1391.97 1649.65,1403.28 1644.97,1414.59 \n",
       "  \"/>\n",
       "<polygon clip-path=\"url(#clip2703)\" style=\"fill:#000000; fill-opacity:1\" points=\"\n",
       "  1949.07,1373.91 1934.93,1368.05 1929.07,1353.91 1934.93,1339.77 1949.07,1333.91 1963.21,1339.77 1969.07,1353.91 1963.21,1368.05 \n",
       "  \"/>\n",
       "<polygon clip-path=\"url(#clip2703)\" style=\"fill:#009af9; fill-opacity:1\" points=\"\n",
       "  1949.07,1369.91 1937.76,1365.22 1933.07,1353.91 1937.76,1342.6 1949.07,1337.91 1960.38,1342.6 1965.07,1353.91 1960.38,1365.22 \n",
       "  \"/>\n",
       "<polygon clip-path=\"url(#clip2703)\" style=\"fill:#000000; fill-opacity:1\" points=\"\n",
       "  2264.48,1373.91 2250.34,1368.05 2244.48,1353.91 2250.34,1339.77 2264.48,1333.91 2278.62,1339.77 2284.48,1353.91 2278.62,1368.05 \n",
       "  \"/>\n",
       "<polygon clip-path=\"url(#clip2703)\" style=\"fill:#009af9; fill-opacity:1\" points=\"\n",
       "  2264.48,1369.91 2253.17,1365.22 2248.48,1353.91 2253.17,1342.6 2264.48,1337.91 2275.8,1342.6 2280.48,1353.91 2275.8,1365.22 \n",
       "  \"/>\n",
       "</svg>\n"
      ]
     },
     "execution_count": 6,
     "metadata": {},
     "output_type": "execute_result"
    }
   ],
   "source": [
    "using Plots\n",
    "plot(0:6,abs.(err),m=:o,label=\"\",\n",
    "    xlabel=\"\\$k\\$\",yaxis=(:log10,\"\\$|x_k-r|\\$\"),title=\"Quadratic convergence\")"
   ]
  },
  {
   "cell_type": "markdown",
   "metadata": {},
   "source": [
    "This looks faster than linear convergence, but it's not easy to say more. If we could use infinite precision, the curve would continue to steepen forever."
   ]
  }
 ],
 "metadata": {
  "kernelspec": {
   "display_name": "Julia 1.1.0",
   "language": "julia",
   "name": "julia-1.1"
  },
  "language_info": {
   "file_extension": ".jl",
   "mimetype": "application/julia",
   "name": "julia",
   "version": "1.1.0"
  },
  "latex_envs": {
   "LaTeX_envs_menu_present": true,
   "autoclose": false,
   "autocomplete": true,
   "bibliofile": "biblio.bib",
   "cite_by": "apalike",
   "current_citInitial": 1,
   "eqLabelWithNumbers": true,
   "eqNumInitial": 1,
   "hotkeys": {
    "equation": "Ctrl-E",
    "itemize": "Ctrl-I"
   },
   "labels_anchors": false,
   "latex_user_defs": false,
   "report_style_numbering": true,
   "user_envs_cfg": false
  },
  "toc": {
   "base_numbering": 1,
   "nav_menu": {},
   "number_sections": true,
   "sideBar": true,
   "skip_h1_title": false,
   "title_cell": "Table of Contents",
   "title_sidebar": "Contents",
   "toc_cell": false,
   "toc_position": {},
   "toc_section_display": true,
   "toc_window_display": false
  }
 },
 "nbformat": 4,
 "nbformat_minor": 2
}
