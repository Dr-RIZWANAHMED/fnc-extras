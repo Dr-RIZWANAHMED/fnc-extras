{
 "cells": [
  {
   "cell_type": "markdown",
   "metadata": {},
   "source": [
    "Inhibited enzyme reactions often follow what are known as _Michaelis–Menten_ kinetics, in which a reaction rate $v$ follows a law of the form\n",
    "\n",
    "$$v(x) = \\frac{V x}{K_m + x},$$ "
   ]
  },
  {
   "cell_type": "markdown",
   "metadata": {},
   "source": [
    "where $x$ is the concentration of a substrate. The real values $V$ and $K_m$ are parameters that are free to fit to data. For this example we cook up some artificial data with $V=2$ and $K_m=1/2$."
   ]
  },
  {
   "cell_type": "code",
   "execution_count": null,
   "metadata": {},
   "outputs": [],
   "source": [
    "m = 25;\n",
    "x = range(0.05,stop=6,length=m)\n",
    "y = @. 2*x/(0.5+x)                   # exactly on the curve\n",
    "@. y += 0.15*cos(2*exp(x/16)*x);     # noise added"
   ]
  },
  {
   "cell_type": "code",
   "execution_count": null,
   "metadata": {},
   "outputs": [],
   "source": [
    "using Plots\n",
    "plot(x,y,m=:o,l=nothing,label=\"data\",\n",
    "     xlabel=\"x\",ylabel=\"v\",leg=:bottomright)"
   ]
  },
  {
   "cell_type": "markdown",
   "metadata": {},
   "source": [
    "The idea is to pretend that we know nothing of the origins of this data and use nonlinear least squares on the misfit to find the parameters in the theoretical model function $v(x)$. Note in the Jacobian that the derivatives are _not_ with respect to $x$, but with respect to the two parameters, which are contained in the vector `c`."
   ]
  },
  {
   "cell_type": "code",
   "execution_count": null,
   "metadata": {},
   "outputs": [],
   "source": [
    "function misfit(c)\n",
    "    V,Km = c   # rename components for clarity\n",
    "    return @. V*x/(Km+x) - y\n",
    "end\n",
    "\n",
    "function misfitjac(c)\n",
    "    V,Km = c   # rename components for clarity\n",
    "    J = zeros(m,2)\n",
    "    J[:,1] = @. x/(Km+x)              # d/d(V)\n",
    "    J[:,2] = @. -V*x/(Km+x)^2         # d/d(Km)\n",
    "    return J\n",
    "end"
   ]
  },
  {
   "cell_type": "code",
   "execution_count": null,
   "metadata": {},
   "outputs": [],
   "source": [
    "include(\"../FNC.jl\")\n",
    "c1 = [1, 0.75]\n",
    "c = FNC.newtonsys(c->(misfit(c),misfitjac(c)),c1)\n",
    "@show V,Km = c[:,end]  # final values\n",
    "model = x -> V*x/(Km+x);"
   ]
  },
  {
   "cell_type": "markdown",
   "metadata": {},
   "source": [
    "The final values are close to the noise-free values of $V=2$, $K_m=0.5$ that we used to generate the data. We can calculate the amount of misfit at the end, although it's not completely clear what a \"good\" value would be. Graphically, the model looks reasonable."
   ]
  },
  {
   "cell_type": "code",
   "execution_count": null,
   "metadata": {},
   "outputs": [],
   "source": [
    "using LinearAlgebra\n",
    "final_misfit_norm = norm(@.model(x)-y) "
   ]
  },
  {
   "cell_type": "code",
   "execution_count": null,
   "metadata": {},
   "outputs": [],
   "source": [
    "plot!(model,0,6,label=\"MM fit\" )"
   ]
  },
  {
   "cell_type": "markdown",
   "metadata": {},
   "source": [
    "For this model, we also have the option of linearizing the fit process. Rewrite the model as $1/v= (a/x)+b$ for the new parameters $\\alpha=K_m/V$ and $\\beta=1/V$. This corresponds to the misfit function whose entries are \n",
    "\n",
    "$$f_i(\\alpha,\\beta) = \\alpha \\cdot \\frac{1}{x_i} + \\beta - \\frac{1}{y_i},$$ \n",
    "\n",
    "for $i=1,\\ldots,m$. Although the misfit is nonlinear in $x$ and $y$, it's linear in the unknown parameters $\\alpha$ and $\\beta$, and so can be posed and solved as a linear least-squares problem."
   ]
  },
  {
   "cell_type": "code",
   "execution_count": null,
   "metadata": {},
   "outputs": [],
   "source": [
    "A = [ x.^(-1) x.^0 ];  u = @. 1/y;\n",
    "z =  A\\u;\n",
    "alpha,beta = z"
   ]
  },
  {
   "cell_type": "markdown",
   "metadata": {},
   "source": [
    "The two fits are different, because they do not optimize the same quantities. "
   ]
  },
  {
   "cell_type": "code",
   "execution_count": null,
   "metadata": {},
   "outputs": [],
   "source": [
    "linmodel = x -> 1 / (beta + alpha/x);\n",
    "final_misfit_linearized = norm(@. linmodel(x)-y)"
   ]
  },
  {
   "cell_type": "code",
   "execution_count": null,
   "metadata": {},
   "outputs": [],
   "source": [
    "plot!(linmodel,0,6,label=\"linearized fit\")"
   ]
  }
 ],
 "metadata": {
  "kernelspec": {
   "display_name": "Julia 1.0.3",
   "language": "julia",
   "name": "julia-1.0"
  },
  "language_info": {
   "file_extension": ".jl",
   "mimetype": "application/julia",
   "name": "julia",
   "version": "1.0.3"
  }
 },
 "nbformat": 4,
 "nbformat_minor": 2
}
