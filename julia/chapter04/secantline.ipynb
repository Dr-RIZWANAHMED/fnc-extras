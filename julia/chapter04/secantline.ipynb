{
 "cells": [
  {
   "cell_type": "markdown",
   "metadata": {},
   "source": [
    "We return to finding a root of the equation $xe^x=2$."
   ]
  },
  {
   "cell_type": "code",
   "execution_count": null,
   "metadata": {},
   "outputs": [],
   "source": [
    "f = x -> x*exp(x) - 2;\n",
    "\n",
    "using Plots\n",
    "plot(f,0.25,1.25,label=\"function\",leg=:topleft)"
   ]
  },
  {
   "cell_type": "markdown",
   "metadata": {},
   "source": [
    "From the graph, it's clear that there is a root near $x=1$. To be more precise, there is a root in the interval $[0.5,1]$. So let us take the endpoints of that interval as _two_ initial approximations. "
   ]
  },
  {
   "cell_type": "code",
   "execution_count": null,
   "metadata": {},
   "outputs": [],
   "source": [
    "x1 = 1;    f1 = f(x1);\n",
    "x2 = 0.5;  f2 = f(x2);\n",
    "plot!([x1,x2],[f1,f2],m=:o,l=nothing,label=\"initial points\")"
   ]
  },
  {
   "cell_type": "markdown",
   "metadata": {},
   "source": [
    "Instead of constructing the tangent line by evaluating the derivative, we can construct a linear model function by drawing the line between the two points $\\bigl(x_1,f(x_1)\\bigr)$ and $\\bigl(x_2,f(x_2)\\bigr)$. This is called a _secant line_."
   ]
  },
  {
   "cell_type": "code",
   "execution_count": null,
   "metadata": {},
   "outputs": [],
   "source": [
    "slope2 = (f2-f1) / (x2-x1);\n",
    "secant2 = x -> f2 + slope2*(x-x2);\n",
    "plot!(secant2,0.25,1.25,label=\"secant line\",l=:dash,color=:black)"
   ]
  },
  {
   "cell_type": "markdown",
   "metadata": {},
   "source": [
    "As before, the next value in the iteration is the root of this linear model. "
   ]
  },
  {
   "cell_type": "code",
   "execution_count": null,
   "metadata": {},
   "outputs": [],
   "source": [
    "x3 = x2 - f2/slope2;\n",
    "@show f3 = f(x3)\n",
    "plot!([x3],[0],m=:o,l=nothing,label=\"root of secant\")"
   ]
  },
  {
   "cell_type": "markdown",
   "metadata": {},
   "source": [
    "For the next linear model, we use the line through the two most recent points. The next iterate is the root of that secant line, and so on."
   ]
  },
  {
   "cell_type": "code",
   "execution_count": null,
   "metadata": {},
   "outputs": [],
   "source": [
    "slope3 = (f3-f2) / (x3-x2);\n",
    "x4 = x3 - f3/slope3;\n",
    "f4 = f(x4)"
   ]
  }
 ],
 "metadata": {
  "kernelspec": {
   "display_name": "Julia 1.0.3",
   "language": "julia",
   "name": "julia-1.0"
  },
  "language_info": {
   "file_extension": ".jl",
   "mimetype": "application/julia",
   "name": "julia",
   "version": "1.0.3"
  }
 },
 "nbformat": 4,
 "nbformat_minor": 2
}
