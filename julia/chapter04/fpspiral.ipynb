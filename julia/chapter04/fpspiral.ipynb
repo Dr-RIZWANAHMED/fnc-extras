{
 "cells": [
  {
   "cell_type": "markdown",
   "metadata": {},
   "source": [
    "Let's convert the roots of a quadratic polynomial $f(x)$ to a fixed point problem."
   ]
  },
  {
   "cell_type": "code",
   "execution_count": null,
   "metadata": {},
   "outputs": [],
   "source": [
    "f = x -> x^2 - 4*x + 3.5\n",
    "using Polynomials\n",
    "@show r = roots(Poly([3.5,-4,1]));"
   ]
  },
  {
   "cell_type": "markdown",
   "metadata": {},
   "source": [
    "We'll define $g(x)=x-f(x)$. Intersections of its graph with the line $y=x$ are fixed points of $g$ and thus roots of $f$. (Only one is shown in the chosen plot range.) "
   ]
  },
  {
   "cell_type": "code",
   "execution_count": null,
   "metadata": {},
   "outputs": [],
   "source": [
    "g = x -> x - f(x)\n",
    "using Plots\n",
    "plot([g,x->x],2,3,label=[\"\\$y=g(x)\\$\",\"\\$y=x\\$\"],aspect_ratio=1,linewidth=2,\n",
    "    title=\"Finding a fixed point\",legend=:bottomright)"
   ]
  },
  {
   "cell_type": "markdown",
   "metadata": {},
   "source": [
    "If we evalaute $g(2.1)$, we get a value of almost 2.6. "
   ]
  },
  {
   "cell_type": "code",
   "execution_count": null,
   "metadata": {},
   "outputs": [],
   "source": [
    "x = 2.1;  y = g(x)"
   ]
  },
  {
   "cell_type": "markdown",
   "metadata": {},
   "source": [
    "So $g(x)$ is considerably closer to a fixed point than $x$ was. The value $y=g(x)$ ought to become our new $x$ value! Changing the $x$ coordinate in this way is the same as following a horizontal line over to the graph of $y=x$."
   ]
  },
  {
   "cell_type": "code",
   "execution_count": null,
   "metadata": {},
   "outputs": [],
   "source": [
    "plot!([x,y],[y,y],label=\"\",arrow=true)"
   ]
  },
  {
   "cell_type": "markdown",
   "metadata": {},
   "source": [
    "Now we can compute a new value for $y$. We leave $x$ alone here, so we travel along a vertical line to the graph of $g$."
   ]
  },
  {
   "cell_type": "code",
   "execution_count": null,
   "metadata": {},
   "outputs": [],
   "source": [
    "x = y;  y = g(x)\n",
    "plot!([x,x],[x,y],label=\"\",arrow=true)"
   ]
  },
  {
   "cell_type": "markdown",
   "metadata": {},
   "source": [
    "You see that we are in a position to repeat these steps as often as we like. Let's apply them a few times and see the result. "
   ]
  },
  {
   "cell_type": "code",
   "execution_count": null,
   "metadata": {},
   "outputs": [],
   "source": [
    "for k = 1:5\n",
    "    plot!([x,y],[y,y],label=\"\");  x = y;    # y --> new x\n",
    "    y = g(x);  plot!([x,x],[x,y],label=\"\")  # g(x) --> new y\n",
    "end\n",
    "plot!([],[],label=\"\")"
   ]
  },
  {
   "cell_type": "markdown",
   "metadata": {},
   "source": [
    "The process spirals in beautifully toward the fixed point we seek. Our last estimate has almost 4 accurate digits."
   ]
  },
  {
   "cell_type": "code",
   "execution_count": null,
   "metadata": {},
   "outputs": [],
   "source": [
    "abs(y-r[1])/r[1]"
   ]
  },
  {
   "cell_type": "markdown",
   "metadata": {},
   "source": [
    "Now let's try to find the other fixed point $\\approx 1.29$ in the same way. We'll use 1.3 as a starting approximation."
   ]
  },
  {
   "cell_type": "code",
   "execution_count": null,
   "metadata": {},
   "outputs": [],
   "source": [
    "plot([g,x->x],1,2,label=[\"\\$y=g(x)\\$\",\"\\$y=x\\$\"],aspect_ratio=1,linewidth=2,\n",
    "    title=\"No convergence\",legend=:bottomright)\n",
    "x = 1.3; y = g(x);\n",
    "for k = 1:5\n",
    "    plot!([x,y],[y,y],label=\"\",arrow=true);  x = y;    # y --> new x\n",
    "    y = g(x);  plot!([x,x],[x,y],label=\"\",arrow=true)  # g(x) --> new y\n",
    "end\n",
    "plot!([],[],label=\"\")"
   ]
  },
  {
   "cell_type": "markdown",
   "metadata": {},
   "source": [
    "This time, the iteration is pushing us _away_ from the correct answer. "
   ]
  }
 ],
 "metadata": {
  "kernelspec": {
   "display_name": "Julia 1.0.3",
   "language": "julia",
   "name": "julia-1.0"
  },
  "language_info": {
   "file_extension": ".jl",
   "mimetype": "application/julia",
   "name": "julia",
   "version": "1.0.3"
  }
 },
 "nbformat": 4,
 "nbformat_minor": 2
}
