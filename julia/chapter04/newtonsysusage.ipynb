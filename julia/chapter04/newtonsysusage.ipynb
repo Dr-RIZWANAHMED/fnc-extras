{
 "cells": [
  {
   "cell_type": "markdown",
   "metadata": {},
   "source": [
    "As before, the system is defined by its residual and Jacobian, but this time we implement them as a single function."
   ]
  },
  {
   "cell_type": "code",
   "execution_count": null,
   "metadata": {},
   "outputs": [],
   "source": [
    "function nlsystem(x)\n",
    "    f = zeros(3)  \n",
    "    f[1] = exp(x[2]-x[1]) - 2;\n",
    "    f[2] = x[1]*x[2] + x[3];\n",
    "    f[3] = x[2]*x[3] + x[1]^2 - x[2];\n",
    "    \n",
    "    J = zeros(3,3)\n",
    "    J[1,:] = [-exp(x[2]-x[1]),exp(x[2]-x[1]), 0]\n",
    "    J[2,:] = [x[2], x[1], 1]\n",
    "    J[3,:] = [2*x[1], x[3]-1, x[2]]\n",
    "    \n",
    "    return f,J\n",
    "end"
   ]
  },
  {
   "cell_type": "markdown",
   "metadata": {},
   "source": [
    "Our initial guess is the origin. The output has one column per iteration."
   ]
  },
  {
   "cell_type": "code",
   "execution_count": null,
   "metadata": {},
   "outputs": [],
   "source": [
    "x1 = [0,0,0]\n",
    "include(\"../FNC.jl\")\n",
    "x = FNC.newtonsys(nlsystem,x1)"
   ]
  },
  {
   "cell_type": "markdown",
   "metadata": {},
   "source": [
    "The last column contains the final Newton estimate. We'll compute the residual there in order to check the quality of the result."
   ]
  },
  {
   "cell_type": "code",
   "execution_count": null,
   "metadata": {},
   "outputs": [],
   "source": [
    "r = x[:,end]\n",
    "f,J = nlsystem(r)\n",
    "f"
   ]
  },
  {
   "cell_type": "markdown",
   "metadata": {},
   "source": [
    "Let's use the convergence to the first component of the root as a proxy for the convergence of the vectors."
   ]
  },
  {
   "cell_type": "code",
   "execution_count": null,
   "metadata": {},
   "outputs": [],
   "source": [
    "@. log( 10,abs(x[1,1:end-1]-r[1]) )"
   ]
  },
  {
   "cell_type": "markdown",
   "metadata": {},
   "source": [
    "The exponents approximately double, as is expected of quadratic convergence. "
   ]
  }
 ],
 "metadata": {
  "kernelspec": {
   "display_name": "Julia 1.0.3",
   "language": "julia",
   "name": "julia-1.0"
  },
  "language_info": {
   "file_extension": ".jl",
   "mimetype": "application/julia",
   "name": "julia",
   "version": "1.0.3"
  },
  "latex_envs": {
   "LaTeX_envs_menu_present": true,
   "autoclose": false,
   "autocomplete": true,
   "bibliofile": "biblio.bib",
   "cite_by": "apalike",
   "current_citInitial": 1,
   "eqLabelWithNumbers": true,
   "eqNumInitial": 1,
   "hotkeys": {
    "equation": "Ctrl-E",
    "itemize": "Ctrl-I"
   },
   "labels_anchors": false,
   "latex_user_defs": false,
   "report_style_numbering": true,
   "user_envs_cfg": false
  },
  "toc": {
   "base_numbering": 1,
   "nav_menu": {},
   "number_sections": true,
   "sideBar": true,
   "skip_h1_title": false,
   "title_cell": "Table of Contents",
   "title_sidebar": "Contents",
   "toc_cell": false,
   "toc_position": {},
   "toc_section_display": true,
   "toc_window_display": false
  }
 },
 "nbformat": 4,
 "nbformat_minor": 2
}
