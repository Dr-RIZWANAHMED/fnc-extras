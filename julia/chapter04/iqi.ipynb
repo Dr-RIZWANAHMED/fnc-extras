{
 "cells": [
  {
   "cell_type": "markdown",
   "metadata": {},
   "source": [
    "Here we look for a root of $x+\\cos(10x)$ that is close to 1. "
   ]
  },
  {
   "cell_type": "code",
   "execution_count": null,
   "metadata": {},
   "outputs": [],
   "source": [
    "f = x -> x + cos(10*x);\n",
    "interval = [0.5,1.5];\n",
    "\n",
    "using Plots\n",
    "plot(f,interval...,grid=:y,label=\"Function\",\n",
    "    legend=:bottomright,xlabel=\"x\",ylabel=\"y\")"
   ]
  },
  {
   "cell_type": "code",
   "execution_count": null,
   "metadata": {},
   "outputs": [],
   "source": [
    "using NLsolve\n",
    "r = nlsolve(x->f(x[1]),[1.]).zero"
   ]
  },
  {
   "cell_type": "markdown",
   "metadata": {},
   "source": [
    "We choose three values to get the iteration started."
   ]
  },
  {
   "cell_type": "code",
   "execution_count": null,
   "metadata": {},
   "outputs": [],
   "source": [
    "x = [0.8,1.2,1]\n",
    "y = @. f(x)\n",
    "plot!(x,y,m=:o,l=nothing,label=\"initial points\")"
   ]
  },
  {
   "cell_type": "markdown",
   "metadata": {},
   "source": [
    "If we were using \"forward\" interpolation, we would ask for the polynomial interpolant of $y$ as a function of $x$. But that parabola has no real roots. "
   ]
  },
  {
   "cell_type": "code",
   "execution_count": null,
   "metadata": {},
   "outputs": [],
   "source": [
    "using Polynomials\n",
    "q = polyfit(x,y,2);      # interpolating polynomial\n",
    "plot!(x->q(x),interval...,l=:dash,label=\"interpolant\",ylim=[-.1,3])"
   ]
  },
  {
   "cell_type": "markdown",
   "metadata": {},
   "source": [
    "To do inverse interpolation, we swap the roles of $x$ and $y$ in the interpolation."
   ]
  },
  {
   "cell_type": "code",
   "execution_count": null,
   "metadata": {},
   "outputs": [],
   "source": [
    "plot(f,interval...,grid=:y,label=\"Function\",\n",
    "    legend=:bottomright,xlabel=\"x\",ylabel=\"y\")\n",
    "plot!(x,y,m=:o,l=nothing,label=\"initial points\")\n",
    "\n",
    "q = polyfit(y,x,2);      # interpolating polynomial\n",
    "plot!(y->q(y),y->y,-.1,2.6,l=:dash,label=\"inverse interpolant\")"
   ]
  },
  {
   "cell_type": "markdown",
   "metadata": {},
   "source": [
    "We seek the value of $x$ that makes $y$ zero. This means evaluating $q$ at zero. "
   ]
  },
  {
   "cell_type": "code",
   "execution_count": null,
   "metadata": {},
   "outputs": [],
   "source": [
    "@show x = [x; q(0)];\n",
    "@show y = [y; f(x[end])];"
   ]
  },
  {
   "cell_type": "markdown",
   "metadata": {},
   "source": [
    "We repeat the process a few more times."
   ]
  },
  {
   "cell_type": "code",
   "execution_count": null,
   "metadata": {},
   "outputs": [],
   "source": [
    "for k = 4:8\n",
    "    q = polyfit(y[k-2:k],x[k-2:k],2)\n",
    "    x = [x; q(0)]\n",
    "    y = [y; f(x[k+1])]\n",
    "end"
   ]
  },
  {
   "cell_type": "markdown",
   "metadata": {},
   "source": [
    "Here is the sequence of errors."
   ]
  },
  {
   "cell_type": "code",
   "execution_count": null,
   "metadata": {},
   "outputs": [],
   "source": [
    "err = @. x - r"
   ]
  },
  {
   "cell_type": "markdown",
   "metadata": {},
   "source": [
    "The error seems to be superlinear, but subquadratic."
   ]
  },
  {
   "cell_type": "code",
   "execution_count": null,
   "metadata": {},
   "outputs": [],
   "source": [
    "logerr = @. log(abs(err));\n",
    "ratios = @. logerr[2:end] / logerr[1:end-1]"
   ]
  }
 ],
 "metadata": {
  "kernelspec": {
   "display_name": "Julia 1.0.3",
   "language": "julia",
   "name": "julia-1.0"
  },
  "language_info": {
   "file_extension": ".jl",
   "mimetype": "application/julia",
   "name": "julia",
   "version": "1.0.3"
  }
 },
 "nbformat": 4,
 "nbformat_minor": 2
}
