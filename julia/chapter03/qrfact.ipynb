{
 "cells": [
  {
   "cell_type": "markdown",
   "metadata": {},
   "source": [
    "Julia provides access to both the thin and full forms of the QR factorization."
   ]
  },
  {
   "cell_type": "code",
   "execution_count": 1,
   "metadata": {},
   "outputs": [
    {
     "name": "stdout",
     "output_type": "stream",
     "text": [
      "(m, n) = size(A) = (6, 4)\n"
     ]
    }
   ],
   "source": [
    "using LinearAlgebra\n",
    "A = rand(1.:9.,6,4)\n",
    "@show m,n = size(A);"
   ]
  },
  {
   "cell_type": "markdown",
   "metadata": {},
   "source": [
    "Here is a standard call:"
   ]
  },
  {
   "cell_type": "code",
   "execution_count": 2,
   "metadata": {},
   "outputs": [
    {
     "data": {
      "text/plain": [
       "6×6 LinearAlgebra.QRCompactWYQ{Float64,Array{Float64,2}}:\n",
       " -0.61667     0.247574   0.60952    0.381921   -0.174525   -0.102895 \n",
       " -0.205557   -0.361359   0.122303  -0.473483    0.055609   -0.764807 \n",
       " -0.205557   -0.361359  -0.342587   0.0828373  -0.836329    0.0591061\n",
       " -0.548151    0.279251  -0.175748  -0.656179    0.0491309   0.397086 \n",
       " -0.479632   -0.221733  -0.546683   0.434755    0.474445   -0.0884015\n",
       " -0.0685189  -0.74189    0.407935  -0.0592016   0.198724    0.485281 "
      ]
     },
     "execution_count": 2,
     "metadata": {},
     "output_type": "execute_result"
    }
   ],
   "source": [
    "Q,R = qr(A);\n",
    "Q"
   ]
  },
  {
   "cell_type": "code",
   "execution_count": 3,
   "metadata": {},
   "outputs": [
    {
     "data": {
      "text/plain": [
       "4×4 Array{Float64,2}:\n",
       " -14.5945   -9.38709  -8.01671  -16.239  \n",
       "   0.0     -11.2642   -2.28569   -8.57258\n",
       "   0.0       0.0       4.3021     3.07354\n",
       "   0.0       0.0       0.0       -4.62169"
      ]
     },
     "execution_count": 3,
     "metadata": {},
     "output_type": "execute_result"
    }
   ],
   "source": [
    "R"
   ]
  },
  {
   "cell_type": "markdown",
   "metadata": {},
   "source": [
    "If you look carefully, you see that we got a full $Q$ but a thin $R$. Moreover, the $Q$ above is not a standard matrix type. If you convert it to a true matrix, then it reverts to the thin form. "
   ]
  },
  {
   "cell_type": "code",
   "execution_count": 4,
   "metadata": {},
   "outputs": [
    {
     "data": {
      "text/plain": [
       "6×4 Array{Float64,2}:\n",
       " -0.61667     0.247574   0.60952    0.381921 \n",
       " -0.205557   -0.361359   0.122303  -0.473483 \n",
       " -0.205557   -0.361359  -0.342587   0.0828373\n",
       " -0.548151    0.279251  -0.175748  -0.656179 \n",
       " -0.479632   -0.221733  -0.546683   0.434755 \n",
       " -0.0685189  -0.74189    0.407935  -0.0592016"
      ]
     },
     "execution_count": 4,
     "metadata": {},
     "output_type": "execute_result"
    }
   ],
   "source": [
    "Matrix(Q)"
   ]
  },
  {
   "cell_type": "markdown",
   "metadata": {},
   "source": [
    "We can test that $\\mathbf{Q}$ is orthogonal."
   ]
  },
  {
   "cell_type": "code",
   "execution_count": 5,
   "metadata": {},
   "outputs": [
    {
     "data": {
      "text/plain": [
       "7.012500301216339e-16"
      ]
     },
     "execution_count": 5,
     "metadata": {},
     "output_type": "execute_result"
    }
   ],
   "source": [
    "QTQ = Q'*Q\n",
    "norm(QTQ - I)"
   ]
  },
  {
   "cell_type": "markdown",
   "metadata": {},
   "source": [
    "The thin $Q$ cannot be an orthogonal matrix, because it is not even square, but it is still ONC."
   ]
  },
  {
   "cell_type": "code",
   "execution_count": 6,
   "metadata": {},
   "outputs": [
    {
     "data": {
      "text/plain": [
       "4×4 Array{Float64,2}:\n",
       " -2.22045e-16   4.93902e-17  -4.0785e-18   -1.0173e-16 \n",
       "  4.93902e-17  -3.33067e-16   2.82349e-17  -4.103e-17  \n",
       " -4.0785e-18    2.82349e-17   0.0           5.29215e-17\n",
       " -1.0173e-16   -4.103e-17     5.29215e-17  -3.33067e-16"
      ]
     },
     "execution_count": 6,
     "metadata": {},
     "output_type": "execute_result"
    }
   ],
   "source": [
    "Matrix(Q)'*Matrix(Q) - I"
   ]
  }
 ],
 "metadata": {
  "kernelspec": {
   "display_name": "Julia 1.1.0",
   "language": "julia",
   "name": "julia-1.1"
  },
  "language_info": {
   "file_extension": ".jl",
   "mimetype": "application/julia",
   "name": "julia",
   "version": "1.1.0"
  },
  "latex_envs": {
   "LaTeX_envs_menu_present": true,
   "autoclose": false,
   "autocomplete": true,
   "bibliofile": "biblio.bib",
   "cite_by": "apalike",
   "current_citInitial": 1,
   "eqLabelWithNumbers": true,
   "eqNumInitial": 1,
   "hotkeys": {
    "equation": "Ctrl-E",
    "itemize": "Ctrl-I"
   },
   "labels_anchors": false,
   "latex_user_defs": false,
   "report_style_numbering": true,
   "user_envs_cfg": false
  },
  "toc": {
   "base_numbering": 1,
   "nav_menu": {},
   "number_sections": true,
   "sideBar": true,
   "skip_h1_title": false,
   "title_cell": "Table of Contents",
   "title_sidebar": "Contents",
   "toc_cell": false,
   "toc_position": {},
   "toc_section_display": true,
   "toc_window_display": false
  }
 },
 "nbformat": 4,
 "nbformat_minor": 2
}
