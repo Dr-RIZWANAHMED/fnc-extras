{
 "cells": [
  {
   "cell_type": "markdown",
   "metadata": {},
   "source": [
    "Julia provides access to both the thin and full forms of the QR factorization."
   ]
  },
  {
   "cell_type": "code",
   "execution_count": 1,
   "metadata": {},
   "outputs": [
    {
     "name": "stdout",
     "output_type": "stream",
     "text": [
      "(m, n) = size(A) = (6, 4)\n"
     ]
    }
   ],
   "source": [
    "using LinearAlgebra\n",
    "A = rand(1.:9.,6,4)\n",
    "@show m,n = size(A);"
   ]
  },
  {
   "cell_type": "markdown",
   "metadata": {},
   "source": [
    "Here is a standard call:"
   ]
  },
  {
   "cell_type": "code",
   "execution_count": 2,
   "metadata": {},
   "outputs": [
    {
     "data": {
      "text/plain": [
       "6×6 LinearAlgebra.QRCompactWYQ{Float64,Array{Float64,2}}:\n",
       " -0.469956  -0.425386   -0.208287   -0.558922   -0.356983    -0.339078\n",
       " -0.313304  -0.234099    0.581043    0.297135    0.384047    -0.523112\n",
       " -0.704934  -0.118416   -0.257419    0.368454    0.155466     0.512692\n",
       " -0.078326   0.0528317   0.33046    -0.671724    0.524774     0.394043\n",
       " -0.39163    0.858059   -0.0819955  -0.107347   -0.00272767  -0.303489\n",
       " -0.156652   0.105663    0.660919    0.0286842  -0.652309     0.318044"
      ]
     },
     "execution_count": 2,
     "metadata": {},
     "output_type": "execute_result"
    }
   ],
   "source": [
    "Q,R = qr(A);\n",
    "Q"
   ]
  },
  {
   "cell_type": "code",
   "execution_count": 3,
   "metadata": {},
   "outputs": [
    {
     "data": {
      "text/plain": [
       "4×4 Array{Float64,2}:\n",
       " -12.7671  -8.22423  -10.8873   -7.8326 \n",
       "   0.0      6.73513    2.88935   1.57129\n",
       "   0.0      0.0        9.06189   4.32403\n",
       "   0.0      0.0        0.0      -8.74552"
      ]
     },
     "execution_count": 3,
     "metadata": {},
     "output_type": "execute_result"
    }
   ],
   "source": [
    "R"
   ]
  },
  {
   "cell_type": "markdown",
   "metadata": {},
   "source": [
    "If you look carefully, you see that we got a full $Q$ but a thin $R$. Moreover, the $Q$ above is not a standard matrix type. If you convert it to a true matrix, then it reverts to the thin form. "
   ]
  },
  {
   "cell_type": "code",
   "execution_count": 4,
   "metadata": {},
   "outputs": [
    {
     "data": {
      "text/plain": [
       "6×4 Array{Float64,2}:\n",
       " -0.469956  -0.425386   -0.208287   -0.558922 \n",
       " -0.313304  -0.234099    0.581043    0.297135 \n",
       " -0.704934  -0.118416   -0.257419    0.368454 \n",
       " -0.078326   0.0528317   0.33046    -0.671724 \n",
       " -0.39163    0.858059   -0.0819955  -0.107347 \n",
       " -0.156652   0.105663    0.660919    0.0286842"
      ]
     },
     "execution_count": 4,
     "metadata": {},
     "output_type": "execute_result"
    }
   ],
   "source": [
    "Matrix(Q)"
   ]
  },
  {
   "cell_type": "markdown",
   "metadata": {},
   "source": [
    "We can test that $\\mathbf{Q}$ is orthogonal."
   ]
  },
  {
   "cell_type": "code",
   "execution_count": 5,
   "metadata": {},
   "outputs": [
    {
     "data": {
      "text/plain": [
       "1.5198662695181342e-15"
      ]
     },
     "execution_count": 5,
     "metadata": {},
     "output_type": "execute_result"
    }
   ],
   "source": [
    "QTQ = Q'*Q\n",
    "norm(QTQ - I)"
   ]
  },
  {
   "cell_type": "markdown",
   "metadata": {},
   "source": [
    "The thin $Q$ cannot be an orthogonal matrix, because it is not even square, but it is still ONC."
   ]
  },
  {
   "cell_type": "code",
   "execution_count": 6,
   "metadata": {},
   "outputs": [
    {
     "data": {
      "text/plain": [
       "4×4 Array{Float64,2}:\n",
       "  4.44089e-16  -1.4608e-17    6.36029e-17   1.72944e-16\n",
       " -1.4608e-17    6.66134e-16  -3.6634e-16   -1.46461e-16\n",
       "  6.36029e-17  -3.6634e-16    6.66134e-16  -6.97477e-17\n",
       "  1.72944e-16  -1.46461e-16  -6.97477e-17   2.22045e-16"
      ]
     },
     "execution_count": 6,
     "metadata": {},
     "output_type": "execute_result"
    }
   ],
   "source": [
    "Matrix(Q)'*Matrix(Q) - I"
   ]
  }
 ],
 "metadata": {
  "kernelspec": {
   "display_name": "Julia 1.1.0",
   "language": "julia",
   "name": "julia-1.1"
  },
  "language_info": {
   "file_extension": ".jl",
   "mimetype": "application/julia",
   "name": "julia",
   "version": "1.1.0"
  },
  "latex_envs": {
   "LaTeX_envs_menu_present": true,
   "autoclose": false,
   "autocomplete": true,
   "bibliofile": "biblio.bib",
   "cite_by": "apalike",
   "current_citInitial": 1,
   "eqLabelWithNumbers": true,
   "eqNumInitial": 1,
   "hotkeys": {
    "equation": "Ctrl-E",
    "itemize": "Ctrl-I"
   },
   "labels_anchors": false,
   "latex_user_defs": false,
   "report_style_numbering": true,
   "user_envs_cfg": false
  },
  "toc": {
   "base_numbering": 1,
   "nav_menu": {},
   "number_sections": true,
   "sideBar": true,
   "skip_h1_title": false,
   "title_cell": "Table of Contents",
   "title_sidebar": "Contents",
   "toc_cell": false,
   "toc_position": {},
   "toc_section_display": true,
   "toc_window_display": false
  }
 },
 "nbformat": 4,
 "nbformat_minor": 2
}
