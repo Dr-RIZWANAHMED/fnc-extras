{
 "cells": [
  {
   "cell_type": "markdown",
   "metadata": {},
   "source": [
    "We will use Householder reflections to produce a QR factorization of the matrix"
   ]
  },
  {
   "cell_type": "code",
   "execution_count": 1,
   "metadata": {},
   "outputs": [
    {
     "data": {
      "text/plain": [
       "(6, 4)"
      ]
     },
     "execution_count": 1,
     "metadata": {},
     "output_type": "execute_result"
    }
   ],
   "source": [
    "A = rand(1.:9.,6,4)\n",
    "m,n = size(A)"
   ]
  },
  {
   "cell_type": "markdown",
   "metadata": {},
   "source": [
    "Our first step is to introduce zeros below the diagonal in column 1. Define the vector "
   ]
  },
  {
   "cell_type": "code",
   "execution_count": 2,
   "metadata": {},
   "outputs": [],
   "source": [
    "z = A[:,1];"
   ]
  },
  {
   "cell_type": "markdown",
   "metadata": {},
   "source": [
    "Applying the Householder definitions gives us"
   ]
  },
  {
   "cell_type": "code",
   "execution_count": 3,
   "metadata": {},
   "outputs": [
    {
     "data": {
      "text/plain": [
       "6×6 Array{Float64,2}:\n",
       " 0.240337   0.420589   0.300421   0.540758   0.540758   0.300421\n",
       " 0.420589   0.76714   -0.166329  -0.299392  -0.299392  -0.166329\n",
       " 0.300421  -0.166329   0.881194  -0.213851  -0.213851  -0.118806\n",
       " 0.540758  -0.299392  -0.213851   0.615068  -0.384932  -0.213851\n",
       " 0.540758  -0.299392  -0.213851  -0.384932   0.615068  -0.213851\n",
       " 0.300421  -0.166329  -0.118806  -0.213851  -0.213851   0.881194"
      ]
     },
     "execution_count": 3,
     "metadata": {},
     "output_type": "execute_result"
    }
   ],
   "source": [
    "using LinearAlgebra\n",
    "v = z - norm(z)*[1;zeros(m-1)]\n",
    "P = I - 2/(v'*v)*(v*v')   # reflector"
   ]
  },
  {
   "cell_type": "markdown",
   "metadata": {},
   "source": [
    "(Julia automatically fills in an identity of the correct size for the `I` above.) By design we can use the reflector to get the zero structure we seek:"
   ]
  },
  {
   "cell_type": "code",
   "execution_count": 4,
   "metadata": {},
   "outputs": [
    {
     "data": {
      "text/plain": [
       "6-element Array{Float64,1}:\n",
       " 16.643316977093235     \n",
       "  8.881784197001252e-16 \n",
       "  4.440892098500626e-16 \n",
       "  1.7763568394002505e-15\n",
       "  1.7763568394002505e-15\n",
       "  8.881784197001252e-16 "
      ]
     },
     "execution_count": 4,
     "metadata": {},
     "output_type": "execute_result"
    }
   ],
   "source": [
    "P*z"
   ]
  },
  {
   "cell_type": "markdown",
   "metadata": {},
   "source": [
    "Now we let "
   ]
  },
  {
   "cell_type": "code",
   "execution_count": 5,
   "metadata": {},
   "outputs": [
    {
     "data": {
      "text/plain": [
       "6×4 Array{Float64,2}:\n",
       " 16.6433        5.58783    12.7979    6.90968\n",
       "  7.77156e-16  -0.432757    2.23631   3.15731\n",
       "  8.18789e-16   1.9766      5.31165   2.82665\n",
       "  1.249e-15     2.15788    -1.83903   5.48797\n",
       "  1.249e-15     0.157884    0.160972  2.48797\n",
       "  8.88178e-16  -0.0233978   4.31165   2.82665"
      ]
     },
     "execution_count": 5,
     "metadata": {},
     "output_type": "execute_result"
    }
   ],
   "source": [
    "A = P*A"
   ]
  },
  {
   "cell_type": "markdown",
   "metadata": {},
   "source": [
    "We are set to put zeros into column 2. We must not use row 1 in any way, lest it destroy the zeros we just introduced. To put it another way, we can repeat the process we just did on the smaller submatrix"
   ]
  },
  {
   "cell_type": "code",
   "execution_count": 6,
   "metadata": {},
   "outputs": [
    {
     "data": {
      "text/plain": [
       "5×3 Array{Float64,2}:\n",
       " -0.432757    2.23631   3.15731\n",
       "  1.9766      5.31165   2.82665\n",
       "  2.15788    -1.83903   5.48797\n",
       "  0.157884    0.160972  2.48797\n",
       " -0.0233978   4.31165   2.82665"
      ]
     },
     "execution_count": 6,
     "metadata": {},
     "output_type": "execute_result"
    }
   ],
   "source": [
    "A[2:m,2:n]"
   ]
  },
  {
   "cell_type": "code",
   "execution_count": 7,
   "metadata": {},
   "outputs": [],
   "source": [
    "z = A[2:m,2];\n",
    "v = z - norm(z)*[1;zeros(m-2)];\n",
    "P = I - 2/(v'*v)*(v*v');   "
   ]
  },
  {
   "cell_type": "markdown",
   "metadata": {},
   "source": [
    "We now apply the reflector to the submatrix."
   ]
  },
  {
   "cell_type": "code",
   "execution_count": 8,
   "metadata": {},
   "outputs": [
    {
     "data": {
      "text/plain": [
       "6×4 Array{Float64,2}:\n",
       " 16.6433        5.58783      12.7979    6.90968\n",
       "  7.77156e-16   2.96246       1.8523    5.53253\n",
       "  8.18789e-16   4.29072e-16   5.53521   1.44386\n",
       "  1.249e-15     6.36717e-16  -1.59496   3.97836\n",
       "  1.249e-15     4.53158e-17   0.178829  2.37752\n",
       "  8.88178e-16  -4.86034e-18   4.309     2.84302"
      ]
     },
     "execution_count": 8,
     "metadata": {},
     "output_type": "execute_result"
    }
   ],
   "source": [
    "A[2:m,2:n] = P*A[2:m,2:n]\n",
    "A"
   ]
  },
  {
   "cell_type": "markdown",
   "metadata": {},
   "source": [
    "We need two more iterations of this process."
   ]
  },
  {
   "cell_type": "code",
   "execution_count": 9,
   "metadata": {},
   "outputs": [],
   "source": [
    "for j = 3:n\n",
    "    z = A[j:m,j]\n",
    "    v = z - norm(z)*[1;zeros(m-j)]\n",
    "    P = I - 2/(v'*v)*(v*v')\n",
    "    A[j:m,j:n] = P*A[j:m,j:n]\n",
    "end"
   ]
  },
  {
   "cell_type": "markdown",
   "metadata": {},
   "source": [
    "We have now reduced the original  to an upper triangular matrix using four orthogonal Householder reflections:"
   ]
  },
  {
   "cell_type": "code",
   "execution_count": 10,
   "metadata": {},
   "outputs": [
    {
     "data": {
      "text/plain": [
       "6×4 Array{Float64,2}:\n",
       " 16.6433        5.58783      12.7979        6.90968    \n",
       "  7.77156e-16   2.96246       1.8523        5.53253    \n",
       "  8.18789e-16   4.29072e-16   7.19597       1.99035    \n",
       "  1.249e-15     6.36717e-16  -2.96548e-16   5.26175    \n",
       "  1.249e-15     4.53158e-17   1.10622e-17  -8.78105e-16\n",
       "  8.88178e-16  -4.86034e-18   1.35079e-16  -5.53514e-16"
      ]
     },
     "execution_count": 10,
     "metadata": {},
     "output_type": "execute_result"
    }
   ],
   "source": [
    "R = A"
   ]
  }
 ],
 "metadata": {
  "kernelspec": {
   "display_name": "Julia 1.1.0",
   "language": "julia",
   "name": "julia-1.1"
  },
  "language_info": {
   "file_extension": ".jl",
   "mimetype": "application/julia",
   "name": "julia",
   "version": "1.1.0"
  }
 },
 "nbformat": 4,
 "nbformat_minor": 2
}
