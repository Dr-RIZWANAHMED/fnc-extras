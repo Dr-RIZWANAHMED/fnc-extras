{
 "cells": [
  {
   "cell_type": "markdown",
   "metadata": {},
   "source": [
    "We will use Householder reflections to produce a QR factorization of the matrix"
   ]
  },
  {
   "cell_type": "code",
   "execution_count": 1,
   "metadata": {},
   "outputs": [
    {
     "data": {
      "text/plain": [
       "(6, 4)"
      ]
     },
     "execution_count": 1,
     "metadata": {},
     "output_type": "execute_result"
    }
   ],
   "source": [
    "A = rand(1.:9.,6,4)\n",
    "m,n = size(A)"
   ]
  },
  {
   "cell_type": "markdown",
   "metadata": {},
   "source": [
    "Our first step is to introduce zeros below the diagonal in column 1. Define the vector "
   ]
  },
  {
   "cell_type": "code",
   "execution_count": 2,
   "metadata": {},
   "outputs": [],
   "source": [
    "z = A[:,1];"
   ]
  },
  {
   "cell_type": "markdown",
   "metadata": {},
   "source": [
    "Applying the Householder definitions gives us"
   ]
  },
  {
   "cell_type": "code",
   "execution_count": 3,
   "metadata": {},
   "outputs": [
    {
     "data": {
      "text/plain": [
       "6×6 Array{Float64,2}:\n",
       " 0.270501   0.1.1.04    0.811503    0.270501    0.180334    0.360668\n",
       " 0.1.1.04   0.955421   -0.200605   -0.0668685  -0.044579   -0.089158\n",
       " 0.811503  -0.200605    0.0972757  -0.300908   -0.200605   -0.401211\n",
       " 0.270501  -0.0668685  -0.300908    0.899697   -0.0668685  -0.133737\n",
       " 0.1.1.04  -0.044579   -0.200605   -0.0668685   0.955421   -0.089158\n",
       " 0.360668  -0.089158   -0.401211   -0.133737   -0.089158    0.821684"
      ]
     },
     "execution_count": 3,
     "metadata": {},
     "output_type": "execute_result"
    }
   ],
   "source": [
    "using LinearAlgebra\n",
    "v = z - norm(z)*[1;zeros(m-1)]\n",
    "P = I - 2/(v'*v)*(v*v')   # reflector"
   ]
  },
  {
   "cell_type": "markdown",
   "metadata": {},
   "source": [
    "(Julia automatically fills in an identity of the correct size for the `I` above.) By design we can use the reflector to get the zero structure we seek:"
   ]
  },
  {
   "cell_type": "code",
   "execution_count": 4,
   "metadata": {},
   "outputs": [
    {
     "data": {
      "text/plain": [
       "6-element Array{Float64,1}:\n",
       " 11.090536506409418    \n",
       "  0.0                  \n",
       "  8.881784197001252e-16\n",
       "  2.220446049250313e-16\n",
       " -5.551115123125783e-17\n",
       "  0.0                  "
      ]
     },
     "execution_count": 4,
     "metadata": {},
     "output_type": "execute_result"
    }
   ],
   "source": [
    "P*z"
   ]
  },
  {
   "cell_type": "markdown",
   "metadata": {},
   "source": [
    "Now we let "
   ]
  },
  {
   "cell_type": "code",
   "execution_count": 5,
   "metadata": {},
   "outputs": [
    {
     "data": {
      "text/plain": [
       "6×4 Array{Float64,2}:\n",
       " 11.0905       11.1807    10.9102     9.73803 \n",
       "  2.22045e-16   3.46092    3.78619   -0.418455\n",
       "  8.88178e-16  -0.425838   0.537838  -1.38305 \n",
       "  2.22045e-16   8.19139    1.17928   -1.12768 \n",
       " -5.55112e-17   7.46092    7.78619    5.58154 \n",
       "  0.0           5.92185    0.572372   5.16309 "
      ]
     },
     "execution_count": 5,
     "metadata": {},
     "output_type": "execute_result"
    }
   ],
   "source": [
    "A = P*A"
   ]
  },
  {
   "cell_type": "markdown",
   "metadata": {},
   "source": [
    "We are set to put zeros into column 2. We must not use row 1 in any way, lest it destroy the zeros we just introduced. To put it another way, we can repeat the process we just did on the smaller submatrix"
   ]
  },
  {
   "cell_type": "code",
   "execution_count": 6,
   "metadata": {},
   "outputs": [
    {
     "data": {
      "text/plain": [
       "5×3 Array{Float64,2}:\n",
       "  3.46092   3.78619   -0.418455\n",
       " -0.425838  0.537838  -1.38305 \n",
       "  8.19139   1.17928   -1.12768 \n",
       "  7.46092   7.78619    5.58154 \n",
       "  5.92185   0.572372   5.16309 "
      ]
     },
     "execution_count": 6,
     "metadata": {},
     "output_type": "execute_result"
    }
   ],
   "source": [
    "A[2:m,2:n]"
   ]
  },
  {
   "cell_type": "code",
   "execution_count": 7,
   "metadata": {},
   "outputs": [],
   "source": [
    "z = A[2:m,2];\n",
    "v = z - norm(z)*[1;zeros(m-2)];\n",
    "P = I - 2/(v'*v)*(v*v');   "
   ]
  },
  {
   "cell_type": "markdown",
   "metadata": {},
   "source": [
    "We now apply the reflector to the submatrix."
   ]
  },
  {
   "cell_type": "code",
   "execution_count": 8,
   "metadata": {},
   "outputs": [
    {
     "data": {
      "text/plain": [
       "6×4 Array{Float64,2}:\n",
       " 11.0905       11.1807       10.9102    9.73803\n",
       "  2.22045e-16  13.0381        6.44391   4.76465\n",
       "  8.88178e-16  -1.66282e-16   0.65601  -1.15259\n",
       "  2.22045e-16   7.64475e-16  -1.1.088  -5.56081\n",
       " -5.55112e-17   7.85503e-16   5.71574   1.54374\n",
       "  0.0           1.61293e-15  -1.07098   1.95822"
      ]
     },
     "execution_count": 8,
     "metadata": {},
     "output_type": "execute_result"
    }
   ],
   "source": [
    "A[2:m,2:n] = P*A[2:m,2:n]\n",
    "A"
   ]
  },
  {
   "cell_type": "markdown",
   "metadata": {},
   "source": [
    "We need two more iterations of this process."
   ]
  },
  {
   "cell_type": "code",
   "execution_count": 9,
   "metadata": {},
   "outputs": [],
   "source": [
    "for j = 3:n\n",
    "    z = A[j:m,j]\n",
    "    v = z - norm(z)*[1;zeros(m-j)]\n",
    "    P = I - 2/(v'*v)*(v*v')\n",
    "    A[j:m,j:n] = P*A[j:m,j:n]\n",
    "end"
   ]
  },
  {
   "cell_type": "markdown",
   "metadata": {},
   "source": [
    "We have now reduced the original  to an upper triangular matrix using four orthogonal Householder reflections:"
   ]
  },
  {
   "cell_type": "code",
   "execution_count": 10,
   "metadata": {},
   "outputs": [
    {
     "data": {
      "text/plain": [
       "6×4 Array{Float64,2}:\n",
       " 11.0905       11.1807       10.9102        9.73803    \n",
       "  2.22045e-16  13.0381        6.44391       4.76465    \n",
       "  8.88178e-16  -1.66282e-16   5.95345       2.02456    \n",
       "  2.22045e-16   7.64475e-16   3.99998e-16   5.86259    \n",
       " -5.55112e-17   7.85503e-16  -1.63066e-15  -4.0386e-16 \n",
       "  0.0           1.61293e-15   4.2762e-16    9.62121e-16"
      ]
     },
     "execution_count": 10,
     "metadata": {},
     "output_type": "execute_result"
    }
   ],
   "source": [
    "R = A"
   ]
  }
 ],
 "metadata": {
  "kernelspec": {
   "display_name": "Julia 1.1.0",
   "language": "julia",
   "name": "julia-1.1"
  },
  "language_info": {
   "file_extension": ".jl",
   "mimetype": "application/julia",
   "name": "julia",
   "version": "1.1.0"
  }
 },
 "nbformat": 4,
 "nbformat_minor": 2
}
