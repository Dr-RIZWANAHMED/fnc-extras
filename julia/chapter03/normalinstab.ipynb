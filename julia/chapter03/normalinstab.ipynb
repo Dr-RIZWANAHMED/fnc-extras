{
 "cells": [
  {
   "cell_type": "markdown",
   "metadata": {},
   "source": [
    "Because the functions $\\sin^2(t)$, $\\cos^2(t)$, and $1$ are linearly dependent, we should find that the following matrix is somewhat ill-conditioned."
   ]
  },
  {
   "cell_type": "code",
   "execution_count": null,
   "metadata": {},
   "outputs": [],
   "source": [
    "using LinearAlgebra\n",
    "t = range(0,stop=3,length=400)\n",
    "A = [ sin.(t).^2 cos.((1+1e-7)*t).^2 t.^0 ]\n",
    "kappa = cond(A)"
   ]
  },
  {
   "cell_type": "markdown",
   "metadata": {},
   "source": [
    "Now we set up an artificial linear least squares problem with a known exact solution that actually makes the residual zero."
   ]
  },
  {
   "cell_type": "code",
   "execution_count": null,
   "metadata": {},
   "outputs": [],
   "source": [
    "x = [1.,2,1]\n",
    "b = A*x;"
   ]
  },
  {
   "cell_type": "markdown",
   "metadata": {},
   "source": [
    "Using backslash to find the solution, we get a relative error that is about $\\kappa$ times machine epsilon."
   ]
  },
  {
   "cell_type": "code",
   "execution_count": null,
   "metadata": {},
   "outputs": [],
   "source": [
    "x_BS = A\\b\n",
    "@show observed_err = norm(x_BS-x)/norm(x);\n",
    "@show max_err = kappa*eps();"
   ]
  },
  {
   "cell_type": "markdown",
   "metadata": {},
   "source": [
    "If we formulate and solve via the normal equations, we get a much larger relative error. With $\\kappa^2\\approx 10^{14}$, we may not be left with more than about 2 accurate digits."
   ]
  },
  {
   "cell_type": "code",
   "execution_count": null,
   "metadata": {},
   "outputs": [],
   "source": [
    "N = A'*A\n",
    "x_NE = N\\(A'*b)\n",
    "@show observed_err = norm(x_NE-x)/norm(x)\n",
    "@show digits = -log(10,observed_err)"
   ]
  }
 ],
 "metadata": {
  "kernelspec": {
   "display_name": "Julia 1.0.3",
   "language": "julia",
   "name": "julia-1.0"
  },
  "language_info": {
   "file_extension": ".jl",
   "mimetype": "application/julia",
   "name": "julia",
   "version": "1.0.3"
  }
 },
 "nbformat": 4,
 "nbformat_minor": 2
}
