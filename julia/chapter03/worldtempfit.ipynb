{
 "cells": [
  {
   "cell_type": "markdown",
   "metadata": {},
   "source": [
    "Here are the 5-year temperature averages again."
   ]
  },
  {
   "cell_type": "code",
   "execution_count": null,
   "metadata": {},
   "outputs": [],
   "source": [
    "year = 1955:5:2000\n",
    "t = year .- 1955;\n",
    "y = [ -0.0480, -0.0180, -0.0360, -0.0120, -0.0040,\n",
    "    0.1180, 0.2100, 0.3320, 0.3340, 0.4560 ];"
   ]
  },
  {
   "cell_type": "markdown",
   "metadata": {},
   "source": [
    "The standard best-fit line results from using a linear polynomial that meets the least squares criterion. "
   ]
  },
  {
   "cell_type": "code",
   "execution_count": null,
   "metadata": {},
   "outputs": [],
   "source": [
    "V = [ t.^0 t ]    # Vandermonde-ish matrix\n",
    "c = V\\y\n",
    "using Polynomials,Plots\n",
    "p = Poly(c)\n",
    "f = s -> p(s-1955)\n",
    "plot(year,y,m=:o,l=nothing,label=\"data\",\n",
    "    xlabel=\"year\",ylabel=\"anomaly (degrees C)\",leg=:bottomright)\n",
    "plot!(f,1955,2000,label=\"linear fit\")"
   ]
  },
  {
   "cell_type": "markdown",
   "metadata": {},
   "source": [
    "If we use a global cubic polynomial, the points are fit more closely."
   ]
  },
  {
   "cell_type": "code",
   "execution_count": null,
   "metadata": {},
   "outputs": [],
   "source": [
    "V = [ t[i]^j for i=1:length(t), j=0:3 ]   # Vandermonde-ish matrix\n",
    "p = Poly( V\\y )\n",
    "f = s -> p(s-1955)\n",
    "plot!(f,1955,2000,label=\"cubic fit\")"
   ]
  },
  {
   "cell_type": "markdown",
   "metadata": {},
   "source": [
    "If we were to continue increasing the degree of the polynomial, the residual at the data points would get smaller, but overfitting would increase."
   ]
  }
 ],
 "metadata": {
  "kernelspec": {
   "display_name": "Julia 1.0.3",
   "language": "julia",
   "name": "julia-1.0"
  },
  "language_info": {
   "file_extension": ".jl",
   "mimetype": "application/julia",
   "name": "julia",
   "version": "1.0.3"
  },
  "latex_envs": {
   "LaTeX_envs_menu_present": true,
   "autoclose": false,
   "autocomplete": true,
   "bibliofile": "biblio.bib",
   "cite_by": "apalike",
   "current_citInitial": 1,
   "eqLabelWithNumbers": true,
   "eqNumInitial": 1,
   "hotkeys": {
    "equation": "Ctrl-E",
    "itemize": "Ctrl-I"
   },
   "labels_anchors": false,
   "latex_user_defs": false,
   "report_style_numbering": true,
   "user_envs_cfg": false
  },
  "toc": {
   "base_numbering": 1,
   "nav_menu": {},
   "number_sections": true,
   "sideBar": true,
   "skip_h1_title": false,
   "title_cell": "Table of Contents",
   "title_sidebar": "Contents",
   "toc_cell": false,
   "toc_position": {},
   "toc_section_display": true,
   "toc_window_display": false
  }
 },
 "nbformat": 4,
 "nbformat_minor": 2
}
